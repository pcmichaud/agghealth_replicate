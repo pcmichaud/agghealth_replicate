{
 "cells": [
  {
   "cell_type": "markdown",
   "metadata": {},
   "source": [
    "# Health risk analysis"
   ]
  },
  {
   "cell_type": "code",
   "execution_count": 1,
   "metadata": {},
   "outputs": [],
   "source": [
    "import numpy as np \n",
    "from matplotlib import pyplot as plt\n",
    "import pandas as pd\n",
    "import seaborn as sns\n",
    "import csv\n",
    "from pandas import read_excel\n",
    "from scipy import stats\n",
    "from scipy.stats import spearmanr"
   ]
  },
  {
   "cell_type": "markdown",
   "metadata": {},
   "source": [
    "## Model parameters"
   ]
  },
  {
   "cell_type": "code",
   "execution_count": 2,
   "metadata": {},
   "outputs": [
    {
     "data": {
      "text/html": [
       "<div>\n",
       "<style scoped>\n",
       "    .dataframe tbody tr th:only-of-type {\n",
       "        vertical-align: middle;\n",
       "    }\n",
       "\n",
       "    .dataframe tbody tr th {\n",
       "        vertical-align: top;\n",
       "    }\n",
       "\n",
       "    .dataframe thead th {\n",
       "        text-align: right;\n",
       "    }\n",
       "</style>\n",
       "<table border=\"1\" class=\"dataframe\">\n",
       "  <thead>\n",
       "    <tr style=\"text-align: right;\">\n",
       "      <th></th>\n",
       "      <th>de</th>\n",
       "      <th>dk</th>\n",
       "      <th>fr</th>\n",
       "      <th>it</th>\n",
       "      <th>nl</th>\n",
       "      <th>se</th>\n",
       "      <th>sp</th>\n",
       "      <th>us</th>\n",
       "    </tr>\n",
       "  </thead>\n",
       "  <tbody>\n",
       "    <tr>\n",
       "      <th>beta</th>\n",
       "      <td>0.970000</td>\n",
       "      <td>0.970000</td>\n",
       "      <td>0.970000</td>\n",
       "      <td>0.970000</td>\n",
       "      <td>0.970000</td>\n",
       "      <td>0.970000</td>\n",
       "      <td>0.970000</td>\n",
       "      <td>0.970000</td>\n",
       "    </tr>\n",
       "    <tr>\n",
       "      <th>psi</th>\n",
       "      <td>0.161578</td>\n",
       "      <td>0.161578</td>\n",
       "      <td>0.161578</td>\n",
       "      <td>0.161578</td>\n",
       "      <td>0.161578</td>\n",
       "      <td>0.161578</td>\n",
       "      <td>0.161578</td>\n",
       "      <td>0.161578</td>\n",
       "    </tr>\n",
       "    <tr>\n",
       "      <th>sigma</th>\n",
       "      <td>2.105317</td>\n",
       "      <td>2.105317</td>\n",
       "      <td>2.105317</td>\n",
       "      <td>2.105317</td>\n",
       "      <td>2.105317</td>\n",
       "      <td>2.105317</td>\n",
       "      <td>2.105317</td>\n",
       "      <td>2.105317</td>\n",
       "    </tr>\n",
       "    <tr>\n",
       "      <th>phi</th>\n",
       "      <td>0.397405</td>\n",
       "      <td>0.397405</td>\n",
       "      <td>0.397405</td>\n",
       "      <td>0.397405</td>\n",
       "      <td>0.397405</td>\n",
       "      <td>0.397405</td>\n",
       "      <td>0.397405</td>\n",
       "      <td>0.397405</td>\n",
       "    </tr>\n",
       "    <tr>\n",
       "      <th>d1</th>\n",
       "      <td>-1.282523</td>\n",
       "      <td>-1.602088</td>\n",
       "      <td>-1.099845</td>\n",
       "      <td>-0.831846</td>\n",
       "      <td>-1.390736</td>\n",
       "      <td>-1.394792</td>\n",
       "      <td>0.002353</td>\n",
       "      <td>-0.988958</td>\n",
       "    </tr>\n",
       "    <tr>\n",
       "      <th>d2</th>\n",
       "      <td>4.029535</td>\n",
       "      <td>4.273080</td>\n",
       "      <td>3.786290</td>\n",
       "      <td>3.917407</td>\n",
       "      <td>3.992196</td>\n",
       "      <td>4.310991</td>\n",
       "      <td>3.434494</td>\n",
       "      <td>3.511651</td>\n",
       "    </tr>\n",
       "    <tr>\n",
       "      <th>p</th>\n",
       "      <td>0.836301</td>\n",
       "      <td>0.888409</td>\n",
       "      <td>0.604059</td>\n",
       "      <td>0.695076</td>\n",
       "      <td>0.657280</td>\n",
       "      <td>0.891689</td>\n",
       "      <td>0.642584</td>\n",
       "      <td>1.000000</td>\n",
       "    </tr>\n",
       "    <tr>\n",
       "      <th>tfp</th>\n",
       "      <td>1.011023</td>\n",
       "      <td>1.260592</td>\n",
       "      <td>0.922111</td>\n",
       "      <td>0.613212</td>\n",
       "      <td>0.989482</td>\n",
       "      <td>0.795415</td>\n",
       "      <td>0.795095</td>\n",
       "      <td>1.000000</td>\n",
       "    </tr>\n",
       "  </tbody>\n",
       "</table>\n",
       "</div>"
      ],
      "text/plain": [
       "             de        dk        fr        it        nl        se        sp  \\\n",
       "beta   0.970000  0.970000  0.970000  0.970000  0.970000  0.970000  0.970000   \n",
       "psi    0.161578  0.161578  0.161578  0.161578  0.161578  0.161578  0.161578   \n",
       "sigma  2.105317  2.105317  2.105317  2.105317  2.105317  2.105317  2.105317   \n",
       "phi    0.397405  0.397405  0.397405  0.397405  0.397405  0.397405  0.397405   \n",
       "d1    -1.282523 -1.602088 -1.099845 -0.831846 -1.390736 -1.394792  0.002353   \n",
       "d2     4.029535  4.273080  3.786290  3.917407  3.992196  4.310991  3.434494   \n",
       "p      0.836301  0.888409  0.604059  0.695076  0.657280  0.891689  0.642584   \n",
       "tfp    1.011023  1.260592  0.922111  0.613212  0.989482  0.795415  0.795095   \n",
       "\n",
       "             us  \n",
       "beta   0.970000  \n",
       "psi    0.161578  \n",
       "sigma  2.105317  \n",
       "phi    0.397405  \n",
       "d1    -0.988958  \n",
       "d2     3.511651  \n",
       "p      1.000000  \n",
       "tfp    1.000000  "
      ]
     },
     "execution_count": 2,
     "metadata": {},
     "output_type": "execute_result"
    }
   ],
   "source": [
    "df = pd.read_pickle('../estimation/output/params_ref_us.pkl')\n",
    "pars = df.loc[:,'value'].to_frame()\n",
    "pars.columns = ['us']\n",
    "for c in countries:\n",
    "    df = pd.read_pickle('../estimation/output/params_ref_'+c+'.pkl')\n",
    "    pars[c] = df.loc[:,'value']\n",
    "print(pars)"
   ]
  },
  {
   "cell_type": "markdown",
   "metadata": {},
   "source": [
    "## Simulated Moments"
   ]
  },
  {
   "cell_type": "code",
   "execution_count": 3,
   "metadata": {},
   "outputs": [
    {
     "data": {
      "text/html": [
       "<div>\n",
       "<style scoped>\n",
       "    .dataframe tbody tr th:only-of-type {\n",
       "        vertical-align: middle;\n",
       "    }\n",
       "\n",
       "    .dataframe tbody tr th {\n",
       "        vertical-align: top;\n",
       "    }\n",
       "\n",
       "    .dataframe thead th {\n",
       "        text-align: right;\n",
       "    }\n",
       "</style>\n",
       "<table border=\"1\" class=\"dataframe\">\n",
       "  <thead>\n",
       "    <tr style=\"text-align: right;\">\n",
       "      <th></th>\n",
       "      <th>de</th>\n",
       "      <th>dk</th>\n",
       "      <th>fr</th>\n",
       "      <th>it</th>\n",
       "      <th>nl</th>\n",
       "      <th>se</th>\n",
       "      <th>sp</th>\n",
       "      <th>us</th>\n",
       "    </tr>\n",
       "  </thead>\n",
       "  <tbody>\n",
       "    <tr>\n",
       "      <th>s</th>\n",
       "      <td>0.102719</td>\n",
       "      <td>0.090447</td>\n",
       "      <td>0.103340</td>\n",
       "      <td>0.082716</td>\n",
       "      <td>0.088693</td>\n",
       "      <td>0.086432</td>\n",
       "      <td>0.077696</td>\n",
       "      <td>0.143017</td>\n",
       "    </tr>\n",
       "    <tr>\n",
       "      <th>tgood</th>\n",
       "      <td>0.982216</td>\n",
       "      <td>0.986061</td>\n",
       "      <td>0.977321</td>\n",
       "      <td>0.980108</td>\n",
       "      <td>0.981542</td>\n",
       "      <td>0.986579</td>\n",
       "      <td>0.967758</td>\n",
       "      <td>0.970159</td>\n",
       "    </tr>\n",
       "    <tr>\n",
       "      <th>tbad</th>\n",
       "      <td>0.406540</td>\n",
       "      <td>0.501798</td>\n",
       "      <td>0.506607</td>\n",
       "      <td>0.336872</td>\n",
       "      <td>0.538995</td>\n",
       "      <td>0.474097</td>\n",
       "      <td>0.469313</td>\n",
       "      <td>0.256270</td>\n",
       "    </tr>\n",
       "    <tr>\n",
       "      <th>g2</th>\n",
       "      <td>1.034320</td>\n",
       "      <td>1.012335</td>\n",
       "      <td>1.053734</td>\n",
       "      <td>1.026696</td>\n",
       "      <td>1.042717</td>\n",
       "      <td>1.007033</td>\n",
       "      <td>1.085283</td>\n",
       "      <td>1.135900</td>\n",
       "    </tr>\n",
       "    <tr>\n",
       "      <th>g3</th>\n",
       "      <td>1.057924</td>\n",
       "      <td>1.020690</td>\n",
       "      <td>1.076606</td>\n",
       "      <td>1.048267</td>\n",
       "      <td>1.057519</td>\n",
       "      <td>1.012481</td>\n",
       "      <td>1.105033</td>\n",
       "      <td>1.221975</td>\n",
       "    </tr>\n",
       "    <tr>\n",
       "      <th>g4</th>\n",
       "      <td>1.070411</td>\n",
       "      <td>1.027649</td>\n",
       "      <td>1.080306</td>\n",
       "      <td>1.071815</td>\n",
       "      <td>1.059616</td>\n",
       "      <td>1.018795</td>\n",
       "      <td>1.114558</td>\n",
       "      <td>1.270962</td>\n",
       "    </tr>\n",
       "    <tr>\n",
       "      <th>y</th>\n",
       "      <td>0.828224</td>\n",
       "      <td>0.900450</td>\n",
       "      <td>0.733563</td>\n",
       "      <td>0.737428</td>\n",
       "      <td>0.856601</td>\n",
       "      <td>0.806204</td>\n",
       "      <td>0.642308</td>\n",
       "      <td>1.000000</td>\n",
       "    </tr>\n",
       "    <tr>\n",
       "      <th>h</th>\n",
       "      <td>0.958089</td>\n",
       "      <td>0.972972</td>\n",
       "      <td>0.957152</td>\n",
       "      <td>0.944244</td>\n",
       "      <td>0.966888</td>\n",
       "      <td>0.972471</td>\n",
       "      <td>0.935716</td>\n",
       "      <td>0.895701</td>\n",
       "    </tr>\n",
       "  </tbody>\n",
       "</table>\n",
       "</div>"
      ],
      "text/plain": [
       "             de        dk        fr        it        nl        se        sp  \\\n",
       "s      0.102719  0.090447  0.103340  0.082716  0.088693  0.086432  0.077696   \n",
       "tgood  0.982216  0.986061  0.977321  0.980108  0.981542  0.986579  0.967758   \n",
       "tbad   0.406540  0.501798  0.506607  0.336872  0.538995  0.474097  0.469313   \n",
       "g2     1.034320  1.012335  1.053734  1.026696  1.042717  1.007033  1.085283   \n",
       "g3     1.057924  1.020690  1.076606  1.048267  1.057519  1.012481  1.105033   \n",
       "g4     1.070411  1.027649  1.080306  1.071815  1.059616  1.018795  1.114558   \n",
       "y      0.828224  0.900450  0.733563  0.737428  0.856601  0.806204  0.642308   \n",
       "h      0.958089  0.972972  0.957152  0.944244  0.966888  0.972471  0.935716   \n",
       "\n",
       "             us  \n",
       "s      0.143017  \n",
       "tgood  0.970159  \n",
       "tbad   0.256270  \n",
       "g2     1.135900  \n",
       "g3     1.221975  \n",
       "g4     1.270962  \n",
       "y      1.000000  \n",
       "h      0.895701  "
      ]
     },
     "execution_count": 3,
     "metadata": {},
     "output_type": "execute_result"
    }
   ],
   "source": [
    "# loading results from estimation\n",
    "momsim = pd.read_pickle('../output/moms_sim.pkl')\n",
    "momsim"
   ]
  },
  {
   "cell_type": "markdown",
   "metadata": {},
   "source": [
    "# DALYs \n",
    "## Data from: Global Burden of Disease Collaborative Network. \n",
    "### Global Burden of Disease Study 2017 (GBD 2017) Results. \n",
    "Seattle, United States: Institute for Health Metrics and Evaluation (IHME), 2018.\n",
    "\n",
    "\n",
    "### DALY: Definition\n",
    "\n",
    "One DALY can be thought of as one lost year of \"healthy\" life. The sum of these DALYs across the population, or the burden of disease, can be thought of as a measurement of the gap between current health status and an ideal health situation where the entire population lives to an advanced age, free of disease and disability.\n",
    "\n",
    "DALYs for a disease or health condition are calculated as the sum of the Years of Life Lost (YLL) due to premature mortality in the population and the Years Lost due to Disability (YLD) for people living with the health condition or its consequences\n",
    "\n",
    "### DALY: calculation\n",
    "\n",
    "DALYs for a disease or health condition are calculated as the sum of the Years of Life Lost (YLL) due to premature mortality in the population and the Years Lost due to Disability (YLD) for people living with the health condition or its consequences:\n",
    "Calculation\n",
    "$$\n",
    "DALY = YLL + YLD \n",
    "$$\n",
    "with  \n",
    "\n",
    "1/ $YLL = N \\times L$  where $N = $ number of deaths $L =$ standard life expectancy at age of death in years, \n",
    "\n",
    "2/ $YLD = P \\times DW$ where $P =$ number of prevalent cases and $DW =$ disability weight\n",
    "\n",
    "### Interpretation\n",
    "\n",
    "The DALYs give an indicator on the probability to be in bad health or to die, and this for each risky behavior. Thus DALYs can be related  to the probability to remain in bad health, being previouly in bad health because DALYs account for the number of  lost years in good health."
   ]
  },
  {
   "cell_type": "code",
   "execution_count": 4,
   "metadata": {},
   "outputs": [
    {
     "name": "stderr",
     "output_type": "stream",
     "text": [
      "/Users/flangot/opt/anaconda3/lib/python3.7/site-packages/ipykernel_launcher.py:3: FutureWarning: Your version of xlrd is 1.2.0. In xlrd >= 2.0, only the xls format is supported. As a result, the openpyxl engine will be used if it is installed and the engine argument is not specified. Install openpyxl instead.\n",
      "  This is separate from the ipykernel package so we can avoid doing imports until\n",
      "/Users/flangot/opt/anaconda3/lib/python3.7/site-packages/ipykernel_launcher.py:5: FutureWarning: Your version of xlrd is 1.2.0. In xlrd >= 2.0, only the xls format is supported. As a result, the openpyxl engine will be used if it is installed and the engine argument is not specified. Install openpyxl instead.\n",
      "  \"\"\"\n"
     ]
    }
   ],
   "source": [
    "file_name = 'xlsx_files/DALY_my_sample.xlsx'\n",
    "my_sheet  = 'Feuil2000'    # sheet name\n",
    "data_daly2000 = read_excel(file_name, sheet_name = my_sheet)\n",
    "my_sheet  = 'Feuil2017'    # sheet name\n",
    "data_daly2017 = read_excel(file_name, sheet_name = my_sheet)"
   ]
  },
  {
   "cell_type": "code",
   "execution_count": 5,
   "metadata": {},
   "outputs": [],
   "source": [
    "name_col0 = ['Unnamed: 0',\n",
    "            'Air pollution (outdoor & indoor)\\nDALYs','Child wasting\\nDALYs','Child stunting\\nDALYs',\n",
    "            'Secondhand smoke\\nDALYs','Unsafe sanitation\\nDALYs','Unsafe water source\\nDALYs',\n",
    "            'Low physical activity\\nDALYs',\n",
    "            'High cholesterol\\nDALYs','Non-exclusive breastfeeding\\nDALYs',\n",
    "            'Outdoor air pollution\\nDALYs','Indoor air pollution\\nDALYs',\n",
    "            'Drug use\\nDALYs','Diet low in fruits\\nDALYs',\n",
    "            'Iron deficiency\\nDALYs','Zinc deficiency\\nDALYs','Diet high in salt\\nDALYs',\n",
    "            'Diet low in vegetables\\nDALYs','Vitamin A deficiency\\nDALYs','Smoking\\nDALYs',\n",
    "            'High blood pressure\\nDALYs','High blood sugar\\nDALYs','Obesity\\nDALYs',\n",
    "            'Total'] \n",
    "\n",
    "name_col = ['Air pollution (outdoor & indoor)\\nDALYs','Child wasting\\nDALYs','Child stunting\\nDALYs',\n",
    "            'Secondhand smoke\\nDALYs','Unsafe sanitation\\nDALYs','Unsafe water source\\nDALYs',\n",
    "            'Low physical activity\\nDALYs',\n",
    "            'High cholesterol\\nDALYs','Non-exclusive breastfeeding\\nDALYs',\n",
    "            'Outdoor air pollution\\nDALYs','Indoor air pollution\\nDALYs',\n",
    "            'Drug use\\nDALYs','Diet low in fruits\\nDALYs',\n",
    "            'Iron deficiency\\nDALYs','Zinc deficiency\\nDALYs','Diet high in salt\\nDALYs',\n",
    "            'Diet low in vegetables\\nDALYs','Vitamin A deficiency\\nDALYs','Smoking\\nDALYs',\n",
    "            'High blood pressure\\nDALYs','High blood sugar\\nDALYs','Obesity\\nDALYs',\n",
    "            'Total'] "
   ]
  },
  {
   "cell_type": "markdown",
   "metadata": {},
   "source": [
    "### Population size 2005 (Million)"
   ]
  },
  {
   "cell_type": "code",
   "execution_count": 6,
   "metadata": {},
   "outputs": [],
   "source": [
    "# 2005\n",
    "PopL2005 = np.array([81.60, 5.42, 61.12, 58.28, 16.37, 9.04, 44.02, 294.99])\n",
    "PopL2000 = np.array([81.40, 5.34, 59.02, 56.69, 15.93, 8.88, 40.83, 281.71])\n",
    "PopL2017 = np.array([82.66, 5.73, 64.84, 60.67, 17.02, 9.90, 46.65, 325.08])"
   ]
  },
  {
   "cell_type": "markdown",
   "metadata": {},
   "source": [
    "### Data DALYs per inhabitant"
   ]
  },
  {
   "cell_type": "code",
   "execution_count": 7,
   "metadata": {},
   "outputs": [],
   "source": [
    "countries = ['de','dk','fr','it','nl','se','sp','us']\n",
    "\n",
    "daly2017 = pd.DataFrame(index=countries,columns=name_col)\n",
    "for ii in range(23): #23\n",
    "    yy = name_col0[ii+1]\n",
    "    for jj in range(8):\n",
    "        cc = countries[jj]\n",
    "        daly2017.loc[cc,yy] = data_daly2017.loc[jj,yy]/(PopL2017[jj]*1000000)\n",
    "\n",
    "daly2000 = pd.DataFrame(index=countries,columns=name_col)\n",
    "for ii in range(23): #23\n",
    "    yy = name_col0[ii+1]\n",
    "    for jj in range(8):\n",
    "        cc = countries[jj]\n",
    "        daly2000.loc[cc,yy] = data_daly2000.loc[jj,yy]/(PopL2000[jj]*1000000)\n",
    "\n",
    "daly_mean = (daly2000+daly2017)/2\n",
    "\n",
    "tables_daly = pd.DataFrame(index=name_col,columns=countries)\n",
    "for cc in range(8):\n",
    "    tt = countries[cc]\n",
    "    tables_daly.loc[:,tt] = daly_mean.loc[tt,name_col[0:23]]\n",
    "\n",
    "tables_daly_us = pd.DataFrame(index=name_col,columns=countries)\n",
    "tables_daly_us = tables_daly.sort_values('us',ascending=False)"
   ]
  },
  {
   "cell_type": "code",
   "execution_count": 8,
   "metadata": {},
   "outputs": [
    {
     "data": {
      "text/html": [
       "<div>\n",
       "<style scoped>\n",
       "    .dataframe tbody tr th:only-of-type {\n",
       "        vertical-align: middle;\n",
       "    }\n",
       "\n",
       "    .dataframe tbody tr th {\n",
       "        vertical-align: top;\n",
       "    }\n",
       "\n",
       "    .dataframe thead th {\n",
       "        text-align: right;\n",
       "    }\n",
       "</style>\n",
       "<table border=\"1\" class=\"dataframe\">\n",
       "  <thead>\n",
       "    <tr style=\"text-align: right;\">\n",
       "      <th></th>\n",
       "      <th>de</th>\n",
       "      <th>dk</th>\n",
       "      <th>fr</th>\n",
       "      <th>it</th>\n",
       "      <th>nl</th>\n",
       "      <th>se</th>\n",
       "      <th>sp</th>\n",
       "      <th>us</th>\n",
       "    </tr>\n",
       "  </thead>\n",
       "  <tbody>\n",
       "    <tr>\n",
       "      <th>Smoking</th>\n",
       "      <td>0.044274</td>\n",
       "      <td>0.052392</td>\n",
       "      <td>0.032866</td>\n",
       "      <td>0.036667</td>\n",
       "      <td>0.046289</td>\n",
       "      <td>0.033835</td>\n",
       "      <td>0.037064</td>\n",
       "      <td>0.036666</td>\n",
       "    </tr>\n",
       "    <tr>\n",
       "      <th>Obesity</th>\n",
       "      <td>0.026268</td>\n",
       "      <td>0.021374</td>\n",
       "      <td>0.016101</td>\n",
       "      <td>0.021992</td>\n",
       "      <td>0.019666</td>\n",
       "      <td>0.021249</td>\n",
       "      <td>0.011303</td>\n",
       "      <td>0.032754</td>\n",
       "    </tr>\n",
       "    <tr>\n",
       "      <th>Diet</th>\n",
       "      <td>0.016163</td>\n",
       "      <td>0.011432</td>\n",
       "      <td>0.010585</td>\n",
       "      <td>0.011232</td>\n",
       "      <td>0.009962</td>\n",
       "      <td>0.016481</td>\n",
       "      <td>0.008656</td>\n",
       "      <td>0.016017</td>\n",
       "    </tr>\n",
       "    <tr>\n",
       "      <th>Drug</th>\n",
       "      <td>0.003797</td>\n",
       "      <td>0.004668</td>\n",
       "      <td>0.003723</td>\n",
       "      <td>0.002833</td>\n",
       "      <td>0.002628</td>\n",
       "      <td>0.003397</td>\n",
       "      <td>0.004055</td>\n",
       "      <td>0.0158</td>\n",
       "    </tr>\n",
       "    <tr>\n",
       "      <th>Pollution</th>\n",
       "      <td>0.010275</td>\n",
       "      <td>0.009832</td>\n",
       "      <td>0.006065</td>\n",
       "      <td>0.009504</td>\n",
       "      <td>0.009459</td>\n",
       "      <td>0.00554</td>\n",
       "      <td>0.00748</td>\n",
       "      <td>0.008198</td>\n",
       "    </tr>\n",
       "    <tr>\n",
       "      <th>Phys. Act.</th>\n",
       "      <td>0.005044</td>\n",
       "      <td>0.004065</td>\n",
       "      <td>0.002907</td>\n",
       "      <td>0.004079</td>\n",
       "      <td>0.003228</td>\n",
       "      <td>0.004911</td>\n",
       "      <td>0.003388</td>\n",
       "      <td>0.004131</td>\n",
       "    </tr>\n",
       "    <tr>\n",
       "      <th>Total</th>\n",
       "      <td>0.105822</td>\n",
       "      <td>0.103764</td>\n",
       "      <td>0.072245</td>\n",
       "      <td>0.086306</td>\n",
       "      <td>0.091232</td>\n",
       "      <td>0.085412</td>\n",
       "      <td>0.071945</td>\n",
       "      <td>0.113567</td>\n",
       "    </tr>\n",
       "  </tbody>\n",
       "</table>\n",
       "</div>"
      ],
      "text/plain": [
       "                  de        dk        fr        it        nl        se  \\\n",
       "Smoking     0.044274  0.052392  0.032866  0.036667  0.046289  0.033835   \n",
       "Obesity     0.026268  0.021374  0.016101  0.021992  0.019666  0.021249   \n",
       "Diet        0.016163  0.011432  0.010585  0.011232  0.009962  0.016481   \n",
       "Drug        0.003797  0.004668  0.003723  0.002833  0.002628  0.003397   \n",
       "Pollution   0.010275  0.009832  0.006065  0.009504  0.009459   0.00554   \n",
       "Phys. Act.  0.005044  0.004065  0.002907  0.004079  0.003228  0.004911   \n",
       "Total       0.105822  0.103764  0.072245  0.086306  0.091232  0.085412   \n",
       "\n",
       "                  sp        us  \n",
       "Smoking     0.037064  0.036666  \n",
       "Obesity     0.011303  0.032754  \n",
       "Diet        0.008656  0.016017  \n",
       "Drug        0.004055    0.0158  \n",
       "Pollution    0.00748  0.008198  \n",
       "Phys. Act.  0.003388  0.004131  \n",
       "Total       0.071945  0.113567  "
      ]
     },
     "execution_count": 8,
     "metadata": {},
     "output_type": "execute_result"
    }
   ],
   "source": [
    "name_s   = ['Smoking','Obesity','Diet', 'Drug','Pollution','Phys. Act.','Total']\n",
    "tables_s = pd.DataFrame(index=name_s,columns=countries)\n",
    "for cc in range(8):\n",
    "    tt = countries[cc]\n",
    "    tables_s.loc['Smoking',tt]    = tables_daly_us.loc[tables_daly_us.index[1],tt]\n",
    "    tables_s.loc['Obesity',tt]    = tables_daly_us.loc[tables_daly_us.index[2],tt]\n",
    "    tables_s.loc['Diet',tt]       = tables_daly_us.loc[tables_daly_us.index[9],tt] + tables_daly_us.loc[tables_daly_us.index[10],tt] + tables_daly_us.loc[tables_daly_us.index[11],tt]\n",
    "    tables_s.loc['Drug',tt]       = tables_daly_us.loc[tables_daly_us.index[5],tt]\n",
    "    tables_s.loc['Pollution',tt]  = tables_daly_us.loc[tables_daly_us.index[7],tt]\n",
    "    tables_s.loc['Phys. Act.',tt] = tables_daly_us.loc[tables_daly_us.index[12],tt]    \n",
    "    tables_s.loc['Total',tt]      = tables_s.loc['Smoking',tt] + tables_s.loc['Obesity',tt] + tables_s.loc['Diet',tt] + tables_s.loc['Drug',tt] + tables_s.loc['Pollution',tt] + tables_s.loc['Phys. Act.',tt]\n",
    "tables_s"
   ]
  },
  {
   "cell_type": "markdown",
   "metadata": {},
   "source": [
    "### Figures where the cost of each risky behaviors is measured as the number of lost years "
   ]
  },
  {
   "cell_type": "code",
   "execution_count": 9,
   "metadata": {},
   "outputs": [],
   "source": [
    "names_s = ['','Smoking','Obesity','Diet', 'Drug','Pollution','Phys. Act.']"
   ]
  },
  {
   "cell_type": "code",
   "execution_count": 10,
   "metadata": {},
   "outputs": [],
   "source": [
    "xxx = np.arange(len(name_s[0:-1]))\n",
    "www = 0.1"
   ]
  },
  {
   "cell_type": "code",
   "execution_count": 11,
   "metadata": {},
   "outputs": [],
   "source": [
    "x = np.arange(len(countries))\n",
    "countries_plot = ['','de','dk','fr','it','nl','se','sp','us']"
   ]
  },
  {
   "cell_type": "code",
   "execution_count": 12,
   "metadata": {},
   "outputs": [
    {
     "name": "stderr",
     "output_type": "stream",
     "text": [
      "/Users/flangot/opt/anaconda3/lib/python3.7/site-packages/ipykernel_launcher.py:12: UserWarning: FixedFormatter should only be used together with FixedLocator\n",
      "  if sys.path[0] == '':\n"
     ]
    },
    {
     "data": {
      "image/png": "[encoded data removed]",
      "text/plain": [
       "<Figure size 432x288 with 1 Axes>"
      ]
     },
     "metadata": {
      "needs_background": "light"
     },
     "output_type": "display_data"
    }
   ],
   "source": [
    "names_ss = ['','','Smoking','', 'Obesity','', 'Drug','', 'Phys. Act.']\n",
    "xxxs = np.arange(4)\n",
    "fig, ax = plt.subplots()\n",
    "ax.bar(xxxs-.3,70/(1-tables_s.loc[['Smoking','Obesity', 'Drug','Phys. Act.'],'us'])-70, width=www,color='black',label='us')\n",
    "ax.bar(xxxs-.2,70/(1-tables_s.loc[['Smoking','Obesity', 'Drug','Phys. Act.'],'de'])-70, width=www,color='dimgrey'  ,edgecolor='black',label='de')\n",
    "ax.bar(xxxs-.1,70/(1-tables_s.loc[['Smoking','Obesity', 'Drug','Phys. Act.'],'dk'])-70, width=www,color='dimgrey'  ,edgecolor='black',label='dk')\n",
    "ax.bar(xxxs,   70/(1-tables_s.loc[['Smoking','Obesity', 'Drug','Phys. Act.'],'fr'])-70, width=www,color='grey'     ,edgecolor='black',label='fr')\n",
    "ax.bar(xxxs+.1,70/(1-tables_s.loc[['Smoking','Obesity', 'Drug','Phys. Act.'],'it'])-70, width=www,color='darkgrey' ,edgecolor='black',label='it')\n",
    "ax.bar(xxxs+.2,70/(1-tables_s.loc[['Smoking','Obesity', 'Drug','Phys. Act.'],'nl'])-70, width=www,color='darkgrey' ,edgecolor='black',label='nl')\n",
    "ax.bar(xxxs+.3,70/(1-tables_s.loc[['Smoking','Obesity', 'Drug','Phys. Act.'],'se'])-70, width=www,color='lightgrey',edgecolor='black',label='se')\n",
    "ax.bar(xxxs+.4,70/(1-tables_s.loc[['Smoking','Obesity', 'Drug','Phys. Act.'],'sp'])-70, width=www,color='whitesmoke',edgecolor='black',label='sp')\n",
    "ax.set_xticklabels(names_ss)\n",
    "ax.set_ylabel('# of years lost')\n",
    "ax.legend()\n",
    "fig.tight_layout()\n",
    "#plt.savefig('../figures_JPE/DALYs_details.eps',dpi=600)\n",
    "plt.show()"
   ]
  },
  {
   "cell_type": "markdown",
   "metadata": {},
   "source": [
    "## Mesures of risky behaviors\n",
    "These measures account for the intensity of risky behaviors in each country"
   ]
  },
  {
   "cell_type": "code",
   "execution_count": 13,
   "metadata": {},
   "outputs": [
    {
     "data": {
      "text/html": [
       "<div>\n",
       "<style scoped>\n",
       "    .dataframe tbody tr th:only-of-type {\n",
       "        vertical-align: middle;\n",
       "    }\n",
       "\n",
       "    .dataframe tbody tr th {\n",
       "        vertical-align: top;\n",
       "    }\n",
       "\n",
       "    .dataframe thead th {\n",
       "        text-align: right;\n",
       "    }\n",
       "</style>\n",
       "<table border=\"1\" class=\"dataframe\">\n",
       "  <thead>\n",
       "    <tr style=\"text-align: right;\">\n",
       "      <th></th>\n",
       "      <th>de</th>\n",
       "      <th>dk</th>\n",
       "      <th>fr</th>\n",
       "      <th>it</th>\n",
       "      <th>nl</th>\n",
       "      <th>se</th>\n",
       "      <th>sp</th>\n",
       "      <th>us</th>\n",
       "    </tr>\n",
       "  </thead>\n",
       "  <tbody>\n",
       "    <tr>\n",
       "      <th>Obesity</th>\n",
       "      <td>0.196425</td>\n",
       "      <td>0.165716</td>\n",
       "      <td>0.170822</td>\n",
       "      <td>0.276495</td>\n",
       "      <td>0.198036</td>\n",
       "      <td>0.197081</td>\n",
       "      <td>0.170931</td>\n",
       "      <td>0.328623</td>\n",
       "    </tr>\n",
       "    <tr>\n",
       "      <th>Ever smoke</th>\n",
       "      <td>0.359872</td>\n",
       "      <td>0.402399</td>\n",
       "      <td>0.492596</td>\n",
       "      <td>0.322084</td>\n",
       "      <td>0.357995</td>\n",
       "      <td>0.333276</td>\n",
       "      <td>0.526519</td>\n",
       "      <td>0.578711</td>\n",
       "    </tr>\n",
       "    <tr>\n",
       "      <th>No Phys.Act</th>\n",
       "      <td>0.050765</td>\n",
       "      <td>0.027652</td>\n",
       "      <td>0.055629</td>\n",
       "      <td>0.103732</td>\n",
       "      <td>0.163662</td>\n",
       "      <td>0.088618</td>\n",
       "      <td>0.041033</td>\n",
       "      <td>0.099483</td>\n",
       "    </tr>\n",
       "  </tbody>\n",
       "</table>\n",
       "</div>"
      ],
      "text/plain": [
       "                   de        dk        fr        it        nl        se  \\\n",
       "Obesity      0.196425  0.165716  0.170822  0.276495  0.198036  0.197081   \n",
       "Ever smoke   0.359872  0.402399  0.492596  0.322084  0.357995  0.333276   \n",
       "No Phys.Act  0.050765  0.027652  0.055629  0.103732  0.163662  0.088618   \n",
       "\n",
       "                   sp        us  \n",
       "Obesity      0.170931  0.328623  \n",
       "Ever smoke   0.526519  0.578711  \n",
       "No Phys.Act  0.041033  0.099483  "
      ]
     },
     "execution_count": 13,
     "metadata": {},
     "output_type": "execute_result"
    }
   ],
   "source": [
    "# Data RF\n",
    "nameRF = ['Obesity','Ever smoke','No Phys.Act']\n",
    "dataRF = np.array([\n",
    "[.1964254, .3598716, .0507653],\n",
    "[.1657165,.4023989,.0276525],\n",
    "[.1708216,.4925962,.0556293],\n",
    "[.2764948,.3220845,.1037317],\n",
    "[.1980363,.3579953,.1636622],\n",
    "[.1970815,.3332759,.0886183],\n",
    "[.1709308,.5265188,.0410328],\n",
    "[.3286226,.5787106,.0994831]])\n",
    "tableRF = pd.DataFrame(index=nameRF,columns=countries)\n",
    "for cc in range(8):\n",
    "    tt = countries[cc]\n",
    "    tableRF.loc[:,tt] = dataRF[cc,:]\n",
    "tableRF"
   ]
  },
  {
   "cell_type": "code",
   "execution_count": 14,
   "metadata": {},
   "outputs": [
    {
     "name": "stderr",
     "output_type": "stream",
     "text": [
      "/Users/flangot/opt/anaconda3/lib/python3.7/site-packages/ipykernel_launcher.py:4: FutureWarning: Your version of xlrd is 1.2.0. In xlrd >= 2.0, only the xls format is supported. As a result, the openpyxl engine will be used if it is installed and the engine argument is not specified. Install openpyxl instead.\n",
      "  after removing the cwd from sys.path.\n"
     ]
    },
    {
     "data": {
      "text/html": [
       "<div>\n",
       "<style scoped>\n",
       "    .dataframe tbody tr th:only-of-type {\n",
       "        vertical-align: middle;\n",
       "    }\n",
       "\n",
       "    .dataframe tbody tr th {\n",
       "        vertical-align: top;\n",
       "    }\n",
       "\n",
       "    .dataframe thead th {\n",
       "        text-align: right;\n",
       "    }\n",
       "</style>\n",
       "<table border=\"1\" class=\"dataframe\">\n",
       "  <thead>\n",
       "    <tr style=\"text-align: right;\">\n",
       "      <th></th>\n",
       "      <th>country</th>\n",
       "      <th>Obesity</th>\n",
       "      <th>BMI</th>\n",
       "      <th>Child Obesity</th>\n",
       "      <th>Lack of support MA</th>\n",
       "      <th>Opioid</th>\n",
       "      <th>Alcohol</th>\n",
       "      <th>Smoking</th>\n",
       "      <th>Pollution</th>\n",
       "      <th>Fruit</th>\n",
       "      <th>...</th>\n",
       "      <th>Feeling of loneliness</th>\n",
       "      <th>one-person households</th>\n",
       "      <th>Friends</th>\n",
       "      <th>resid_alpha10</th>\n",
       "      <th>resid_alpha11</th>\n",
       "      <th>Insufficient Physical Activity 18+ Age-stand.</th>\n",
       "      <th>Insufficient Physical Activity 18+ crude</th>\n",
       "      <th>Insufficient Physical Activity 11-17 years</th>\n",
       "      <th>salt</th>\n",
       "      <th>Air pollution</th>\n",
       "    </tr>\n",
       "  </thead>\n",
       "  <tbody>\n",
       "    <tr>\n",
       "      <th>0</th>\n",
       "      <td>DEU</td>\n",
       "      <td>0.600000</td>\n",
       "      <td>26.517273</td>\n",
       "      <td>0.287</td>\n",
       "      <td>6.0</td>\n",
       "      <td>9.546019</td>\n",
       "      <td>10.9</td>\n",
       "      <td>0.188</td>\n",
       "      <td>45.3</td>\n",
       "      <td>0.473</td>\n",
       "      <td>...</td>\n",
       "      <td>37</td>\n",
       "      <td>39.871429</td>\n",
       "      <td>92.0</td>\n",
       "      <td>-0.395350</td>\n",
       "      <td>0.047194</td>\n",
       "      <td>42.21</td>\n",
       "      <td>45.82</td>\n",
       "      <td>83.69</td>\n",
       "      <td>186.833333</td>\n",
       "      <td>14.114283</td>\n",
       "    </tr>\n",
       "    <tr>\n",
       "      <th>1</th>\n",
       "      <td>DNK</td>\n",
       "      <td>0.510000</td>\n",
       "      <td>25.586903</td>\n",
       "      <td>0.276</td>\n",
       "      <td>3.6</td>\n",
       "      <td>25.925264</td>\n",
       "      <td>9.1</td>\n",
       "      <td>0.169</td>\n",
       "      <td>30.4</td>\n",
       "      <td>0.522</td>\n",
       "      <td>...</td>\n",
       "      <td>25</td>\n",
       "      <td>44.530769</td>\n",
       "      <td>95.3</td>\n",
       "      <td>0.023180</td>\n",
       "      <td>0.239228</td>\n",
       "      <td>28.50</td>\n",
       "      <td>30.76</td>\n",
       "      <td>84.51</td>\n",
       "      <td>160.600000</td>\n",
       "      <td>10.759141</td>\n",
       "    </tr>\n",
       "    <tr>\n",
       "      <th>2</th>\n",
       "      <td>FRA</td>\n",
       "      <td>0.490000</td>\n",
       "      <td>25.916094</td>\n",
       "      <td>0.324</td>\n",
       "      <td>7.7</td>\n",
       "      <td>2.805005</td>\n",
       "      <td>11.7</td>\n",
       "      <td>0.254</td>\n",
       "      <td>25.2</td>\n",
       "      <td>0.551</td>\n",
       "      <td>...</td>\n",
       "      <td>45</td>\n",
       "      <td>34.350000</td>\n",
       "      <td>88.4</td>\n",
       "      <td>-0.475825</td>\n",
       "      <td>-0.107545</td>\n",
       "      <td>29.32</td>\n",
       "      <td>32.25</td>\n",
       "      <td>87.00</td>\n",
       "      <td>145.500000</td>\n",
       "      <td>12.493830</td>\n",
       "    </tr>\n",
       "    <tr>\n",
       "      <th>3</th>\n",
       "      <td>ITA</td>\n",
       "      <td>0.460000</td>\n",
       "      <td>26.307978</td>\n",
       "      <td>0.420</td>\n",
       "      <td>9.2</td>\n",
       "      <td>1.768456</td>\n",
       "      <td>7.6</td>\n",
       "      <td>0.199</td>\n",
       "      <td>48.7</td>\n",
       "      <td>0.758</td>\n",
       "      <td>...</td>\n",
       "      <td>47</td>\n",
       "      <td>30.466667</td>\n",
       "      <td>90.8</td>\n",
       "      <td>0.340060</td>\n",
       "      <td>-0.307232</td>\n",
       "      <td>41.39</td>\n",
       "      <td>44.81</td>\n",
       "      <td>88.62</td>\n",
       "      <td>190.675000</td>\n",
       "      <td>15.843478</td>\n",
       "    </tr>\n",
       "    <tr>\n",
       "      <th>4</th>\n",
       "      <td>NLD</td>\n",
       "      <td>0.473000</td>\n",
       "      <td>26.261133</td>\n",
       "      <td>0.269</td>\n",
       "      <td>4.8</td>\n",
       "      <td>4.404116</td>\n",
       "      <td>8.3</td>\n",
       "      <td>0.168</td>\n",
       "      <td>31.3</td>\n",
       "      <td>0.443</td>\n",
       "      <td>...</td>\n",
       "      <td>35</td>\n",
       "      <td>36.566667</td>\n",
       "      <td>90.1</td>\n",
       "      <td>0.083039</td>\n",
       "      <td>0.035529</td>\n",
       "      <td>27.18</td>\n",
       "      <td>29.45</td>\n",
       "      <td>80.17</td>\n",
       "      <td>171.600000</td>\n",
       "      <td>15.662882</td>\n",
       "    </tr>\n",
       "    <tr>\n",
       "      <th>5</th>\n",
       "      <td>SWE</td>\n",
       "      <td>0.482000</td>\n",
       "      <td>25.818920</td>\n",
       "      <td>0.252</td>\n",
       "      <td>6.6</td>\n",
       "      <td>55.029139</td>\n",
       "      <td>7.1</td>\n",
       "      <td>0.104</td>\n",
       "      <td>18.5</td>\n",
       "      <td>0.583</td>\n",
       "      <td>...</td>\n",
       "      <td>30</td>\n",
       "      <td>41.413333</td>\n",
       "      <td>91.8</td>\n",
       "      <td>0.035904</td>\n",
       "      <td>0.048471</td>\n",
       "      <td>23.13</td>\n",
       "      <td>25.22</td>\n",
       "      <td>84.67</td>\n",
       "      <td>141.391304</td>\n",
       "      <td>5.611160</td>\n",
       "    </tr>\n",
       "    <tr>\n",
       "      <th>6</th>\n",
       "      <td>SPA</td>\n",
       "      <td>0.545381</td>\n",
       "      <td>27.162832</td>\n",
       "      <td>0.379</td>\n",
       "      <td>6.6</td>\n",
       "      <td>NaN</td>\n",
       "      <td>8.6</td>\n",
       "      <td>0.221</td>\n",
       "      <td>27.1</td>\n",
       "      <td>0.840</td>\n",
       "      <td>...</td>\n",
       "      <td>40</td>\n",
       "      <td>23.692308</td>\n",
       "      <td>94.8</td>\n",
       "      <td>0.425570</td>\n",
       "      <td>-0.200892</td>\n",
       "      <td>26.81</td>\n",
       "      <td>29.57</td>\n",
       "      <td>76.61</td>\n",
       "      <td>178.900000</td>\n",
       "      <td>9.923726</td>\n",
       "    </tr>\n",
       "    <tr>\n",
       "      <th>7</th>\n",
       "      <td>USA</td>\n",
       "      <td>0.710000</td>\n",
       "      <td>27.602920</td>\n",
       "      <td>0.430</td>\n",
       "      <td>10.7</td>\n",
       "      <td>130.970941</td>\n",
       "      <td>8.9</td>\n",
       "      <td>0.105</td>\n",
       "      <td>24.1</td>\n",
       "      <td>0.584</td>\n",
       "      <td>...</td>\n",
       "      <td>30</td>\n",
       "      <td>22.738448</td>\n",
       "      <td>89.9</td>\n",
       "      <td>-0.036578</td>\n",
       "      <td>0.245248</td>\n",
       "      <td>40.01</td>\n",
       "      <td>42.53</td>\n",
       "      <td>72.05</td>\n",
       "      <td>195.391304</td>\n",
       "      <td>9.520327</td>\n",
       "    </tr>\n",
       "  </tbody>\n",
       "</table>\n",
       "<p>8 rows × 59 columns</p>\n",
       "</div>"
      ],
      "text/plain": [
       "  country   Obesity        BMI  Child Obesity  Lack of support MA      Opioid  \\\n",
       "0     DEU  0.600000  26.517273          0.287                 6.0    9.546019   \n",
       "1     DNK  0.510000  25.586903          0.276                 3.6   25.925264   \n",
       "2     FRA  0.490000  25.916094          0.324                 7.7    2.805005   \n",
       "3     ITA  0.460000  26.307978          0.420                 9.2    1.768456   \n",
       "4     NLD  0.473000  26.261133          0.269                 4.8    4.404116   \n",
       "5     SWE  0.482000  25.818920          0.252                 6.6   55.029139   \n",
       "6     SPA  0.545381  27.162832          0.379                 6.6         NaN   \n",
       "7     USA  0.710000  27.602920          0.430                10.7  130.970941   \n",
       "\n",
       "   Alcohol  Smoking  Pollution  Fruit  ...  Feeling of loneliness  \\\n",
       "0     10.9    0.188       45.3  0.473  ...                     37   \n",
       "1      9.1    0.169       30.4  0.522  ...                     25   \n",
       "2     11.7    0.254       25.2  0.551  ...                     45   \n",
       "3      7.6    0.199       48.7  0.758  ...                     47   \n",
       "4      8.3    0.168       31.3  0.443  ...                     35   \n",
       "5      7.1    0.104       18.5  0.583  ...                     30   \n",
       "6      8.6    0.221       27.1  0.840  ...                     40   \n",
       "7      8.9    0.105       24.1  0.584  ...                     30   \n",
       "\n",
       "   one-person households  Friends  resid_alpha10  resid_alpha11  \\\n",
       "0              39.871429     92.0      -0.395350       0.047194   \n",
       "1              44.530769     95.3       0.023180       0.239228   \n",
       "2              34.350000     88.4      -0.475825      -0.107545   \n",
       "3              30.466667     90.8       0.340060      -0.307232   \n",
       "4              36.566667     90.1       0.083039       0.035529   \n",
       "5              41.413333     91.8       0.035904       0.048471   \n",
       "6              23.692308     94.8       0.425570      -0.200892   \n",
       "7              22.738448     89.9      -0.036578       0.245248   \n",
       "\n",
       "   Insufficient Physical Activity 18+ Age-stand.  \\\n",
       "0                                          42.21   \n",
       "1                                          28.50   \n",
       "2                                          29.32   \n",
       "3                                          41.39   \n",
       "4                                          27.18   \n",
       "5                                          23.13   \n",
       "6                                          26.81   \n",
       "7                                          40.01   \n",
       "\n",
       "   Insufficient Physical Activity 18+ crude  \\\n",
       "0                                     45.82   \n",
       "1                                     30.76   \n",
       "2                                     32.25   \n",
       "3                                     44.81   \n",
       "4                                     29.45   \n",
       "5                                     25.22   \n",
       "6                                     29.57   \n",
       "7                                     42.53   \n",
       "\n",
       "   Insufficient Physical Activity 11-17 years        salt  Air pollution  \n",
       "0                                       83.69  186.833333      14.114283  \n",
       "1                                       84.51  160.600000      10.759141  \n",
       "2                                       87.00  145.500000      12.493830  \n",
       "3                                       88.62  190.675000      15.843478  \n",
       "4                                       80.17  171.600000      15.662882  \n",
       "5                                       84.67  141.391304       5.611160  \n",
       "6                                       76.61  178.900000       9.923726  \n",
       "7                                       72.05  195.391304       9.520327  \n",
       "\n",
       "[8 rows x 59 columns]"
      ]
     },
     "execution_count": 14,
     "metadata": {},
     "output_type": "execute_result"
    }
   ],
   "source": [
    "file_name = 'xlsx_files/data_risky_alpha.xlsx'\n",
    "\n",
    "my_sheet  = 'data2'    # sheet name\n",
    "data_risk = read_excel(file_name, sheet_name = my_sheet)\n",
    "data_risk"
   ]
  },
  {
   "cell_type": "code",
   "execution_count": 15,
   "metadata": {},
   "outputs": [
    {
     "data": {
      "text/html": [
       "<div>\n",
       "<style scoped>\n",
       "    .dataframe tbody tr th:only-of-type {\n",
       "        vertical-align: middle;\n",
       "    }\n",
       "\n",
       "    .dataframe tbody tr th {\n",
       "        vertical-align: top;\n",
       "    }\n",
       "\n",
       "    .dataframe thead th {\n",
       "        text-align: right;\n",
       "    }\n",
       "</style>\n",
       "<table border=\"1\" class=\"dataframe\">\n",
       "  <thead>\n",
       "    <tr style=\"text-align: right;\">\n",
       "      <th></th>\n",
       "      <th>de</th>\n",
       "      <th>dk</th>\n",
       "      <th>fr</th>\n",
       "      <th>it</th>\n",
       "      <th>nl</th>\n",
       "      <th>se</th>\n",
       "      <th>sp</th>\n",
       "      <th>us</th>\n",
       "    </tr>\n",
       "  </thead>\n",
       "  <tbody>\n",
       "    <tr>\n",
       "      <th>Obesity</th>\n",
       "      <td>0.196425</td>\n",
       "      <td>0.165716</td>\n",
       "      <td>0.170822</td>\n",
       "      <td>0.276495</td>\n",
       "      <td>0.198036</td>\n",
       "      <td>0.197081</td>\n",
       "      <td>0.170931</td>\n",
       "      <td>0.328623</td>\n",
       "    </tr>\n",
       "    <tr>\n",
       "      <th>Smoking</th>\n",
       "      <td>0.359872</td>\n",
       "      <td>0.402399</td>\n",
       "      <td>0.492596</td>\n",
       "      <td>0.322084</td>\n",
       "      <td>0.357995</td>\n",
       "      <td>0.333276</td>\n",
       "      <td>0.526519</td>\n",
       "      <td>0.578711</td>\n",
       "    </tr>\n",
       "    <tr>\n",
       "      <th>Phys. Act.</th>\n",
       "      <td>0.050765</td>\n",
       "      <td>0.027652</td>\n",
       "      <td>0.055629</td>\n",
       "      <td>0.103732</td>\n",
       "      <td>0.163662</td>\n",
       "      <td>0.088618</td>\n",
       "      <td>0.041033</td>\n",
       "      <td>0.099483</td>\n",
       "    </tr>\n",
       "    <tr>\n",
       "      <th>Drug</th>\n",
       "      <td>0.007357</td>\n",
       "      <td>0.007432</td>\n",
       "      <td>0.010157</td>\n",
       "      <td>0.01287</td>\n",
       "      <td>0.008117</td>\n",
       "      <td>0.005634</td>\n",
       "      <td>0.013219</td>\n",
       "      <td>0.027221</td>\n",
       "    </tr>\n",
       "    <tr>\n",
       "      <th>Diet</th>\n",
       "      <td>376.081096</td>\n",
       "      <td>391.728219</td>\n",
       "      <td>381.142192</td>\n",
       "      <td>347.630137</td>\n",
       "      <td>368.220822</td>\n",
       "      <td>344.921918</td>\n",
       "      <td>336.990959</td>\n",
       "      <td>453.877808</td>\n",
       "    </tr>\n",
       "    <tr>\n",
       "      <th>Pollution</th>\n",
       "      <td>14.114283</td>\n",
       "      <td>10.759141</td>\n",
       "      <td>12.49383</td>\n",
       "      <td>15.843478</td>\n",
       "      <td>15.662882</td>\n",
       "      <td>5.61116</td>\n",
       "      <td>9.923726</td>\n",
       "      <td>9.520327</td>\n",
       "    </tr>\n",
       "  </tbody>\n",
       "</table>\n",
       "</div>"
      ],
      "text/plain": [
       "                    de          dk          fr          it          nl  \\\n",
       "Obesity       0.196425    0.165716    0.170822    0.276495    0.198036   \n",
       "Smoking       0.359872    0.402399    0.492596    0.322084    0.357995   \n",
       "Phys. Act.    0.050765    0.027652    0.055629    0.103732    0.163662   \n",
       "Drug          0.007357    0.007432    0.010157     0.01287    0.008117   \n",
       "Diet        376.081096  391.728219  381.142192  347.630137  368.220822   \n",
       "Pollution    14.114283   10.759141    12.49383   15.843478   15.662882   \n",
       "\n",
       "                    se          sp          us  \n",
       "Obesity       0.197081    0.170931    0.328623  \n",
       "Smoking       0.333276    0.526519    0.578711  \n",
       "Phys. Act.    0.088618    0.041033    0.099483  \n",
       "Drug          0.005634    0.013219    0.027221  \n",
       "Diet        344.921918  336.990959  453.877808  \n",
       "Pollution      5.61116    9.923726    9.520327  "
      ]
     },
     "execution_count": 15,
     "metadata": {},
     "output_type": "execute_result"
    }
   ],
   "source": [
    "name_x = ['country','Obesity','BMI','Child Obesity','Lack of support MA','Opioid','Alcohol','Smoking','Pollution',\n",
    " 'Fruit','Vegetable','Fat diet','Sugar diet','Protein diet','Diabete','Daily calories','Preventive Care',\n",
    " 'leukemia','breast','colon','rectal','lung','stomach','cervical','waiting',\n",
    " 'Cannabis','Ecstasy','Amphetamines','Cocaine','Overdose (per 100 000)',\n",
    " 'rain','temperature','sunshine',\n",
    " 'Daily cigarettes (owid)','Ever smoked (hrs)',\n",
    " 'Prevalence of alcohol disorder','Heavy episodic drinking','Lifetime abstainer','Abstrainer last year',\n",
    " 'Beer consumption','Wine consumption','Spirit consumption','Alcool consumption (Owid)',\n",
    " 'Anxiety','Depression','Bipolar','Eating Disorder','Schizophrenia','Mental and substance use disorder',\n",
    " 'Feeling of loneliness','one-person households','Friends',\n",
    " 'resid_alpha10','resid_alpha11',\n",
    " 'Insufficient Physical Activity 18+ Age-stand.','Insufficient Physical Activity 18+ crude','Insufficient Physical Activity 11-17 years',\n",
    " 'salt','Air pollution']\n",
    "\n",
    "# Aggregation by group of risks\n",
    "# Share of population that consumes a drug\n",
    "# Data from FL\n",
    "DrugL = np.array([0.600343, 0.040283,  0.620790, 0.750047, 0.132868, 0.050934, 0.581897, 8.03])\n",
    "DrugFL = (DrugL/PopL2005)#*100\n",
    "# bad diet: grammes per capita per day\n",
    "DietFL = (data_risk.loc[:,'Sugar diet']/365)*1000 + data_risk.loc[:,'Protein diet'] + data_risk.loc[:,'Fat diet']\n",
    "# Exposure to suspended particules in licrograms per cubic meter (\\mu g/m^3)\n",
    "PollFL = data_risk.loc[:,'Air pollution']\n",
    "\n",
    "name_ss =['Obesity', 'Smoking', 'Phys. Act.', 'Drug', 'Diet', 'Pollution']\n",
    "tableFL = pd.DataFrame(index=name_ss,columns=countries)\n",
    "for cc in range(8):\n",
    "    tt = countries[cc]\n",
    "    for ii in range(3):\n",
    "        nn = name_ss[ii]\n",
    "        tableFL.loc[nn,tt] = dataRF[cc,ii]\n",
    "    tableFL.loc[name_ss[3],tt] = DrugFL[cc]\n",
    "    tableFL.loc[name_ss[4],tt] = DietFL[cc]\n",
    "    tableFL.loc[name_ss[5],tt] = PollFL[cc]\n",
    "tableFL"
   ]
  },
  {
   "cell_type": "code",
   "execution_count": 16,
   "metadata": {},
   "outputs": [
    {
     "name": "stderr",
     "output_type": "stream",
     "text": [
      "/Users/flangot/opt/anaconda3/lib/python3.7/site-packages/ipykernel_launcher.py:8: UserWarning: FixedFormatter should only be used together with FixedLocator\n",
      "  \n"
     ]
    },
    {
     "data": {
      "image/png": "[encoded data removed]",
      "text/plain": [
       "<Figure size 432x288 with 1 Axes>"
      ]
     },
     "metadata": {
      "needs_background": "light"
     },
     "output_type": "display_data"
    },
    {
     "data": {
      "image/png": "[encoded data removed]",
      "text/plain": [
       "<Figure size 432x288 with 1 Axes>"
      ]
     },
     "metadata": {
      "needs_background": "light"
     },
     "output_type": "display_data"
    },
    {
     "data": {
      "image/png": "[encoded data removed]",
      "text/plain": [
       "<Figure size 432x288 with 1 Axes>"
      ]
     },
     "metadata": {
      "needs_background": "light"
     },
     "output_type": "display_data"
    },
    {
     "data": {
      "image/png": "[encoded data removed]",
      "text/plain": [
       "<Figure size 432x288 with 1 Axes>"
      ]
     },
     "metadata": {
      "needs_background": "light"
     },
     "output_type": "display_data"
    },
    {
     "data": {
      "image/png": "[encoded data removed]",
      "text/plain": [
       "<Figure size 432x288 with 1 Axes>"
      ]
     },
     "metadata": {
      "needs_background": "light"
     },
     "output_type": "display_data"
    },
    {
     "data": {
      "image/png": "[encoded data removed]",
      "text/plain": [
       "<Figure size 432x288 with 1 Axes>"
      ]
     },
     "metadata": {
      "needs_background": "light"
     },
     "output_type": "display_data"
    }
   ],
   "source": [
    "# Figures where the cost of each risky behaviors is measured as the number of lost years \n",
    "for cc in range(6):\n",
    "    fig, ax = plt.subplots()\n",
    "    clrs = ['grey' if xi < 7 else 'black' for xi in x ]\n",
    "    ax.bar(x,tableFL.loc[name_ss[cc],:],color=clrs)#'grey')\n",
    "    #ax.set_ylabel('# of years lost')\n",
    "    ax.set_xlabel(name_ss[cc])\n",
    "    ax.set_xticklabels(countries_plot)\n",
    "    fig.tight_layout()\n",
    "    #plt.savefig('../figures_JPE/RISKs'+name_ss[cc]+'.eps',dpi=600)\n",
    "    plt.show()"
   ]
  },
  {
   "cell_type": "code",
   "execution_count": 17,
   "metadata": {},
   "outputs": [
    {
     "data": {
      "text/html": [
       "<div>\n",
       "<style scoped>\n",
       "    .dataframe tbody tr th:only-of-type {\n",
       "        vertical-align: middle;\n",
       "    }\n",
       "\n",
       "    .dataframe tbody tr th {\n",
       "        vertical-align: top;\n",
       "    }\n",
       "\n",
       "    .dataframe thead th {\n",
       "        text-align: right;\n",
       "    }\n",
       "</style>\n",
       "<table border=\"1\" class=\"dataframe\">\n",
       "  <thead>\n",
       "    <tr style=\"text-align: right;\">\n",
       "      <th></th>\n",
       "      <th>de</th>\n",
       "      <th>dk</th>\n",
       "      <th>fr</th>\n",
       "      <th>it</th>\n",
       "      <th>nl</th>\n",
       "      <th>se</th>\n",
       "      <th>sp</th>\n",
       "      <th>us</th>\n",
       "    </tr>\n",
       "  </thead>\n",
       "  <tbody>\n",
       "    <tr>\n",
       "      <th>IndexThep</th>\n",
       "      <td>0.614419</td>\n",
       "      <td>0.6032</td>\n",
       "      <td>0.729204</td>\n",
       "      <td>0.715181</td>\n",
       "      <td>0.72781</td>\n",
       "      <td>0.62461</td>\n",
       "      <td>0.751701</td>\n",
       "      <td>1.034038</td>\n",
       "    </tr>\n",
       "  </tbody>\n",
       "</table>\n",
       "</div>"
      ],
      "text/plain": [
       "                 de      dk        fr        it       nl       se        sp  \\\n",
       "IndexThep  0.614419  0.6032  0.729204  0.715181  0.72781  0.62461  0.751701   \n",
       "\n",
       "                 us  \n",
       "IndexThep  1.034038  "
      ]
     },
     "execution_count": 17,
     "metadata": {},
     "output_type": "execute_result"
    }
   ],
   "source": [
    "name_Thep  = ['IndexThep']\n",
    "Index_Thep = pd.DataFrame(index=name_Thep,columns=countries)\n",
    "Index_Thep.loc['IndexThep',:] = tableFL.loc['Obesity',:] + tableFL.loc['Smoking',:] + tableFL.loc['Phys. Act.',:] + tableFL.loc['Drug',:]#/100\n",
    "Index_Thep"
   ]
  },
  {
   "cell_type": "code",
   "execution_count": 18,
   "metadata": {},
   "outputs": [],
   "source": [
    "IndexThep = [\n",
    "tableFL.loc['Obesity','de'] + tableFL.loc['Smoking','de'] + tableFL.loc['Phys. Act.','de'] + tableFL.loc['Drug','de'],\n",
    "tableFL.loc['Obesity','dk'] + tableFL.loc['Smoking','dk'] + tableFL.loc['Phys. Act.','dk'] + tableFL.loc['Drug','dk'],\n",
    "tableFL.loc['Obesity','fr'] + tableFL.loc['Smoking','fr'] + tableFL.loc['Phys. Act.','fr'] + tableFL.loc['Drug','fr'],\n",
    "tableFL.loc['Obesity','it'] + tableFL.loc['Smoking','it'] + tableFL.loc['Phys. Act.','it'] + tableFL.loc['Drug','it'],\n",
    "tableFL.loc['Obesity','nl'] + tableFL.loc['Smoking','nl'] + tableFL.loc['Phys. Act.','nl'] + tableFL.loc['Drug','nl'],\n",
    "tableFL.loc['Obesity','se'] + tableFL.loc['Smoking','se'] + tableFL.loc['Phys. Act.','se'] + tableFL.loc['Drug','se'],\n",
    "tableFL.loc['Obesity','sp'] + tableFL.loc['Smoking','sp'] + tableFL.loc['Phys. Act.','sp'] + tableFL.loc['Drug','sp'],\n",
    "tableFL.loc['Obesity','us'] + tableFL.loc['Smoking','us'] + tableFL.loc['Phys. Act.','us'] + tableFL.loc['Drug','us']]"
   ]
  },
  {
   "cell_type": "markdown",
   "metadata": {},
   "source": [
    "## From measures per risky behavior to an index of risky behaviors\n",
    "1/ For each risk, make a ranking between countries from the lowest to the highest\n",
    "\n",
    "2/ Take the average of the ranks for each country"
   ]
  },
  {
   "cell_type": "code",
   "execution_count": 19,
   "metadata": {},
   "outputs": [],
   "source": [
    "# Rank of each country for each risky behaviors\n",
    "# Order: Obesity EverSmoke PhysAct Poll Diet Drug\n",
    "dataFL = np.array([\n",
    "[4, 4, 3, 6, 5, 3], # de\n",
    "[1, 5, 1, 4, 7, 2], # dk \n",
    "[2, 6, 4, 5, 6, 5], # fr\n",
    "[7, 1, 7, 8, 3, 6], # it\n",
    "[6, 3, 8, 7, 4, 4], # nl\n",
    "[5, 2, 5, 1, 2, 1], # se\n",
    "[3, 7, 2, 3, 1, 7], # sp\n",
    "[8, 8, 6, 2, 8, 8]])# us\n",
    "\n",
    "# Compute the average\n",
    "IndexRank = np.zeros(8)\n",
    "for cc in range(8):\n",
    "    IndexRank[cc] = np.sum(dataFL[cc,:])/6"
   ]
  },
  {
   "cell_type": "markdown",
   "metadata": {},
   "source": [
    "# $\\alpha_{11}$ Transition for good to good health"
   ]
  },
  {
   "cell_type": "code",
   "execution_count": 20,
   "metadata": {},
   "outputs": [
    {
     "name": "stdout",
     "output_type": "stream",
     "text": [
      "slope: -1.752013    intercept: 5.177201   R-squared: 0.574055\n"
     ]
    }
   ],
   "source": [
    "slope, intercept, r_value, p_value, std_err = stats.linregress(IndexThep,pars.loc['d2',:])\n",
    "print(\"slope: %f    intercept: %f   R-squared: %f\" % (slope, intercept,r_value**2))"
   ]
  },
  {
   "cell_type": "code",
   "execution_count": 21,
   "metadata": {},
   "outputs": [
    {
     "data": {
      "image/png": "[encoded data removed]",
      "text/plain": [
       "<Figure size 432x288 with 1 Axes>"
      ]
     },
     "metadata": {
      "needs_background": "light"
     },
     "output_type": "display_data"
    }
   ],
   "source": [
    "plt.figure()\n",
    "plt.scatter(IndexThep,pars.loc['d2',:],facecolors='none', edgecolors='b',s=500.0)\n",
    "#sns.regplot(IndexThep,pars.loc['d2',:], color='none', marker=\" \")#color ='blue', marker=\"o\", label=countries)\n",
    "plt.plot(Index_Thep.loc['IndexThep',:], intercept + slope*Index_Thep.loc['IndexThep',:], 'k')\n",
    "plt.ylim(3.3,4.5)\n",
    "plt.ylabel('$\\\\alpha_{11}$')\n",
    "plt.xlabel('Risky behaviors')\n",
    "for x,y,z in zip(IndexThep,pars.loc['d2',:],countries):\n",
    "    plt.annotate(z,xy=(x, y),horizontalalignment='center', verticalalignment='center')\n",
    "#plt.savefig('../figures_JPE/a11.png',dpi=600)"
   ]
  },
  {
   "cell_type": "markdown",
   "metadata": {},
   "source": [
    "# $\\alpha_{10}$ Transition for bad to good health"
   ]
  },
  {
   "cell_type": "code",
   "execution_count": 22,
   "metadata": {},
   "outputs": [
    {
     "data": {
      "text/html": [
       "<div>\n",
       "<style scoped>\n",
       "    .dataframe tbody tr th:only-of-type {\n",
       "        vertical-align: middle;\n",
       "    }\n",
       "\n",
       "    .dataframe tbody tr th {\n",
       "        vertical-align: top;\n",
       "    }\n",
       "\n",
       "    .dataframe thead th {\n",
       "        text-align: right;\n",
       "    }\n",
       "</style>\n",
       "<table border=\"1\" class=\"dataframe\">\n",
       "  <thead>\n",
       "    <tr style=\"text-align: right;\">\n",
       "      <th></th>\n",
       "      <th>de</th>\n",
       "      <th>dk</th>\n",
       "      <th>fr</th>\n",
       "      <th>it</th>\n",
       "      <th>nl</th>\n",
       "      <th>se</th>\n",
       "      <th>sp</th>\n",
       "      <th>us</th>\n",
       "    </tr>\n",
       "  </thead>\n",
       "  <tbody>\n",
       "    <tr>\n",
       "      <th>tete</th>\n",
       "      <td>6.036014</td>\n",
       "      <td>6.294224</td>\n",
       "      <td>4.120758</td>\n",
       "      <td>4.912009</td>\n",
       "      <td>5.415615</td>\n",
       "      <td>4.737692</td>\n",
       "      <td>4.137542</td>\n",
       "      <td>6.868274</td>\n",
       "    </tr>\n",
       "  </tbody>\n",
       "</table>\n",
       "</div>"
      ],
      "text/plain": [
       "            de        dk        fr        it        nl        se        sp  \\\n",
       "tete  6.036014  6.294224  4.120758  4.912009  5.415615  4.737692  4.137542   \n",
       "\n",
       "            us  \n",
       "tete  6.868274  "
      ]
     },
     "execution_count": 22,
     "metadata": {},
     "output_type": "execute_result"
    }
   ],
   "source": [
    "name_I  = ['tete']\n",
    "Index_I = pd.DataFrame(index=name_I,columns=countries)\n",
    "Index_I.loc['tete',:] = 70/(1-(tables_s.loc['Smoking',:]+tables_s.loc['Obesity',:]+tables_s.loc['Drug',:]+tables_s.loc['Phys. Act.',:])) - 70\n",
    "Index_I"
   ]
  },
  {
   "cell_type": "code",
   "execution_count": 23,
   "metadata": {},
   "outputs": [],
   "source": [
    "tete = [Index_I.loc['tete','de'],Index_I.loc['tete','dk'], Index_I.loc['tete','fr'], Index_I.loc['tete','it'], Index_I.loc['tete','nl'], Index_I.loc['tete','se'], Index_I.loc['tete','sp'],Index_I.loc['tete','us']]"
   ]
  },
  {
   "cell_type": "code",
   "execution_count": 24,
   "metadata": {},
   "outputs": [
    {
     "name": "stdout",
     "output_type": "stream",
     "text": [
      "slope: -0.238026    intercept: 0.191616   R-squared: 0.233330\n"
     ]
    }
   ],
   "source": [
    "slope, intercept, r_value, p_value, std_err = stats.linregress(tete,pars.loc['d1',:])\n",
    "print(\"slope: %f    intercept: %f   R-squared: %f\" % (slope, intercept,r_value**2))"
   ]
  },
  {
   "cell_type": "code",
   "execution_count": 25,
   "metadata": {},
   "outputs": [
    {
     "data": {
      "image/png": "[encoded data removed]",
      "text/plain": [
       "<Figure size 432x288 with 1 Axes>"
      ]
     },
     "metadata": {
      "needs_background": "light"
     },
     "output_type": "display_data"
    }
   ],
   "source": [
    "plt.figure()\n",
    "plt.scatter(tete,pars.loc['d1',:],facecolors='none', edgecolors='b',s=500.0)\n",
    "#sns.regplot(tete,pars.loc['d1',:], color='none', marker=\" \")#color ='blue', marker=\"o\", label=countries)\n",
    "plt.plot(Index_I.loc['tete',:], intercept + slope*Index_I.loc['tete',:], 'k')\n",
    "plt.ylabel('$\\\\alpha_{10}$')\n",
    "plt.xlabel('DALYs')\n",
    "plt.ylim(-1.75,0.15)\n",
    "for x,y,z in zip(tete,pars.loc['d1',:],countries):\n",
    "    plt.annotate(z,xy=(x, y),horizontalalignment='center', verticalalignment='center')\n",
    "#plt.savefig('../figures_JPE/a10_rank.png',dpi=600)"
   ]
  },
  {
   "cell_type": "code",
   "execution_count": 26,
   "metadata": {},
   "outputs": [
    {
     "name": "stderr",
     "output_type": "stream",
     "text": [
      "/Users/flangot/opt/anaconda3/lib/python3.7/site-packages/ipykernel_launcher.py:6: UserWarning: FixedFormatter should only be used together with FixedLocator\n",
      "  \n"
     ]
    },
    {
     "data": {
      "image/png": "[encoded data removed]",
      "text/plain": [
       "<Figure size 432x288 with 1 Axes>"
      ]
     },
     "metadata": {
      "needs_background": "light"
     },
     "output_type": "display_data"
    }
   ],
   "source": [
    "x = np.arange(len(countries))\n",
    "fig, ax = plt.subplots()\n",
    "clrs = ['grey' if xi < 7 else 'black' for xi in x ]\n",
    "ax.bar(x,tete,color=clrs)#'grey')#label='Total')\n",
    "ax.set_ylabel('# of years lost')\n",
    "ax.set_xticklabels(countries_plot)\n",
    "fig.tight_layout()\n",
    "#plt.savefig('../figures_JPE/DALYs_Thep.eps',dpi=600)\n",
    "plt.show()"
   ]
  },
  {
   "cell_type": "code",
   "execution_count": 27,
   "metadata": {},
   "outputs": [
    {
     "name": "stdout",
     "output_type": "stream",
     "text": [
      "from bad to good / DALYs withoy diet\n",
      "[-0.30952380952380953, 0.4556448907375822]\n",
      "from good to good / Continuous Index\n",
      "[-0.880952380952381, 0.0038503204637324014]\n"
     ]
    }
   ],
   "source": [
    "print(\"from bad to good / DALYs withoy diet\")\n",
    "res01_spear_rho, res01_spear_pv = spearmanr(tete[0:8], pars.loc['d1',['de','dk','fr','it','nl','se','sp','us']])\n",
    "print([res01_spear_rho, res01_spear_pv])\n",
    "\n",
    "print(\"from good to good / Continuous Index\")\n",
    "mm = np.array(IndexThep)\n",
    "mm = mm[[0,1,2,3,4,5,6,7]]\n",
    "res02_spear_rho, res02_spear_pv = spearmanr(mm, pars.loc['d2',['de','dk','fr','it','nl','se','sp','us']])\n",
    "print([res02_spear_rho, res02_spear_pv])\n"
   ]
  },
  {
   "cell_type": "code",
   "execution_count": null,
   "metadata": {},
   "outputs": [],
   "source": []
  },
  {
   "cell_type": "code",
   "execution_count": null,
   "metadata": {},
   "outputs": [],
   "source": []
  }
 ],
 "metadata": {
  "kernelspec": {
   "display_name": "Python 3",
   "language": "python",
   "name": "python3"
  },
  "language_info": {
   "codemirror_mode": {
    "name": "ipython",
    "version": 3
   },
   "file_extension": ".py",
   "mimetype": "text/x-python",
   "name": "python",
   "nbconvert_exporter": "python",
   "pygments_lexer": "ipython3",
   "version": "3.7.4"
  }
 },
 "nbformat": 4,
 "nbformat_minor": 2
}

{
 "cells": [
  {
   "cell_type": "markdown",
   "metadata": {},
   "source": [
    "# Compute health expenditures per income level"
   ]
  },
  {
   "cell_type": "code",
   "execution_count": 1,
   "metadata": {},
   "outputs": [],
   "source": [
    "from matplotlib import pyplot as plt\n",
    "import numpy as np\n",
    "from scipy import stats \n",
    "from importlib import reload\n",
    "import pandas as pd\n",
    "import pickle"
   ]
  },
  {
   "cell_type": "code",
   "execution_count": 2,
   "metadata": {},
   "outputs": [
    {
     "data": {
      "text/plain": [
       "<module 'tools.distributions' from '/Users/flangot/Dropbox/agghealth/notebooks/tools/distributions.py'>"
      ]
     },
     "execution_count": 2,
     "metadata": {},
     "output_type": "execute_result"
    }
   ],
   "source": [
    "from tools import micro\n",
    "from tools import macro\n",
    "from tools import params\n",
    "from tools import distributions as dist\n",
    "reload(micro)\n",
    "reload(macro)\n",
    "reload(params)\n",
    "reload(dist)"
   ]
  },
  {
   "cell_type": "markdown",
   "metadata": {},
   "source": [
    "## Model paramters"
   ]
  },
  {
   "cell_type": "code",
   "execution_count": 3,
   "metadata": {},
   "outputs": [
    {
     "data": {
      "text/html": [
       "<div>\n",
       "<style scoped>\n",
       "    .dataframe tbody tr th:only-of-type {\n",
       "        vertical-align: middle;\n",
       "    }\n",
       "\n",
       "    .dataframe tbody tr th {\n",
       "        vertical-align: top;\n",
       "    }\n",
       "\n",
       "    .dataframe thead th {\n",
       "        text-align: right;\n",
       "    }\n",
       "</style>\n",
       "<table border=\"1\" class=\"dataframe\">\n",
       "  <thead>\n",
       "    <tr style=\"text-align: right;\">\n",
       "      <th></th>\n",
       "      <th>de</th>\n",
       "      <th>dk</th>\n",
       "      <th>fr</th>\n",
       "      <th>it</th>\n",
       "      <th>nl</th>\n",
       "      <th>se</th>\n",
       "      <th>sp</th>\n",
       "      <th>us</th>\n",
       "    </tr>\n",
       "  </thead>\n",
       "  <tbody>\n",
       "    <tr>\n",
       "      <th>beta</th>\n",
       "      <td>0.970000</td>\n",
       "      <td>0.970000</td>\n",
       "      <td>0.970000</td>\n",
       "      <td>0.970000</td>\n",
       "      <td>0.970000</td>\n",
       "      <td>0.970000</td>\n",
       "      <td>0.970000</td>\n",
       "      <td>0.970000</td>\n",
       "    </tr>\n",
       "    <tr>\n",
       "      <th>psi</th>\n",
       "      <td>0.161578</td>\n",
       "      <td>0.161578</td>\n",
       "      <td>0.161578</td>\n",
       "      <td>0.161578</td>\n",
       "      <td>0.161578</td>\n",
       "      <td>0.161578</td>\n",
       "      <td>0.161578</td>\n",
       "      <td>0.161578</td>\n",
       "    </tr>\n",
       "    <tr>\n",
       "      <th>sigma</th>\n",
       "      <td>2.105317</td>\n",
       "      <td>2.105317</td>\n",
       "      <td>2.105317</td>\n",
       "      <td>2.105317</td>\n",
       "      <td>2.105317</td>\n",
       "      <td>2.105317</td>\n",
       "      <td>2.105317</td>\n",
       "      <td>2.105317</td>\n",
       "    </tr>\n",
       "    <tr>\n",
       "      <th>phi</th>\n",
       "      <td>0.397405</td>\n",
       "      <td>0.397405</td>\n",
       "      <td>0.397405</td>\n",
       "      <td>0.397405</td>\n",
       "      <td>0.397405</td>\n",
       "      <td>0.397405</td>\n",
       "      <td>0.397405</td>\n",
       "      <td>0.397405</td>\n",
       "    </tr>\n",
       "    <tr>\n",
       "      <th>d1</th>\n",
       "      <td>-1.282523</td>\n",
       "      <td>-1.602088</td>\n",
       "      <td>-1.099845</td>\n",
       "      <td>-0.831846</td>\n",
       "      <td>-1.390736</td>\n",
       "      <td>-1.394792</td>\n",
       "      <td>0.002353</td>\n",
       "      <td>-0.988958</td>\n",
       "    </tr>\n",
       "    <tr>\n",
       "      <th>d2</th>\n",
       "      <td>4.029535</td>\n",
       "      <td>4.273080</td>\n",
       "      <td>3.786290</td>\n",
       "      <td>3.917407</td>\n",
       "      <td>3.992196</td>\n",
       "      <td>4.310991</td>\n",
       "      <td>3.434494</td>\n",
       "      <td>3.511651</td>\n",
       "    </tr>\n",
       "    <tr>\n",
       "      <th>p</th>\n",
       "      <td>0.836301</td>\n",
       "      <td>0.888409</td>\n",
       "      <td>0.604059</td>\n",
       "      <td>0.695076</td>\n",
       "      <td>0.657280</td>\n",
       "      <td>0.891689</td>\n",
       "      <td>0.642584</td>\n",
       "      <td>1.000000</td>\n",
       "    </tr>\n",
       "    <tr>\n",
       "      <th>tfp</th>\n",
       "      <td>1.011023</td>\n",
       "      <td>1.260592</td>\n",
       "      <td>0.922111</td>\n",
       "      <td>0.613212</td>\n",
       "      <td>0.989482</td>\n",
       "      <td>0.795415</td>\n",
       "      <td>0.795095</td>\n",
       "      <td>1.000000</td>\n",
       "    </tr>\n",
       "  </tbody>\n",
       "</table>\n",
       "</div>"
      ],
      "text/plain": [
       "             de        dk        fr        it        nl        se        sp  \\\n",
       "beta   0.970000  0.970000  0.970000  0.970000  0.970000  0.970000  0.970000   \n",
       "psi    0.161578  0.161578  0.161578  0.161578  0.161578  0.161578  0.161578   \n",
       "sigma  2.105317  2.105317  2.105317  2.105317  2.105317  2.105317  2.105317   \n",
       "phi    0.397405  0.397405  0.397405  0.397405  0.397405  0.397405  0.397405   \n",
       "d1    -1.282523 -1.602088 -1.099845 -0.831846 -1.390736 -1.394792  0.002353   \n",
       "d2     4.029535  4.273080  3.786290  3.917407  3.992196  4.310991  3.434494   \n",
       "p      0.836301  0.888409  0.604059  0.695076  0.657280  0.891689  0.642584   \n",
       "tfp    1.011023  1.260592  0.922111  0.613212  0.989482  0.795415  0.795095   \n",
       "\n",
       "             us  \n",
       "beta   0.970000  \n",
       "psi    0.161578  \n",
       "sigma  2.105317  \n",
       "phi    0.397405  \n",
       "d1    -0.988958  \n",
       "d2     3.511651  \n",
       "p      1.000000  \n",
       "tfp    1.000000  "
      ]
     },
     "execution_count": 3,
     "metadata": {},
     "output_type": "execute_result"
    }
   ],
   "source": [
    "pars = pd.read_pickle('../output_JPE/pars.pkl')\n",
    "pars"
   ]
  },
  {
   "cell_type": "markdown",
   "metadata": {},
   "source": [
    "## GE baseline model"
   ]
  },
  {
   "cell_type": "code",
   "execution_count": 4,
   "metadata": {},
   "outputs": [],
   "source": [
    "countries = pars.columns\n",
    "scenarios = ['pus_ge']#,'peu_ge','peu_pe','aeu_ge','aeu_pe']\n",
    "outcomes  = ['m','y','c','k','n','s','csy','ksy','h','g2','g3','g4','tgood','tbad','r','w','tax','oop']\n",
    "results   = pd.DataFrame(index=outcomes,columns=scenarios)"
   ]
  },
  {
   "cell_type": "markdown",
   "metadata": {},
   "source": [
    "### Put the value of $\\gamma$"
   ]
  },
  {
   "cell_type": "code",
   "execution_count": 5,
   "metadata": {},
   "outputs": [],
   "source": [
    "gamma = 1"
   ]
  },
  {
   "cell_type": "code",
   "execution_count": 6,
   "metadata": {},
   "outputs": [
    {
     "name": "stdout",
     "output_type": "stream",
     "text": [
      "solved bellman equation (iter, diff cons, diff medexp)  250 0.027383992046138173 13.736923340494544\n",
      "grid for k (nk, maxk)  100 190.0\n",
      "stationary distribution converged in  482  iterations \n",
      "grid for k (nk maxk) 500 190.0\n",
      "solved bellman equation (iter, diff cons, diff medexp)  167 0.00020903938172978087 0.0007498084676349492\n",
      "grid for k (nk, maxk)  100 190.0\n",
      "stationary distribution converged in  250  iterations \n",
      "grid for k (nk maxk) 500 190.0\n",
      "rate =  0.0005 demand =  37.31615558961398 supply =  19.105192901911295  tax =  0.20209548699654836\n",
      "solved bellman equation (iter, diff cons, diff medexp)  208 0.00013434546729751418 0.0009848555117066837\n",
      "grid for k (nk, maxk)  100 190.0\n",
      "stationary distribution converged in  554  iterations \n",
      "grid for k (nk maxk) 500 190.0\n",
      "rate =  0.025927835051546503 demand =  18.988219712657482 supply =  83.32356942374011  tax =  0.20209548699654836\n",
      "solved bellman equation (iter, diff cons, diff medexp)  161 0.000707707219033793 0.0009733568024188344\n",
      "grid for k (nk, maxk)  100 190.0\n",
      "stationary distribution converged in  251  iterations \n",
      "grid for k (nk maxk) 500 190.0\n",
      "rate =  0.006109764287418197 demand =  31.32280817435132 supply =  23.202831400701292  tax =  0.20209548699654836\n",
      "solved bellman equation (iter, diff cons, diff medexp)  141 0.0003484396191248962 0.0007820349236862256\n",
      "grid for k (nk, maxk)  100 190.0\n",
      "stationary distribution converged in  157  iterations \n",
      "grid for k (nk maxk) 500 190.0\n",
      "rate =  0.010117925201592808 demand =  27.935490399520287 supply =  27.24179415438001  tax =  0.20209548699654836\n",
      "solved bellman equation (iter, diff cons, diff medexp)  250 0.12734791533111034 0.9335589437082277\n",
      "grid for k (nk, maxk)  100 190.0\n",
      "stationary distribution converged in  56  iterations \n",
      "grid for k (nk maxk) 500 190.0\n",
      "rate =  0.010469272866657178 demand =  27.666990764418046 supply =  27.659597856415083  tax =  0.20209548699654836\n",
      "solved bellman equation (iter, diff cons, diff medexp)  250 0.13214338804253178 0.8265077054001821\n",
      "grid for k (nk, maxk)  100 190.0\n",
      "stationary distribution converged in  26  iterations \n",
      "grid for k (nk maxk) 500 190.0\n",
      "rate =  0.010519272866657183 demand =  27.629119903320785 supply =  27.76677825833051  tax =  0.20209548699654836\n"
     ]
    }
   ],
   "source": [
    "p = pars.loc[:,'us']\n",
    "theta = params.flexpars(sigma=p['sigma'],beta=p['beta'],\n",
    "                            phi=p['phi'],psi=p['psi'],delta_h1=p['d1'],\n",
    "                            delta_h2=p['d2'],eta=0.0,tfp=p['tfp'],price=p['p'])\n",
    "# option for the numerical solution\n",
    "ne = 10\n",
    "m  = 2.5\n",
    "#op = params.settings(ne=ne,nk=30,maxk=190.0,curv=0.5,nprocs=40)\n",
    "op = params.settings(ne=ne,nk=100,maxk=190.0,curv=0.5,nprocs=40)\n",
    "inc = params.incprocess(country='us')\n",
    "inc.tauchen(ne=ne,m=m)\n",
    "aux = params.auxpars(country='us',gamma=gamma)  \n",
    "#Decision rules\n",
    "csumers = micro.bellman(options=op,flex=theta,aux=aux,inc=inc,rent=5.6e-2)\n",
    "csumers.compute_cash()\n",
    "csumers.itervalue()\n",
    "# distribution\n",
    "stats = dist.stationary(dp=csumers,nk=500)\n",
    "stats.blowup()\n",
    "stats.compute()\n",
    "# general equilibrium\n",
    "eq = macro.equilibrium(stats=stats,taxes=False,rent=True)#,inirent=irate)\n",
    "eq.solve()\n",
    "aggs = eq.aggregates()\n",
    "hlth = eq.healthreport()\n",
    "\n",
    "# saving aggregate outcomes\n",
    "res = [aggs.M,aggs.Y,aggs.C,aggs.K,aggs.N,p['p']*aggs.M/aggs.Y,(aggs.C+p['p']*aggs.M)/aggs.Y,\n",
    "       aggs.K/aggs.Y,hlth.pH,hlth.gradient[0],hlth.gradient[1],hlth.gradient[2],hlth.pTransGood,\n",
    "       hlth.pTransBad,eq.rent,eq.wage,eq.tax,aggs.M*p['p']*aux.copay]\n",
    "# saving decision rules\n",
    "size = stats.ne*stats.nh*stats.nk\n",
    "opt = pd.DataFrame(index=np.arange(0,size),columns=['e','h','k','ps','c','m','kp','v'])\n",
    "opt.loc[:,'ps'] = eq.stats.probs\n",
    "for i,s in enumerate(stats.states):\n",
    "    e,h,k = s\n",
    "    opt.loc[i,['e','h','k']] = [e,h,k]  \n",
    "    opt.loc[i,'c'] = eq.stats.optc[e,h,k]\n",
    "    opt.loc[i,'m'] = eq.stats.optm[e,h,k]\n",
    "    opt.loc[i,'kp'] = eq.stats.optk[e,h,k]\n",
    "    opt.loc[i,'v'] = eq.stats.value[e,h,k]"
   ]
  },
  {
   "cell_type": "code",
   "execution_count": 7,
   "metadata": {},
   "outputs": [],
   "source": [
    "eqs = []\n",
    "results.loc[:,'pus_ge'] = res\n",
    "eqs.append(eq)"
   ]
  },
  {
   "cell_type": "code",
   "execution_count": 8,
   "metadata": {},
   "outputs": [
    {
     "data": {
      "text/plain": [
       "0.5870104753860099"
      ]
     },
     "execution_count": 8,
     "metadata": {},
     "output_type": "execute_result"
    }
   ],
   "source": [
    "results.loc['m','pus_ge']"
   ]
  },
  {
   "cell_type": "code",
   "execution_count": 9,
   "metadata": {},
   "outputs": [],
   "source": [
    "eqs_temp = []\n",
    "opt_temp = []"
   ]
  },
  {
   "cell_type": "code",
   "execution_count": 10,
   "metadata": {},
   "outputs": [],
   "source": [
    "eqs_temp = eqs\n",
    "opt_temp.append(opt)"
   ]
  },
  {
   "cell_type": "code",
   "execution_count": 11,
   "metadata": {},
   "outputs": [],
   "source": [
    "eqs  = dict(zip(scenarios,eqs_temp))\n",
    "opts = dict(zip(scenarios,opt_temp))"
   ]
  },
  {
   "cell_type": "code",
   "execution_count": 12,
   "metadata": {},
   "outputs": [],
   "source": [
    "gridk = eqs['pus_ge'].stats.gridk\n",
    "ne, nk, nh = eqs['pus_ge'].stats.ne, eqs['pus_ge'].stats.nk, eqs['pus_ge'].stats.nh"
   ]
  },
  {
   "cell_type": "code",
   "execution_count": 13,
   "metadata": {},
   "outputs": [
    {
     "data": {
      "text/plain": [
       "10"
      ]
     },
     "execution_count": 13,
     "metadata": {},
     "output_type": "execute_result"
    }
   ],
   "source": [
    "ne"
   ]
  },
  {
   "cell_type": "markdown",
   "metadata": {},
   "source": [
    "## Compute Consumption by health status"
   ]
  },
  {
   "cell_type": "code",
   "execution_count": 14,
   "metadata": {},
   "outputs": [
    {
     "data": {
      "text/html": [
       "<div>\n",
       "<style scoped>\n",
       "    .dataframe tbody tr th:only-of-type {\n",
       "        vertical-align: middle;\n",
       "    }\n",
       "\n",
       "    .dataframe tbody tr th {\n",
       "        vertical-align: top;\n",
       "    }\n",
       "\n",
       "    .dataframe thead th {\n",
       "        text-align: right;\n",
       "    }\n",
       "</style>\n",
       "<table border=\"1\" class=\"dataframe\">\n",
       "  <thead>\n",
       "    <tr style=\"text-align: right;\">\n",
       "      <th></th>\n",
       "      <th>conso</th>\n",
       "    </tr>\n",
       "  </thead>\n",
       "  <tbody>\n",
       "    <tr>\n",
       "      <th>bad</th>\n",
       "      <td>1.210032</td>\n",
       "    </tr>\n",
       "    <tr>\n",
       "      <th>good</th>\n",
       "      <td>2.42205</td>\n",
       "    </tr>\n",
       "  </tbody>\n",
       "</table>\n",
       "</div>"
      ],
      "text/plain": [
       "         conso\n",
       "bad   1.210032\n",
       "good   2.42205"
      ]
     },
     "execution_count": 14,
     "metadata": {},
     "output_type": "execute_result"
    }
   ],
   "source": [
    "columns = ['conso']\n",
    "index   = ['bad','good']\n",
    "table_c = pd.DataFrame(index=index,columns=columns)\n",
    "\n",
    "for h in range(nh):\n",
    "    cond = (opts['pus_ge'].h == h)\n",
    "    cb   = opts['pus_ge'].loc[cond,'c'] \n",
    "    sel  = opts['pus_ge'].loc[cond,['ps','c']]\n",
    "    sel  = sel.loc[sel['c'].isna()!=True,:]\n",
    "    sel['ps'] = sel['ps']/sel['ps'].sum()\n",
    "    sel['ce'] = sel['ps']*sel['c']\n",
    "    table_c.loc[index[h],columns[0]] = sel['ce'].sum()\n",
    "\n",
    "table_c"
   ]
  },
  {
   "cell_type": "markdown",
   "metadata": {},
   "source": [
    "## Compute the health expenditures per capita for each $(e,h)$"
   ]
  },
  {
   "cell_type": "code",
   "execution_count": 15,
   "metadata": {},
   "outputs": [
    {
     "data": {
      "text/html": [
       "<div>\n",
       "<style scoped>\n",
       "    .dataframe tbody tr th:only-of-type {\n",
       "        vertical-align: middle;\n",
       "    }\n",
       "\n",
       "    .dataframe tbody tr th {\n",
       "        vertical-align: top;\n",
       "    }\n",
       "\n",
       "    .dataframe thead th {\n",
       "        text-align: right;\n",
       "    }\n",
       "</style>\n",
       "<table border=\"1\" class=\"dataframe\">\n",
       "  <thead>\n",
       "    <tr style=\"text-align: right;\">\n",
       "      <th></th>\n",
       "      <th>0</th>\n",
       "      <th>1</th>\n",
       "      <th>2</th>\n",
       "      <th>3</th>\n",
       "      <th>4</th>\n",
       "      <th>5</th>\n",
       "      <th>6</th>\n",
       "      <th>7</th>\n",
       "      <th>8</th>\n",
       "      <th>9</th>\n",
       "    </tr>\n",
       "  </thead>\n",
       "  <tbody>\n",
       "    <tr>\n",
       "      <th>bad</th>\n",
       "      <td>0.582016</td>\n",
       "      <td>0.82714</td>\n",
       "      <td>1.523436</td>\n",
       "      <td>3.42949</td>\n",
       "      <td>8.501819</td>\n",
       "      <td>15.175792</td>\n",
       "      <td>18.733521</td>\n",
       "      <td>20.895175</td>\n",
       "      <td>23.002474</td>\n",
       "      <td>24.877703</td>\n",
       "    </tr>\n",
       "    <tr>\n",
       "      <th>good</th>\n",
       "      <td>0.0</td>\n",
       "      <td>0.0</td>\n",
       "      <td>0.0</td>\n",
       "      <td>0.0</td>\n",
       "      <td>0.0</td>\n",
       "      <td>0.0</td>\n",
       "      <td>0.0</td>\n",
       "      <td>0.000021</td>\n",
       "      <td>0.007312</td>\n",
       "      <td>0.08525</td>\n",
       "    </tr>\n",
       "  </tbody>\n",
       "</table>\n",
       "</div>"
      ],
      "text/plain": [
       "             0        1         2        3         4          5          6  \\\n",
       "bad   0.582016  0.82714  1.523436  3.42949  8.501819  15.175792  18.733521   \n",
       "good       0.0      0.0       0.0      0.0       0.0        0.0        0.0   \n",
       "\n",
       "              7          8          9  \n",
       "bad   20.895175  23.002474  24.877703  \n",
       "good   0.000021   0.007312    0.08525  "
      ]
     },
     "execution_count": 15,
     "metadata": {},
     "output_type": "execute_result"
    }
   ],
   "source": [
    "columns = ['0','1','2','3','4','5','6','7','8','9']\n",
    "index   = ['bad','good']\n",
    "table_m = pd.DataFrame(index=index,columns=columns)\n",
    "\n",
    "for e in range(ne):\n",
    "    for h in range(nh):\n",
    "        cond = (opts['pus_ge'].e == e) & (opts['pus_ge'].h == h)\n",
    "        mb   = opts['pus_ge'].loc[cond,'m'] \n",
    "        sel  = opts['pus_ge'].loc[cond,['ps','m']]\n",
    "        sel  = sel.loc[sel['m'].isna()!=True,:]\n",
    "        sel['ps'] = sel['ps']/sel['ps'].sum()\n",
    "        sel['me'] = sel['ps']*sel['m']\n",
    "        table_m.loc[index[h],columns[e]] = sel['me'].sum()\n",
    "\n",
    "table_m"
   ]
  },
  {
   "cell_type": "markdown",
   "metadata": {},
   "source": [
    "## Compute the healht expenditures per capita for each $e$"
   ]
  },
  {
   "cell_type": "code",
   "execution_count": 16,
   "metadata": {},
   "outputs": [
    {
     "data": {
      "text/html": [
       "<div>\n",
       "<style scoped>\n",
       "    .dataframe tbody tr th:only-of-type {\n",
       "        vertical-align: middle;\n",
       "    }\n",
       "\n",
       "    .dataframe tbody tr th {\n",
       "        vertical-align: top;\n",
       "    }\n",
       "\n",
       "    .dataframe thead th {\n",
       "        text-align: right;\n",
       "    }\n",
       "</style>\n",
       "<table border=\"1\" class=\"dataframe\">\n",
       "  <thead>\n",
       "    <tr style=\"text-align: right;\">\n",
       "      <th></th>\n",
       "      <th>0</th>\n",
       "      <th>1</th>\n",
       "      <th>2</th>\n",
       "      <th>3</th>\n",
       "      <th>4</th>\n",
       "      <th>5</th>\n",
       "      <th>6</th>\n",
       "      <th>7</th>\n",
       "      <th>8</th>\n",
       "      <th>9</th>\n",
       "    </tr>\n",
       "  </thead>\n",
       "  <tbody>\n",
       "    <tr>\n",
       "      <th>all</th>\n",
       "      <td>0.183721</td>\n",
       "      <td>0.224896</td>\n",
       "      <td>0.318919</td>\n",
       "      <td>0.481516</td>\n",
       "      <td>0.678183</td>\n",
       "      <td>0.690508</td>\n",
       "      <td>0.651866</td>\n",
       "      <td>0.673549</td>\n",
       "      <td>0.723784</td>\n",
       "      <td>0.838569</td>\n",
       "    </tr>\n",
       "  </tbody>\n",
       "</table>\n",
       "</div>"
      ],
      "text/plain": [
       "            0         1         2         3         4         5         6  \\\n",
       "all  0.183721  0.224896  0.318919  0.481516  0.678183  0.690508  0.651866   \n",
       "\n",
       "            7         8         9  \n",
       "all  0.673549  0.723784  0.838569  "
      ]
     },
     "execution_count": 16,
     "metadata": {},
     "output_type": "execute_result"
    }
   ],
   "source": [
    "indexa   = ['all']\n",
    "table_ma = pd.DataFrame(index=indexa,columns=columns)\n",
    "\n",
    "for e in range(ne):\n",
    "    cond = (opts['pus_ge'].e == e)\n",
    "    sel  = opts['pus_ge'].loc[cond,['ps','m']]\n",
    "    sel  = sel.loc[sel['m'].isna()!=True,:]\n",
    "    sel['ps'] = sel['ps']/sel['ps'].sum()\n",
    "    sel['me'] = sel['ps']*sel['m']\n",
    "    table_ma.loc['all',columns[e]] = sel['me'].sum()\n",
    "\n",
    "table_ma"
   ]
  },
  {
   "cell_type": "markdown",
   "metadata": {},
   "source": [
    "## Compute the earning distribution"
   ]
  },
  {
   "cell_type": "code",
   "execution_count": 17,
   "metadata": {},
   "outputs": [
    {
     "data": {
      "text/html": [
       "<div>\n",
       "<style scoped>\n",
       "    .dataframe tbody tr th:only-of-type {\n",
       "        vertical-align: middle;\n",
       "    }\n",
       "\n",
       "    .dataframe tbody tr th {\n",
       "        vertical-align: top;\n",
       "    }\n",
       "\n",
       "    .dataframe thead th {\n",
       "        text-align: right;\n",
       "    }\n",
       "</style>\n",
       "<table border=\"1\" class=\"dataframe\">\n",
       "  <thead>\n",
       "    <tr style=\"text-align: right;\">\n",
       "      <th></th>\n",
       "      <th>0</th>\n",
       "      <th>1</th>\n",
       "      <th>2</th>\n",
       "      <th>3</th>\n",
       "      <th>4</th>\n",
       "      <th>5</th>\n",
       "      <th>6</th>\n",
       "      <th>7</th>\n",
       "      <th>8</th>\n",
       "      <th>9</th>\n",
       "    </tr>\n",
       "  </thead>\n",
       "  <tbody>\n",
       "    <tr>\n",
       "      <th>all</th>\n",
       "      <td>0.01888</td>\n",
       "      <td>0.047328</td>\n",
       "      <td>0.09461</td>\n",
       "      <td>0.15011</td>\n",
       "      <td>0.189071</td>\n",
       "      <td>0.189071</td>\n",
       "      <td>0.15011</td>\n",
       "      <td>0.09461</td>\n",
       "      <td>0.047328</td>\n",
       "      <td>0.01888</td>\n",
       "    </tr>\n",
       "  </tbody>\n",
       "</table>\n",
       "</div>"
      ],
      "text/plain": [
       "           0         1        2        3         4         5        6  \\\n",
       "all  0.01888  0.047328  0.09461  0.15011  0.189071  0.189071  0.15011   \n",
       "\n",
       "           7         8        9  \n",
       "all  0.09461  0.047328  0.01888  "
      ]
     },
     "execution_count": 17,
     "metadata": {},
     "output_type": "execute_result"
    }
   ],
   "source": [
    "# Find the medium earning\n",
    "table_ms = pd.DataFrame(index=indexa,columns=columns)\n",
    "\n",
    "for e in range(ne):\n",
    "    cond = (opts['pus_ge'].e == e)\n",
    "    mb   = opts['pus_ge'].loc[cond,'m'] \n",
    "    sel  = opts['pus_ge'].loc[cond,['ps','m']]\n",
    "    sel  = sel.loc[sel['m'].isna()!=True,:]\n",
    "    sel['me'] = sel['ps'].sum()\n",
    "    table_ms.loc['all',columns[e]] = sel['me'].sum()\n",
    "\n",
    "table_ms = table_ms/table_ms.loc['all',:].sum()\n",
    "table_ms"
   ]
  },
  {
   "cell_type": "code",
   "execution_count": 18,
   "metadata": {},
   "outputs": [
    {
     "data": {
      "text/plain": [
       "0.4999999999999998"
      ]
     },
     "execution_count": 18,
     "metadata": {},
     "output_type": "execute_result"
    }
   ],
   "source": [
    "table_ms.loc['all',columns[0:5]].sum()"
   ]
  },
  {
   "cell_type": "code",
   "execution_count": 19,
   "metadata": {},
   "outputs": [
    {
     "data": {
      "image/png": "[encoded data removed]",
      "text/plain": [
       "<Figure size 432x288 with 1 Axes>"
      ]
     },
     "metadata": {
      "needs_background": "light"
     },
     "output_type": "display_data"
    }
   ],
   "source": [
    "# Health expenditure relative to health expenditures of the median earning worker\n",
    "plt.bar(columns,table_ma.loc['all',:]/table_ma.loc['all',columns[5]])\n",
    "plt.show()"
   ]
  },
  {
   "cell_type": "markdown",
   "metadata": {},
   "source": [
    "## Data from MEPS"
   ]
  },
  {
   "cell_type": "code",
   "execution_count": 20,
   "metadata": {},
   "outputs": [],
   "source": [
    "# Data from gradient.do\n",
    "meamD  = np.array([-21.19856, -41.96368, -28.5981, -16.67655, 0, 19.98636, 33.52531, 37.99886, 47.27721, 48.47044])\n",
    "stdD   = np.array([  5.045355, 3.378933, 2.664207, 2.321089,  0, 2.045838, 2.109012, 2.422832, 3.112756, 4.966065])\n",
    "meamDS = np.array([-4.125244, -17.44024, -14.93441, -14.83106,0, 5.394649, 13.47662, 19.73705, 24.00138, 17.45952])\n",
    "stdDS  = np.array([  7.54685,  4.536454, 4.536454, 3.054224,  0, 2.794403, 2.877877, 3.262431, 4.263996, 6.757589])\n",
    "# Model\n",
    "meamM = 100*(table_ma.loc['all',:]/table_ma.loc['all',columns[5]] - 1)"
   ]
  },
  {
   "cell_type": "code",
   "execution_count": 21,
   "metadata": {},
   "outputs": [
    {
     "data": {
      "image/png": "[encoded data removed]",
      "text/plain": [
       "<Figure size 432x288 with 1 Axes>"
      ]
     },
     "metadata": {
      "needs_background": "light"
     },
     "output_type": "display_data"
    }
   ],
   "source": [
    "ci = 1.96*stdD\n",
    "\n",
    "fig, ax = plt.subplots()\n",
    "ax.plot(columns,meamD,'-o',color='b',label='Data')\n",
    "ax.fill_between(columns, (meamD-ci), (meamD+ci), color='grey', alpha=.25)\n",
    "ax.plot(columns,meamM,'-D',color='k',label='Model')\n",
    "plt.xlabel('Residual income group (e)')\n",
    "plt.ylabel('% deviation in health expenditures')\n",
    "plt.legend()\n",
    "#plt.savefig('/Users/flangot/Dropbox/agghealth/figures_JPE/health_exp_income_all.eps', bbox_inches='tight',dpi=600) \n",
    "plt.show()"
   ]
  },
  {
   "cell_type": "code",
   "execution_count": null,
   "metadata": {},
   "outputs": [],
   "source": []
  }
 ],
 "metadata": {
  "kernelspec": {
   "display_name": "Python 3",
   "language": "python",
   "name": "python3"
  },
  "language_info": {
   "codemirror_mode": {
    "name": "ipython",
    "version": 3
   },
   "file_extension": ".py",
   "mimetype": "text/x-python",
   "name": "python",
   "nbconvert_exporter": "python",
   "pygments_lexer": "ipython3",
   "version": "3.7.4"
  }
 },
 "nbformat": 4,
 "nbformat_minor": 4
}

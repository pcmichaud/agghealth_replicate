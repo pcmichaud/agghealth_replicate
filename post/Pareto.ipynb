{
 "cells": [
  {
   "cell_type": "code",
   "execution_count": 16,
   "id": "ab88e845",
   "metadata": {},
   "outputs": [],
   "source": [
    "import numpy as np \n",
    "from matplotlib import pyplot as plt"
   ]
  },
  {
   "cell_type": "code",
   "execution_count": 17,
   "id": "7ad8393e",
   "metadata": {},
   "outputs": [],
   "source": [
    "def pareto(m,alpha_0,alpha_1):\n",
    "    if m>alpha_1:\n",
    "        return 1 - (alpha_1/m)**alpha_0\n",
    "    else :\n",
    "        return 0"
   ]
  },
  {
   "cell_type": "code",
   "execution_count": 18,
   "id": "e4cc58d8",
   "metadata": {},
   "outputs": [],
   "source": [
    "def expo(m,alpha_0,alpha_1):\n",
    "    return 1 - np.exp(-(alpha_1+alpha_0*m))"
   ]
  },
  {
   "cell_type": "code",
   "execution_count": 19,
   "id": "9bbcc2ad",
   "metadata": {},
   "outputs": [],
   "source": [
    "ms = np.linspace(0,100,1000)"
   ]
  },
  {
   "cell_type": "code",
   "execution_count": 20,
   "id": "c0350537",
   "metadata": {},
   "outputs": [
    {
     "data": {
      "image/png": "[encoded data removed]",
      "text/plain": [
       "<Figure size 432x288 with 1 Axes>"
      ]
     },
     "metadata": {
      "needs_background": "light"
     },
     "output_type": "display_data"
    }
   ],
   "source": [
    "plt.figure()\n",
    "plt.plot(ms,[pareto(m,0.5,0.5) for m in ms])\n",
    "plt.plot(ms,[expo(m,0.1,0.5) for m in ms])\n",
    "plt.show()"
   ]
  },
  {
   "cell_type": "code",
   "execution_count": null,
   "id": "960e201a",
   "metadata": {},
   "outputs": [],
   "source": []
  },
  {
   "cell_type": "code",
   "execution_count": null,
   "id": "8dad694f",
   "metadata": {},
   "outputs": [],
   "source": []
  }
 ],
 "metadata": {
  "kernelspec": {
   "display_name": "Python 3 (ipykernel)",
   "language": "python",
   "name": "python3"
  },
  "language_info": {
   "codemirror_mode": {
    "name": "ipython",
    "version": 3
   },
   "file_extension": ".py",
   "mimetype": "text/x-python",
   "name": "python",
   "nbconvert_exporter": "python",
   "pygments_lexer": "ipython3",
   "version": "3.8.12"
  }
 },
 "nbformat": 4,
 "nbformat_minor": 5
}

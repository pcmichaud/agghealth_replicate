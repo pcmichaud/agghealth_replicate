{
 "cells": [
  {
   "cell_type": "markdown",
   "metadata": {},
   "source": [
    "# Elasticties of the US economy\n",
    "## RAND experiment\n",
    "## Income elasticity"
   ]
  },
  {
   "cell_type": "code",
   "execution_count": 1,
   "metadata": {},
   "outputs": [],
   "source": [
    "from matplotlib import pyplot as plt\n",
    "import numpy as np\n",
    "from scipy import stats \n",
    "from importlib import reload\n",
    "import pandas as pd\n",
    "from itertools import product"
   ]
  },
  {
   "cell_type": "code",
   "execution_count": 3,
   "metadata": {},
   "outputs": [
    {
     "data": {
      "text/plain": [
       "<module 'tools.distributions' from '/Users/flangot/Dropbox/agghealth/notebooks/tools/distributions.py'>"
      ]
     },
     "execution_count": 3,
     "metadata": {},
     "output_type": "execute_result"
    }
   ],
   "source": [
    "from tools import micro\n",
    "from tools import macro\n",
    "from tools import params\n",
    "from tools import distributions as dist\n",
    "reload(micro)\n",
    "reload(macro)\n",
    "reload(params)\n",
    "reload(dist)"
   ]
  },
  {
   "cell_type": "markdown",
   "metadata": {},
   "source": [
    "## Load parmaters"
   ]
  },
  {
   "cell_type": "code",
   "execution_count": 4,
   "metadata": {},
   "outputs": [
    {
     "data": {
      "text/html": [
       "<div>\n",
       "<style scoped>\n",
       "    .dataframe tbody tr th:only-of-type {\n",
       "        vertical-align: middle;\n",
       "    }\n",
       "\n",
       "    .dataframe tbody tr th {\n",
       "        vertical-align: top;\n",
       "    }\n",
       "\n",
       "    .dataframe thead th {\n",
       "        text-align: right;\n",
       "    }\n",
       "</style>\n",
       "<table border=\"1\" class=\"dataframe\">\n",
       "  <thead>\n",
       "    <tr style=\"text-align: right;\">\n",
       "      <th></th>\n",
       "      <th>de</th>\n",
       "      <th>dk</th>\n",
       "      <th>fr</th>\n",
       "      <th>it</th>\n",
       "      <th>nl</th>\n",
       "      <th>se</th>\n",
       "      <th>sp</th>\n",
       "      <th>us</th>\n",
       "    </tr>\n",
       "  </thead>\n",
       "  <tbody>\n",
       "    <tr>\n",
       "      <th>beta</th>\n",
       "      <td>0.970000</td>\n",
       "      <td>0.970000</td>\n",
       "      <td>0.970000</td>\n",
       "      <td>0.970000</td>\n",
       "      <td>0.970000</td>\n",
       "      <td>0.970000</td>\n",
       "      <td>0.970000</td>\n",
       "      <td>0.970000</td>\n",
       "    </tr>\n",
       "    <tr>\n",
       "      <th>psi</th>\n",
       "      <td>0.161578</td>\n",
       "      <td>0.161578</td>\n",
       "      <td>0.161578</td>\n",
       "      <td>0.161578</td>\n",
       "      <td>0.161578</td>\n",
       "      <td>0.161578</td>\n",
       "      <td>0.161578</td>\n",
       "      <td>0.161578</td>\n",
       "    </tr>\n",
       "    <tr>\n",
       "      <th>sigma</th>\n",
       "      <td>2.105317</td>\n",
       "      <td>2.105317</td>\n",
       "      <td>2.105317</td>\n",
       "      <td>2.105317</td>\n",
       "      <td>2.105317</td>\n",
       "      <td>2.105317</td>\n",
       "      <td>2.105317</td>\n",
       "      <td>2.105317</td>\n",
       "    </tr>\n",
       "    <tr>\n",
       "      <th>phi</th>\n",
       "      <td>0.397405</td>\n",
       "      <td>0.397405</td>\n",
       "      <td>0.397405</td>\n",
       "      <td>0.397405</td>\n",
       "      <td>0.397405</td>\n",
       "      <td>0.397405</td>\n",
       "      <td>0.397405</td>\n",
       "      <td>0.397405</td>\n",
       "    </tr>\n",
       "    <tr>\n",
       "      <th>d1</th>\n",
       "      <td>-1.282523</td>\n",
       "      <td>-1.602088</td>\n",
       "      <td>-1.099845</td>\n",
       "      <td>-0.831846</td>\n",
       "      <td>-1.390736</td>\n",
       "      <td>-1.394792</td>\n",
       "      <td>0.002353</td>\n",
       "      <td>-0.988958</td>\n",
       "    </tr>\n",
       "    <tr>\n",
       "      <th>d2</th>\n",
       "      <td>4.029535</td>\n",
       "      <td>4.273080</td>\n",
       "      <td>3.786290</td>\n",
       "      <td>3.917407</td>\n",
       "      <td>3.992196</td>\n",
       "      <td>4.310991</td>\n",
       "      <td>3.434494</td>\n",
       "      <td>3.511651</td>\n",
       "    </tr>\n",
       "    <tr>\n",
       "      <th>p</th>\n",
       "      <td>0.836301</td>\n",
       "      <td>0.888409</td>\n",
       "      <td>0.604059</td>\n",
       "      <td>0.695076</td>\n",
       "      <td>0.657280</td>\n",
       "      <td>0.891689</td>\n",
       "      <td>0.642584</td>\n",
       "      <td>1.000000</td>\n",
       "    </tr>\n",
       "    <tr>\n",
       "      <th>tfp</th>\n",
       "      <td>1.011023</td>\n",
       "      <td>1.260592</td>\n",
       "      <td>0.922111</td>\n",
       "      <td>0.613212</td>\n",
       "      <td>0.989482</td>\n",
       "      <td>0.795415</td>\n",
       "      <td>0.795095</td>\n",
       "      <td>1.000000</td>\n",
       "    </tr>\n",
       "  </tbody>\n",
       "</table>\n",
       "</div>"
      ],
      "text/plain": [
       "             de        dk        fr        it        nl        se        sp  \\\n",
       "beta   0.970000  0.970000  0.970000  0.970000  0.970000  0.970000  0.970000   \n",
       "psi    0.161578  0.161578  0.161578  0.161578  0.161578  0.161578  0.161578   \n",
       "sigma  2.105317  2.105317  2.105317  2.105317  2.105317  2.105317  2.105317   \n",
       "phi    0.397405  0.397405  0.397405  0.397405  0.397405  0.397405  0.397405   \n",
       "d1    -1.282523 -1.602088 -1.099845 -0.831846 -1.390736 -1.394792  0.002353   \n",
       "d2     4.029535  4.273080  3.786290  3.917407  3.992196  4.310991  3.434494   \n",
       "p      0.836301  0.888409  0.604059  0.695076  0.657280  0.891689  0.642584   \n",
       "tfp    1.011023  1.260592  0.922111  0.613212  0.989482  0.795415  0.795095   \n",
       "\n",
       "             us  \n",
       "beta   0.970000  \n",
       "psi    0.161578  \n",
       "sigma  2.105317  \n",
       "phi    0.397405  \n",
       "d1    -0.988958  \n",
       "d2     3.511651  \n",
       "p      1.000000  \n",
       "tfp    1.000000  "
      ]
     },
     "execution_count": 4,
     "metadata": {},
     "output_type": "execute_result"
    }
   ],
   "source": [
    "p_com   = ['beta','psi','sigma','phi']\n",
    "p_name  = ['d1','d2','p','tfp']\n",
    "# loading results from estimation\n",
    "pars = pd.read_pickle('../output_JPE/pars.pkl')\n",
    "pars"
   ]
  },
  {
   "cell_type": "markdown",
   "metadata": {},
   "source": [
    "## Benchmark simulation for GE"
   ]
  },
  {
   "cell_type": "code",
   "execution_count": 5,
   "metadata": {},
   "outputs": [
    {
     "name": "stdout",
     "output_type": "stream",
     "text": [
      "solved bellman equation (iter, diff cons, diff medexp)  250 0.015172647806789286 0.040704348040279115\n",
      "grid for k (nk, maxk)  30 190.0\n",
      "stationary distribution converged in  879  iterations \n",
      "grid for k (nk maxk) 100 190.0\n",
      "solved bellman equation (iter, diff cons, diff medexp)  159 0.0003945553153510417 0.0007746327012334575\n",
      "grid for k (nk, maxk)  30 190.0\n",
      "stationary distribution converged in  265  iterations \n",
      "grid for k (nk maxk) 100 190.0\n",
      "rate =  0.0005 demand =  37.31615558961363 supply =  18.665607810617228  tax =  0.20209548699654836\n",
      "solved bellman equation (iter, diff cons, diff medexp)  250 0.027999973019442903 13.715623320314327\n",
      "grid for k (nk, maxk)  30 190.0\n",
      "stationary distribution converged in  1824  iterations \n",
      "grid for k (nk maxk) 100 190.0\n",
      "rate =  0.025927835051546503 demand =  18.988219712656775 supply =  144.31644508828728  tax =  0.20209548699654836\n",
      "solved bellman equation (iter, diff cons, diff medexp)  150 0.0006539976939476944 0.0009981286035090076\n",
      "grid for k (nk, maxk)  30 190.0\n",
      "stationary distribution converged in  282  iterations \n",
      "grid for k (nk maxk) 100 190.0\n",
      "rate =  0.0037938400720777857 demand =  33.59414636081775 supply =  21.07699072189945  tax =  0.20209548699654836\n",
      "solved bellman equation (iter, diff cons, diff medexp)  250 0.05953303613164429 12.5114627638945\n",
      "grid for k (nk, maxk)  30 190.0\n",
      "stationary distribution converged in  268  iterations \n",
      "grid for k (nk maxk) 100 190.0\n",
      "rate =  0.009905569238712502 demand =  28.099821085907564 supply =  29.312529937527394  tax =  0.20209548699654836\n",
      "solved bellman equation (iter, diff cons, diff medexp)  35 0.00025440615482086315 0.0008536082298853387\n",
      "grid for k (nk, maxk)  30 190.0\n",
      "stationary distribution converged in  145  iterations \n",
      "grid for k (nk maxk) 100 190.0\n",
      "rate =  0.009365742493576834 demand =  28.52467154836717 supply =  28.48116565187152  tax =  0.20209548699654836\n",
      "solved bellman equation (iter, diff cons, diff medexp)  8 0.00015533353096008895 0.000735158704712191\n",
      "grid for k (nk, maxk)  30 190.0\n",
      "stationary distribution converged in  51  iterations \n",
      "grid for k (nk maxk) 100 190.0\n",
      "rate =  0.009415742493576839 demand =  28.484885930285675 supply =  28.432935934753676  tax =  0.20209548699654836\n",
      "solved bellman equation (iter, diff cons, diff medexp)  24 0.00017502057180696085 0.0009485791780914354\n",
      "grid for k (nk, maxk)  30 190.0\n",
      "stationary distribution converged in  94  iterations \n",
      "grid for k (nk maxk) 100 190.0\n",
      "rate =  0.00966065586614467 demand =  28.291294661955764 supply =  28.65882455826977  tax =  0.20209548699654836\n",
      "solved bellman equation (iter, diff cons, diff medexp)  17 0.00016173449852674437 0.000909726139225242\n",
      "grid for k (nk, maxk)  30 190.0\n",
      "stationary distribution converged in  82  iterations \n",
      "grid for k (nk maxk) 100 190.0\n",
      "rate =  0.009465742493576844 demand =  28.445189927026817 supply =  28.44928924837309  tax =  0.20209548699654836\n"
     ]
    }
   ],
   "source": [
    "countries = ['us']\n",
    "outcomes = ['m','y','c','k','n','s','csy','ksy','h','g2','g3','g4',\n",
    "            'tgood','tbad','r','w','tax','oop']\n",
    "results = pd.DataFrame(index=outcomes,columns=countries)\n",
    "ne = 10\n",
    "nk = 100\n",
    "nkd = 30\n",
    "size = 2* ne * nk\n",
    "for co in countries: \n",
    "    opt = pd.DataFrame(index=np.arange(0,size),columns=['e','h','k','ps',\n",
    "                                                        'c','m','kp','v'])\n",
    "    p = pars.loc[:,co]\n",
    "    theta = params.flexpars(sigma=p['sigma'],beta=p['beta'],\n",
    "                            phi=p['phi'],psi=p['psi'],\n",
    "                            delta_h1=p['d1'],delta_h2=p['d2'],eta=0.0,\n",
    "                            tfp=p['tfp'],price=p['p'])\n",
    "    # option for the numerical solution\n",
    "    m  = 2.5\n",
    "    op = params.settings(ne=ne,nk=nkd,maxk=190.0,curv=0.5,nprocs=40)\n",
    "    inc = params.incprocess(country=co)\n",
    "    inc.tauchen(ne=ne,m=m)\n",
    "    aux = params.auxpars(country=co)  \n",
    "    #Decision rules\n",
    "    csumers = micro.bellman(options=op,flex=theta,aux=aux,inc=inc,rent=5.6e-2)\n",
    "    csumers.compute_cash()\n",
    "    csumers.itervalue()\n",
    "    # distribution\n",
    "    stats = dist.stationary(dp=csumers,nk=nk)\n",
    "    stats.blowup()\n",
    "    stats.compute()\n",
    "    # general equilibrium\n",
    "    eq = macro.equilibrium(stats=stats,taxes=False,rent=True)\n",
    "    eq.solve()\n",
    "    aggs = eq.aggregates()\n",
    "    hlth = eq.healthreport()\n",
    "    # saving aggregate outcomes\n",
    "    results.loc['m',co]     = aggs.M\n",
    "    results.loc['y',co]     = aggs.Y\n",
    "    results.loc['c',co]     = aggs.C\n",
    "    results.loc['k',co]     = aggs.K\n",
    "    results.loc['n',co]     = aggs.N\n",
    "    results.loc['s',co]     = p['p']*aggs.M/aggs.Y\n",
    "    results.loc['csy',co]   = (aggs.C+p['p']*aggs.M)/aggs.Y\n",
    "    results.loc['ksy',co]   = aggs.K/aggs.Y\n",
    "    results.loc['h',co]     = hlth.pH\n",
    "    results.loc['g2',co]    = hlth.gradient[0]\n",
    "    results.loc['g3',co]    = hlth.gradient[1]\n",
    "    results.loc['g4',co]    = hlth.gradient[2]\n",
    "    results.loc['tgood',co] = hlth.pTransGood\n",
    "    results.loc['tbad',co]  = hlth.pTransBad\n",
    "    results.loc['r',co]     = eq.rent\n",
    "    results.loc['w',co]     = eq.wage\n",
    "    results.loc['tax',co]   = eq.tax\n",
    "    results.loc['oop',co]   = m*p['p']*aux.copay\n",
    "    # saving decision rules\n",
    "    opt.loc[:,'ps'] = eq.stats.probs\n",
    "    for i,s in enumerate(stats.states):\n",
    "        e,h,k = s\n",
    "        opt.loc[i,['e','h','k']] = [e,h,k]  \n",
    "        opt.loc[i,'c'] = eq.stats.optc[e,h,k]\n",
    "        opt.loc[i,'m'] = eq.stats.optm[e,h,k]\n",
    "        opt.loc[i,'kp'] = eq.stats.optk[e,h,k]\n",
    "        opt.loc[i,'v'] = eq.stats.value[e,h,k]"
   ]
  },
  {
   "cell_type": "code",
   "execution_count": 6,
   "metadata": {},
   "outputs": [
    {
     "data": {
      "text/plain": [
       "0.14319574867248594"
      ]
     },
     "execution_count": 6,
     "metadata": {},
     "output_type": "execute_result"
    }
   ],
   "source": [
    "results.loc['s','us']"
   ]
  },
  {
   "cell_type": "code",
   "execution_count": 7,
   "metadata": {},
   "outputs": [],
   "source": [
    "# loading results from estimation\n",
    "momsim = pd.read_pickle('../output_JPE/momsim.pkl')\n",
    "emom_us = momsim.loc[:,'us']"
   ]
  },
  {
   "cell_type": "markdown",
   "metadata": {},
   "source": [
    "## Computation of the utility to be in good health"
   ]
  },
  {
   "cell_type": "code",
   "execution_count": 8,
   "metadata": {},
   "outputs": [],
   "source": [
    "def means(df,var,by):\n",
    "    return df.groupby(by).apply(lambda x: (x[var] * x['ps']).sum() / x['ps'].sum())"
   ]
  },
  {
   "cell_type": "code",
   "execution_count": 9,
   "metadata": {},
   "outputs": [
    {
     "data": {
      "text/plain": [
       "h\n",
       "0    1.185585\n",
       "1    2.463233\n",
       "dtype: float64"
      ]
     },
     "execution_count": 9,
     "metadata": {},
     "output_type": "execute_result"
    }
   ],
   "source": [
    "means(opt,'c','h')"
   ]
  },
  {
   "cell_type": "code",
   "execution_count": 10,
   "metadata": {},
   "outputs": [
    {
     "data": {
      "text/plain": [
       "1.185585302091489"
      ]
     },
     "execution_count": 10,
     "metadata": {},
     "output_type": "execute_result"
    }
   ],
   "source": [
    "css = means(opt,'c','h')\n",
    "css[0]"
   ]
  },
  {
   "cell_type": "code",
   "execution_count": 11,
   "metadata": {},
   "outputs": [
    {
     "data": {
      "text/plain": [
       "h\n",
       "0    5.920218\n",
       "1    0.001142\n",
       "dtype: float64"
      ]
     },
     "execution_count": 11,
     "metadata": {},
     "output_type": "execute_result"
    }
   ],
   "source": [
    "means(opt,'m','h')"
   ]
  },
  {
   "cell_type": "code",
   "execution_count": 12,
   "metadata": {},
   "outputs": [
    {
     "data": {
      "text/plain": [
       "0.8958060798881737"
      ]
     },
     "execution_count": 12,
     "metadata": {},
     "output_type": "execute_result"
    }
   ],
   "source": [
    "results.loc['h','us']"
   ]
  },
  {
   "cell_type": "markdown",
   "metadata": {},
   "source": [
    "### The value in consumption\n",
    "$$ \n",
    "\\frac{(c_g(1-\\Delta))^{1-\\sigma}}{1-\\sigma} + \\phi h = \\frac{(c_b)^{1-\\sigma}}{1-\\sigma}\n",
    "$$\n",
    "$$\n",
    "\\Rightarrow \\Delta = 1-\\frac{\\left((c_b)^{1-\\sigma} - (1-\\sigma)\\phi h \\right)^{\\frac{1}{1-\\sigma}}}{c_g}\n",
    "$$\n",
    "To obtain $c_g$ and $c_b$, we use\n",
    "$$\n",
    "c_g = \\sum_a\\sum_e c_g(a,h=1,e)\\lambda(a,h=1,e),~~\n",
    "c_b = \\sum_a\\sum_e c_g(a,h=0,e)\\lambda(a,h=0,e)\n",
    "$$\n",
    "$h$ is the share of individual in good health at the steady state"
   ]
  },
  {
   "cell_type": "code",
   "execution_count": 13,
   "metadata": {},
   "outputs": [
    {
     "data": {
      "text/plain": [
       "0.6613665396600829"
      ]
     },
     "execution_count": 13,
     "metadata": {},
     "output_type": "execute_result"
    }
   ],
   "source": [
    "ZZ1 = css[0]**(1-pars.loc['sigma','us']) \n",
    "ZZ2 = (1-pars.loc['sigma','us'])*pars.loc['phi','us']*results.loc['h','us']\n",
    "ZZ3 = (ZZ1-ZZ2)**(1/(1-pars.loc['sigma','us']))\n",
    "Delta = 1-ZZ3/css[1] \n",
    "Delta           "
   ]
  },
  {
   "cell_type": "code",
   "execution_count": 14,
   "metadata": {},
   "outputs": [
    {
     "data": {
      "text/plain": [
       "2.3301099723173695"
      ]
     },
     "execution_count": 14,
     "metadata": {},
     "output_type": "execute_result"
    }
   ],
   "source": [
    "results.loc['c',co]"
   ]
  },
  {
   "cell_type": "code",
   "execution_count": 15,
   "metadata": {},
   "outputs": [
    {
     "data": {
      "text/plain": [
       "2.3301099723174774"
      ]
     },
     "execution_count": 15,
     "metadata": {},
     "output_type": "execute_result"
    }
   ],
   "source": [
    "results.loc['h','us']*css[1]+(1-results.loc['h','us'])*css[0]"
   ]
  },
  {
   "cell_type": "code",
   "execution_count": 16,
   "metadata": {
    "scrolled": true
   },
   "outputs": [
    {
     "data": {
      "text/plain": [
       "0.625623602571032"
      ]
     },
     "execution_count": 16,
     "metadata": {},
     "output_type": "execute_result"
    }
   ],
   "source": [
    "Delta*results.loc['c',co]/css[1]"
   ]
  },
  {
   "cell_type": "code",
   "execution_count": 17,
   "metadata": {},
   "outputs": [
    {
     "data": {
      "text/plain": [
       "0.8958060798881737"
      ]
     },
     "execution_count": 17,
     "metadata": {},
     "output_type": "execute_result"
    }
   ],
   "source": [
    "results.loc['h','us']"
   ]
  },
  {
   "cell_type": "code",
   "execution_count": 18,
   "metadata": {},
   "outputs": [
    {
     "data": {
      "text/plain": [
       "0.25652820400163157"
      ]
     },
     "execution_count": 18,
     "metadata": {},
     "output_type": "execute_result"
    }
   ],
   "source": [
    "results.loc['tbad','us']"
   ]
  },
  {
   "cell_type": "markdown",
   "metadata": {},
   "source": [
    "## Partial Equilibrium"
   ]
  },
  {
   "cell_type": "code",
   "execution_count": 19,
   "metadata": {},
   "outputs": [
    {
     "name": "stdout",
     "output_type": "stream",
     "text": [
      "solved bellman equation (iter, diff cons, diff medexp)  192 0.00017163525620578213 0.000956654480742003\n",
      "grid for k (nk, maxk)  30 190.0\n",
      "stationary distribution converged in  335  iterations \n",
      "grid for k (nk maxk) 100 190.0\n",
      "solved bellman equation (iter, diff cons, diff medexp)  1 0.00016418265528272968 0.0009947581256319893\n",
      "grid for k (nk, maxk)  30 190.0\n",
      "stationary distribution converged in  1  iterations \n",
      "grid for k (nk maxk) 100 190.0\n"
     ]
    }
   ],
   "source": [
    "# To check that the PE gives the same results than GE when intial guess for r is the solution of GE \n",
    "results0 = pd.DataFrame(index=outcomes,columns=countries)\n",
    "for co in countries: \n",
    "    opt0 = pd.DataFrame(index=np.arange(0,size),columns=['e','h','k','ps',\n",
    "                                                         'c','m','kp','v'])\n",
    "    p = pars.loc[:,co]\n",
    "    theta = params.flexpars(sigma=p['sigma'],beta=p['beta'],\n",
    "                            phi=p['phi'],psi=p['psi'],\n",
    "                            delta_h1=p['d1'],delta_h2=p['d2'],eta=0.0,\n",
    "                            tfp=p['tfp'],price=p['p'])\n",
    "    # option for the numerical solution\n",
    "    m  = 2.5\n",
    "    op = params.settings(ne=ne,nk=nkd,maxk=190.0,curv=0.5,nprocs=40)\n",
    "    inc = params.incprocess(country=co)\n",
    "    inc.tauchen(ne=ne,m=m)\n",
    "    aux = params.auxpars(country=co)  \n",
    "    #Decision rules\n",
    "    csumers = micro.bellman(options=op,flex=theta,aux=aux,inc=inc,rent=results.loc['r','us'],\n",
    "                                                                  taxrate=results.loc['tax','us'],\n",
    "                                                                  wage=results.loc['w','us'])\n",
    "    csumers.compute_cash()\n",
    "    csumers.itervalue()\n",
    "    # distribution\n",
    "    stats = dist.stationary(dp=csumers,nk=nk)\n",
    "    stats0 = stats\n",
    "    stats.blowup()\n",
    "    stats.compute()\n",
    "    # general equilibrium\n",
    "    eq = macro.equilibrium(stats=stats,inirent=results.loc['r','us'],taxes=False,rent=False)\n",
    "    eq.solve()\n",
    "    aggs = eq.aggregates()\n",
    "    hlth = eq.healthreport()\n",
    "    # saving aggregate outcomes\n",
    "    results0.loc['m',co]     = aggs.M\n",
    "    results0.loc['y',co]     = aggs.Y\n",
    "    results0.loc['c',co]     = aggs.C\n",
    "    results0.loc['k',co]     = aggs.K\n",
    "    results0.loc['n',co]     = aggs.N\n",
    "    results0.loc['s',co]     = p['p']*aggs.M/aggs.Y\n",
    "    results0.loc['csy',co]   = (aggs.C+aggs.M)/aggs.Y\n",
    "    results0.loc['ksy',co]   = aggs.K/aggs.Y\n",
    "    results0.loc['h',co]     = hlth.pH\n",
    "    results0.loc['g2',co]    = hlth.gradient[0]\n",
    "    results0.loc['g3',co]    = hlth.gradient[1]\n",
    "    results0.loc['g4',co]    = hlth.gradient[2]\n",
    "    results0.loc['tgood',co] = hlth.pTransGood\n",
    "    results0.loc['tbad',co]  = hlth.pTransBad\n",
    "    results0.loc['r',co]     = eq.rent\n",
    "    results0.loc['w',co]     = eq.wage\n",
    "    results0.loc['tax',co]   = eq.tax\n",
    "    results0.loc['oop',co]   = m*p['p']*aux.copay\n",
    "    # saving decision rules\n",
    "    opt0.loc[:,'ps'] = eq.stats.probs\n",
    "    for i,s in enumerate(stats.states):\n",
    "        e,h,k = s\n",
    "        opt0.loc[i,['e','h','k']] = [e,h,k]  \n",
    "        opt0.loc[i,'c'] = eq.stats.optc[e,h,k]\n",
    "        opt0.loc[i,'m'] = eq.stats.optm[e,h,k]\n",
    "        opt0.loc[i,'kp'] = eq.stats.optk[e,h,k]\n",
    "        opt0.loc[i,'v'] = eq.stats.value[e,h,k]"
   ]
  },
  {
   "cell_type": "code",
   "execution_count": 20,
   "metadata": {},
   "outputs": [
    {
     "data": {
      "text/html": [
       "<div>\n",
       "<style scoped>\n",
       "    .dataframe tbody tr th:only-of-type {\n",
       "        vertical-align: middle;\n",
       "    }\n",
       "\n",
       "    .dataframe tbody tr th {\n",
       "        vertical-align: top;\n",
       "    }\n",
       "\n",
       "    .dataframe thead th {\n",
       "        text-align: right;\n",
       "    }\n",
       "</style>\n",
       "<table border=\"1\" class=\"dataframe\">\n",
       "  <thead>\n",
       "    <tr style=\"text-align: right;\">\n",
       "      <th></th>\n",
       "      <th>us</th>\n",
       "    </tr>\n",
       "  </thead>\n",
       "  <tbody>\n",
       "    <tr>\n",
       "      <th>m</th>\n",
       "      <td>0.617932</td>\n",
       "    </tr>\n",
       "    <tr>\n",
       "      <th>y</th>\n",
       "      <td>4.314882</td>\n",
       "    </tr>\n",
       "    <tr>\n",
       "      <th>c</th>\n",
       "      <td>2.331649</td>\n",
       "    </tr>\n",
       "    <tr>\n",
       "      <th>k</th>\n",
       "      <td>28.449176</td>\n",
       "    </tr>\n",
       "    <tr>\n",
       "      <th>n</th>\n",
       "      <td>1.333533</td>\n",
       "    </tr>\n",
       "    <tr>\n",
       "      <th>s</th>\n",
       "      <td>0.143209</td>\n",
       "    </tr>\n",
       "    <tr>\n",
       "      <th>csy</th>\n",
       "      <td>0.683583</td>\n",
       "    </tr>\n",
       "    <tr>\n",
       "      <th>ksy</th>\n",
       "      <td>6.593268</td>\n",
       "    </tr>\n",
       "    <tr>\n",
       "      <th>h</th>\n",
       "      <td>0.895853</td>\n",
       "    </tr>\n",
       "    <tr>\n",
       "      <th>g2</th>\n",
       "      <td>1.135675</td>\n",
       "    </tr>\n",
       "    <tr>\n",
       "      <th>g3</th>\n",
       "      <td>1.221562</td>\n",
       "    </tr>\n",
       "    <tr>\n",
       "      <th>g4</th>\n",
       "      <td>1.270421</td>\n",
       "    </tr>\n",
       "    <tr>\n",
       "      <th>tgood</th>\n",
       "      <td>0.970157</td>\n",
       "    </tr>\n",
       "    <tr>\n",
       "      <th>tbad</th>\n",
       "      <td>0.256655</td>\n",
       "    </tr>\n",
       "    <tr>\n",
       "      <th>r</th>\n",
       "      <td>0.009466</td>\n",
       "    </tr>\n",
       "    <tr>\n",
       "      <th>w</th>\n",
       "      <td>1.994034</td>\n",
       "    </tr>\n",
       "    <tr>\n",
       "      <th>tax</th>\n",
       "      <td>0.202095</td>\n",
       "    </tr>\n",
       "    <tr>\n",
       "      <th>oop</th>\n",
       "      <td>0.341029</td>\n",
       "    </tr>\n",
       "  </tbody>\n",
       "</table>\n",
       "</div>"
      ],
      "text/plain": [
       "              us\n",
       "m       0.617932\n",
       "y       4.314882\n",
       "c       2.331649\n",
       "k      28.449176\n",
       "n       1.333533\n",
       "s       0.143209\n",
       "csy     0.683583\n",
       "ksy     6.593268\n",
       "h       0.895853\n",
       "g2      1.135675\n",
       "g3      1.221562\n",
       "g4      1.270421\n",
       "tgood   0.970157\n",
       "tbad    0.256655\n",
       "r       0.009466\n",
       "w       1.994034\n",
       "tax     0.202095\n",
       "oop     0.341029"
      ]
     },
     "execution_count": 20,
     "metadata": {},
     "output_type": "execute_result"
    }
   ],
   "source": [
    "results0"
   ]
  },
  {
   "cell_type": "code",
   "execution_count": 21,
   "metadata": {},
   "outputs": [
    {
     "data": {
      "text/html": [
       "<div>\n",
       "<style scoped>\n",
       "    .dataframe tbody tr th:only-of-type {\n",
       "        vertical-align: middle;\n",
       "    }\n",
       "\n",
       "    .dataframe tbody tr th {\n",
       "        vertical-align: top;\n",
       "    }\n",
       "\n",
       "    .dataframe thead th {\n",
       "        text-align: right;\n",
       "    }\n",
       "</style>\n",
       "<table border=\"1\" class=\"dataframe\">\n",
       "  <thead>\n",
       "    <tr style=\"text-align: right;\">\n",
       "      <th></th>\n",
       "      <th>us</th>\n",
       "    </tr>\n",
       "  </thead>\n",
       "  <tbody>\n",
       "    <tr>\n",
       "      <th>m</th>\n",
       "      <td>0.617874</td>\n",
       "    </tr>\n",
       "    <tr>\n",
       "      <th>y</th>\n",
       "      <td>4.314889</td>\n",
       "    </tr>\n",
       "    <tr>\n",
       "      <th>c</th>\n",
       "      <td>2.33011</td>\n",
       "    </tr>\n",
       "    <tr>\n",
       "      <th>k</th>\n",
       "      <td>28.449289</td>\n",
       "    </tr>\n",
       "    <tr>\n",
       "      <th>n</th>\n",
       "      <td>1.333533</td>\n",
       "    </tr>\n",
       "    <tr>\n",
       "      <th>s</th>\n",
       "      <td>0.143196</td>\n",
       "    </tr>\n",
       "    <tr>\n",
       "      <th>csy</th>\n",
       "      <td>0.683212</td>\n",
       "    </tr>\n",
       "    <tr>\n",
       "      <th>ksy</th>\n",
       "      <td>6.593285</td>\n",
       "    </tr>\n",
       "    <tr>\n",
       "      <th>h</th>\n",
       "      <td>0.895806</td>\n",
       "    </tr>\n",
       "    <tr>\n",
       "      <th>g2</th>\n",
       "      <td>1.135763</td>\n",
       "    </tr>\n",
       "    <tr>\n",
       "      <th>g3</th>\n",
       "      <td>1.221718</td>\n",
       "    </tr>\n",
       "    <tr>\n",
       "      <th>g4</th>\n",
       "      <td>1.270615</td>\n",
       "    </tr>\n",
       "    <tr>\n",
       "      <th>tgood</th>\n",
       "      <td>0.970157</td>\n",
       "    </tr>\n",
       "    <tr>\n",
       "      <th>tbad</th>\n",
       "      <td>0.256528</td>\n",
       "    </tr>\n",
       "    <tr>\n",
       "      <th>r</th>\n",
       "      <td>0.009466</td>\n",
       "    </tr>\n",
       "    <tr>\n",
       "      <th>w</th>\n",
       "      <td>1.994034</td>\n",
       "    </tr>\n",
       "    <tr>\n",
       "      <th>tax</th>\n",
       "      <td>0.202095</td>\n",
       "    </tr>\n",
       "    <tr>\n",
       "      <th>oop</th>\n",
       "      <td>0.341029</td>\n",
       "    </tr>\n",
       "  </tbody>\n",
       "</table>\n",
       "</div>"
      ],
      "text/plain": [
       "              us\n",
       "m       0.617874\n",
       "y       4.314889\n",
       "c        2.33011\n",
       "k      28.449289\n",
       "n       1.333533\n",
       "s       0.143196\n",
       "csy     0.683212\n",
       "ksy     6.593285\n",
       "h       0.895806\n",
       "g2      1.135763\n",
       "g3      1.221718\n",
       "g4      1.270615\n",
       "tgood   0.970157\n",
       "tbad    0.256528\n",
       "r       0.009466\n",
       "w       1.994034\n",
       "tax     0.202095\n",
       "oop     0.341029"
      ]
     },
     "execution_count": 21,
     "metadata": {},
     "output_type": "execute_result"
    }
   ],
   "source": [
    "results"
   ]
  },
  {
   "cell_type": "markdown",
   "metadata": {},
   "source": [
    "## RAND Experiment - variation in copay\n",
    "### Tax, wage and interest rate are given "
   ]
  },
  {
   "cell_type": "code",
   "execution_count": 22,
   "metadata": {},
   "outputs": [
    {
     "name": "stdout",
     "output_type": "stream",
     "text": [
      "solved bellman equation (iter, diff cons, diff medexp)  190 0.00025299726354521823 0.0008703438236370431\n",
      "grid for k (nk, maxk)  30 190.0\n",
      "stationary distribution converged in  304  iterations \n",
      "grid for k (nk maxk) 100 190.0\n",
      "solved bellman equation (iter, diff cons, diff medexp)  1 0.0001988844090003994 0.0009330246272423182\n",
      "grid for k (nk, maxk)  30 190.0\n",
      "stationary distribution converged in  1  iterations \n",
      "grid for k (nk maxk) 100 190.0\n"
     ]
    }
   ],
   "source": [
    "results1 = pd.DataFrame(index=outcomes,columns=countries)\n",
    "for co in countries: \n",
    "    opt1 = pd.DataFrame(index=np.arange(0,size),columns=['e','h','k','ps',\n",
    "                                                         'c','m','kp','v'])\n",
    "    p = pars.loc[:,co]\n",
    "    theta = params.flexpars(sigma=p['sigma'],beta=p['beta'],\n",
    "                            phi=p['phi'],psi=p['psi'],\n",
    "                            delta_h1=p['d1'],delta_h2=p['d2'],eta=0.0,\n",
    "                            tfp=p['tfp'],price=p['p']*1.1)\n",
    "    # option for the numerical solution\n",
    "    m  = 2.5\n",
    "    op = params.settings(ne=ne,nk=nkd,maxk=190.0,curv=0.5,nprocs=40)\n",
    "    inc = params.incprocess(country=co)\n",
    "    inc.tauchen(ne=ne,m=m)\n",
    "    aux = params.auxpars(country=co)  \n",
    "    #Decision rules\n",
    "    csumers = micro.bellman(options=op,flex=theta,aux=aux,inc=inc,rent=results.loc['r','us'],\n",
    "                                                                  taxrate=results.loc['tax','us'],\n",
    "                                                                  wage=results.loc['w','us'])\n",
    "    csumers.compute_cash()\n",
    "    csumers.itervalue()\n",
    "    # distribution\n",
    "    stats = dist.stationary(dp=csumers,nk=nk)\n",
    "    stats.blowup()\n",
    "    stats.compute()\n",
    "    # general equilibrium\n",
    "    eq = macro.equilibrium(stats=stats,inirent=results.loc['r','us'],taxes=False,rent=False)\n",
    "    eq.solve()\n",
    "    aggs = eq.aggregates()\n",
    "    hlth = eq.healthreport()\n",
    "    # saving aggregate outcomes\n",
    "    results1.loc['m',co]     = aggs.M\n",
    "    results1.loc['y',co]     = aggs.Y\n",
    "    results1.loc['c',co]     = aggs.C\n",
    "    results1.loc['k',co]     = aggs.K\n",
    "    results1.loc['n',co]     = aggs.N\n",
    "    results1.loc['s',co]     = p['p']*aggs.M/aggs.Y\n",
    "    results1.loc['csy',co]   = (aggs.C+aggs.M)/aggs.Y\n",
    "    results1.loc['ksy',co]   = aggs.K/aggs.Y\n",
    "    results1.loc['h',co]     = hlth.pH\n",
    "    results1.loc['g2',co]    = hlth.gradient[0]\n",
    "    results1.loc['g3',co]    = hlth.gradient[1]\n",
    "    results1.loc['g4',co]    = hlth.gradient[2]\n",
    "    results1.loc['tgood',co] = hlth.pTransGood\n",
    "    results1.loc['tbad',co]  = hlth.pTransBad\n",
    "    results1.loc['r',co]     = eq.rent\n",
    "    results1.loc['w',co]     = eq.wage\n",
    "    results1.loc['tax',co]   = eq.tax\n",
    "    results1.loc['oop',co]   = m*p['p']*aux.copay\n",
    "    # saving decision rules\n",
    "    opt1.loc[:,'ps'] = eq.stats.probs\n",
    "    for i,s in enumerate(stats.states):\n",
    "        e,h,k = s\n",
    "        opt1.loc[i,['e','h','k']] = [e,h,k]  \n",
    "        opt1.loc[i,'c'] = eq.stats.optc[e,h,k]\n",
    "        opt1.loc[i,'m'] = eq.stats.optm[e,h,k]\n",
    "        opt1.loc[i,'kp'] = eq.stats.optk[e,h,k]\n",
    "        opt1.loc[i,'v'] = eq.stats.value[e,h,k]"
   ]
  },
  {
   "cell_type": "code",
   "execution_count": 23,
   "metadata": {},
   "outputs": [
    {
     "data": {
      "text/html": [
       "<div>\n",
       "<style scoped>\n",
       "    .dataframe tbody tr th:only-of-type {\n",
       "        vertical-align: middle;\n",
       "    }\n",
       "\n",
       "    .dataframe tbody tr th {\n",
       "        vertical-align: top;\n",
       "    }\n",
       "\n",
       "    .dataframe thead th {\n",
       "        text-align: right;\n",
       "    }\n",
       "</style>\n",
       "<table border=\"1\" class=\"dataframe\">\n",
       "  <thead>\n",
       "    <tr style=\"text-align: right;\">\n",
       "      <th></th>\n",
       "      <th>us</th>\n",
       "    </tr>\n",
       "  </thead>\n",
       "  <tbody>\n",
       "    <tr>\n",
       "      <th>m</th>\n",
       "      <td>0.600461</td>\n",
       "    </tr>\n",
       "    <tr>\n",
       "      <th>y</th>\n",
       "      <td>4.304948</td>\n",
       "    </tr>\n",
       "    <tr>\n",
       "      <th>c</th>\n",
       "      <td>2.321434</td>\n",
       "    </tr>\n",
       "    <tr>\n",
       "      <th>k</th>\n",
       "      <td>28.278791</td>\n",
       "    </tr>\n",
       "    <tr>\n",
       "      <th>n</th>\n",
       "      <td>1.333533</td>\n",
       "    </tr>\n",
       "    <tr>\n",
       "      <th>s</th>\n",
       "      <td>0.139482</td>\n",
       "    </tr>\n",
       "    <tr>\n",
       "      <th>csy</th>\n",
       "      <td>0.67873</td>\n",
       "    </tr>\n",
       "    <tr>\n",
       "      <th>ksy</th>\n",
       "      <td>6.568904</td>\n",
       "    </tr>\n",
       "    <tr>\n",
       "      <th>h</th>\n",
       "      <td>0.891929</td>\n",
       "    </tr>\n",
       "    <tr>\n",
       "      <th>g2</th>\n",
       "      <td>1.140178</td>\n",
       "    </tr>\n",
       "    <tr>\n",
       "      <th>g3</th>\n",
       "      <td>1.239336</td>\n",
       "    </tr>\n",
       "    <tr>\n",
       "      <th>g4</th>\n",
       "      <td>1.290039</td>\n",
       "    </tr>\n",
       "    <tr>\n",
       "      <th>tgood</th>\n",
       "      <td>0.970156</td>\n",
       "    </tr>\n",
       "    <tr>\n",
       "      <th>tbad</th>\n",
       "      <td>0.246223</td>\n",
       "    </tr>\n",
       "    <tr>\n",
       "      <th>r</th>\n",
       "      <td>0.009466</td>\n",
       "    </tr>\n",
       "    <tr>\n",
       "      <th>w</th>\n",
       "      <td>1.994034</td>\n",
       "    </tr>\n",
       "    <tr>\n",
       "      <th>tax</th>\n",
       "      <td>0.202095</td>\n",
       "    </tr>\n",
       "    <tr>\n",
       "      <th>oop</th>\n",
       "      <td>0.341029</td>\n",
       "    </tr>\n",
       "  </tbody>\n",
       "</table>\n",
       "</div>"
      ],
      "text/plain": [
       "              us\n",
       "m       0.600461\n",
       "y       4.304948\n",
       "c       2.321434\n",
       "k      28.278791\n",
       "n       1.333533\n",
       "s       0.139482\n",
       "csy      0.67873\n",
       "ksy     6.568904\n",
       "h       0.891929\n",
       "g2      1.140178\n",
       "g3      1.239336\n",
       "g4      1.290039\n",
       "tgood   0.970156\n",
       "tbad    0.246223\n",
       "r       0.009466\n",
       "w       1.994034\n",
       "tax     0.202095\n",
       "oop     0.341029"
      ]
     },
     "execution_count": 23,
     "metadata": {},
     "output_type": "execute_result"
    }
   ],
   "source": [
    "results1"
   ]
  },
  {
   "cell_type": "code",
   "execution_count": 28,
   "metadata": {},
   "outputs": [
    {
     "data": {
      "text/plain": [
       "0.15005257142857145"
      ]
     },
     "execution_count": 28,
     "metadata": {},
     "output_type": "execute_result"
    }
   ],
   "source": [
    "aux.copay*1.1"
   ]
  },
  {
   "cell_type": "code",
   "execution_count": 29,
   "metadata": {},
   "outputs": [
    {
     "data": {
      "text/plain": [
       "-0.28272961126158014"
      ]
     },
     "execution_count": 29,
     "metadata": {},
     "output_type": "execute_result"
    }
   ],
   "source": [
    "((results1.loc['m','us']-results0.loc['m','us'])/results0.loc['m','us'])/(.1/1)"
   ]
  },
  {
   "cell_type": "markdown",
   "metadata": {},
   "source": [
    "## Income elasticity - variation in TFP \n",
    "### Tax and interest rate are given "
   ]
  },
  {
   "cell_type": "code",
   "execution_count": 24,
   "metadata": {},
   "outputs": [
    {
     "name": "stdout",
     "output_type": "stream",
     "text": [
      "solved bellman equation (iter, diff cons, diff medexp)  176 0.0005114880101695363 0.0009148722999157144\n",
      "grid for k (nk, maxk)  30 190.0\n",
      "stationary distribution converged in  330  iterations \n",
      "grid for k (nk maxk) 100 190.0\n",
      "solved bellman equation (iter, diff cons, diff medexp)  250 0.05858113257081354 12.989951384442264\n",
      "grid for k (nk, maxk)  30 190.0\n",
      "stationary distribution converged in  116  iterations \n",
      "grid for k (nk maxk) 100 190.0\n"
     ]
    }
   ],
   "source": [
    "results2 = pd.DataFrame(index=outcomes,columns=countries)\n",
    "for co in countries: \n",
    "    opt2 = pd.DataFrame(index=np.arange(0,size),columns=['e','h','k','ps',\n",
    "                                                         'c','m','kp','v'])\n",
    "    p = pars.loc[:,co]\n",
    "    theta = params.flexpars(sigma=p['sigma'],beta=p['beta'],\n",
    "                            phi=p['phi'],psi=p['psi'],\n",
    "                            delta_h1=p['d1'],delta_h2=p['d2'],eta=0.0,\n",
    "                            tfp=p['tfp']*0.9,price=p['p'])\n",
    "    # option for the numerical solution\n",
    "    m  = 2.5\n",
    "    op = params.settings(ne=ne,nk=nkd,maxk=190.0,curv=0.5,nprocs=40)\n",
    "    inc = params.incprocess(country=co)\n",
    "    inc.tauchen(ne=ne,m=m)\n",
    "    aux = params.auxpars(country=co)  \n",
    "    #Decision rules\n",
    "    csumers = micro.bellman(options=op,flex=theta,aux=aux,inc=inc,rent=results.loc['r','us'],\n",
    "                                                                  taxrate=results.loc['tax','us'],\n",
    "                                                                  wage=.9*results.loc['w','us'])\n",
    "    csumers.compute_cash()\n",
    "    csumers.itervalue()\n",
    "    # distribution\n",
    "    stats = dist.stationary(dp=csumers,nk=nk)\n",
    "    stats.blowup()\n",
    "    stats.compute()\n",
    "    # general equilibrium\n",
    "    eq = macro.equilibrium(stats=stats,inirent=results.loc['r','us'],taxes=False,rent=False)\n",
    "    eq.solve()\n",
    "    aggs = eq.aggregates()\n",
    "    hlth = eq.healthreport()\n",
    "    # saving aggregate outcomes\n",
    "    results2.loc['m',co]     = aggs.M\n",
    "    results2.loc['y',co]     = aggs.Y\n",
    "    results2.loc['c',co]     = aggs.C\n",
    "    results2.loc['k',co]     = aggs.K\n",
    "    results2.loc['n',co]     = aggs.N\n",
    "    results2.loc['s',co]     = p['p']*aggs.M/aggs.Y\n",
    "    results2.loc['csy',co]   = (aggs.C+aggs.M)/aggs.Y\n",
    "    results2.loc['ksy',co]   = aggs.K/aggs.Y\n",
    "    results2.loc['h',co]     = hlth.pH\n",
    "    results2.loc['g2',co]    = hlth.gradient[0]\n",
    "    results2.loc['g3',co]    = hlth.gradient[1]\n",
    "    results2.loc['g4',co]    = hlth.gradient[2]\n",
    "    results2.loc['tgood',co] = hlth.pTransGood\n",
    "    results2.loc['tbad',co]  = hlth.pTransBad\n",
    "    results2.loc['r',co]     = eq.rent\n",
    "    results2.loc['w',co]     = eq.wage\n",
    "    results2.loc['tax',co]   = eq.tax\n",
    "    results2.loc['oop',co]   = m*p['p']*aux.copay\n",
    "    # saving decision rules\n",
    "    opt2.loc[:,'ps'] = eq.stats.probs\n",
    "    for i,s in enumerate(stats.states):\n",
    "        e,h,k = s\n",
    "        opt2.loc[i,['e','h','k']] = [e,h,k]  \n",
    "        opt2.loc[i,'c'] = eq.stats.optc[e,h,k]\n",
    "        opt2.loc[i,'m'] = eq.stats.optm[e,h,k]\n",
    "        opt2.loc[i,'kp'] = eq.stats.optk[e,h,k]\n",
    "        opt2.loc[i,'v'] = eq.stats.value[e,h,k]"
   ]
  },
  {
   "cell_type": "code",
   "execution_count": 25,
   "metadata": {},
   "outputs": [
    {
     "data": {
      "text/html": [
       "<div>\n",
       "<style scoped>\n",
       "    .dataframe tbody tr th:only-of-type {\n",
       "        vertical-align: middle;\n",
       "    }\n",
       "\n",
       "    .dataframe tbody tr th {\n",
       "        vertical-align: top;\n",
       "    }\n",
       "\n",
       "    .dataframe thead th {\n",
       "        text-align: right;\n",
       "    }\n",
       "</style>\n",
       "<table border=\"1\" class=\"dataframe\">\n",
       "  <thead>\n",
       "    <tr style=\"text-align: right;\">\n",
       "      <th></th>\n",
       "      <th>us</th>\n",
       "    </tr>\n",
       "  </thead>\n",
       "  <tbody>\n",
       "    <tr>\n",
       "      <th>m</th>\n",
       "      <td>0.587561</td>\n",
       "    </tr>\n",
       "    <tr>\n",
       "      <th>y</th>\n",
       "      <td>3.734489</td>\n",
       "    </tr>\n",
       "    <tr>\n",
       "      <th>c</th>\n",
       "      <td>2.013462</td>\n",
       "    </tr>\n",
       "    <tr>\n",
       "      <th>k</th>\n",
       "      <td>25.693071</td>\n",
       "    </tr>\n",
       "    <tr>\n",
       "      <th>n</th>\n",
       "      <td>1.333533</td>\n",
       "    </tr>\n",
       "    <tr>\n",
       "      <th>s</th>\n",
       "      <td>0.157334</td>\n",
       "    </tr>\n",
       "    <tr>\n",
       "      <th>csy</th>\n",
       "      <td>0.696487</td>\n",
       "    </tr>\n",
       "    <tr>\n",
       "      <th>ksy</th>\n",
       "      <td>6.879942</td>\n",
       "    </tr>\n",
       "    <tr>\n",
       "      <th>h</th>\n",
       "      <td>0.890026</td>\n",
       "    </tr>\n",
       "    <tr>\n",
       "      <th>g2</th>\n",
       "      <td>1.137989</td>\n",
       "    </tr>\n",
       "    <tr>\n",
       "      <th>g3</th>\n",
       "      <td>1.231799</td>\n",
       "    </tr>\n",
       "    <tr>\n",
       "      <th>g4</th>\n",
       "      <td>1.286006</td>\n",
       "    </tr>\n",
       "    <tr>\n",
       "      <th>tgood</th>\n",
       "      <td>0.970153</td>\n",
       "    </tr>\n",
       "    <tr>\n",
       "      <th>tbad</th>\n",
       "      <td>0.241543</td>\n",
       "    </tr>\n",
       "    <tr>\n",
       "      <th>r</th>\n",
       "      <td>0.009466</td>\n",
       "    </tr>\n",
       "    <tr>\n",
       "      <th>w</th>\n",
       "      <td>1.794631</td>\n",
       "    </tr>\n",
       "    <tr>\n",
       "      <th>tax</th>\n",
       "      <td>0.202095</td>\n",
       "    </tr>\n",
       "    <tr>\n",
       "      <th>oop</th>\n",
       "      <td>0.341029</td>\n",
       "    </tr>\n",
       "  </tbody>\n",
       "</table>\n",
       "</div>"
      ],
      "text/plain": [
       "              us\n",
       "m       0.587561\n",
       "y       3.734489\n",
       "c       2.013462\n",
       "k      25.693071\n",
       "n       1.333533\n",
       "s       0.157334\n",
       "csy     0.696487\n",
       "ksy     6.879942\n",
       "h       0.890026\n",
       "g2      1.137989\n",
       "g3      1.231799\n",
       "g4      1.286006\n",
       "tgood   0.970153\n",
       "tbad    0.241543\n",
       "r       0.009466\n",
       "w       1.794631\n",
       "tax     0.202095\n",
       "oop     0.341029"
      ]
     },
     "execution_count": 25,
     "metadata": {},
     "output_type": "execute_result"
    }
   ],
   "source": [
    "results2"
   ]
  },
  {
   "cell_type": "code",
   "execution_count": 30,
   "metadata": {},
   "outputs": [
    {
     "data": {
      "text/plain": [
       "0.4914959812606744"
      ]
     },
     "execution_count": 30,
     "metadata": {},
     "output_type": "execute_result"
    }
   ],
   "source": [
    "((results2.loc['m','us']-results0.loc['m','us'])/results0.loc['m','us'])/(-.1/1)"
   ]
  },
  {
   "cell_type": "markdown",
   "metadata": {},
   "source": [
    "### Computation of the income elasticity with GE adjustments"
   ]
  },
  {
   "cell_type": "code",
   "execution_count": 26,
   "metadata": {},
   "outputs": [
    {
     "name": "stdout",
     "output_type": "stream",
     "text": [
      "solved bellman equation (iter, diff cons, diff medexp)  250 0.015172647806789286 0.040704348040279115\n",
      "grid for k (nk, maxk)  30 190.0\n",
      "stationary distribution converged in  879  iterations \n",
      "grid for k (nk maxk) 100 190.0\n",
      "solved bellman equation (iter, diff cons, diff medexp)  250 0.06572524057497608 12.081620588995781\n",
      "grid for k (nk, maxk)  30 190.0\n",
      "stationary distribution converged in  282  iterations \n",
      "grid for k (nk maxk) 100 190.0\n",
      "rate =  0.0005 demand =  31.452211147521766 supply =  15.63048924392928  tax =  0.20209548699654836\n",
      "solved bellman equation (iter, diff cons, diff medexp)  140 0.00021950553181593335 0.0009180766078813463\n",
      "grid for k (nk, maxk)  30 190.0\n",
      "stationary distribution converged in  1901  iterations \n",
      "grid for k (nk maxk) 100 190.0\n",
      "rate =  0.025927835051546503 demand =  16.00436824966629 supply =  129.10209861693565  tax =  0.20209548699654836\n",
      "solved bellman equation (iter, diff cons, diff medexp)  155 0.0005955261545746993 0.0009577679425483154\n",
      "grid for k (nk, maxk)  30 190.0\n",
      "stationary distribution converged in  289  iterations \n",
      "grid for k (nk maxk) 100 190.0\n",
      "rate =  0.0036206472546185336 demand =  28.467224834020573 supply =  17.86636859527439  tax =  0.20209548699654836\n",
      "solved bellman equation (iter, diff cons, diff medexp)  250 0.057607251905256396 12.98665519874081\n",
      "grid for k (nk, maxk)  30 190.0\n",
      "stationary distribution converged in  251  iterations \n",
      "grid for k (nk maxk) 100 190.0\n",
      "rate =  0.00941403050003029 demand =  24.009853959980102 supply =  25.425717837425903  tax =  0.20209548699654836\n",
      "solved bellman equation (iter, diff cons, diff medexp)  250 0.08295158612673825 0.6079990744720316\n",
      "grid for k (nk, maxk)  30 190.0\n",
      "stationary distribution converged in  141  iterations \n",
      "grid for k (nk maxk) 100 190.0\n",
      "rate =  0.008731428093877421 demand =  24.474316415595776 supply =  24.161248878355085  tax =  0.20209548699654836\n",
      "solved bellman equation (iter, diff cons, diff medexp)  18 0.00045863518669619907 0.000770537479827027\n",
      "grid for k (nk, maxk)  30 190.0\n",
      "stationary distribution converged in  77  iterations \n",
      "grid for k (nk maxk) 100 190.0\n",
      "rate =  0.00885503083045422 demand =  24.389142232118868 supply =  24.148832089021248  tax =  0.20209548699654836\n",
      "solved bellman equation (iter, diff cons, diff medexp)  250 0.05662068875668147 12.96900126929789\n",
      "grid for k (nk, maxk)  30 190.0\n",
      "stationary distribution converged in  123  iterations \n",
      "grid for k (nk maxk) 100 190.0\n",
      "rate =  0.009134530665242255 demand =  24.198297028174498 supply =  24.723593218967295  tax =  0.20209548699654836\n",
      "solved bellman equation (iter, diff cons, diff medexp)  48 6.199097028591893e-05 0.000412291889292149\n",
      "grid for k (nk, maxk)  30 190.0\n",
      "stationary distribution converged in  99  iterations \n",
      "grid for k (nk maxk) 100 190.0\n",
      "rate =  0.008942760832572108 demand =  24.328978118422782 supply =  24.44208622234511  tax =  0.20209548699654836\n"
     ]
    }
   ],
   "source": [
    "results3 = pd.DataFrame(index=outcomes,columns=countries)\n",
    "for co in countries: \n",
    "    opt3 = pd.DataFrame(index=np.arange(0,size),columns=['e','h','k','ps',\n",
    "                                                         'c','m','kp','v'])\n",
    "    p = pars.loc[:,co]\n",
    "    theta = params.flexpars(sigma=p['sigma'],beta=p['beta'],\n",
    "                            phi=p['phi'],psi=p['psi'],\n",
    "                            delta_h1=p['d1'],delta_h2=p['d2'],eta=0.0,\n",
    "                            tfp=p['tfp']*.9,price=p['p'])\n",
    "    # option for the numerical solution\n",
    "    m  = 2.5\n",
    "    op = params.settings(ne=ne,nk=nkd,maxk=190.0,curv=0.5,nprocs=40)\n",
    "    inc = params.incprocess(country=co)\n",
    "    inc.tauchen(ne=ne,m=m)\n",
    "    aux = params.auxpars(country=co)  \n",
    "    #Decision rules\n",
    "    csumers = micro.bellman(options=op,flex=theta,aux=aux,inc=inc,rent=5.6e-2)\n",
    "    csumers.compute_cash()\n",
    "    csumers.itervalue()\n",
    "    # distribution\n",
    "    stats = dist.stationary(dp=csumers,nk=nk)\n",
    "    stats.blowup()\n",
    "    stats.compute()\n",
    "    # general equilibrium\n",
    "    eq = macro.equilibrium(stats=stats,taxes=False,rent=True)\n",
    "    eq.solve()\n",
    "    aggs = eq.aggregates()\n",
    "    hlth = eq.healthreport()\n",
    "    # saving aggregate outcomes\n",
    "    results3.loc['m',co]     = aggs.M\n",
    "    results3.loc['y',co]     = aggs.Y\n",
    "    results3.loc['c',co]     = aggs.C\n",
    "    results3.loc['k',co]     = aggs.K\n",
    "    results3.loc['n',co]     = aggs.N\n",
    "    results3.loc['s',co]     = p['p']*aggs.M/aggs.Y\n",
    "    results3.loc['csy',co]   = (aggs.C+aggs.M)/aggs.Y\n",
    "    results3.loc['ksy',co]   = aggs.K/aggs.Y\n",
    "    results3.loc['h',co]     = hlth.pH\n",
    "    results3.loc['g2',co]    = hlth.gradient[0]\n",
    "    results3.loc['g3',co]    = hlth.gradient[1]\n",
    "    results3.loc['g4',co]    = hlth.gradient[2]\n",
    "    results3.loc['tgood',co] = hlth.pTransGood\n",
    "    results3.loc['tbad',co]  = hlth.pTransBad\n",
    "    results3.loc['r',co]     = eq.rent\n",
    "    results3.loc['w',co]     = eq.wage\n",
    "    results3.loc['tax',co]   = eq.tax\n",
    "    results3.loc['oop',co]   = m*p['p']*aux.copay\n",
    "    # saving decision rules\n",
    "    opt3.loc[:,'ps'] = eq.stats.probs\n",
    "    for i,s in enumerate(stats.states):\n",
    "        e,h,k = s\n",
    "        opt3.loc[i,['e','h','k']] = [e,h,k]  \n",
    "        opt3.loc[i,'c'] = eq.stats.optc[e,h,k]\n",
    "        opt3.loc[i,'m'] = eq.stats.optm[e,h,k]\n",
    "        opt3.loc[i,'kp'] = eq.stats.optk[e,h,k]\n",
    "        opt3.loc[i,'v'] = eq.stats.value[e,h,k]"
   ]
  },
  {
   "cell_type": "code",
   "execution_count": 27,
   "metadata": {},
   "outputs": [
    {
     "data": {
      "text/html": [
       "<div>\n",
       "<style scoped>\n",
       "    .dataframe tbody tr th:only-of-type {\n",
       "        vertical-align: middle;\n",
       "    }\n",
       "\n",
       "    .dataframe tbody tr th {\n",
       "        vertical-align: top;\n",
       "    }\n",
       "\n",
       "    .dataframe thead th {\n",
       "        text-align: right;\n",
       "    }\n",
       "</style>\n",
       "<table border=\"1\" class=\"dataframe\">\n",
       "  <thead>\n",
       "    <tr style=\"text-align: right;\">\n",
       "      <th></th>\n",
       "      <th>us</th>\n",
       "    </tr>\n",
       "  </thead>\n",
       "  <tbody>\n",
       "    <tr>\n",
       "      <th>m</th>\n",
       "      <td>0.586369</td>\n",
       "    </tr>\n",
       "    <tr>\n",
       "      <th>y</th>\n",
       "      <td>3.663645</td>\n",
       "    </tr>\n",
       "    <tr>\n",
       "      <th>c</th>\n",
       "      <td>1.985748</td>\n",
       "    </tr>\n",
       "    <tr>\n",
       "      <th>k</th>\n",
       "      <td>24.442086</td>\n",
       "    </tr>\n",
       "    <tr>\n",
       "      <th>n</th>\n",
       "      <td>1.333533</td>\n",
       "    </tr>\n",
       "    <tr>\n",
       "      <th>s</th>\n",
       "      <td>0.160051</td>\n",
       "    </tr>\n",
       "    <tr>\n",
       "      <th>csy</th>\n",
       "      <td>0.702065</td>\n",
       "    </tr>\n",
       "    <tr>\n",
       "      <th>ksy</th>\n",
       "      <td>6.671521</td>\n",
       "    </tr>\n",
       "    <tr>\n",
       "      <th>h</th>\n",
       "      <td>0.884636</td>\n",
       "    </tr>\n",
       "    <tr>\n",
       "      <th>g2</th>\n",
       "      <td>1.148483</td>\n",
       "    </tr>\n",
       "    <tr>\n",
       "      <th>g3</th>\n",
       "      <td>1.250993</td>\n",
       "    </tr>\n",
       "    <tr>\n",
       "      <th>g4</th>\n",
       "      <td>1.3105</td>\n",
       "    </tr>\n",
       "    <tr>\n",
       "      <th>tgood</th>\n",
       "      <td>0.970153</td>\n",
       "    </tr>\n",
       "    <tr>\n",
       "      <th>tbad</th>\n",
       "      <td>0.228787</td>\n",
       "    </tr>\n",
       "    <tr>\n",
       "      <th>r</th>\n",
       "      <td>0.008943</td>\n",
       "    </tr>\n",
       "    <tr>\n",
       "      <th>w</th>\n",
       "      <td>1.690159</td>\n",
       "    </tr>\n",
       "    <tr>\n",
       "      <th>tax</th>\n",
       "      <td>0.202095</td>\n",
       "    </tr>\n",
       "    <tr>\n",
       "      <th>oop</th>\n",
       "      <td>0.341029</td>\n",
       "    </tr>\n",
       "  </tbody>\n",
       "</table>\n",
       "</div>"
      ],
      "text/plain": [
       "              us\n",
       "m       0.586369\n",
       "y       3.663645\n",
       "c       1.985748\n",
       "k      24.442086\n",
       "n       1.333533\n",
       "s       0.160051\n",
       "csy     0.702065\n",
       "ksy     6.671521\n",
       "h       0.884636\n",
       "g2      1.148483\n",
       "g3      1.250993\n",
       "g4        1.3105\n",
       "tgood   0.970153\n",
       "tbad    0.228787\n",
       "r       0.008943\n",
       "w       1.690159\n",
       "tax     0.202095\n",
       "oop     0.341029"
      ]
     },
     "execution_count": 27,
     "metadata": {},
     "output_type": "execute_result"
    }
   ],
   "source": [
    "results3"
   ]
  },
  {
   "cell_type": "code",
   "execution_count": 31,
   "metadata": {},
   "outputs": [
    {
     "data": {
      "text/plain": [
       "0.510784465791224"
      ]
     },
     "execution_count": 31,
     "metadata": {},
     "output_type": "execute_result"
    }
   ],
   "source": [
    "((results3.loc['m','us']-results0.loc['m','us'])/results0.loc['m','us'])/(-.1/1)"
   ]
  },
  {
   "cell_type": "code",
   "execution_count": 32,
   "metadata": {},
   "outputs": [
    {
     "data": {
      "text/plain": [
       "0.5098887061555416"
      ]
     },
     "execution_count": 32,
     "metadata": {},
     "output_type": "execute_result"
    }
   ],
   "source": [
    "((results3.loc['m','us']-results.loc['m','us'])/results.loc['m','us'])/(-.1/1)"
   ]
  },
  {
   "cell_type": "code",
   "execution_count": 33,
   "metadata": {},
   "outputs": [
    {
     "data": {
      "text/plain": [
       "beta     0.970000\n",
       "psi      0.161578\n",
       "sigma    2.105317\n",
       "phi      0.397405\n",
       "d1      -0.988958\n",
       "d2       3.511651\n",
       "p        1.000000\n",
       "tfp      1.000000\n",
       "Name: us, dtype: float64"
      ]
     },
     "execution_count": 33,
     "metadata": {},
     "output_type": "execute_result"
    }
   ],
   "source": [
    "p"
   ]
  },
  {
   "cell_type": "code",
   "execution_count": 34,
   "metadata": {},
   "outputs": [
    {
     "data": {
      "text/plain": [
       "0.9"
      ]
     },
     "execution_count": 34,
     "metadata": {},
     "output_type": "execute_result"
    }
   ],
   "source": [
    "theta.tfp"
   ]
  },
  {
   "cell_type": "code",
   "execution_count": null,
   "metadata": {},
   "outputs": [],
   "source": []
  }
 ],
 "metadata": {
  "kernelspec": {
   "display_name": "Python 3",
   "language": "python",
   "name": "python3"
  },
  "language_info": {
   "codemirror_mode": {
    "name": "ipython",
    "version": 3
   },
   "file_extension": ".py",
   "mimetype": "text/x-python",
   "name": "python",
   "nbconvert_exporter": "python",
   "pygments_lexer": "ipython3",
   "version": "3.7.4"
  }
 },
 "nbformat": 4,
 "nbformat_minor": 2
}

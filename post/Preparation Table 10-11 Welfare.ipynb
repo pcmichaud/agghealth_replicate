{
 "cells": [
  {
   "cell_type": "markdown",
   "metadata": {},
   "source": [
    "# Welfare: simulations for variations in price or TFP, at GE or PE"
   ]
  },
  {
   "cell_type": "code",
   "execution_count": 1,
   "metadata": {},
   "outputs": [],
   "source": [
    "from matplotlib import pyplot as plt\n",
    "import numpy as np\n",
    "from scipy import stats \n",
    "from importlib import reload\n",
    "import pandas as pd\n",
    "import pickle"
   ]
  },
  {
   "cell_type": "code",
   "execution_count": 2,
   "metadata": {},
   "outputs": [
    {
     "data": {
      "text/plain": [
       "<module 'tools.distributions' from '/Users/flangot/Dropbox/agghealth/notebooks/tools/distributions.py'>"
      ]
     },
     "execution_count": 2,
     "metadata": {},
     "output_type": "execute_result"
    }
   ],
   "source": [
    "from tools import micro\n",
    "from tools import macro\n",
    "from tools import params\n",
    "from tools import distributions as dist\n",
    "reload(micro)\n",
    "reload(macro)\n",
    "reload(params)\n",
    "reload(dist)"
   ]
  },
  {
   "cell_type": "markdown",
   "metadata": {},
   "source": [
    "## Model parameters"
   ]
  },
  {
   "cell_type": "code",
   "execution_count": 3,
   "metadata": {},
   "outputs": [
    {
     "data": {
      "text/html": [
       "<div>\n",
       "<style scoped>\n",
       "    .dataframe tbody tr th:only-of-type {\n",
       "        vertical-align: middle;\n",
       "    }\n",
       "\n",
       "    .dataframe tbody tr th {\n",
       "        vertical-align: top;\n",
       "    }\n",
       "\n",
       "    .dataframe thead th {\n",
       "        text-align: right;\n",
       "    }\n",
       "</style>\n",
       "<table border=\"1\" class=\"dataframe\">\n",
       "  <thead>\n",
       "    <tr style=\"text-align: right;\">\n",
       "      <th></th>\n",
       "      <th>de</th>\n",
       "      <th>dk</th>\n",
       "      <th>fr</th>\n",
       "      <th>it</th>\n",
       "      <th>nl</th>\n",
       "      <th>se</th>\n",
       "      <th>sp</th>\n",
       "      <th>us</th>\n",
       "    </tr>\n",
       "  </thead>\n",
       "  <tbody>\n",
       "    <tr>\n",
       "      <th>beta</th>\n",
       "      <td>0.970000</td>\n",
       "      <td>0.970000</td>\n",
       "      <td>0.970000</td>\n",
       "      <td>0.970000</td>\n",
       "      <td>0.970000</td>\n",
       "      <td>0.970000</td>\n",
       "      <td>0.970000</td>\n",
       "      <td>0.970000</td>\n",
       "    </tr>\n",
       "    <tr>\n",
       "      <th>psi</th>\n",
       "      <td>0.161578</td>\n",
       "      <td>0.161578</td>\n",
       "      <td>0.161578</td>\n",
       "      <td>0.161578</td>\n",
       "      <td>0.161578</td>\n",
       "      <td>0.161578</td>\n",
       "      <td>0.161578</td>\n",
       "      <td>0.161578</td>\n",
       "    </tr>\n",
       "    <tr>\n",
       "      <th>sigma</th>\n",
       "      <td>2.105317</td>\n",
       "      <td>2.105317</td>\n",
       "      <td>2.105317</td>\n",
       "      <td>2.105317</td>\n",
       "      <td>2.105317</td>\n",
       "      <td>2.105317</td>\n",
       "      <td>2.105317</td>\n",
       "      <td>2.105317</td>\n",
       "    </tr>\n",
       "    <tr>\n",
       "      <th>phi</th>\n",
       "      <td>0.397405</td>\n",
       "      <td>0.397405</td>\n",
       "      <td>0.397405</td>\n",
       "      <td>0.397405</td>\n",
       "      <td>0.397405</td>\n",
       "      <td>0.397405</td>\n",
       "      <td>0.397405</td>\n",
       "      <td>0.397405</td>\n",
       "    </tr>\n",
       "    <tr>\n",
       "      <th>d1</th>\n",
       "      <td>-1.282523</td>\n",
       "      <td>-1.602088</td>\n",
       "      <td>-1.099845</td>\n",
       "      <td>-0.831846</td>\n",
       "      <td>-1.390736</td>\n",
       "      <td>-1.394792</td>\n",
       "      <td>0.002353</td>\n",
       "      <td>-0.988958</td>\n",
       "    </tr>\n",
       "    <tr>\n",
       "      <th>d2</th>\n",
       "      <td>4.029535</td>\n",
       "      <td>4.273080</td>\n",
       "      <td>3.786290</td>\n",
       "      <td>3.917407</td>\n",
       "      <td>3.992196</td>\n",
       "      <td>4.310991</td>\n",
       "      <td>3.434494</td>\n",
       "      <td>3.511651</td>\n",
       "    </tr>\n",
       "    <tr>\n",
       "      <th>p</th>\n",
       "      <td>0.836301</td>\n",
       "      <td>0.888409</td>\n",
       "      <td>0.604059</td>\n",
       "      <td>0.695076</td>\n",
       "      <td>0.657280</td>\n",
       "      <td>0.891689</td>\n",
       "      <td>0.642584</td>\n",
       "      <td>1.000000</td>\n",
       "    </tr>\n",
       "    <tr>\n",
       "      <th>tfp</th>\n",
       "      <td>1.011023</td>\n",
       "      <td>1.260592</td>\n",
       "      <td>0.922111</td>\n",
       "      <td>0.613212</td>\n",
       "      <td>0.989482</td>\n",
       "      <td>0.795415</td>\n",
       "      <td>0.795095</td>\n",
       "      <td>1.000000</td>\n",
       "    </tr>\n",
       "  </tbody>\n",
       "</table>\n",
       "</div>"
      ],
      "text/plain": [
       "             de        dk        fr        it        nl        se        sp  \\\n",
       "beta   0.970000  0.970000  0.970000  0.970000  0.970000  0.970000  0.970000   \n",
       "psi    0.161578  0.161578  0.161578  0.161578  0.161578  0.161578  0.161578   \n",
       "sigma  2.105317  2.105317  2.105317  2.105317  2.105317  2.105317  2.105317   \n",
       "phi    0.397405  0.397405  0.397405  0.397405  0.397405  0.397405  0.397405   \n",
       "d1    -1.282523 -1.602088 -1.099845 -0.831846 -1.390736 -1.394792  0.002353   \n",
       "d2     4.029535  4.273080  3.786290  3.917407  3.992196  4.310991  3.434494   \n",
       "p      0.836301  0.888409  0.604059  0.695076  0.657280  0.891689  0.642584   \n",
       "tfp    1.011023  1.260592  0.922111  0.613212  0.989482  0.795415  0.795095   \n",
       "\n",
       "             us  \n",
       "beta   0.970000  \n",
       "psi    0.161578  \n",
       "sigma  2.105317  \n",
       "phi    0.397405  \n",
       "d1    -0.988958  \n",
       "d2     3.511651  \n",
       "p      1.000000  \n",
       "tfp    1.000000  "
      ]
     },
     "execution_count": 3,
     "metadata": {},
     "output_type": "execute_result"
    }
   ],
   "source": [
    "pars = pd.read_pickle('../output_JPE/pars.pkl')\n",
    "pars"
   ]
  },
  {
   "cell_type": "markdown",
   "metadata": {},
   "source": [
    "## GE benchmark"
   ]
  },
  {
   "cell_type": "code",
   "execution_count": 4,
   "metadata": {},
   "outputs": [],
   "source": [
    "countries = pars.columns\n",
    "scenarios = ['pus_ge']#,'peu_ge','peu_pe','aeu_ge','aeu_pe']\n",
    "outcomes  = ['m','y','c','k','n','s','csy','ksy','h','g2','g3','g4','tgood','tbad','r','w','tax','oop']\n",
    "results   = pd.DataFrame(index=outcomes,columns=scenarios)"
   ]
  },
  {
   "cell_type": "code",
   "execution_count": 5,
   "metadata": {},
   "outputs": [
    {
     "name": "stdout",
     "output_type": "stream",
     "text": [
      "solved bellman equation (iter, diff cons, diff medexp)  250 0.027383992046138173 13.736923340494544\n",
      "grid for k (nk, maxk)  100 190.0\n",
      "stationary distribution converged in  482  iterations \n",
      "grid for k (nk maxk) 500 190.0\n",
      "solved bellman equation (iter, diff cons, diff medexp)  167 0.00020903938172978087 0.0007498084676349492\n",
      "grid for k (nk, maxk)  100 190.0\n",
      "stationary distribution converged in  250  iterations \n",
      "grid for k (nk maxk) 500 190.0\n",
      "rate =  0.0005 demand =  37.31615558961398 supply =  19.105192901911295  tax =  0.20209548699654836\n",
      "solved bellman equation (iter, diff cons, diff medexp)  208 0.00013434546729751418 0.0009848555117066837\n",
      "grid for k (nk, maxk)  100 190.0\n",
      "stationary distribution converged in  554  iterations \n",
      "grid for k (nk maxk) 500 190.0\n",
      "rate =  0.025927835051546503 demand =  18.988219712657482 supply =  83.32356942374011  tax =  0.20209548699654836\n",
      "solved bellman equation (iter, diff cons, diff medexp)  161 0.000707707219033793 0.0009733568024188344\n",
      "grid for k (nk, maxk)  100 190.0\n",
      "stationary distribution converged in  251  iterations \n",
      "grid for k (nk maxk) 500 190.0\n",
      "rate =  0.006109764287418197 demand =  31.32280817435132 supply =  23.202831400701292  tax =  0.20209548699654836\n",
      "solved bellman equation (iter, diff cons, diff medexp)  141 0.0003484396191248962 0.0007820349236862256\n",
      "grid for k (nk, maxk)  100 190.0\n",
      "stationary distribution converged in  157  iterations \n",
      "grid for k (nk maxk) 500 190.0\n",
      "rate =  0.010117925201592808 demand =  27.935490399520287 supply =  27.24179415438001  tax =  0.20209548699654836\n",
      "solved bellman equation (iter, diff cons, diff medexp)  250 0.12734791533111034 0.9335589437082277\n",
      "grid for k (nk, maxk)  100 190.0\n",
      "stationary distribution converged in  56  iterations \n",
      "grid for k (nk maxk) 500 190.0\n",
      "rate =  0.010469272866657178 demand =  27.666990764418046 supply =  27.659597856415083  tax =  0.20209548699654836\n",
      "solved bellman equation (iter, diff cons, diff medexp)  250 0.13214338804253178 0.8265077054001821\n",
      "grid for k (nk, maxk)  100 190.0\n",
      "stationary distribution converged in  26  iterations \n",
      "grid for k (nk maxk) 500 190.0\n",
      "rate =  0.010519272866657183 demand =  27.629119903320785 supply =  27.76677825833051  tax =  0.20209548699654836\n"
     ]
    }
   ],
   "source": [
    "p = pars.loc[:,'us']\n",
    "theta = params.flexpars(sigma=p['sigma'],beta=p['beta'],\n",
    "                            phi=p['phi'],psi=p['psi'],delta_h1=p['d1'],\n",
    "                            delta_h2=p['d2'],eta=0.0,tfp=p['tfp'],price=p['p'])\n",
    "# option for the numerical solution\n",
    "ne = 10\n",
    "m  = 2.5\n",
    "#op = params.settings(ne=ne,nk=30,maxk=190.0,curv=0.5,nprocs=40)\n",
    "op = params.settings(ne=ne,nk=100,maxk=190.0,curv=0.5,nprocs=40)\n",
    "inc = params.incprocess(country='us')\n",
    "inc.tauchen(ne=ne,m=m)\n",
    "aux = params.auxpars(country='us')  \n",
    "#Decision rules\n",
    "csumers = micro.bellman(options=op,flex=theta,aux=aux,inc=inc,rent=5.6e-2)\n",
    "csumers.compute_cash()\n",
    "csumers.itervalue()\n",
    "# distribution\n",
    "stats = dist.stationary(dp=csumers,nk=500)\n",
    "stats.blowup()\n",
    "stats.compute()\n",
    "# general equilibrium\n",
    "eq = macro.equilibrium(stats=stats,taxes=False,rent=True)#,inirent=irate)\n",
    "eq.solve()\n",
    "aggs = eq.aggregates()\n",
    "hlth = eq.healthreport()\n",
    "\n",
    "# saving aggregate outcomes\n",
    "res = [aggs.M,aggs.Y,aggs.C,aggs.K,aggs.N,p['p']*aggs.M/aggs.Y,(aggs.C+p['p']*aggs.M)/aggs.Y,\n",
    "       aggs.K/aggs.Y,hlth.pH,hlth.gradient[0],hlth.gradient[1],hlth.gradient[2],hlth.pTransGood,\n",
    "       hlth.pTransBad,eq.rent,eq.wage,eq.tax,aggs.M*p['p']*aux.copay]\n",
    "# saving decision rules\n",
    "size = stats.ne*stats.nh*stats.nk\n",
    "opt = pd.DataFrame(index=np.arange(0,size),columns=['e','h','k','ps','c','m','kp','v'])\n",
    "opt.loc[:,'ps'] = eq.stats.probs\n",
    "for i,s in enumerate(stats.states):\n",
    "    e,h,k = s\n",
    "    opt.loc[i,['e','h','k']] = [e,h,k]  \n",
    "    opt.loc[i,'c'] = eq.stats.optc[e,h,k]\n",
    "    opt.loc[i,'m'] = eq.stats.optm[e,h,k]\n",
    "    opt.loc[i,'kp'] = eq.stats.optk[e,h,k]\n",
    "    opt.loc[i,'v'] = eq.stats.value[e,h,k]"
   ]
  },
  {
   "cell_type": "code",
   "execution_count": 6,
   "metadata": {},
   "outputs": [],
   "source": [
    "eqs = []\n",
    "results.loc[:,'pus_ge'] = res\n",
    "eqs.append(eq)"
   ]
  },
  {
   "cell_type": "code",
   "execution_count": 7,
   "metadata": {},
   "outputs": [
    {
     "data": {
      "text/plain": [
       "0.010469272866657178"
      ]
     },
     "execution_count": 7,
     "metadata": {},
     "output_type": "execute_result"
    }
   ],
   "source": [
    "results.loc['r','pus_ge']"
   ]
  },
  {
   "cell_type": "code",
   "execution_count": 8,
   "metadata": {},
   "outputs": [
    {
     "data": {
      "text/plain": [
       "0.13731650586171434"
      ]
     },
     "execution_count": 8,
     "metadata": {},
     "output_type": "execute_result"
    }
   ],
   "source": [
    "results.loc['s','pus_ge']"
   ]
  },
  {
   "cell_type": "code",
   "execution_count": 9,
   "metadata": {},
   "outputs": [
    {
     "data": {
      "text/plain": [
       "0.2885105988216315"
      ]
     },
     "execution_count": 9,
     "metadata": {},
     "output_type": "execute_result"
    }
   ],
   "source": [
    "results.loc['tbad','pus_ge']"
   ]
  },
  {
   "cell_type": "code",
   "execution_count": null,
   "metadata": {},
   "outputs": [],
   "source": []
  },
  {
   "cell_type": "code",
   "execution_count": 5,
   "metadata": {},
   "outputs": [
    {
     "name": "stdout",
     "output_type": "stream",
     "text": [
      "solved bellman equation (iter, diff cons, diff medexp)  250 0.027383992046138173 13.736923340494544\n",
      "grid for k (nk, maxk)  100 190.0\n",
      "stationary distribution converged in  482  iterations \n",
      "grid for k (nk maxk) 500 190.0\n",
      "solved bellman equation (iter, diff cons, diff medexp)  166 0.00022330537889914126 0.0008503771626777734\n",
      "grid for k (nk, maxk)  100 190.0\n",
      "stationary distribution converged in  250  iterations \n",
      "grid for k (nk maxk) 500 190.0\n",
      "rate =  0.0005 demand =  37.412320029399474 supply =  19.104936579489134  tax =  0.20209548699654836\n",
      "solved bellman equation (iter, diff cons, diff medexp)  208 0.00013394845619885132 0.0009819445043568464\n",
      "grid for k (nk, maxk)  100 190.0\n",
      "stationary distribution converged in  554  iterations \n",
      "grid for k (nk maxk) 500 190.0\n",
      "rate =  0.025927835051546503 demand =  19.037152714526233 supply =  83.3235587280796  tax =  0.20209548699654836\n",
      "solved bellman equation (iter, diff cons, diff medexp)  172 0.00021061600542093828 0.0005315988926426485\n",
      "grid for k (nk, maxk)  100 190.0\n",
      "stationary distribution converged in  251  iterations \n",
      "grid for k (nk maxk) 500 190.0\n",
      "rate =  0.006136224341003983 demand =  31.37895985037381 supply =  23.223662355395255  tax =  0.20209548699654836\n",
      "solved bellman equation (iter, diff cons, diff medexp)  137 0.0003242344094651628 0.0008529984397966928\n",
      "grid for k (nk, maxk)  100 190.0\n",
      "stationary distribution converged in  159  iterations \n",
      "grid for k (nk maxk) 500 190.0\n",
      "rate =  0.010154162846597077 demand =  27.979521635464668 supply =  27.287424431663094  tax =  0.20209548699654836\n",
      "solved bellman equation (iter, diff cons, diff medexp)  250 0.006692894388373949 0.04906403225812994\n",
      "grid for k (nk, maxk)  100 190.0\n",
      "stationary distribution converged in  63  iterations \n",
      "grid for k (nk maxk) 500 190.0\n",
      "rate =  0.010503732277004579 demand =  27.712112710911857 supply =  27.74575725692143  tax =  0.20209548699654836\n",
      "solved bellman equation (iter, diff cons, diff medexp)  30 0.0001340243379357453 0.0009504957853891938\n",
      "grid for k (nk, maxk)  100 190.0\n",
      "stationary distribution converged in  29  iterations \n",
      "grid for k (nk maxk) 500 190.0\n",
      "rate =  0.010453732277004574 demand =  27.750107304939206 supply =  27.793391911956007  tax =  0.20209548699654836\n",
      "solved bellman equation (iter, diff cons, diff medexp)  36 0.00011971939708477208 0.0008778406665115313\n",
      "grid for k (nk, maxk)  100 190.0\n",
      "stationary distribution converged in  24  iterations \n",
      "grid for k (nk maxk) 500 190.0\n",
      "rate =  0.010303947561800825 demand =  27.864432862266124 supply =  27.757939798988073  tax =  0.20209548699654836\n",
      "solved bellman equation (iter, diff cons, diff medexp)  15 0.0008458096384442726 0.0009776035812176787\n",
      "grid for k (nk, maxk)  100 190.0\n",
      "stationary distribution converged in  25  iterations \n",
      "grid for k (nk maxk) 500 190.0\n",
      "rate =  0.01040373227700457 demand =  27.788186166939067 supply =  27.74705658857794  tax =  0.20209548699654836\n"
     ]
    }
   ],
   "source": [
    "p = pars.loc[:,'us']\n",
    "theta = params.flexpars(sigma=p['sigma'],beta=p['beta'],\n",
    "                            phi=p['phi'],psi=p['psi'],delta_h1=p['d1'],\n",
    "                            delta_h2=p['d2'],eta=0.0,tfp=p['tfp'],price=p['p'])\n",
    "# option for the numerical solution\n",
    "ne = 10\n",
    "m  = 2.5\n",
    "#op = params.settings(ne=ne,nk=30,maxk=190.0,curv=0.5,nprocs=40)\n",
    "op = params.settings(ne=ne,nk=100,maxk=190.0,curv=0.5,nprocs=40)\n",
    "inc = params.incprocess(country='us')\n",
    "inc.tauchen(ne=ne,m=m)\n",
    "aux = params.auxpars(country='us')  \n",
    "#Decision rules\n",
    "csumers = micro.bellman(options=op,flex=theta,aux=aux,inc=inc,rent=5.6e-2)\n",
    "csumers.compute_cash()\n",
    "csumers.itervalue()\n",
    "# distribution\n",
    "stats = dist.stationary(dp=csumers,nk=500)\n",
    "stats.blowup()\n",
    "stats.compute()\n",
    "# general equilibrium\n",
    "eq = macro.equilibrium(stats=stats,taxes=False,rent=True)#,inirent=irate)\n",
    "eq.solve()\n",
    "aggs = eq.aggregates()\n",
    "hlth = eq.healthreport()\n",
    "\n",
    "# saving aggregate outcomes\n",
    "res = [aggs.M,aggs.Y,aggs.C,aggs.K,aggs.N,p['p']*aggs.M/aggs.Y,(aggs.C+p['p']*aggs.M)/aggs.Y,\n",
    "       aggs.K/aggs.Y,hlth.pH,hlth.gradient[0],hlth.gradient[1],hlth.gradient[2],hlth.pTransGood,\n",
    "       hlth.pTransBad,eq.rent,eq.wage,eq.tax,aggs.M*p['p']*aux.copay]\n",
    "# saving decision rules\n",
    "size = stats.ne*stats.nh*stats.nk\n",
    "opt = pd.DataFrame(index=np.arange(0,size),columns=['e','h','k','ps','c','m','kp','v'])\n",
    "opt.loc[:,'ps'] = eq.stats.probs\n",
    "for i,s in enumerate(stats.states):\n",
    "    e,h,k = s\n",
    "    opt.loc[i,['e','h','k']] = [e,h,k]  \n",
    "    opt.loc[i,'c'] = eq.stats.optc[e,h,k]\n",
    "    opt.loc[i,'m'] = eq.stats.optm[e,h,k]\n",
    "    opt.loc[i,'kp'] = eq.stats.optk[e,h,k]\n",
    "    opt.loc[i,'v'] = eq.stats.value[e,h,k]"
   ]
  },
  {
   "cell_type": "code",
   "execution_count": 6,
   "metadata": {},
   "outputs": [],
   "source": [
    "eqs = []"
   ]
  },
  {
   "cell_type": "code",
   "execution_count": 7,
   "metadata": {},
   "outputs": [],
   "source": [
    "#scenarios = ['pus_ge','peu_ge','peu_pe','aeu_ge','aeu_pe']\n",
    "opt.to_pickle('../output_JPE/opt_pus_ge3.pkl')\n",
    "file = open('../output_JPE/eq_pus_ge3.pkl','wb')\n",
    "pickle.dump(eq,file)\n",
    "file.close()\n",
    "results.loc[:,'pus_ge'] = res\n",
    "eqs.append(eq)"
   ]
  },
  {
   "cell_type": "code",
   "execution_count": 8,
   "metadata": {},
   "outputs": [
    {
     "data": {
      "text/plain": [
       "0.01040373227700457"
      ]
     },
     "execution_count": 8,
     "metadata": {},
     "output_type": "execute_result"
    }
   ],
   "source": [
    "results.loc['r','pus_ge']"
   ]
  },
  {
   "cell_type": "code",
   "execution_count": 9,
   "metadata": {},
   "outputs": [
    {
     "data": {
      "text/plain": [
       "0.13680929931772512"
      ]
     },
     "execution_count": 9,
     "metadata": {},
     "output_type": "execute_result"
    }
   ],
   "source": [
    "results.loc['s','pus_ge']"
   ]
  },
  {
   "cell_type": "code",
   "execution_count": 10,
   "metadata": {},
   "outputs": [
    {
     "data": {
      "text/plain": [
       "0.2957613439712616"
      ]
     },
     "execution_count": 10,
     "metadata": {},
     "output_type": "execute_result"
    }
   ],
   "source": [
    "results.loc['tbad','pus_ge']"
   ]
  },
  {
   "cell_type": "markdown",
   "metadata": {},
   "source": [
    "## GE with EU price"
   ]
  },
  {
   "cell_type": "code",
   "execution_count": 11,
   "metadata": {},
   "outputs": [
    {
     "data": {
      "text/plain": [
       "0.7450567946438661"
      ]
     },
     "execution_count": 11,
     "metadata": {},
     "output_type": "execute_result"
    }
   ],
   "source": [
    "price_eu = pars.loc['p',[c for c in countries if c!='us']].mean()\n",
    "price_eu"
   ]
  },
  {
   "cell_type": "code",
   "execution_count": 12,
   "metadata": {},
   "outputs": [],
   "source": [
    "# Change in health price\n",
    "theta0 = params.flexpars(sigma=p['sigma'],beta=p['beta'],\n",
    "                            phi=p['phi'],psi=p['psi'],delta_h1=p['d1'],\n",
    "                            delta_h2=p['d2'],eta=0.0,tfp=p['tfp'],price=price_eu)"
   ]
  },
  {
   "cell_type": "code",
   "execution_count": 13,
   "metadata": {},
   "outputs": [
    {
     "name": "stdout",
     "output_type": "stream",
     "text": [
      "solved bellman equation (iter, diff cons, diff medexp)  250 0.9625561262451896 13.527354681763878\n",
      "grid for k (nk, maxk)  100 190.0\n",
      "stationary distribution converged in  521  iterations \n",
      "grid for k (nk maxk) 500 190.0\n",
      "solved bellman equation (iter, diff cons, diff medexp)  164 0.00034967009149688977 0.00069911598298944\n",
      "grid for k (nk, maxk)  100 190.0\n",
      "stationary distribution converged in  243  iterations \n",
      "grid for k (nk maxk) 500 190.0\n",
      "rate =  0.0005 demand =  37.412320029399474 supply =  18.940860856215316  tax =  0.20209548699654836\n",
      "solved bellman equation (iter, diff cons, diff medexp)  220 0.00025183138467177457 0.0009459500692505785\n",
      "grid for k (nk, maxk)  100 190.0\n",
      "stationary distribution converged in  554  iterations \n",
      "grid for k (nk maxk) 500 190.0\n",
      "rate =  0.025927835051546503 demand =  19.037152714526233 supply =  83.37028082128985  tax =  0.20209548699654836\n",
      "solved bellman equation (iter, diff cons, diff medexp)  157 0.0004536468010476469 0.0009811675564250777\n",
      "grid for k (nk, maxk)  100 190.0\n",
      "stationary distribution converged in  247  iterations \n",
      "grid for k (nk maxk) 500 190.0\n",
      "rate =  0.0061722608305402864 demand =  31.34555039803594 supply =  23.089126080850797  tax =  0.20209548699654836\n",
      "solved bellman equation (iter, diff cons, diff medexp)  250 1.171978302552482 11.531448505310166\n",
      "grid for k (nk, maxk)  100 190.0\n",
      "stationary distribution converged in  154  iterations \n",
      "grid for k (nk maxk) 500 190.0\n",
      "rate =  0.010235467331438146 demand =  27.91695529268764 supply =  27.152809813907947  tax =  0.20209548699654836\n",
      "solved bellman equation (iter, diff cons, diff medexp)  250 1.1878855233579593 11.68832628467652\n",
      "grid for k (nk, maxk)  100 190.0\n",
      "stationary distribution converged in  58  iterations \n",
      "grid for k (nk maxk) 500 190.0\n",
      "rate =  0.010623694211490356 demand =  27.62129670130018 supply =  27.61217867771534  tax =  0.20209548699654836\n",
      "solved bellman equation (iter, diff cons, diff medexp)  250 1.1905930425367348 11.714488963710238\n",
      "grid for k (nk, maxk)  100 190.0\n",
      "stationary distribution converged in  26  iterations \n",
      "grid for k (nk maxk) 500 190.0\n",
      "rate =  0.010673694211490361 demand =  27.583586635820083 supply =  27.72235133270756  tax =  0.20209548699654836\n",
      "solved bellman equation (iter, diff cons, diff medexp)  169 0.00010076569811978686 0.0008810127673442025\n",
      "grid for k (nk, maxk)  100 190.0\n",
      "stationary distribution converged in  144  iterations \n",
      "grid for k (nk maxk) 500 190.0\n",
      "rate =  0.0005 demand =  37.412320029399474 supply =  20.1206116160635  tax =  0.15134078227992384\n",
      "solved bellman equation (iter, diff cons, diff medexp)  190 8.662966256967053e-05 0.0008575153789216472\n",
      "grid for k (nk, maxk)  100 190.0\n",
      "stationary distribution converged in  567  iterations \n",
      "grid for k (nk maxk) 500 190.0\n",
      "rate =  0.025927835051546503 demand =  19.037152714526233 supply =  86.63314454080452  tax =  0.15134078227992384\n",
      "solved bellman equation (iter, diff cons, diff medexp)  250 1.2688695806106747 12.48457455383679\n",
      "grid for k (nk, maxk)  100 190.0\n",
      "stationary distribution converged in  237  iterations \n",
      "grid for k (nk maxk) 500 190.0\n",
      "rate =  0.005679675124342183 demand =  31.807260339755974 supply =  24.05406588840018  tax =  0.15134078227992384\n",
      "solved bellman equation (iter, diff cons, diff medexp)  250 1.4151194755647065 13.910053281519865\n",
      "grid for k (nk, maxk)  100 190.0\n",
      "stationary distribution converged in  143  iterations \n",
      "grid for k (nk maxk) 500 190.0\n",
      "rate =  0.009456656608913306 demand =  28.5257191083848 supply =  27.832452888176284  tax =  0.15134078227992384\n",
      "solved bellman equation (iter, diff cons, diff medexp)  250 1.4117021800401464 13.837223640206846\n",
      "grid for k (nk, maxk)  100 190.0\n",
      "stationary distribution converged in  49  iterations \n",
      "grid for k (nk maxk) 500 190.0\n",
      "rate =  0.009806588581603763 demand =  28.249563894863986 supply =  28.217927616629375  tax =  0.15134078227992384\n",
      "solved bellman equation (iter, diff cons, diff medexp)  250 1.409653760213585 13.79190403181612\n",
      "grid for k (nk, maxk)  100 190.0\n",
      "stationary distribution converged in  23  iterations \n",
      "grid for k (nk maxk) 500 190.0\n",
      "rate =  0.009856588581603768 demand =  28.210458372857516 supply =  28.318760425065392  tax =  0.15134078227992384\n",
      "solved bellman equation (iter, diff cons, diff medexp)  250 0.15224397955239288 1.4976377011995066\n",
      "grid for k (nk, maxk)  100 190.0\n",
      "stationary distribution converged in  147  iterations \n",
      "grid for k (nk maxk) 500 190.0\n",
      "rate =  0.0005 demand =  37.412320029399474 supply =  20.04991741733234  tax =  0.15465138799016243\n",
      "solved bellman equation (iter, diff cons, diff medexp)  250 0.03668273305950853 12.9641331934132\n",
      "grid for k (nk, maxk)  100 190.0\n",
      "stationary distribution converged in  569  iterations \n",
      "grid for k (nk maxk) 500 190.0\n",
      "rate =  0.025927835051546503 demand =  19.037152714526233 supply =  86.62019411692349  tax =  0.15465138799016243\n",
      "solved bellman equation (iter, diff cons, diff medexp)  250 1.2630273274462223 12.427186243328855\n",
      "grid for k (nk, maxk)  100 190.0\n",
      "stationary distribution converged in  237  iterations \n",
      "grid for k (nk maxk) 500 190.0\n",
      "rate =  0.005697315934248425 demand =  31.790535922589925 supply =  23.997612390381136  tax =  0.15465138799016243\n",
      "solved bellman equation (iter, diff cons, diff medexp)  250 0.436153249182583 1.4022849991268593\n",
      "grid for k (nk, maxk)  100 190.0\n",
      "stationary distribution converged in  144  iterations \n",
      "grid for k (nk maxk) 500 190.0\n",
      "rate =  0.00949217876289998 demand =  28.497487563294694 supply =  27.771946052876558  tax =  0.15465138799016243\n",
      "solved bellman equation (iter, diff cons, diff medexp)  250 0.441552178265578 0.5874984256347018\n",
      "grid for k (nk, maxk)  100 190.0\n",
      "stationary distribution converged in  37  iterations \n",
      "grid for k (nk maxk) 500 190.0\n",
      "rate =  0.00985953214086894 demand =  28.208158911847327 supply =  28.106241317864253  tax =  0.15465138799016243\n",
      "solved bellman equation (iter, diff cons, diff medexp)  250 0.44287629663062233 0.7710478086560784\n",
      "grid for k (nk, maxk)  100 190.0\n",
      "stationary distribution converged in  40  iterations \n",
      "grid for k (nk maxk) 500 190.0\n",
      "rate =  0.009919187276195661 demand =  28.161622486178423 supply =  28.307917177913893  tax =  0.15465138799016243\n",
      "solved bellman equation (iter, diff cons, diff medexp)  159 0.0003604320449515086 0.000916333544552117\n",
      "grid for k (nk, maxk)  100 190.0\n",
      "stationary distribution converged in  147  iterations \n",
      "grid for k (nk maxk) 500 190.0\n",
      "rate =  0.0005 demand =  37.412320029399474 supply =  20.055229414659895  tax =  0.15432212084888045\n",
      "solved bellman equation (iter, diff cons, diff medexp)  250 0.03646983339068477 12.966282477910196\n",
      "grid for k (nk, maxk)  100 190.0\n",
      "stationary distribution converged in  569  iterations \n",
      "grid for k (nk maxk) 500 190.0\n",
      "rate =  0.025927835051546503 demand =  19.037152714526233 supply =  86.6428628209989  tax =  0.15432212084888045\n",
      "solved bellman equation (iter, diff cons, diff medexp)  250 1.261922690256661 12.416312001069844\n",
      "grid for k (nk, maxk)  100 190.0\n",
      "stationary distribution converged in  237  iterations \n",
      "grid for k (nk maxk) 500 190.0\n",
      "rate =  0.005694664410540711 demand =  31.7930487990159 supply =  24.01400786517955  tax =  0.15432212084888045\n",
      "solved bellman equation (iter, diff cons, diff medexp)  250 1.3925723113287773 13.699711865960925\n",
      "grid for k (nk, maxk)  100 190.0\n",
      "stationary distribution converged in  144  iterations \n",
      "grid for k (nk maxk) 500 190.0\n",
      "rate =  0.009478274209220792 demand =  28.5085329488407 supply =  27.77975789567018  tax =  0.15432212084888045\n",
      "solved bellman equation (iter, diff cons, diff medexp)  250 1.4231828429893714 13.993954858822347\n",
      "grid for k (nk, maxk)  100 190.0\n",
      "stationary distribution converged in  33  iterations \n",
      "grid for k (nk maxk) 500 190.0\n",
      "rate =  0.009847124408245941 demand =  28.21785368582493 supply =  28.084146358789837  tax =  0.15432212084888045\n",
      "solved bellman equation (iter, diff cons, diff medexp)  250 1.422877283553687 13.981291452302981\n",
      "grid for k (nk, maxk)  100 190.0\n",
      "stationary distribution converged in  31  iterations \n",
      "grid for k (nk maxk) 500 190.0\n",
      "rate =  0.00992945695886862 demand =  28.153623720357118 supply =  28.277600018860785  tax =  0.15432212084888045\n"
     ]
    }
   ],
   "source": [
    "#Decision rules\n",
    "csumers0 = micro.bellman(options=op,flex=theta0,aux=aux,inc=inc,rent=5.6e-2)\n",
    "csumers0.compute_cash()\n",
    "csumers0.itervalue()\n",
    "# distribution\n",
    "stats0 = dist.stationary(dp=csumers0,nk=500)\n",
    "stats0.blowup()\n",
    "stats0.compute()\n",
    "# general equilibrium\n",
    "eq0 = macro.equilibrium(stats=stats0,taxes=True,rent=True)#,inirent=irate)\n",
    "eq0.solve()\n",
    "aggs0 = eq0.aggregates()\n",
    "hlth0 = eq0.healthreport()\n",
    "\n",
    "# saving aggregate outcomes\n",
    "res0 = [aggs0.M,aggs0.Y,aggs0.C,aggs0.K,aggs0.N,price_eu*aggs0.M/aggs0.Y,(aggs0.C+price_eu*aggs0.M)/aggs0.Y,\n",
    "       aggs0.K/aggs0.Y,hlth0.pH,hlth0.gradient[0],hlth0.gradient[1],hlth0.gradient[2],hlth0.pTransGood,\n",
    "       hlth0.pTransBad,eq0.rent,eq0.wage,eq0.tax,aggs0.M*price_eu*aux.copay]\n",
    "# saving decision rules\n",
    "size = stats0.ne*stats0.nh*stats0.nk\n",
    "opt0 = pd.DataFrame(index=np.arange(0,size),columns=['e','h','k','ps','c','m','kp','v'])\n",
    "opt0.loc[:,'ps'] = eq0.stats.probs\n",
    "for i,s in enumerate(stats0.states):\n",
    "    e,h,k = s\n",
    "    opt0.loc[i,['e','h','k']] = [e,h,k]  \n",
    "    opt0.loc[i,'c']  = eq0.stats.optc[e,h,k]\n",
    "    opt0.loc[i,'m']  = eq0.stats.optm[e,h,k]\n",
    "    opt0.loc[i,'kp'] = eq0.stats.optk[e,h,k]\n",
    "    opt0.loc[i,'v']  = eq0.stats.value[e,h,k]"
   ]
  },
  {
   "cell_type": "code",
   "execution_count": 14,
   "metadata": {},
   "outputs": [],
   "source": [
    "eqs0 = []"
   ]
  },
  {
   "cell_type": "code",
   "execution_count": 15,
   "metadata": {},
   "outputs": [],
   "source": [
    "scenarios = ['peu_ge']\n",
    "results0  = pd.DataFrame(index=outcomes,columns=scenarios)"
   ]
  },
  {
   "cell_type": "code",
   "execution_count": 16,
   "metadata": {},
   "outputs": [],
   "source": [
    "#scenarios = ['pus_ge','peu_ge','peu_pe','aeu_ge','aeu_pe']\n",
    "opt0.to_pickle('../output_JPE/opt_peu_ge3.pkl')\n",
    "file = open('../output_JPE/eq_peu_ge3.pkl','wb')\n",
    "pickle.dump(eq0,file)\n",
    "file.close()\n",
    "results0.loc[:,'peu_ge'] = res0\n",
    "eqs0.append(eq0)"
   ]
  },
  {
   "cell_type": "code",
   "execution_count": 17,
   "metadata": {},
   "outputs": [
    {
     "data": {
      "text/plain": [
       "0.00992945695886862"
      ]
     },
     "execution_count": 17,
     "metadata": {},
     "output_type": "execute_result"
    }
   ],
   "source": [
    "results0.loc['r','peu_ge']"
   ]
  },
  {
   "cell_type": "code",
   "execution_count": 18,
   "metadata": {},
   "outputs": [
    {
     "data": {
      "text/plain": [
       "0.11032707996678197"
      ]
     },
     "execution_count": 18,
     "metadata": {},
     "output_type": "execute_result"
    }
   ],
   "source": [
    "results0.loc['s','peu_ge']"
   ]
  },
  {
   "cell_type": "code",
   "execution_count": 19,
   "metadata": {},
   "outputs": [
    {
     "data": {
      "text/plain": [
       "0.37226943420664727"
      ]
     },
     "execution_count": 19,
     "metadata": {},
     "output_type": "execute_result"
    }
   ],
   "source": [
    "results0.loc['tbad','peu_ge']"
   ]
  },
  {
   "cell_type": "code",
   "execution_count": 20,
   "metadata": {},
   "outputs": [
    {
     "data": {
      "text/plain": [
       "0.00047427531813594957"
      ]
     },
     "execution_count": 20,
     "metadata": {},
     "output_type": "execute_result"
    }
   ],
   "source": [
    "results.loc['r','pus_ge']-results0.loc['r','peu_ge']"
   ]
  },
  {
   "cell_type": "code",
   "execution_count": 21,
   "metadata": {},
   "outputs": [
    {
     "data": {
      "text/plain": [
       "0.005025691636291727"
      ]
     },
     "execution_count": 21,
     "metadata": {},
     "output_type": "execute_result"
    }
   ],
   "source": [
    "(results0.loc['w','peu_ge']-results.loc['w','pus_ge'])/results.loc['w','pus_ge']"
   ]
  },
  {
   "cell_type": "code",
   "execution_count": 22,
   "metadata": {},
   "outputs": [
    {
     "data": {
      "text/plain": [
       "0.04756958366350883"
      ]
     },
     "execution_count": 22,
     "metadata": {},
     "output_type": "execute_result"
    }
   ],
   "source": [
    "results.loc['tax','pus_ge']-results0.loc['tax','peu_ge']"
   ]
  },
  {
   "cell_type": "code",
   "execution_count": 23,
   "metadata": {},
   "outputs": [
    {
     "data": {
      "text/plain": [
       "0.06494345490637056"
      ]
     },
     "execution_count": 23,
     "metadata": {},
     "output_type": "execute_result"
    }
   ],
   "source": [
    "((1-results0.loc['tax','peu_ge'])*results0.loc['w','peu_ge']-(1-results.loc['tax','pus_ge'])*results.loc['w','pus_ge'])/((1-results.loc['tax','pus_ge'])*results.loc['w','pus_ge'])\n"
   ]
  },
  {
   "cell_type": "markdown",
   "metadata": {},
   "source": [
    "## PE with EU price"
   ]
  },
  {
   "cell_type": "code",
   "execution_count": 24,
   "metadata": {},
   "outputs": [
    {
     "name": "stdout",
     "output_type": "stream",
     "text": [
      "solved bellman equation (iter, diff cons, diff medexp)  250 1.1818253336614308 11.628831768186359\n",
      "grid for k (nk, maxk)  100 190.0\n",
      "stationary distribution converged in  268  iterations \n",
      "grid for k (nk maxk) 500 190.0\n",
      "solved bellman equation (iter, diff cons, diff medexp)  250 1.1818449390508068 11.62856925682016\n",
      "grid for k (nk, maxk)  100 190.0\n",
      "stationary distribution converged in  15  iterations \n",
      "grid for k (nk maxk) 500 190.0\n"
     ]
    }
   ],
   "source": [
    "#Decision rules\n",
    "csumers1 = micro.bellman(options=op,flex=theta0,aux=aux,inc=inc,rent=results.loc['r','pus_ge'],\n",
    "                                                                taxrate=results.loc['tax','pus_ge'],\n",
    "                                                                wage=results.loc['w','pus_ge'])\n",
    "csumers1.compute_cash()\n",
    "csumers1.itervalue()\n",
    "# distribution\n",
    "stats1 = dist.stationary(dp=csumers1,nk=500)\n",
    "stats1.blowup()\n",
    "stats1.compute()\n",
    "# general equilibrium\n",
    "eq1 = macro.equilibrium(stats=stats1,taxes=False,rent=False,inirent=results.loc['r','pus_ge'],\n",
    "                                                            initax=results.loc['tax','pus_ge'])\n",
    "eq1.solve()\n",
    "aggs1 = eq1.aggregates()\n",
    "hlth1 = eq1.healthreport()\n",
    "\n",
    "# saving aggregate outcomes\n",
    "res1 = [aggs1.M,aggs0.Y,aggs1.C,aggs1.K,aggs1.N,price_eu*aggs1.M/aggs1.Y,(aggs1.C+price_eu*aggs1.M)/aggs1.Y,\n",
    "       aggs1.K/aggs0.Y,hlth1.pH,hlth1.gradient[0],hlth1.gradient[1],hlth1.gradient[2],hlth1.pTransGood,\n",
    "       hlth1.pTransBad,eq1.rent,eq1.wage,eq1.tax,aggs1.M*price_eu*aux.copay]\n",
    "# saving decision rules\n",
    "size = stats1.ne*stats1.nh*stats1.nk\n",
    "opt1 = pd.DataFrame(index=np.arange(0,size),columns=['e','h','k','ps','c','m','kp','v'])\n",
    "opt1.loc[:,'ps'] = eq1.stats.probs\n",
    "for i,s in enumerate(stats1.states):\n",
    "    e,h,k = s\n",
    "    opt1.loc[i,['e','h','k']] = [e,h,k]  \n",
    "    opt1.loc[i,'c']  = eq1.stats.optc[e,h,k]\n",
    "    opt1.loc[i,'m']  = eq1.stats.optm[e,h,k]\n",
    "    opt1.loc[i,'kp'] = eq1.stats.optk[e,h,k]\n",
    "    opt1.loc[i,'v']  = eq1.stats.value[e,h,k]"
   ]
  },
  {
   "cell_type": "code",
   "execution_count": 25,
   "metadata": {},
   "outputs": [],
   "source": [
    "eqs1 = []"
   ]
  },
  {
   "cell_type": "code",
   "execution_count": 26,
   "metadata": {},
   "outputs": [],
   "source": [
    "scenarios = ['peu_pe']\n",
    "results1  = pd.DataFrame(index=outcomes,columns=scenarios)"
   ]
  },
  {
   "cell_type": "code",
   "execution_count": 27,
   "metadata": {},
   "outputs": [],
   "source": [
    "#scenarios = ['pus_ge','peu_ge','peu_pe','aeu_ge','aeu_pe']\n",
    "opt1.to_pickle('../output_JPE/opt_peu_pe3.pkl')\n",
    "file = open('../output_JPE/eq_peu_pe3.pkl','wb')\n",
    "pickle.dump(eq1,file)\n",
    "file.close()\n",
    "results1.loc[:,'peu_pe'] = res1\n",
    "eqs1.append(eq1)"
   ]
  },
  {
   "cell_type": "code",
   "execution_count": 28,
   "metadata": {},
   "outputs": [
    {
     "data": {
      "text/plain": [
       "0.01040373227700457"
      ]
     },
     "execution_count": 28,
     "metadata": {},
     "output_type": "execute_result"
    }
   ],
   "source": [
    "results1.loc['r','peu_pe']"
   ]
  },
  {
   "cell_type": "code",
   "execution_count": 29,
   "metadata": {},
   "outputs": [
    {
     "data": {
      "text/plain": [
       "0.10800632798940107"
      ]
     },
     "execution_count": 29,
     "metadata": {},
     "output_type": "execute_result"
    }
   ],
   "source": [
    "results1.loc['s','peu_pe']"
   ]
  },
  {
   "cell_type": "code",
   "execution_count": 30,
   "metadata": {},
   "outputs": [
    {
     "data": {
      "text/plain": [
       "0.3614414828332677"
      ]
     },
     "execution_count": 30,
     "metadata": {},
     "output_type": "execute_result"
    }
   ],
   "source": [
    "results1.loc['tbad','peu_pe']"
   ]
  },
  {
   "cell_type": "markdown",
   "metadata": {},
   "source": [
    "## GE with EU TFP"
   ]
  },
  {
   "cell_type": "code",
   "execution_count": 31,
   "metadata": {},
   "outputs": [
    {
     "data": {
      "text/plain": [
       "0.9124184429499074"
      ]
     },
     "execution_count": 31,
     "metadata": {},
     "output_type": "execute_result"
    }
   ],
   "source": [
    "tfp_eu = pars.loc['tfp',[c for c in countries if c!='us']].mean()\n",
    "tfp_eu"
   ]
  },
  {
   "cell_type": "code",
   "execution_count": 32,
   "metadata": {},
   "outputs": [],
   "source": [
    "theta1 = params.flexpars(sigma=p['sigma'],beta=p['beta'],\n",
    "                         phi=p['phi'],psi=p['psi'],delta_h1=p['d1'],\n",
    "                         delta_h2=p['d2'],eta=0.0,tfp=tfp_eu,price=p['p'])"
   ]
  },
  {
   "cell_type": "code",
   "execution_count": 33,
   "metadata": {},
   "outputs": [
    {
     "name": "stdout",
     "output_type": "stream",
     "text": [
      "solved bellman equation (iter, diff cons, diff medexp)  250 0.027383992046138173 13.736923340494544\n",
      "grid for k (nk, maxk)  100 190.0\n",
      "stationary distribution converged in  482  iterations \n",
      "grid for k (nk maxk) 500 190.0\n",
      "solved bellman equation (iter, diff cons, diff medexp)  160 0.0005572117344812 0.0009192370537363104\n",
      "grid for k (nk, maxk)  100 190.0\n",
      "stationary distribution converged in  263  iterations \n",
      "grid for k (nk maxk) 500 190.0\n",
      "rate =  0.0005 demand =  32.24228817303735 supply =  16.377862281731133  tax =  0.20209548699654836\n",
      "solved bellman equation (iter, diff cons, diff medexp)  250 1.579431249908117 11.578437841955434\n",
      "grid for k (nk, maxk)  100 190.0\n",
      "stationary distribution converged in  511  iterations \n",
      "grid for k (nk maxk) 500 190.0\n",
      "rate =  0.025927835051546503 demand =  16.40639669856175 supply =  73.05016961124517  tax =  0.20209548699654836\n",
      "solved bellman equation (iter, diff cons, diff medexp)  250 0.5223612424328827 2.615144260639635\n",
      "grid for k (nk, maxk)  100 190.0\n",
      "stationary distribution converged in  260  iterations \n",
      "grid for k (nk maxk) 500 190.0\n",
      "rate =  0.0060634812532320385 demand =  27.100953708508115 supply =  19.832268821722696  tax =  0.20209548699654836\n",
      "solved bellman equation (iter, diff cons, diff medexp)  134 0.00026460545309436867 0.0009325262266955403\n",
      "grid for k (nk, maxk)  100 190.0\n",
      "stationary distribution converged in  170  iterations \n",
      "grid for k (nk maxk) 500 190.0\n",
      "rate =  0.01023299877513858 demand =  24.060728066345312 supply =  23.585565040903568  tax =  0.20209548699654836\n",
      "solved bellman equation (iter, diff cons, diff medexp)  44 0.00010073082775430287 0.0007394678983452252\n",
      "grid for k (nk, maxk)  100 190.0\n",
      "stationary distribution converged in  65  iterations \n",
      "grid for k (nk maxk) 500 190.0\n",
      "rate =  0.010506311550836351 demand =  23.880871404215192 supply =  23.85479950957827  tax =  0.20209548699654836\n",
      "solved bellman equation (iter, diff cons, diff medexp)  11 0.0001320730309632978 0.0008571522045635049\n",
      "grid for k (nk, maxk)  100 190.0\n",
      "stationary distribution converged in  23  iterations \n",
      "grid for k (nk maxk) 500 190.0\n",
      "rate =  0.010556311550836356 demand =  23.848203436819777 supply =  23.90978987748312  tax =  0.20209548699654836\n",
      "solved bellman equation (iter, diff cons, diff medexp)  140 0.0004300987793044442 0.0008783728884509401\n",
      "grid for k (nk, maxk)  100 190.0\n",
      "stationary distribution converged in  165  iterations \n",
      "grid for k (nk maxk) 500 190.0\n",
      "rate =  0.0005 demand =  32.24228817303735 supply =  16.129382007802036  tax =  0.21316736910005507\n",
      "solved bellman equation (iter, diff cons, diff medexp)  250 1.3865943069428521 9.97986074118227\n",
      "grid for k (nk, maxk)  100 190.0\n",
      "stationary distribution converged in  504  iterations \n",
      "grid for k (nk maxk) 500 190.0\n",
      "rate =  0.025927835051546503 demand =  16.40639669856175 supply =  71.88716106199665  tax =  0.21316736910005507\n",
      "solved bellman equation (iter, diff cons, diff medexp)  250 0.0005857107812463624 0.005175818561411916\n",
      "grid for k (nk, maxk)  100 190.0\n",
      "stationary distribution converged in  262  iterations \n",
      "grid for k (nk maxk) 500 190.0\n",
      "rate =  0.006222800872551665 demand =  26.97359193093138 supply =  19.670281854330966  tax =  0.21316736910005507\n",
      "solved bellman equation (iter, diff cons, diff medexp)  250 0.06448115507163144 12.897148638875493\n",
      "grid for k (nk, maxk)  100 190.0\n",
      "stationary distribution converged in  172  iterations \n",
      "grid for k (nk maxk) 500 190.0\n",
      "rate =  0.010415226018048394 demand =  23.94056919846763 supply =  23.420034501339778  tax =  0.21316736910005507\n",
      "solved bellman equation (iter, diff cons, diff medexp)  250 0.18690202166998415 13.180474189813026\n",
      "grid for k (nk, maxk)  100 190.0\n",
      "stationary distribution converged in  63  iterations \n",
      "grid for k (nk maxk) 500 190.0\n",
      "rate =  0.010716314339923342 demand =  23.7441480249936 supply =  23.754514776629755  tax =  0.21316736910005507\n",
      "solved bellman equation (iter, diff cons, diff medexp)  250 0.03390320328732721 13.185118856928987\n",
      "grid for k (nk, maxk)  100 190.0\n",
      "stationary distribution converged in  28  iterations \n",
      "grid for k (nk maxk) 500 190.0\n",
      "rate =  0.010666314339923337 demand =  23.77658582155424 supply =  23.786783359957845  tax =  0.21316736910005507\n",
      "solved bellman equation (iter, diff cons, diff medexp)  250 0.03259638524998376 13.197473801046081\n",
      "grid for k (nk, maxk)  100 190.0\n",
      "stationary distribution converged in  25  iterations \n",
      "grid for k (nk maxk) 500 190.0\n",
      "rate =  0.010540770178985866 demand =  23.858349797301823 supply =  23.740815277866687  tax =  0.21316736910005507\n",
      "solved bellman equation (iter, diff cons, diff medexp)  250 0.03352278049124191 13.189183496277959\n",
      "grid for k (nk, maxk)  100 190.0\n",
      "stationary distribution converged in  26  iterations \n",
      "grid for k (nk maxk) 500 190.0\n",
      "rate =  0.010616314339923332 demand =  23.80909530395024 supply =  23.754118551676598  tax =  0.21316736910005507\n",
      "solved bellman equation (iter, diff cons, diff medexp)  140 0.00048131451477306797 0.0009682908052610628\n",
      "grid for k (nk, maxk)  100 190.0\n",
      "stationary distribution converged in  164  iterations \n",
      "grid for k (nk maxk) 500 190.0\n",
      "rate =  0.0005 demand =  32.24228817303735 supply =  16.129596710093352  tax =  0.21320361249552772\n",
      "solved bellman equation (iter, diff cons, diff medexp)  250 1.3861351563589874 9.98576833943439\n",
      "grid for k (nk, maxk)  100 190.0\n",
      "stationary distribution converged in  504  iterations \n",
      "grid for k (nk maxk) 500 190.0\n",
      "rate =  0.025927835051546503 demand =  16.40639669856175 supply =  71.88551089916974  tax =  0.21320361249552772\n",
      "solved bellman equation (iter, diff cons, diff medexp)  157 0.0005743095908190554 0.0009690037661407302\n",
      "grid for k (nk, maxk)  100 190.0\n",
      "stationary distribution converged in  262  iterations \n",
      "grid for k (nk maxk) 500 190.0\n",
      "rate =  0.006222873685874762 demand =  26.973533944498136 supply =  19.675327927571885  tax =  0.21320361249552772\n",
      "solved bellman equation (iter, diff cons, diff medexp)  250 0.07521120943143411 12.897571012969061\n",
      "grid for k (nk, maxk)  100 190.0\n",
      "stationary distribution converged in  172  iterations \n",
      "grid for k (nk maxk) 500 190.0\n",
      "rate =  0.010410424204041886 demand =  23.94372301667687 supply =  23.41204876832507  tax =  0.21320361249552772\n",
      "solved bellman equation (iter, diff cons, diff medexp)  250 0.03435000081852857 13.180064433786212\n",
      "grid for k (nk, maxk)  100 190.0\n",
      "stationary distribution converged in  65  iterations \n",
      "grid for k (nk maxk) 500 190.0\n",
      "rate =  0.010718329443482163 demand =  23.742842214256473 supply =  23.759448468411666  tax =  0.21320361249552772\n",
      "solved bellman equation (iter, diff cons, diff medexp)  250 0.033955256926264665 13.184435396829421\n",
      "grid for k (nk, maxk)  100 190.0\n",
      "stationary distribution converged in  28  iterations \n",
      "grid for k (nk maxk) 500 190.0\n",
      "rate =  0.010668329443482158 demand =  23.77527712630854 supply =  23.789610205910055  tax =  0.21320361249552772\n",
      "solved bellman equation (iter, diff cons, diff medexp)  250 0.19772714527551027 13.194907033070326\n",
      "grid for k (nk, maxk)  100 190.0\n",
      "stationary distribution converged in  41  iterations \n",
      "grid for k (nk maxk) 500 190.0\n",
      "rate =  0.010539376823762022 demand =  23.859259805832576 supply =  23.72820491883428  tax =  0.21320361249552772\n",
      "solved bellman equation (iter, diff cons, diff medexp)  250 0.03349631060219915 13.18979473774468\n",
      "grid for k (nk, maxk)  100 190.0\n",
      "stationary distribution converged in  26  iterations \n",
      "grid for k (nk maxk) 500 190.0\n",
      "rate =  0.010618329443482153 demand =  23.807783715387153 supply =  23.750318050251543  tax =  0.21320361249552772\n",
      "solved bellman equation (iter, diff cons, diff medexp)  142 0.00044522933145518806 0.0008640492879550266\n",
      "grid for k (nk, maxk)  100 190.0\n",
      "stationary distribution converged in  164  iterations \n",
      "grid for k (nk maxk) 500 190.0\n",
      "rate =  0.0005 demand =  32.24228817303735 supply =  16.130399993714622  tax =  0.2132188930733488\n",
      "solved bellman equation (iter, diff cons, diff medexp)  250 1.3863155451967817 9.989555590524734\n",
      "grid for k (nk, maxk)  100 190.0\n",
      "stationary distribution converged in  504  iterations \n",
      "grid for k (nk maxk) 500 190.0\n",
      "rate =  0.025927835051546503 demand =  16.40639669856175 supply =  71.88398066808314  tax =  0.2132188930733488\n",
      "solved bellman equation (iter, diff cons, diff medexp)  157 0.0005735430208613224 0.0009310441951555504\n",
      "grid for k (nk, maxk)  100 190.0\n"
     ]
    },
    {
     "name": "stdout",
     "output_type": "stream",
     "text": [
      "stationary distribution converged in  262  iterations \n",
      "grid for k (nk maxk) 500 190.0\n",
      "rate =  0.006222774909430521 demand =  26.973612607261963 supply =  19.68463936226936  tax =  0.2132188930733488\n",
      "solved bellman equation (iter, diff cons, diff medexp)  250 0.06432192905747847 12.898942028809946\n",
      "grid for k (nk, maxk)  100 190.0\n",
      "stationary distribution converged in  172  iterations \n",
      "grid for k (nk maxk) 500 190.0\n",
      "rate =  0.010401561187450097 demand =  23.949545985465658 supply =  23.4083806588268  tax =  0.2132188930733488\n",
      "solved bellman equation (iter, diff cons, diff medexp)  250 0.03428073483308325 13.181045133025233\n",
      "grid for k (nk, maxk)  100 190.0\n",
      "stationary distribution converged in  45  iterations \n",
      "grid for k (nk maxk) 500 190.0\n",
      "rate =  0.010715194054451867 demand =  23.74487403332216 supply =  23.699909983740017  tax =  0.2132188930733488\n",
      "solved bellman equation (iter, diff cons, diff medexp)  250 0.03472772010679415 13.175891602912252\n",
      "grid for k (nk, maxk)  100 190.0\n",
      "stationary distribution converged in  54  iterations \n",
      "grid for k (nk maxk) 500 190.0\n",
      "rate =  0.010765194054451872 demand =  23.712506105533528 supply =  23.852752471428182  tax =  0.2132188930733488\n"
     ]
    }
   ],
   "source": [
    "#Decision rules\n",
    "csumers2 = micro.bellman(options=op,flex=theta1,aux=aux,inc=inc,rent=5.6e-2)\n",
    "csumers2.compute_cash()\n",
    "csumers2.itervalue()\n",
    "# distribution\n",
    "stats2 = dist.stationary(dp=csumers2,nk=500)\n",
    "stats2.blowup()\n",
    "stats2.compute()\n",
    "# general equilibrium\n",
    "eq2 = macro.equilibrium(stats=stats2,taxes=True,rent=True)\n",
    "eq2.solve()\n",
    "aggs2 = eq2.aggregates()\n",
    "hlth2 = eq2.healthreport()\n",
    "\n",
    "# saving aggregate outcomes\n",
    "res2 = [aggs2.M,aggs2.Y,aggs2.C,aggs2.K,aggs2.N,price_eu*aggs2.M/aggs2.Y,(aggs2.C+p['p']*aggs2.M)/aggs2.Y,\n",
    "       aggs2.K/aggs2.Y,hlth2.pH,hlth2.gradient[0],hlth2.gradient[1],hlth2.gradient[2],hlth2.pTransGood,\n",
    "       hlth2.pTransBad,eq2.rent,eq2.wage,eq2.tax,aggs2.M*p['p']*aux.copay]\n",
    "# saving decision rules\n",
    "size = stats2.ne*stats2.nh*stats2.nk\n",
    "opt2 = pd.DataFrame(index=np.arange(0,size),columns=['e','h','k','ps','c','m','kp','v'])\n",
    "opt2.loc[:,'ps'] = eq2.stats.probs\n",
    "for i,s in enumerate(stats2.states):\n",
    "    e,h,k = s\n",
    "    opt2.loc[i,['e','h','k']] = [e,h,k]  \n",
    "    opt2.loc[i,'c']  = eq2.stats.optc[e,h,k]\n",
    "    opt2.loc[i,'m']  = eq2.stats.optm[e,h,k]\n",
    "    opt2.loc[i,'kp'] = eq2.stats.optk[e,h,k]\n",
    "    opt2.loc[i,'v']  = eq2.stats.value[e,h,k]"
   ]
  },
  {
   "cell_type": "code",
   "execution_count": 34,
   "metadata": {},
   "outputs": [],
   "source": [
    "eqs2 = []"
   ]
  },
  {
   "cell_type": "code",
   "execution_count": 35,
   "metadata": {},
   "outputs": [],
   "source": [
    "scenarios = ['aeu_ge']\n",
    "results2  = pd.DataFrame(index=outcomes,columns=scenarios)"
   ]
  },
  {
   "cell_type": "code",
   "execution_count": 36,
   "metadata": {},
   "outputs": [],
   "source": [
    "#scenarios = ['pus_ge','peu_ge','peu_pe','aeu_ge','aeu_pe']\n",
    "opt2.to_pickle('../output_JPE/opt_aeu_ge3.pkl')\n",
    "file = open('../output_JPE/eq_aeu_ge3.pkl','wb')\n",
    "pickle.dump(eq2,file)\n",
    "file.close()\n",
    "results2.loc[:,'aeu_ge'] = res2\n",
    "eqs2.append(eq2)"
   ]
  },
  {
   "cell_type": "code",
   "execution_count": 37,
   "metadata": {},
   "outputs": [
    {
     "data": {
      "text/plain": [
       "0.010715194054451867"
      ]
     },
     "execution_count": 37,
     "metadata": {},
     "output_type": "execute_result"
    }
   ],
   "source": [
    "results2.loc['r','aeu_ge']"
   ]
  },
  {
   "cell_type": "code",
   "execution_count": 38,
   "metadata": {},
   "outputs": [
    {
     "data": {
      "text/plain": [
       "0.11336273873554402"
      ]
     },
     "execution_count": 38,
     "metadata": {},
     "output_type": "execute_result"
    }
   ],
   "source": [
    "results2.loc['s','aeu_ge']"
   ]
  },
  {
   "cell_type": "code",
   "execution_count": 39,
   "metadata": {},
   "outputs": [
    {
     "data": {
      "text/plain": [
       "0.2273464977120004"
      ]
     },
     "execution_count": 39,
     "metadata": {},
     "output_type": "execute_result"
    }
   ],
   "source": [
    "results2.loc['tbad','aeu_ge']"
   ]
  },
  {
   "cell_type": "markdown",
   "metadata": {},
   "source": [
    "## PE with EU TFP"
   ]
  },
  {
   "cell_type": "code",
   "execution_count": 40,
   "metadata": {},
   "outputs": [
    {
     "name": "stdout",
     "output_type": "stream",
     "text": [
      "solved bellman equation (iter, diff cons, diff medexp)  179 0.00044335489208080503 0.0008251820172198165\n",
      "grid for k (nk, maxk)  100 190.0\n",
      "stationary distribution converged in  287  iterations \n",
      "grid for k (nk maxk) 500 190.0\n",
      "solved bellman equation (iter, diff cons, diff medexp)  100 0.0004332250116867442 0.0008807230952534439\n",
      "grid for k (nk, maxk)  100 190.0\n",
      "stationary distribution converged in  101  iterations \n",
      "grid for k (nk maxk) 500 190.0\n"
     ]
    }
   ],
   "source": [
    "# Partial equilibrium for househlods => decline of the wage\n",
    "#Decision rules\n",
    "csumers3 = micro.bellman(options=op,flex=theta1,aux=aux,inc=inc,rent=results.loc['r','pus_ge'],\n",
    "                                                                taxrate=results.loc['tax','pus_ge'],\n",
    "                                                                wage=tfp_eu*results.loc['w','pus_ge'])\n",
    "csumers3.compute_cash()\n",
    "csumers3.itervalue()\n",
    "# distribution\n",
    "stats3 = dist.stationary(dp=csumers3,nk=500)\n",
    "stats3.blowup()\n",
    "stats3.compute()\n",
    "# general equilibrium\n",
    "eq3 = macro.equilibrium(stats=stats3,taxes=False,rent=False,inirent=results.loc['r','pus_ge'],\n",
    "                                                            initax=results.loc['tax','pus_ge'])\n",
    "eq3.solve()\n",
    "aggs3 = eq3.aggregates()\n",
    "hlth3 = eq3.healthreport()\n",
    "\n",
    "# saving aggregate outcomes\n",
    "res3 = [aggs3.M,aggs0.Y,aggs3.C,aggs3.K,aggs3.N,price_eu*aggs3.M/aggs3.Y,(aggs3.C+price_eu*aggs3.M)/aggs3.Y,\n",
    "       aggs3.K/aggs0.Y,hlth3.pH,hlth3.gradient[0],hlth3.gradient[1],hlth3.gradient[2],hlth3.pTransGood,\n",
    "       hlth3.pTransBad,eq3.rent,eq3.wage,eq3.tax,aggs3.M*price_eu*aux.copay]\n",
    "# saving decision rules\n",
    "size = stats3.ne*stats3.nh*stats3.nk\n",
    "opt3 = pd.DataFrame(index=np.arange(0,size),columns=['e','h','k','ps','c','m','kp','v'])\n",
    "opt3.loc[:,'ps'] = eq3.stats.probs\n",
    "for i,s in enumerate(stats3.states):\n",
    "    e,h,k = s\n",
    "    opt3.loc[i,['e','h','k']] = [e,h,k]  \n",
    "    opt3.loc[i,'c']  = eq3.stats.optc[e,h,k]\n",
    "    opt3.loc[i,'m']  = eq3.stats.optm[e,h,k]\n",
    "    opt3.loc[i,'kp'] = eq3.stats.optk[e,h,k]\n",
    "    opt3.loc[i,'v']  = eq3.stats.value[e,h,k]"
   ]
  },
  {
   "cell_type": "code",
   "execution_count": 41,
   "metadata": {},
   "outputs": [],
   "source": [
    "eqs3 = []"
   ]
  },
  {
   "cell_type": "code",
   "execution_count": 42,
   "metadata": {},
   "outputs": [],
   "source": [
    "scenarios = ['aeu_pe']\n",
    "results3  = pd.DataFrame(index=outcomes,columns=scenarios)"
   ]
  },
  {
   "cell_type": "code",
   "execution_count": 43,
   "metadata": {},
   "outputs": [],
   "source": [
    "#scenarios = ['pus_ge','peu_ge','peu_pe','aeu_ge','aeu_pe']\n",
    "opt3.to_pickle('../output_JPE/opt_aeu_pe3.pkl')\n",
    "file = open('../output_JPE/eq_aeu_pe3.pkl','wb')\n",
    "pickle.dump(eq3,file)\n",
    "file.close()\n",
    "results3.loc[:,'aeu_pe'] = res3\n",
    "eqs3.append(eq3)"
   ]
  },
  {
   "cell_type": "code",
   "execution_count": 44,
   "metadata": {},
   "outputs": [
    {
     "data": {
      "text/plain": [
       "0.01040373227700457"
      ]
     },
     "execution_count": 44,
     "metadata": {},
     "output_type": "execute_result"
    }
   ],
   "source": [
    "results3.loc['r','aeu_pe']"
   ]
  },
  {
   "cell_type": "code",
   "execution_count": 45,
   "metadata": {},
   "outputs": [
    {
     "data": {
      "text/plain": [
       "0.11339990376561129"
      ]
     },
     "execution_count": 45,
     "metadata": {},
     "output_type": "execute_result"
    }
   ],
   "source": [
    "results3.loc['s','aeu_pe']"
   ]
  },
  {
   "cell_type": "code",
   "execution_count": 46,
   "metadata": {},
   "outputs": [
    {
     "data": {
      "text/plain": [
       "0.2372688782725782"
      ]
     },
     "execution_count": 46,
     "metadata": {},
     "output_type": "execute_result"
    }
   ],
   "source": [
    "results3.loc['tbad','aeu_pe']"
   ]
  },
  {
   "cell_type": "markdown",
   "metadata": {},
   "source": [
    "# Save results"
   ]
  },
  {
   "cell_type": "code",
   "execution_count": 47,
   "metadata": {},
   "outputs": [],
   "source": [
    "scenarios = ['pus_ge','peu_ge','peu_pe','aeu_ge','aeu_pe']\n",
    "ResTot    = pd.DataFrame(index=outcomes,columns=scenarios)"
   ]
  },
  {
   "cell_type": "code",
   "execution_count": 48,
   "metadata": {},
   "outputs": [],
   "source": [
    "ResTot.loc[:,'pus_ge'] = results\n",
    "ResTot.loc[:,'peu_ge'] = results0\n",
    "ResTot.loc[:,'peu_pe'] = results1\n",
    "ResTot.loc[:,'aeu_ge'] = results2\n",
    "ResTot.loc[:,'aeu_pe'] = results3"
   ]
  },
  {
   "cell_type": "code",
   "execution_count": 49,
   "metadata": {},
   "outputs": [],
   "source": [
    "ResTot.to_pickle('../output_JPE/welfare_aggregates3.pkl')"
   ]
  },
  {
   "cell_type": "code",
   "execution_count": null,
   "metadata": {},
   "outputs": [],
   "source": []
  }
 ],
 "metadata": {
  "kernelspec": {
   "display_name": "Python 3",
   "language": "python",
   "name": "python3"
  },
  "language_info": {
   "codemirror_mode": {
    "name": "ipython",
    "version": 3
   },
   "file_extension": ".py",
   "mimetype": "text/x-python",
   "name": "python",
   "nbconvert_exporter": "python",
   "pygments_lexer": "ipython3",
   "version": "3.7.4"
  }
 },
 "nbformat": 4,
 "nbformat_minor": 2
}

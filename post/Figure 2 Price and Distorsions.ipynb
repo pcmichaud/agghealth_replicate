{
 "cells": [
  {
   "cell_type": "markdown",
   "metadata": {},
   "source": [
    "# Analysis of estimated health prices"
   ]
  },
  {
   "cell_type": "code",
   "execution_count": 1,
   "metadata": {},
   "outputs": [],
   "source": [
    "import numpy as np \n",
    "from matplotlib import pyplot as plt\n",
    "import pandas as pd\n",
    "import seaborn as sns\n",
    "import csv"
   ]
  },
  {
   "cell_type": "markdown",
   "metadata": {},
   "source": [
    "## Estimated health prices"
   ]
  },
  {
   "cell_type": "code",
   "execution_count": 2,
   "metadata": {},
   "outputs": [],
   "source": [
    "# All countries: Administrative costs\n",
    "countries = ['de','dk','fr','it','nl','se','sp','us']\n",
    "euro = ['de','dk','fr','it','nl','se','sp']\n",
    "stats = ['price','iota','hosp']\n",
    "table = pd.DataFrame(index=countries,columns=stats)"
   ]
  },
  {
   "cell_type": "code",
   "execution_count": 3,
   "metadata": {},
   "outputs": [],
   "source": [
    "# European Countries and health market institutions\n",
    "statd  = ['price','comp','regu','quali','DemManag','pay']\n",
    "tabled = pd.DataFrame(index=euro,columns=statd) #countries[0:7]"
   ]
  },
  {
   "cell_type": "code",
   "execution_count": 4,
   "metadata": {},
   "outputs": [
    {
     "name": "stdout",
     "output_type": "stream",
     "text": [
      "                us        de        dk        fr        it        nl  \\\n",
      "name                                                                   \n",
      "sigma     2.097183  2.097183  2.097183  2.097183  2.097183  2.097183   \n",
      "beta      0.970000  0.970000  0.970000  0.970000  0.970000  0.970000   \n",
      "phi       0.304140  0.304140  0.304140  0.304140  0.304140  0.304140   \n",
      "psi       0.168902  0.168902  0.168902  0.168902  0.168902  0.168902   \n",
      "delta_h1 -0.967380 -1.296156 -1.601068 -1.094451 -0.715889 -1.264525   \n",
      "delta_h2  3.478244  3.953905  4.273184  3.697940  3.867593  3.998342   \n",
      "eta       0.000000  0.000000  0.000000  0.000000  0.000000  0.000000   \n",
      "tfp       1.000000  1.008961  1.255176  0.923597  0.638877  1.009820   \n",
      "price     1.000000  0.846861  0.887615  0.614844  0.712935  0.698165   \n",
      "risk      0.000000  0.000000  0.000000  0.000000  0.000000  0.000000   \n",
      "\n",
      "                se        sp  \n",
      "name                          \n",
      "sigma     2.097183  2.097183  \n",
      "beta      0.970000  0.970000  \n",
      "phi       0.304140  0.304140  \n",
      "psi       0.168902  0.168902  \n",
      "delta_h1 -1.525023 -0.005673  \n",
      "delta_h2  4.310607  3.394047  \n",
      "eta       0.000000  0.000000  \n",
      "tfp       0.788306  0.810865  \n",
      "price     0.843816  0.650287  \n",
      "risk      0.000000  0.000000  \n"
     ]
    }
   ],
   "source": [
    "df = pd.read_pickle('../estimation/output/params_ref_us.pkl')\n",
    "pars = df.loc[:,'value'].to_frame()\n",
    "pars.columns = ['us']\n",
    "for c in countries:\n",
    "    df = pd.read_pickle('../estimation/output/params_ref_'+c+'.pkl')\n",
    "    pars[c] = df.loc[:,'value']\n",
    "print(pars)"
   ]
  },
  {
   "cell_type": "code",
   "execution_count": 5,
   "metadata": {},
   "outputs": [],
   "source": [
    "price_health = pars.loc['price',:]\n",
    "table.loc[:,'price']= price_health"
   ]
  },
  {
   "cell_type": "code",
   "execution_count": 6,
   "metadata": {},
   "outputs": [
    {
     "data": {
      "image/png": "[encoded data removed]",
      "text/plain": [
       "<Figure size 432x288 with 1 Axes>"
      ]
     },
     "metadata": {
      "needs_background": "light"
     },
     "output_type": "display_data"
    }
   ],
   "source": [
    "tablep = table.sort_values('price',ascending=False)\n",
    "plt.figure()\n",
    "b = plt.bar(tablep.index,tablep['price'],color='grey')\n",
    "b[0].set_color('black')\n",
    "plt.ylabel('$p_g/p_{US}$')\n",
    "#plt.savefig('../figures_JPE/price_heatlh.eps')\n",
    "plt.show()"
   ]
  },
  {
   "cell_type": "code",
   "execution_count": 7,
   "metadata": {},
   "outputs": [],
   "source": [
    "AdmiCost  = np.array([ 5.5, 1.2, 7.0, 1.2, 4.2, 1.5, 3.1, 7.4]) \n",
    "AdmiCostH = np.array([ 9.00, np.nan, 8.77, np.nan, 10.85, np.nan, np.nan, 15.51]) \n",
    "table.loc[:,'iota']= AdmiCost/AdmiCost[-1]\n",
    "table.loc[:,'hosp']= AdmiCostH/AdmiCostH[-1]"
   ]
  },
  {
   "cell_type": "code",
   "execution_count": 8,
   "metadata": {},
   "outputs": [
    {
     "name": "stdout",
     "output_type": "stream",
     "text": [
      "slope: 0.198401    intercept: 0.370225   R-squared: 0.005866\n"
     ]
    }
   ],
   "source": [
    "from scipy import stats\n",
    "slope, intercept, r_value, p_value, std_err = stats.linregress(table.loc[:,'price'],table.loc[:,'iota'])\n",
    "print(\"slope: %f    intercept: %f   R-squared: %f\" % (slope, intercept, r_value**2))"
   ]
  },
  {
   "cell_type": "code",
   "execution_count": 9,
   "metadata": {},
   "outputs": [
    {
     "name": "stdout",
     "output_type": "stream",
     "text": [
      "slope: 0.923157    intercept: -0.017949   R-squared: 0.604215\n"
     ]
    }
   ],
   "source": [
    "slopeH, interceptH, r_valueH, p_valueH, std_errH = stats.linregress(table.loc[['de','fr','nl','us'],'price'],table.loc[['de','fr','nl','us'],'hosp'])\n",
    "print(\"slope: %f    intercept: %f   R-squared: %f\" % (slopeH, interceptH,r_valueH**2))"
   ]
  },
  {
   "cell_type": "code",
   "execution_count": 10,
   "metadata": {},
   "outputs": [
    {
     "data": {
      "image/png": "[encoded data removed]",
      "text/plain": [
       "<Figure size 432x288 with 1 Axes>"
      ]
     },
     "metadata": {
      "needs_background": "light"
     },
     "output_type": "display_data"
    }
   ],
   "source": [
    "plt.figure()\n",
    "plt.scatter(table.loc[:,'price'],table.loc[:,'iota'],facecolors='none', edgecolors='b',s=500.0)\n",
    "plt.plot(table.loc[:,'price'], intercept + slope*table.loc[:,'price'], 'k')\n",
    "plt.ylim(0.1,1.1)\n",
    "plt.ylabel('Administrative Costs ($\\iota$)')\n",
    "plt.xlabel('health price')\n",
    "for x,y,z in zip(table.loc[:,'price'],table.loc[:,'iota'],countries):\n",
    "    plt.annotate(z,xy=(x, y),horizontalalignment='center', verticalalignment='center')\n",
    "plt.savefig('../figures/fig2_price_admin.eps')"
   ]
  },
  {
   "cell_type": "code",
   "execution_count": 11,
   "metadata": {},
   "outputs": [
    {
     "data": {
      "image/png": "[encoded data removed]",
      "text/plain": [
       "<Figure size 432x288 with 1 Axes>"
      ]
     },
     "metadata": {
      "needs_background": "light"
     },
     "output_type": "display_data"
    }
   ],
   "source": [
    "plt.figure()\n",
    "plt.scatter(table.loc[:,'price'],table.loc[:,'hosp'],facecolors='none', edgecolors='b',s=500.0)\n",
    "plt.plot(table.loc[['de','fr','nl','us'],'price'], interceptH + slopeH*table.loc[['de','fr','nl','us'],'price'], 'k')\n",
    "plt.ylim(0.45,1.05)\n",
    "plt.ylabel('Administrative Costs ($\\iota$)')\n",
    "plt.xlabel('health price')\n",
    "for x,y,z in zip(table.loc[:,'price'],table.loc[:,'hosp'],countries):\n",
    "    plt.annotate(z,xy=(x, y),horizontalalignment='center', verticalalignment='center')\n",
    "plt.savefig('../figures/fig2_reviewer_price_hosp.eps')"
   ]
  },
  {
   "cell_type": "code",
   "execution_count": 12,
   "metadata": {},
   "outputs": [
    {
     "data": {
      "image/png": "[encoded data removed]",
      "text/plain": [
       "<Figure size 432x288 with 1 Axes>"
      ]
     },
     "metadata": {
      "needs_background": "light"
     },
     "output_type": "display_data"
    }
   ],
   "source": [
    "plt.figure()\n",
    "plt.scatter(table.loc[:,'price'],table.loc[:,'iota'],facecolors='none', edgecolors='b',s=500.0)\n",
    "plt.plot(table.loc[:,'price'], intercept + slope*table.loc[:,'price'], 'k')\n",
    "plt.ylim(0.1,1.1)\n",
    "plt.ylabel('Administrative Costs ($\\iota$)')\n",
    "plt.xlabel('health price')\n",
    "for x,y,z in zip(table.loc[:,'price'],table.loc[:,'iota'],countries):\n",
    "    plt.annotate(z,xy=(x, y),horizontalalignment='center', verticalalignment='center')\n",
    "plt.scatter(table.loc[:,'price'],table.loc[:,'hosp'],facecolors='none', edgecolors='r',s=500.0)\n",
    "plt.plot(table.loc[['de','fr','nl','us'],'price'], interceptH + slopeH*table.loc[['de','fr','nl','us'],'price'], 'r')\n",
    "#plt.ylim(0.45,1.05)\n",
    "plt.ylabel('Administrative Costs ($\\iota$)')\n",
    "plt.xlabel('health price')\n",
    "for x,y,z in zip(table.loc[:,'price'],table.loc[:,'hosp'],countries):\n",
    "    plt.annotate(z,xy=(x, y),horizontalalignment='center', verticalalignment='center')\n",
    "plt.show()"
   ]
  },
  {
   "cell_type": "markdown",
   "metadata": {},
   "source": [
    "## Health marlet institutions: European countries"
   ]
  },
  {
   "cell_type": "code",
   "execution_count": 13,
   "metadata": {},
   "outputs": [],
   "source": [
    "typeReg = ['Physician payment',\n",
    "'Hospital payment',\n",
    "'Incentives for quality',\n",
    "'Choice among providers',\n",
    "'User choice of insurer',\n",
    "'Lever',\n",
    "'Regulation of physician supply',\n",
    "'Regulation of capital investment',\n",
    "'Regulation of price for physician services',\n",
    "'Regulation of price for hospital services',\n",
    "'Regulation of pharmaceutical price',\n",
    "'Regulation of prices charged to third-party',\n",
    "'Stringency of budget constraint',\n",
    "'Control of volume',\n",
    "'Gatekeeping',\n",
    "'Depth of basic insurance',\n",
    "'Definition of benefit basket',\n",
    "'Public health objectives',\n",
    "'Use of health technology assessment',\n",
    "'Degree of decentralisation']"
   ]
  },
  {
   "cell_type": "code",
   "execution_count": 14,
   "metadata": {},
   "outputs": [],
   "source": [
    "RegInd = np.array([\n",
    "[4.5, 5.0, 0.0, 5.3, 6.0, 5.0, 3.6, 4.0, 3.0, 3.0, 1.0, 3.7, 2.0, 2.0, 3.0, 5.6, 4.0, 0.1, 3.6, 1.5],\n",
    "[2.5, 1.0, 0.5, 2.0, 1.0, 0.0, 4.8, 4.0, 4.0, 5.0, 1.0, 4.0, 2.0, 1.7, 6.0, 5.3, 2.5, 2.4, 6.0, 2.3],\n",
    "[4.5, 5.0, 0.5, 6.0, 2.0, 0.3, 4.8, 4.0, 4.0, 3.0, 5.0, 5.0, 2.0, 1.7, 3.0, 5.2, 5.0, 5.4, 4.0, 0.0],\n",
    "[1.0, 5.0, 1.0, 6.0, 0.0, 0.0, 4.8, 6.0, 3.0, 5.0, 5.0, 4.2, 5.0, 2.3, 6.0, 5.4, 5.0, 0.9, 3.6, 2.3],\n",
    "[5.5, 1.0, 1.5, 5.0, 4.0, 5.0, 4.8, 1.5, 2.0, 5.0, 5.0, 3.2, 2.0, 1.0, 6.0, 5.7, 5.0, 0.0, 6.0, 0.0],\n",
    "[0.5, 0.0, 1.0, 0.7, 1.0, 0.0, 3.6, 4.0, 4.0, 5.0, 5.0, 4.5, 2.0, 3.0, 6.0, 5.4, 5.0, 0.1, 4.7, 5.5],\n",
    "[0.0, 3.0, 1.2, 6.0, 0.0, 0.0, 2.4, 2.9, 4.0, 5.0, 5.0, 4.5, 6.0, 2.3, 0.0, 4.9, 2.5, 0.1, 4.0, 4.3],\n",
    "])"
   ]
  },
  {
   "cell_type": "code",
   "execution_count": 15,
   "metadata": {},
   "outputs": [],
   "source": [
    "tableR = pd.DataFrame(index=countries[0:7],columns=typeReg)\n",
    "\n",
    "for ii in range(20):\n",
    "    tableR.loc[:,typeReg[ii]] = RegInd[:,ii]"
   ]
  },
  {
   "cell_type": "code",
   "execution_count": 16,
   "metadata": {},
   "outputs": [
    {
     "data": {
      "text/html": [
       "<div>\n",
       "<style scoped>\n",
       "    .dataframe tbody tr th:only-of-type {\n",
       "        vertical-align: middle;\n",
       "    }\n",
       "\n",
       "    .dataframe tbody tr th {\n",
       "        vertical-align: top;\n",
       "    }\n",
       "\n",
       "    .dataframe thead th {\n",
       "        text-align: right;\n",
       "    }\n",
       "</style>\n",
       "<table border=\"1\" class=\"dataframe\">\n",
       "  <thead>\n",
       "    <tr style=\"text-align: right;\">\n",
       "      <th></th>\n",
       "      <th>Physician payment</th>\n",
       "      <th>Hospital payment</th>\n",
       "      <th>Incentives for quality</th>\n",
       "      <th>Choice among providers</th>\n",
       "      <th>User choice of insurer</th>\n",
       "      <th>Lever</th>\n",
       "      <th>Regulation of physician supply</th>\n",
       "      <th>Regulation of capital investment</th>\n",
       "      <th>Regulation of price for physician services</th>\n",
       "      <th>Regulation of price for hospital services</th>\n",
       "      <th>Regulation of pharmaceutical price</th>\n",
       "      <th>Regulation of prices charged to third-party</th>\n",
       "      <th>Stringency of budget constraint</th>\n",
       "      <th>Control of volume</th>\n",
       "      <th>Gatekeeping</th>\n",
       "      <th>Depth of basic insurance</th>\n",
       "      <th>Definition of benefit basket</th>\n",
       "      <th>Public health objectives</th>\n",
       "      <th>Use of health technology assessment</th>\n",
       "      <th>Degree of decentralisation</th>\n",
       "    </tr>\n",
       "  </thead>\n",
       "  <tbody>\n",
       "    <tr>\n",
       "      <th>de</th>\n",
       "      <td>4.5</td>\n",
       "      <td>5.0</td>\n",
       "      <td>0.0</td>\n",
       "      <td>5.3</td>\n",
       "      <td>6.0</td>\n",
       "      <td>5.0</td>\n",
       "      <td>3.6</td>\n",
       "      <td>4.0</td>\n",
       "      <td>3.0</td>\n",
       "      <td>3.0</td>\n",
       "      <td>1.0</td>\n",
       "      <td>3.7</td>\n",
       "      <td>2.0</td>\n",
       "      <td>2.0</td>\n",
       "      <td>3.0</td>\n",
       "      <td>5.6</td>\n",
       "      <td>4.0</td>\n",
       "      <td>0.1</td>\n",
       "      <td>3.6</td>\n",
       "      <td>1.5</td>\n",
       "    </tr>\n",
       "    <tr>\n",
       "      <th>dk</th>\n",
       "      <td>2.5</td>\n",
       "      <td>1.0</td>\n",
       "      <td>0.5</td>\n",
       "      <td>2.0</td>\n",
       "      <td>1.0</td>\n",
       "      <td>0.0</td>\n",
       "      <td>4.8</td>\n",
       "      <td>4.0</td>\n",
       "      <td>4.0</td>\n",
       "      <td>5.0</td>\n",
       "      <td>1.0</td>\n",
       "      <td>4.0</td>\n",
       "      <td>2.0</td>\n",
       "      <td>1.7</td>\n",
       "      <td>6.0</td>\n",
       "      <td>5.3</td>\n",
       "      <td>2.5</td>\n",
       "      <td>2.4</td>\n",
       "      <td>6.0</td>\n",
       "      <td>2.3</td>\n",
       "    </tr>\n",
       "    <tr>\n",
       "      <th>fr</th>\n",
       "      <td>4.5</td>\n",
       "      <td>5.0</td>\n",
       "      <td>0.5</td>\n",
       "      <td>6.0</td>\n",
       "      <td>2.0</td>\n",
       "      <td>0.3</td>\n",
       "      <td>4.8</td>\n",
       "      <td>4.0</td>\n",
       "      <td>4.0</td>\n",
       "      <td>3.0</td>\n",
       "      <td>5.0</td>\n",
       "      <td>5.0</td>\n",
       "      <td>2.0</td>\n",
       "      <td>1.7</td>\n",
       "      <td>3.0</td>\n",
       "      <td>5.2</td>\n",
       "      <td>5.0</td>\n",
       "      <td>5.4</td>\n",
       "      <td>4.0</td>\n",
       "      <td>0.0</td>\n",
       "    </tr>\n",
       "    <tr>\n",
       "      <th>it</th>\n",
       "      <td>1.0</td>\n",
       "      <td>5.0</td>\n",
       "      <td>1.0</td>\n",
       "      <td>6.0</td>\n",
       "      <td>0.0</td>\n",
       "      <td>0.0</td>\n",
       "      <td>4.8</td>\n",
       "      <td>6.0</td>\n",
       "      <td>3.0</td>\n",
       "      <td>5.0</td>\n",
       "      <td>5.0</td>\n",
       "      <td>4.2</td>\n",
       "      <td>5.0</td>\n",
       "      <td>2.3</td>\n",
       "      <td>6.0</td>\n",
       "      <td>5.4</td>\n",
       "      <td>5.0</td>\n",
       "      <td>0.9</td>\n",
       "      <td>3.6</td>\n",
       "      <td>2.3</td>\n",
       "    </tr>\n",
       "    <tr>\n",
       "      <th>nl</th>\n",
       "      <td>5.5</td>\n",
       "      <td>1.0</td>\n",
       "      <td>1.5</td>\n",
       "      <td>5.0</td>\n",
       "      <td>4.0</td>\n",
       "      <td>5.0</td>\n",
       "      <td>4.8</td>\n",
       "      <td>1.5</td>\n",
       "      <td>2.0</td>\n",
       "      <td>5.0</td>\n",
       "      <td>5.0</td>\n",
       "      <td>3.2</td>\n",
       "      <td>2.0</td>\n",
       "      <td>1.0</td>\n",
       "      <td>6.0</td>\n",
       "      <td>5.7</td>\n",
       "      <td>5.0</td>\n",
       "      <td>0.0</td>\n",
       "      <td>6.0</td>\n",
       "      <td>0.0</td>\n",
       "    </tr>\n",
       "    <tr>\n",
       "      <th>se</th>\n",
       "      <td>0.5</td>\n",
       "      <td>0.0</td>\n",
       "      <td>1.0</td>\n",
       "      <td>0.7</td>\n",
       "      <td>1.0</td>\n",
       "      <td>0.0</td>\n",
       "      <td>3.6</td>\n",
       "      <td>4.0</td>\n",
       "      <td>4.0</td>\n",
       "      <td>5.0</td>\n",
       "      <td>5.0</td>\n",
       "      <td>4.5</td>\n",
       "      <td>2.0</td>\n",
       "      <td>3.0</td>\n",
       "      <td>6.0</td>\n",
       "      <td>5.4</td>\n",
       "      <td>5.0</td>\n",
       "      <td>0.1</td>\n",
       "      <td>4.7</td>\n",
       "      <td>5.5</td>\n",
       "    </tr>\n",
       "    <tr>\n",
       "      <th>sp</th>\n",
       "      <td>0.0</td>\n",
       "      <td>3.0</td>\n",
       "      <td>1.2</td>\n",
       "      <td>6.0</td>\n",
       "      <td>0.0</td>\n",
       "      <td>0.0</td>\n",
       "      <td>2.4</td>\n",
       "      <td>2.9</td>\n",
       "      <td>4.0</td>\n",
       "      <td>5.0</td>\n",
       "      <td>5.0</td>\n",
       "      <td>4.5</td>\n",
       "      <td>6.0</td>\n",
       "      <td>2.3</td>\n",
       "      <td>0.0</td>\n",
       "      <td>4.9</td>\n",
       "      <td>2.5</td>\n",
       "      <td>0.1</td>\n",
       "      <td>4.0</td>\n",
       "      <td>4.3</td>\n",
       "    </tr>\n",
       "  </tbody>\n",
       "</table>\n",
       "</div>"
      ],
      "text/plain": [
       "    Physician payment  Hospital payment  Incentives for quality  \\\n",
       "de                4.5               5.0                     0.0   \n",
       "dk                2.5               1.0                     0.5   \n",
       "fr                4.5               5.0                     0.5   \n",
       "it                1.0               5.0                     1.0   \n",
       "nl                5.5               1.0                     1.5   \n",
       "se                0.5               0.0                     1.0   \n",
       "sp                0.0               3.0                     1.2   \n",
       "\n",
       "    Choice among providers  User choice of insurer  Lever  \\\n",
       "de                     5.3                     6.0    5.0   \n",
       "dk                     2.0                     1.0    0.0   \n",
       "fr                     6.0                     2.0    0.3   \n",
       "it                     6.0                     0.0    0.0   \n",
       "nl                     5.0                     4.0    5.0   \n",
       "se                     0.7                     1.0    0.0   \n",
       "sp                     6.0                     0.0    0.0   \n",
       "\n",
       "    Regulation of physician supply  Regulation of capital investment  \\\n",
       "de                             3.6                               4.0   \n",
       "dk                             4.8                               4.0   \n",
       "fr                             4.8                               4.0   \n",
       "it                             4.8                               6.0   \n",
       "nl                             4.8                               1.5   \n",
       "se                             3.6                               4.0   \n",
       "sp                             2.4                               2.9   \n",
       "\n",
       "    Regulation of price for physician services  \\\n",
       "de                                         3.0   \n",
       "dk                                         4.0   \n",
       "fr                                         4.0   \n",
       "it                                         3.0   \n",
       "nl                                         2.0   \n",
       "se                                         4.0   \n",
       "sp                                         4.0   \n",
       "\n",
       "    Regulation of price for hospital services  \\\n",
       "de                                        3.0   \n",
       "dk                                        5.0   \n",
       "fr                                        3.0   \n",
       "it                                        5.0   \n",
       "nl                                        5.0   \n",
       "se                                        5.0   \n",
       "sp                                        5.0   \n",
       "\n",
       "    Regulation of pharmaceutical price  \\\n",
       "de                                 1.0   \n",
       "dk                                 1.0   \n",
       "fr                                 5.0   \n",
       "it                                 5.0   \n",
       "nl                                 5.0   \n",
       "se                                 5.0   \n",
       "sp                                 5.0   \n",
       "\n",
       "    Regulation of prices charged to third-party  \\\n",
       "de                                          3.7   \n",
       "dk                                          4.0   \n",
       "fr                                          5.0   \n",
       "it                                          4.2   \n",
       "nl                                          3.2   \n",
       "se                                          4.5   \n",
       "sp                                          4.5   \n",
       "\n",
       "    Stringency of budget constraint  Control of volume  Gatekeeping  \\\n",
       "de                              2.0                2.0          3.0   \n",
       "dk                              2.0                1.7          6.0   \n",
       "fr                              2.0                1.7          3.0   \n",
       "it                              5.0                2.3          6.0   \n",
       "nl                              2.0                1.0          6.0   \n",
       "se                              2.0                3.0          6.0   \n",
       "sp                              6.0                2.3          0.0   \n",
       "\n",
       "    Depth of basic insurance  Definition of benefit basket  \\\n",
       "de                       5.6                           4.0   \n",
       "dk                       5.3                           2.5   \n",
       "fr                       5.2                           5.0   \n",
       "it                       5.4                           5.0   \n",
       "nl                       5.7                           5.0   \n",
       "se                       5.4                           5.0   \n",
       "sp                       4.9                           2.5   \n",
       "\n",
       "    Public health objectives  Use of health technology assessment  \\\n",
       "de                       0.1                                  3.6   \n",
       "dk                       2.4                                  6.0   \n",
       "fr                       5.4                                  4.0   \n",
       "it                       0.9                                  3.6   \n",
       "nl                       0.0                                  6.0   \n",
       "se                       0.1                                  4.7   \n",
       "sp                       0.1                                  4.0   \n",
       "\n",
       "    Degree of decentralisation  \n",
       "de                         1.5  \n",
       "dk                         2.3  \n",
       "fr                         0.0  \n",
       "it                         2.3  \n",
       "nl                         0.0  \n",
       "se                         5.5  \n",
       "sp                         4.3  "
      ]
     },
     "execution_count": 16,
     "metadata": {},
     "output_type": "execute_result"
    }
   ],
   "source": [
    "tableR"
   ]
  },
  {
   "cell_type": "code",
   "execution_count": 17,
   "metadata": {},
   "outputs": [],
   "source": [
    "tabled.loc[:,'price']  = price_health[euro]\n",
    "\n",
    "tabled.loc[:,'regu']   = np.sum(tableR.loc[:,[\n",
    "'Physician payment',\n",
    "'Hospital payment',\n",
    "'Regulation of physician supply',\n",
    "'Regulation of capital investment',\n",
    "'Regulation of price for physician services',\n",
    "'Regulation of price for hospital services',\n",
    "'Regulation of pharmaceutical price',\n",
    "'Regulation of prices charged to third-party'\n",
    "]],1)/8\n",
    "\n",
    "tabled.loc[:,'quali']  = tableR.loc[:,typeReg[2]]\n",
    "\n",
    "tabled.loc[:,'markup'] = np.array([1.01803, 0.675261, 0.310128, 0.464998, 0.372489, 0.561001,0.287985])\n",
    "\n",
    "tabled.loc[:,'DemManag'] = np.sum(tableR.loc[:,[\n",
    "#'Control of volume', # +\n",
    "#'Gatekeeping', # +\n",
    "'Definition of benefit basket',  # -\n",
    "'Public health objectives' # -\n",
    "#'Use of health technology assessment', #+\n",
    "#'Degree of decentralisation'\n",
    "]],1)/2#6\n",
    "\n",
    "tabled.loc[:,'pay'] = np.sum(tableR.loc[:,[\n",
    "'Physician payment',\n",
    "'Hospital payment'\n",
    "]],1)/2"
   ]
  },
  {
   "cell_type": "code",
   "execution_count": 18,
   "metadata": {},
   "outputs": [],
   "source": [
    "# Phys. pay\n",
    "comp1 = np.array([4.5, 2.5, 4.5, 1.0, 5.5, 0.5, 0.0])\n",
    "# Hosp pay.\n",
    "comp2 = np.array([5.0, 1.0, 5.0, 5.0, 1.0, 0.0, 3.0])\n",
    "# Choice among providers\n",
    "comp3 = np.array([5.3, 2.0, 6.0, 6.0, 5.0, 0.7, 6.0])\n",
    "# Choice among insurer\n",
    "comp4 = np.array([6.0, 1.0, 2.0, 0.0, 4.0, 1.0, 0.0])\n",
    "# Compet on insuarnce market\n",
    "comp5 = np.array([5.0, 0.0, 0.3, 0.0, 5.0, 0.0, 0.0])\n",
    "# degree of decentralization\n",
    "comp6 = np.array([1.5, 2.3, 0.0, 2.3, 0.0, 5.5, 4.3])\n",
    "\n",
    "tabled.loc[:,'comp'] = comp3 #(comp1+comp2+comp3+comp4+comp5)/5"
   ]
  },
  {
   "cell_type": "code",
   "execution_count": 19,
   "metadata": {},
   "outputs": [
    {
     "data": {
      "text/html": [
       "<div>\n",
       "<style scoped>\n",
       "    .dataframe tbody tr th:only-of-type {\n",
       "        vertical-align: middle;\n",
       "    }\n",
       "\n",
       "    .dataframe tbody tr th {\n",
       "        vertical-align: top;\n",
       "    }\n",
       "\n",
       "    .dataframe thead th {\n",
       "        text-align: right;\n",
       "    }\n",
       "</style>\n",
       "<table border=\"1\" class=\"dataframe\">\n",
       "  <thead>\n",
       "    <tr style=\"text-align: right;\">\n",
       "      <th></th>\n",
       "      <th>price</th>\n",
       "      <th>comp</th>\n",
       "      <th>regu</th>\n",
       "      <th>quali</th>\n",
       "      <th>DemManag</th>\n",
       "      <th>pay</th>\n",
       "      <th>markup</th>\n",
       "    </tr>\n",
       "  </thead>\n",
       "  <tbody>\n",
       "    <tr>\n",
       "      <th>de</th>\n",
       "      <td>0.846861</td>\n",
       "      <td>5.3</td>\n",
       "      <td>3.4750</td>\n",
       "      <td>0.0</td>\n",
       "      <td>2.05</td>\n",
       "      <td>4.75</td>\n",
       "      <td>1.018030</td>\n",
       "    </tr>\n",
       "    <tr>\n",
       "      <th>dk</th>\n",
       "      <td>0.887615</td>\n",
       "      <td>2.0</td>\n",
       "      <td>3.2875</td>\n",
       "      <td>0.5</td>\n",
       "      <td>2.45</td>\n",
       "      <td>1.75</td>\n",
       "      <td>0.675261</td>\n",
       "    </tr>\n",
       "    <tr>\n",
       "      <th>fr</th>\n",
       "      <td>0.614844</td>\n",
       "      <td>6.0</td>\n",
       "      <td>4.4125</td>\n",
       "      <td>0.5</td>\n",
       "      <td>5.20</td>\n",
       "      <td>4.75</td>\n",
       "      <td>0.310128</td>\n",
       "    </tr>\n",
       "    <tr>\n",
       "      <th>it</th>\n",
       "      <td>0.712935</td>\n",
       "      <td>6.0</td>\n",
       "      <td>4.2500</td>\n",
       "      <td>1.0</td>\n",
       "      <td>2.95</td>\n",
       "      <td>3.00</td>\n",
       "      <td>0.464998</td>\n",
       "    </tr>\n",
       "    <tr>\n",
       "      <th>nl</th>\n",
       "      <td>0.698165</td>\n",
       "      <td>5.0</td>\n",
       "      <td>3.5000</td>\n",
       "      <td>1.5</td>\n",
       "      <td>2.50</td>\n",
       "      <td>3.25</td>\n",
       "      <td>0.372489</td>\n",
       "    </tr>\n",
       "    <tr>\n",
       "      <th>se</th>\n",
       "      <td>0.843816</td>\n",
       "      <td>0.7</td>\n",
       "      <td>3.3250</td>\n",
       "      <td>1.0</td>\n",
       "      <td>2.55</td>\n",
       "      <td>0.25</td>\n",
       "      <td>0.561001</td>\n",
       "    </tr>\n",
       "    <tr>\n",
       "      <th>sp</th>\n",
       "      <td>0.650287</td>\n",
       "      <td>6.0</td>\n",
       "      <td>3.3500</td>\n",
       "      <td>1.2</td>\n",
       "      <td>1.30</td>\n",
       "      <td>1.50</td>\n",
       "      <td>0.287985</td>\n",
       "    </tr>\n",
       "  </tbody>\n",
       "</table>\n",
       "</div>"
      ],
      "text/plain": [
       "       price  comp    regu  quali  DemManag   pay    markup\n",
       "de  0.846861   5.3  3.4750    0.0      2.05  4.75  1.018030\n",
       "dk  0.887615   2.0  3.2875    0.5      2.45  1.75  0.675261\n",
       "fr  0.614844   6.0  4.4125    0.5      5.20  4.75  0.310128\n",
       "it  0.712935   6.0  4.2500    1.0      2.95  3.00  0.464998\n",
       "nl  0.698165   5.0  3.5000    1.5      2.50  3.25  0.372489\n",
       "se  0.843816   0.7  3.3250    1.0      2.55  0.25  0.561001\n",
       "sp  0.650287   6.0  3.3500    1.2      1.30  1.50  0.287985"
      ]
     },
     "execution_count": 19,
     "metadata": {},
     "output_type": "execute_result"
    }
   ],
   "source": [
    "tabled"
   ]
  },
  {
   "cell_type": "code",
   "execution_count": 20,
   "metadata": {},
   "outputs": [
    {
     "name": "stdout",
     "output_type": "stream",
     "text": [
      "price and competition\n",
      "slope: -15.226401    p-value: 0.050218    intercept: 15.858211   R-squared: 0.568573\n",
      "price and regulation\n",
      "slope: -2.665627    p-value: 0.145061    intercept: 5.658085   R-squared: 0.373181\n",
      "price and quality controls\n",
      "slope: -2.062438    p-value: 0.327408    intercept: 2.362447   R-squared: 0.190599\n",
      "price and Management\n",
      "slope: -2.062438    p-value: 0.380990    intercept: 2.362447   R-squared: 0.155727\n",
      "price and Payments\n",
      "slope: -2.062438    p-value: 0.470351    intercept: 2.362447   R-squared: 0.108634\n",
      "markup and competition\n",
      "slope: -2.062438    p-value: 0.532490    intercept: 2.362447   R-squared: 0.082407\n",
      "markup and competition\n",
      "slope: -2.062438    p-value: 0.044453    intercept: 2.362447   R-squared: 0.676541\n"
     ]
    }
   ],
   "source": [
    "from scipy import stats\n",
    "\n",
    "print(\"price and competition\")\n",
    "slopec, interceptc, r_value, p_value, std_err = stats.linregress(tabled.loc[:,'price'], tabled.loc[:,'comp'])\n",
    "print(\"slope: %f    p-value: %f    intercept: %f   R-squared: %f\" % (slopec, p_value, interceptc,r_value**2))\n",
    "\n",
    "print(\"price and regulation\")\n",
    "sloper, interceptr, r_value, p_value, std_err = stats.linregress(tabled.loc[:,'price'], tabled.loc[:,'regu'])\n",
    "print(\"slope: %f    p-value: %f    intercept: %f   R-squared: %f\" % (sloper, p_value, interceptr,r_value**2))\n",
    "\n",
    "print(\"price and quality controls\")\n",
    "slopeq, interceptq, r_value, p_value, std_err = stats.linregress(tabled.loc[:,'price'], tabled.loc[:,'quali'])\n",
    "print(\"slope: %f    p-value: %f    intercept: %f   R-squared: %f\" % (slopeq, p_value, interceptq,r_value**2))\n",
    "\n",
    "print(\"price and Management\")\n",
    "sloped, interceptd, r_value, p_value, std_err = stats.linregress(tabled.loc[:,'price'], tabled.loc[:,'DemManag'])\n",
    "print(\"slope: %f    p-value: %f    intercept: %f   R-squared: %f\" % (slopeq, p_value, interceptq,r_value**2))\n",
    "\n",
    "print(\"price and Payments\")\n",
    "slopep, interceptp, r_value, p_value, std_err = stats.linregress(tabled.loc[:,'price'], tabled.loc[:,'pay'])\n",
    "print(\"slope: %f    p-value: %f    intercept: %f   R-squared: %f\" % (slopeq, p_value, interceptq,r_value**2))\n",
    "\n",
    "print(\"markup and competition\")\n",
    "slopeqm, interceptqm, r_value, p_value, std_err = stats.linregress(tabled.loc[:,'markup'], tabled.loc[:,'comp'])\n",
    "print(\"slope: %f    p-value: %f    intercept: %f   R-squared: %f\" % (slopeq, p_value, interceptq,r_value**2))\n",
    "\n",
    "print(\"markup and competition\")\n",
    "slopeqm1, interceptqm1, r_value, p_value, std_err = stats.linregress(tabled.loc[['dk','fr','it','nl','se','sp'],'markup'], tabled.loc[['dk','fr','it','nl','se','sp'],'comp'])\n",
    "print(\"slope: %f    p-value: %f    intercept: %f   R-squared: %f\" % (slopeq, p_value, interceptq,r_value**2))\n"
   ]
  },
  {
   "cell_type": "code",
   "execution_count": 21,
   "metadata": {},
   "outputs": [
    {
     "data": {
      "image/png": "[encoded data removed]",
      "text/plain": [
       "<Figure size 432x288 with 1 Axes>"
      ]
     },
     "metadata": {
      "needs_background": "light"
     },
     "output_type": "display_data"
    }
   ],
   "source": [
    "plt.figure()\n",
    "plt.scatter(tabled['price'],tabled['comp'],facecolors='none', edgecolors='b',s=500.0)\n",
    "#sns.regplot(tabled['price'],tabled['comp'], ci=95, color='none', marker=\" \")#color ='blue', marker=\"o\", label=countries)\n",
    "plt.plot(tabled['price'], interceptc + slopec*tabled['price'], 'k')\n",
    "plt.xlim(0.59,0.91)\n",
    "plt.ylim(0.25,7.5)\n",
    "plt.xlabel('health price')\n",
    "plt.ylabel('Index')\n",
    "for x,y,z in zip(tabled['price'],tabled['comp'],countries):\n",
    "    plt.annotate(z,xy=(x, y),horizontalalignment='center', verticalalignment='center')\n",
    "plt.savefig('../figures/fig2_comp_price.eps')"
   ]
  },
  {
   "cell_type": "code",
   "execution_count": 22,
   "metadata": {},
   "outputs": [
    {
     "data": {
      "image/png": "[encoded data removed]",
      "text/plain": [
       "<Figure size 432x288 with 1 Axes>"
      ]
     },
     "metadata": {
      "needs_background": "light"
     },
     "output_type": "display_data"
    }
   ],
   "source": [
    "plt.scatter(tabled['price'],tabled['regu'],facecolors='none', edgecolors='b',s=500.0)\n",
    "#sns.regplot(tabled['price'],tabled['regu'], color='none', marker=\" \")#color ='blue', marker=\"o\", label=countries)\n",
    "plt.plot(tabled['price'], interceptr + sloper*tabled['price'], 'k')\n",
    "plt.xlabel('health price')\n",
    "plt.ylabel('Index')\n",
    "#plt.xlim(0.59,0.91)\n",
    "#plt.ylim(2.9,4.8)\n",
    "plt.xlim(0.59,0.91)\n",
    "plt.ylim(3.2,4.5)\n",
    "for x,y,z in zip(tabled['price'],tabled['regu'],countries):\n",
    "    plt.annotate(z,xy=(x, y),horizontalalignment='center', verticalalignment='center')\n",
    "plt.savefig('../figures/fig2_reg_price.eps')"
   ]
  },
  {
   "cell_type": "code",
   "execution_count": 23,
   "metadata": {},
   "outputs": [
    {
     "data": {
      "image/png": "[encoded data removed]",
      "text/plain": [
       "<Figure size 432x288 with 1 Axes>"
      ]
     },
     "metadata": {
      "needs_background": "light"
     },
     "output_type": "display_data"
    }
   ],
   "source": [
    "plt.scatter(tabled['price'],tabled['quali'],facecolors='none', edgecolors='b',s=500.0)\n",
    "#sns.regplot(tabled['price'],tabled['quali'], color='none', marker=\" \")#color ='blue', marker=\"o\", label=countries)\n",
    "plt.plot(tabled['price'], interceptq + slopeq*tabled['price'], 'k')\n",
    "plt.xlabel('health price')\n",
    "plt.ylabel('Index')\n",
    "plt.xlim(0.59,0.91)\n",
    "plt.ylim(-0.5,1.9)\n",
    "for x,y,z in zip(tabled['price'],tabled['quali'],countries):\n",
    "    plt.annotate(z,xy=(x, y),horizontalalignment='center', verticalalignment='center')\n",
    "plt.savefig('../figures/fig2_qual_price.eps')"
   ]
  },
  {
   "cell_type": "code",
   "execution_count": null,
   "metadata": {},
   "outputs": [],
   "source": []
  }
 ],
 "metadata": {
  "kernelspec": {
   "display_name": "Python 3",
   "language": "python",
   "name": "python3"
  },
  "language_info": {
   "codemirror_mode": {
    "name": "ipython",
    "version": 3
   },
   "file_extension": ".py",
   "mimetype": "text/x-python",
   "name": "python",
   "nbconvert_exporter": "python",
   "pygments_lexer": "ipython3",
   "version": "3.8.3"
  }
 },
 "nbformat": 4,
 "nbformat_minor": 2
}

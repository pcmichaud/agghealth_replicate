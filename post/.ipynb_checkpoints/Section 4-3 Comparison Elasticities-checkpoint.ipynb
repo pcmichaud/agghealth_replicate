{
 "cells": [
  {
   "cell_type": "markdown",
   "metadata": {},
   "source": [
    "# Elasticities and other comparisons\n",
    "\n",
    "In section 4.3, calculations for income and price elasticities are reported in the text. We also report the estimate of a compensating variation for being in good health. This notebook does these calculations. "
   ]
  },
  {
   "cell_type": "code",
   "execution_count": 10,
   "metadata": {},
   "outputs": [],
   "source": [
    "from matplotlib import pyplot as plt\n",
    "import numpy as np\n",
    "from scipy import stats \n",
    "from importlib import reload\n",
    "import pandas as pd\n",
    "from itertools import product\n",
    "import os \n",
    "module_path = os.path.abspath(os.path.join('..'))\n",
    "if module_path not in sys.path:\n",
    "    sys.path.append(module_path)\n",
    "from model import micro, macro, params\n",
    "from model import distributions as dist"
   ]
  },
  {
   "cell_type": "markdown",
   "metadata": {},
   "source": [
    "# Loading"
   ]
  },
  {
   "cell_type": "markdown",
   "metadata": {},
   "source": [
    "## Parameters"
   ]
  },
  {
   "cell_type": "code",
   "execution_count": 11,
   "metadata": {},
   "outputs": [
    {
     "name": "stdout",
     "output_type": "stream",
     "text": [
      "name\n",
      "sigma       2.097183\n",
      "beta        0.970000\n",
      "phi         0.304140\n",
      "psi         0.168902\n",
      "delta_h1   -0.967380\n",
      "delta_h2    3.478244\n",
      "eta         0.000000\n",
      "tfp         1.000000\n",
      "price       1.000000\n",
      "risk        0.000000\n",
      "Name: value, dtype: float64\n"
     ]
    }
   ],
   "source": [
    "df = pd.read_pickle('../estimation/output/params_ref_us.pkl')\n",
    "pars = df.loc[:,'value']\n",
    "print(pars)"
   ]
  },
  {
   "cell_type": "markdown",
   "metadata": {},
   "source": [
    "## Benchmark simulation for GE"
   ]
  },
  {
   "cell_type": "code",
   "execution_count": 12,
   "metadata": {},
   "outputs": [],
   "source": [
    "def sim(gr_tfp,gr_price,p,co,ge=True,rent=None,wage=None,taxrate=None):\n",
    "    outcomes = ['m','y','c','k','n','s','csy','ksy','h','g2','g3','g4',\n",
    "            'tgood','tbad','r','w','tax','oop']\n",
    "    sims = pd.Series(index=outcomes,dtype='float64')\n",
    "    ne = 10\n",
    "    nk = 100\n",
    "    nkd = 30\n",
    "    size = 2* ne * nk\n",
    "    opt = pd.DataFrame(index=np.arange(0,size),columns=['e','h','k','ps',\n",
    "                                                        'c','m','kp','v'])\n",
    "    theta = params.flexpars(sigma=p['sigma'],beta=p['beta'],\n",
    "                            phi=p['phi'],psi=p['psi'],\n",
    "                            delta_h1=p['delta_h1'],delta_h2=p['delta_h2'],eta=0.0,\n",
    "                            tfp=gr_tfp*p['tfp'],price=gr_price*p['price'])\n",
    "    # option for the numerical solution\n",
    "    m  = 2.5\n",
    "    op = params.settings(ne=ne,nk=nkd,maxk=190.0,curv=0.5,nprocs=48)\n",
    "    inc = params.incprocess(country=co)\n",
    "    inc.tauchen(ne=ne,m=m)\n",
    "    aux = params.auxpars(country=co)  \n",
    "    #Decision rules\n",
    "    if ge:\n",
    "        csumers = micro.bellman(options=op,flex=theta,aux=aux,inc=inc,rent=5.6e-2)\n",
    "    else :\n",
    "        csumers = micro.bellman(options=op,flex=theta,aux=aux,inc=inc,rent=rent,taxrate=taxrate,wage=wage)\n",
    "    csumers.compute_cash()\n",
    "    csumers.itervalue()\n",
    "    # distribution\n",
    "    stats = dist.stationary(dp=csumers,nk=nk)\n",
    "    stats.blowup()\n",
    "    stats.compute()\n",
    "    # general equilibrium\n",
    "    if ge:\n",
    "        eq = macro.equilibrium(stats=stats,taxes=False,rent=True)\n",
    "    else:\n",
    "        eq = macro.equilibrium(stats=stats,inirent=rent,taxes=False,rent=False)   \n",
    "    eq.solve()\n",
    "    aggs = eq.aggregates()\n",
    "    hlth = eq.healthreport()\n",
    "    # saving aggregate outcomes\n",
    "    sims['m']     = aggs.M\n",
    "    sims['y']     = aggs.Y\n",
    "    sims['c']     = aggs.C\n",
    "    sims['k']     = aggs.K\n",
    "    sims['n']     = aggs.N\n",
    "    sims['s']     = p['price']*aggs.M/aggs.Y\n",
    "    sims['csy']   = (aggs.C+p['price']*aggs.M)/aggs.Y\n",
    "    sims['ksy']   = aggs.K/aggs.Y\n",
    "    sims['h']     = hlth.pH\n",
    "    sims['g2']    = hlth.gradient[0]\n",
    "    sims['g3']    = hlth.gradient[1]\n",
    "    sims['g4']    = hlth.gradient[2]\n",
    "    sims['tgood'] = hlth.pTransGood\n",
    "    sims['tbad']  = hlth.pTransBad\n",
    "    sims['r']     = eq.rent\n",
    "    sims['w']     = eq.wage\n",
    "    sims['tax']   = eq.tax\n",
    "    sims['oop']   = m*p['price']*aux.copay\n",
    "    # saving decision rules\n",
    "    opt.loc[:,'ps'] = eq.stats.probs\n",
    "    for i,s in enumerate(stats.states):\n",
    "        e,h,k = s\n",
    "        opt.loc[i,['e','h','k']] = [e,h,k]  \n",
    "        opt.loc[i,'c'] = eq.stats.optc[e,h,k]\n",
    "        opt.loc[i,'m'] = eq.stats.optm[e,h,k]\n",
    "        opt.loc[i,'kp'] = eq.stats.optk[e,h,k]\n",
    "        opt.loc[i,'v'] = eq.stats.value[e,h,k]\n",
    "    return opt, sims\n",
    "\n"
   ]
  },
  {
   "cell_type": "code",
   "execution_count": 13,
   "metadata": {},
   "outputs": [
    {
     "name": "stdout",
     "output_type": "stream",
     "text": [
      "m         0.609198\n",
      "y         4.250208\n",
      "c         2.297864\n",
      "k        27.554724\n",
      "n         1.327392\n",
      "s         0.143334\n",
      "csy       0.683981\n",
      "ksy       6.483148\n",
      "h         0.877214\n",
      "g2        1.143973\n",
      "g3        1.235488\n",
      "g4        1.310462\n",
      "tgood     0.969139\n",
      "tbad      0.220404\n",
      "r         0.010023\n",
      "w         1.983299\n",
      "tax       0.202095\n",
      "oop       0.341029\n",
      "dtype: float64\n"
     ]
    }
   ],
   "source": [
    "opt_ref,sims_ref = sim(1.0,1.0,pars,'us',ge=True)\n",
    "print(sims_ref)"
   ]
  },
  {
   "cell_type": "markdown",
   "metadata": {},
   "source": [
    "# Value of Being in Good Health"
   ]
  },
  {
   "cell_type": "code",
   "execution_count": 14,
   "metadata": {},
   "outputs": [],
   "source": [
    "def means(df,var,by):\n",
    "    return df.groupby(by).apply(lambda x: (x[var] * x['ps']).sum() / x['ps'].sum())"
   ]
  },
  {
   "cell_type": "markdown",
   "metadata": {},
   "source": [
    "Consumption by Health Status"
   ]
  },
  {
   "cell_type": "code",
   "execution_count": 16,
   "metadata": {},
   "outputs": [
    {
     "data": {
      "text/plain": [
       "h\n",
       "0    1.181397\n",
       "1    2.454138\n",
       "dtype: float64"
      ]
     },
     "execution_count": 16,
     "metadata": {},
     "output_type": "execute_result"
    }
   ],
   "source": [
    "c_h = means(opt_ref,'c','h')\n",
    "print(c_h)"
   ]
  },
  {
   "cell_type": "markdown",
   "metadata": {},
   "source": [
    "We compute the consumption equivalent: \n",
    "\n",
    "$$ \n",
    "\\frac{(c_g(1-\\Delta))^{1-\\sigma}}{1-\\sigma} + \\phi h = \\frac{(c_b)^{1-\\sigma}}{1-\\sigma}\n",
    "$$\n",
    "$$\n",
    "\\Rightarrow \\Delta = 1-\\frac{\\left((c_b)^{1-\\sigma} - (1-\\sigma)\\phi h \\right)^{\\frac{1}{1-\\sigma}}}{c_g}\n",
    "$$\n",
    "To obtain $c_g$ and $c_b$, we use\n",
    "$$\n",
    "c_g = \\sum_a\\sum_e c_g(a,h=1,e)\\lambda(a,h=1,e),~~\n",
    "c_b = \\sum_a\\sum_e c_g(a,h=0,e)\\lambda(a,h=0,e)\n",
    "$$\n",
    "$h$ is the share of individual in good health at the steady state"
   ]
  },
  {
   "cell_type": "code",
   "execution_count": 17,
   "metadata": {},
   "outputs": [
    {
     "data": {
      "text/plain": [
       "0.6341724961274475"
      ]
     },
     "execution_count": 17,
     "metadata": {},
     "output_type": "execute_result"
    }
   ],
   "source": [
    "core = c_h[0]**(1-pars['sigma']) - (1-pars['sigma'])*pars['phi']*sims_ref['h']\n",
    "numerator = core**(1/(1-pars['sigma']))\n",
    "Delta = 1-numerator/c_h[1] \n",
    "print(Delta)           "
   ]
  },
  {
   "cell_type": "markdown",
   "metadata": {},
   "source": [
    "## Partial Equilibrium"
   ]
  },
  {
   "cell_type": "code",
   "execution_count": 18,
   "metadata": {},
   "outputs": [
    {
     "name": "stdout",
     "output_type": "stream",
     "text": [
      "m         0.610231\n",
      "y         4.247768\n",
      "c         2.299171\n",
      "k        27.513525\n",
      "n         1.327392\n",
      "s         0.143659\n",
      "csy       0.684925\n",
      "ksy       6.477172\n",
      "h         0.878057\n",
      "g2        1.144953\n",
      "g3        1.237302\n",
      "g4        1.310498\n",
      "tgood     0.969139\n",
      "tbad      0.222266\n",
      "r         0.010023\n",
      "w         1.983299\n",
      "tax       0.202095\n",
      "oop       0.341029\n",
      "dtype: float64\n"
     ]
    }
   ],
   "source": [
    "opt_ref_pe,sims_ref_pe = sim(1.0,1.0,pars,'us',ge=False,rent=sims_ref['r'],wage=sims_ref['w'],taxrate=sims_ref['tax'])\n",
    "print(sims_ref_pe)"
   ]
  },
  {
   "cell_type": "markdown",
   "metadata": {},
   "source": [
    "# Price elasticity"
   ]
  },
  {
   "cell_type": "code",
   "execution_count": 31,
   "metadata": {},
   "outputs": [
    {
     "name": "stdout",
     "output_type": "stream",
     "text": [
      "m         0.560947\n",
      "y         4.255607\n",
      "c         2.290261\n",
      "k        27.646040\n",
      "n         1.327392\n",
      "s         0.131814\n",
      "csy       0.669989\n",
      "ksy       6.496380\n",
      "h         0.874943\n",
      "g2        1.165738\n",
      "g3        1.285610\n",
      "g4        1.351609\n",
      "tgood     0.969139\n",
      "tbad      0.215993\n",
      "r         0.010023\n",
      "w         1.983299\n",
      "tax       0.202095\n",
      "oop       0.341029\n",
      "dtype: float64\n"
     ]
    }
   ],
   "source": [
    "gr_price = 1.25\n",
    "opt_rnd_pe,sims_rnd_pe = sim(1.0,gr_price,pars,'us',ge=False,rent=sims_ref['r'],wage=sims_ref['w'],taxrate=sims_ref['tax'])\n",
    "print(sims_rnd_pe)"
   ]
  },
  {
   "cell_type": "markdown",
   "metadata": {},
   "source": [
    "We use an arc elasticity"
   ]
  },
  {
   "cell_type": "code",
   "execution_count": 32,
   "metadata": {},
   "outputs": [
    {
     "name": "stdout",
     "output_type": "stream",
     "text": [
      "-0.37873146097692845\n"
     ]
    }
   ],
   "source": [
    "eta_p = ((sims_rnd_pe['m']-sims_ref_pe['m'])/(sims_rnd_pe['m']+sims_ref_pe['m']))/((gr_price-1)/(1+gr_price))\n",
    "print(eta_p)"
   ]
  },
  {
   "cell_type": "markdown",
   "metadata": {},
   "source": [
    "# Income Elasticity\n",
    "\n",
    "## Partial Equilibrium"
   ]
  },
  {
   "cell_type": "code",
   "execution_count": 35,
   "metadata": {},
   "outputs": [],
   "source": [
    "gr_tfp = 0.75\n",
    "opt_inc_pe,sims_inc_pe = sim(gr_tfp,1.0,pars,'us',ge=False,rent=sims_ref['r'],wage=gr_tfp*sims_ref['w'],taxrate=sims_ref['tax'])"
   ]
  },
  {
   "cell_type": "code",
   "execution_count": 36,
   "metadata": {},
   "outputs": [
    {
     "data": {
      "text/plain": [
       "0.5156194196040484"
      ]
     },
     "execution_count": 36,
     "metadata": {},
     "output_type": "execute_result"
    }
   ],
   "source": [
    "eta_y = ((sims_inc_pe['m']-sims_ref_pe['m'])/(sims_inc_pe['m']+sims_ref_pe['m']))/((gr_tfp-1)/(1+gr_tfp))\n",
    "eta_y"
   ]
  },
  {
   "cell_type": "markdown",
   "metadata": {},
   "source": [
    "## General Equilibrium"
   ]
  },
  {
   "cell_type": "code",
   "execution_count": 37,
   "metadata": {},
   "outputs": [],
   "source": [
    "opt_inc_ge,sims_inc_ge = sim(gr_tfp,1.0,pars,'us',ge=True)"
   ]
  },
  {
   "cell_type": "code",
   "execution_count": 38,
   "metadata": {},
   "outputs": [
    {
     "data": {
      "text/plain": [
       "0.5812214761193445"
      ]
     },
     "execution_count": 38,
     "metadata": {},
     "output_type": "execute_result"
    }
   ],
   "source": [
    "eta_y = ((sims_inc_ge['m']-sims_ref['m'])/(sims_inc_ge['m']+sims_ref['m']))/((gr_tfp-1)/(1+gr_tfp))\n",
    "eta_y"
   ]
  }
 ],
 "metadata": {
  "kernelspec": {
   "display_name": "Python 3 (ipykernel)",
   "language": "python",
   "name": "python3"
  },
  "language_info": {
   "codemirror_mode": {
    "name": "ipython",
    "version": 3
   },
   "file_extension": ".py",
   "mimetype": "text/x-python",
   "name": "python",
   "nbconvert_exporter": "python",
   "pygments_lexer": "ipython3",
   "version": "3.8.12"
  }
 },
 "nbformat": 4,
 "nbformat_minor": 2
}

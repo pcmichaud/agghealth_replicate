{
 "cells": [
  {
   "cell_type": "markdown",
   "metadata": {},
   "source": [
    "# Figures and Tables for Welfare Analysis\n",
    "\n",
    "This notebook reproduces Table 10 and 11 of the Paper, the welfare effects of a price difference, as well as Figures found in Appendix F (F.1). "
   ]
  },
  {
   "cell_type": "code",
   "execution_count": 1,
   "metadata": {},
   "outputs": [],
   "source": [
    "from matplotlib import pyplot as plt\n",
    "import numpy as np \n",
    "from importlib import reload\n",
    "import pandas as pd\n",
    "import pickle\n",
    "from scipy.interpolate import interp1d\n",
    "from scipy.optimize import bisect\n",
    "from functools import partial\n",
    "from itertools import product"
   ]
  },
  {
   "cell_type": "code",
   "execution_count": 2,
   "metadata": {},
   "outputs": [],
   "source": [
    "import os\n",
    "import sys\n",
    "module_path = os.path.abspath(os.path.join('..'))\n",
    "if module_path not in sys.path:\n",
    "    sys.path.append(module_path)\n",
    "    \n",
    "from model import micro, macro, params \n",
    "from model import distributions as dist\n"
   ]
  },
  {
   "cell_type": "markdown",
   "metadata": {},
   "source": [
    "## Simulation Results"
   ]
  },
  {
   "cell_type": "code",
   "execution_count": 3,
   "metadata": {},
   "outputs": [
    {
     "data": {
      "text/html": [
       "<div>\n",
       "<style scoped>\n",
       "    .dataframe tbody tr th:only-of-type {\n",
       "        vertical-align: middle;\n",
       "    }\n",
       "\n",
       "    .dataframe tbody tr th {\n",
       "        vertical-align: top;\n",
       "    }\n",
       "\n",
       "    .dataframe thead th {\n",
       "        text-align: right;\n",
       "    }\n",
       "</style>\n",
       "<table border=\"1\" class=\"dataframe\">\n",
       "  <thead>\n",
       "    <tr style=\"text-align: right;\">\n",
       "      <th></th>\n",
       "      <th>pus_ge</th>\n",
       "      <th>peu_ge</th>\n",
       "      <th>peu_pe</th>\n",
       "      <th>aeu_ge</th>\n",
       "      <th>aeu_pe</th>\n",
       "    </tr>\n",
       "  </thead>\n",
       "  <tbody>\n",
       "    <tr>\n",
       "      <th>m</th>\n",
       "      <td>0.557813</td>\n",
       "      <td>0.594078</td>\n",
       "      <td>0.580346</td>\n",
       "      <td>0.538612</td>\n",
       "      <td>0.539985</td>\n",
       "    </tr>\n",
       "    <tr>\n",
       "      <th>y</th>\n",
       "      <td>4.229094</td>\n",
       "      <td>4.270291</td>\n",
       "      <td>4.270291</td>\n",
       "      <td>3.687379</td>\n",
       "      <td>4.270291</td>\n",
       "    </tr>\n",
       "    <tr>\n",
       "      <th>c</th>\n",
       "      <td>2.297478</td>\n",
       "      <td>2.458274</td>\n",
       "      <td>2.317035</td>\n",
       "      <td>1.988302</td>\n",
       "      <td>2.003603</td>\n",
       "    </tr>\n",
       "    <tr>\n",
       "      <th>k</th>\n",
       "      <td>27.199406</td>\n",
       "      <td>27.895348</td>\n",
       "      <td>27.221799</td>\n",
       "      <td>23.68989</td>\n",
       "      <td>23.902514</td>\n",
       "    </tr>\n",
       "    <tr>\n",
       "      <th>n</th>\n",
       "      <td>1.327392</td>\n",
       "      <td>1.327392</td>\n",
       "      <td>1.327392</td>\n",
       "      <td>1.327392</td>\n",
       "      <td>1.327392</td>\n",
       "    </tr>\n",
       "    <tr>\n",
       "      <th>s</th>\n",
       "      <td>0.131899</td>\n",
       "      <td>0.104429</td>\n",
       "      <td>0.102976</td>\n",
       "      <td>0.146069</td>\n",
       "      <td>0.109549</td>\n",
       "    </tr>\n",
       "    <tr>\n",
       "      <th>csy</th>\n",
       "      <td>0.675154</td>\n",
       "      <td>0.680098</td>\n",
       "      <td>0.650683</td>\n",
       "      <td>0.685288</td>\n",
       "      <td>0.651058</td>\n",
       "    </tr>\n",
       "    <tr>\n",
       "      <th>ksy</th>\n",
       "      <td>6.431497</td>\n",
       "      <td>6.532423</td>\n",
       "      <td>6.374694</td>\n",
       "      <td>6.424588</td>\n",
       "      <td>5.597397</td>\n",
       "    </tr>\n",
       "    <tr>\n",
       "      <th>h</th>\n",
       "      <td>0.899511</td>\n",
       "      <td>0.92392</td>\n",
       "      <td>0.920364</td>\n",
       "      <td>0.875535</td>\n",
       "      <td>0.877631</td>\n",
       "    </tr>\n",
       "    <tr>\n",
       "      <th>g2</th>\n",
       "      <td>1.147230</td>\n",
       "      <td>1.120584</td>\n",
       "      <td>1.123534</td>\n",
       "      <td>1.171403</td>\n",
       "      <td>1.168196</td>\n",
       "    </tr>\n",
       "    <tr>\n",
       "      <th>g3</th>\n",
       "      <td>1.236394</td>\n",
       "      <td>1.174843</td>\n",
       "      <td>1.182866</td>\n",
       "      <td>1.296893</td>\n",
       "      <td>1.291185</td>\n",
       "    </tr>\n",
       "    <tr>\n",
       "      <th>g4</th>\n",
       "      <td>1.273114</td>\n",
       "      <td>1.189868</td>\n",
       "      <td>1.200539</td>\n",
       "      <td>1.359954</td>\n",
       "      <td>1.351465</td>\n",
       "    </tr>\n",
       "    <tr>\n",
       "      <th>tgood</th>\n",
       "      <td>0.969140</td>\n",
       "      <td>0.969157</td>\n",
       "      <td>0.969146</td>\n",
       "      <td>0.969139</td>\n",
       "      <td>0.969139</td>\n",
       "    </tr>\n",
       "    <tr>\n",
       "      <th>tbad</th>\n",
       "      <td>0.276073</td>\n",
       "      <td>0.374573</td>\n",
       "      <td>0.356467</td>\n",
       "      <td>0.217226</td>\n",
       "      <td>0.221194</td>\n",
       "    </tr>\n",
       "    <tr>\n",
       "      <th>r</th>\n",
       "      <td>0.010871</td>\n",
       "      <td>0.010114</td>\n",
       "      <td>0.010871</td>\n",
       "      <td>0.011108</td>\n",
       "      <td>0.010871</td>\n",
       "    </tr>\n",
       "    <tr>\n",
       "      <th>w</th>\n",
       "      <td>1.964627</td>\n",
       "      <td>1.979274</td>\n",
       "      <td>1.964627</td>\n",
       "      <td>1.709903</td>\n",
       "      <td>1.806222</td>\n",
       "    </tr>\n",
       "    <tr>\n",
       "      <th>tax</th>\n",
       "      <td>0.202095</td>\n",
       "      <td>0.146553113750822</td>\n",
       "      <td>0.202095</td>\n",
       "      <td>0.20534695392508662</td>\n",
       "      <td>0.202095</td>\n",
       "    </tr>\n",
       "    <tr>\n",
       "      <th>oop</th>\n",
       "      <td>0.076092</td>\n",
       "      <td>0.060832</td>\n",
       "      <td>0.059426</td>\n",
       "      <td>0.073473</td>\n",
       "      <td>0.055293</td>\n",
       "    </tr>\n",
       "  </tbody>\n",
       "</table>\n",
       "</div>"
      ],
      "text/plain": [
       "          pus_ge             peu_ge     peu_pe               aeu_ge     aeu_pe\n",
       "m       0.557813           0.594078   0.580346             0.538612   0.539985\n",
       "y       4.229094           4.270291   4.270291             3.687379   4.270291\n",
       "c       2.297478           2.458274   2.317035             1.988302   2.003603\n",
       "k      27.199406          27.895348  27.221799             23.68989  23.902514\n",
       "n       1.327392           1.327392   1.327392             1.327392   1.327392\n",
       "s       0.131899           0.104429   0.102976             0.146069   0.109549\n",
       "csy     0.675154           0.680098   0.650683             0.685288   0.651058\n",
       "ksy     6.431497           6.532423   6.374694             6.424588   5.597397\n",
       "h       0.899511            0.92392   0.920364             0.875535   0.877631\n",
       "g2      1.147230           1.120584   1.123534             1.171403   1.168196\n",
       "g3      1.236394           1.174843   1.182866             1.296893   1.291185\n",
       "g4      1.273114           1.189868   1.200539             1.359954   1.351465\n",
       "tgood   0.969140           0.969157   0.969146             0.969139   0.969139\n",
       "tbad    0.276073           0.374573   0.356467             0.217226   0.221194\n",
       "r       0.010871           0.010114   0.010871             0.011108   0.010871\n",
       "w       1.964627           1.979274   1.964627             1.709903   1.806222\n",
       "tax     0.202095  0.146553113750822   0.202095  0.20534695392508662   0.202095\n",
       "oop     0.076092           0.060832   0.059426             0.073473   0.055293"
      ]
     },
     "execution_count": 3,
     "metadata": {},
     "output_type": "execute_result"
    }
   ],
   "source": [
    "aggs = pd.read_pickle('output/table_10-11_aggregates.pkl')\n",
    "scenarios = aggs.columns\n",
    "aggs"
   ]
  },
  {
   "cell_type": "code",
   "execution_count": 4,
   "metadata": {},
   "outputs": [],
   "source": [
    "eqs_temp = []\n",
    "opt_temp = []"
   ]
  },
  {
   "cell_type": "code",
   "execution_count": 5,
   "metadata": {},
   "outputs": [],
   "source": [
    "scenarios = ['pus_ge','peu_ge','peu_pe','aeu_ge','aeu_pe']\n",
    "\n",
    "for scn in scenarios:\n",
    "    file = open('output/eq_'+scn+'3.pkl','rb')\n",
    "    eq = pickle.load(file)\n",
    "    file.close()\n",
    "    eqs_temp.append(eq)\n",
    "    opt = pd.read_pickle('output/opt_'+scn+'3.pkl')\n",
    "    opt_temp.append(opt)"
   ]
  },
  {
   "cell_type": "code",
   "execution_count": 6,
   "metadata": {},
   "outputs": [],
   "source": [
    "eqs  = dict(zip(scenarios,eqs_temp))\n",
    "opts = dict(zip(scenarios,opt_temp))"
   ]
  },
  {
   "cell_type": "markdown",
   "metadata": {},
   "source": [
    "## Computing WTP"
   ]
  },
  {
   "cell_type": "code",
   "execution_count": 7,
   "metadata": {},
   "outputs": [],
   "source": [
    "gridk = eqs['pus_ge'].stats.gridk\n",
    "ne, nk, nh = eqs['pus_ge'].stats.ne, eqs['pus_ge'].stats.nk, eqs['pus_ge'].stats.nh"
   ]
  },
  {
   "cell_type": "code",
   "execution_count": 8,
   "metadata": {},
   "outputs": [],
   "source": [
    "def dif(k,fb,fj):\n",
    "    return fj(k) - fb"
   ]
  },
  {
   "cell_type": "code",
   "execution_count": 9,
   "metadata": {},
   "outputs": [],
   "source": [
    "for scn in scenarios[1:]:\n",
    "    opts[scn]['wtp'] = 0.0"
   ]
  },
  {
   "cell_type": "code",
   "execution_count": 10,
   "metadata": {},
   "outputs": [],
   "source": [
    "for e in range(ne):\n",
    "    for h in range(nh):\n",
    "        cond = (opts['pus_ge'].e == e) & (opts['pus_ge'].h == h)\n",
    "        vb = opts['pus_ge'].loc[cond,'v'] #peu_ge\n",
    "        fb = interp1d(gridk,vb,kind='cubic')\n",
    "        for scn in scenarios[1:]:\n",
    "            vj = opts[scn].loc[cond,'v'] #pus_ge\n",
    "            fj = interp1d(gridk,vj,kind='cubic')\n",
    "            for i,k in enumerate(gridk):\n",
    "                if scn=='aeu_ge' or scn=='aeu_pe':\n",
    "                    lim = [k,gridk[-1]]\n",
    "                else :\n",
    "                    lim = [0,k]\n",
    "                d = partial(dif,fb=fb(k),fj=fj)\n",
    "                try:\n",
    "                    kp = bisect(d,lim[0],lim[1],disp=False)\n",
    "                except (RuntimeError, TypeError, NameError,ValueError):\n",
    "                    kp = np.nan\n",
    "                    pass\n",
    "                wtp = k - kp # kp - k\n",
    "                opts[scn].loc[cond & (opts[scn].k == i),'wtp'] = wtp"
   ]
  },
  {
   "cell_type": "code",
   "execution_count": 11,
   "metadata": {},
   "outputs": [],
   "source": [
    "for scn in scenarios[1:]:\n",
    "    opts[scn]['wtpfl'] = 0.0"
   ]
  },
  {
   "cell_type": "code",
   "execution_count": 12,
   "metadata": {},
   "outputs": [],
   "source": [
    "# The fixed value is the one of US with peu price <=> the higher utility\n",
    "# With the higher as the benchmark, we can alway defined the wtp\n",
    "# => how much I must give to the losers (those in the benchmark) to compensate their lower utility \n",
    "# Here the losers are in the benchmark\n",
    "\n",
    "for e in range(ne):\n",
    "    for h in range(nh):\n",
    "        cond = (opts['pus_ge'].e == e) & (opts['pus_ge'].h == h)\n",
    "        vb = opts['peu_ge'].loc[cond,'v'] #peu_ge\n",
    "        fb = interp1d(gridk,vb,kind='cubic')\n",
    "        vj = opts['pus_ge'].loc[cond,'v'] #pus_ge\n",
    "        fj = interp1d(gridk,vj,kind='cubic')\n",
    "        for i,k in enumerate(gridk):\n",
    "            lim = [k,gridk[-1]]\n",
    "            d = partial(dif,fb=fb(k),fj=fj)\n",
    "            try:\n",
    "                kp = bisect(d,lim[0],lim[1],disp=False)\n",
    "            except (RuntimeError, TypeError, NameError,ValueError):\n",
    "                kp = np.nan\n",
    "                pass\n",
    "            wtpfl = kp - k \n",
    "            opts['peu_ge'].loc[cond & (opts['peu_ge'].k == i),'wtpfl'] = wtpfl"
   ]
  },
  {
   "cell_type": "code",
   "execution_count": 13,
   "metadata": {},
   "outputs": [],
   "source": [
    "# The fixed value is the one of US with peu price <=> the higher utility\n",
    "# With the higher as the benchmark, we can alway defined the wtp\n",
    "# => how much I must give to the losers (those in the benchmark) to compensate their lower utility \n",
    "# Here the losers are in the benchmark\n",
    "\n",
    "for e in range(ne):\n",
    "    for h in range(nh):\n",
    "        cond = (opts['pus_ge'].e == e) & (opts['pus_ge'].h == h)\n",
    "        vb = opts['peu_pe'].loc[cond,'v'] #peu_ge\n",
    "        fb = interp1d(gridk,vb,kind='cubic')\n",
    "        vj = opts['pus_ge'].loc[cond,'v'] #pus_ge\n",
    "        fj = interp1d(gridk,vj,kind='cubic')\n",
    "        for i,k in enumerate(gridk):\n",
    "            lim = [k,gridk[-1]]\n",
    "            d = partial(dif,fb=fb(k),fj=fj)\n",
    "            try:\n",
    "                kp = bisect(d,lim[0],lim[1],disp=False)\n",
    "            except (RuntimeError, TypeError, NameError,ValueError):\n",
    "                kp = np.nan\n",
    "                pass\n",
    "            wtpfl = kp - k \n",
    "            opts['peu_pe'].loc[cond & (opts['peu_pe'].k == i),'wtpfl'] = wtpfl"
   ]
  },
  {
   "cell_type": "code",
   "execution_count": 14,
   "metadata": {},
   "outputs": [],
   "source": [
    "# The fixed value is the one of US with aus TFP <=> the higher utility \n",
    "# With the higher as the benchmark, we can alway defined the wtp\n",
    "# => how much I must take to the winners to overcompensate their higher utility \n",
    "# Here the winners are in the benchmark\n",
    "\n",
    "for e in range(ne):\n",
    "    for h in range(nh):\n",
    "        cond = (opts['pus_ge'].e == e) & (opts['pus_ge'].h == h)\n",
    "        vb = opts['pus_ge'].loc[cond,'v'] #peu_ge\n",
    "        fb = interp1d(gridk,vb,kind='cubic')\n",
    "        vj = opts['aeu_ge'].loc[cond,'v'] #pus_ge\n",
    "        fj = interp1d(gridk,vj,kind='cubic')\n",
    "        for i,k in enumerate(gridk):\n",
    "            lim = [k,gridk[-1]]#lim = [0,k]\n",
    "            d = partial(dif,fb=fb(k),fj=fj)\n",
    "            try:\n",
    "                kp = bisect(d,lim[0],lim[1],disp=False)\n",
    "            except (RuntimeError, TypeError, NameError,ValueError):\n",
    "                kp = np.nan\n",
    "                pass\n",
    "            wtpfl = k - kp \n",
    "            opts['aeu_ge'].loc[cond & (opts['aeu_ge'].k == i),'wtpfl'] = wtpfl"
   ]
  },
  {
   "cell_type": "code",
   "execution_count": 15,
   "metadata": {},
   "outputs": [],
   "source": [
    "# The fixed value is the one of US with aus TFP <=> the higher utility \n",
    "# With the higher as the benchmark, we can alway defined the wtp\n",
    "# => how much I must take to the winners to overcompensate their higher utility \n",
    "# Here the winners are in the benchmark\n",
    "\n",
    "for e in range(ne):\n",
    "    for h in range(nh):\n",
    "        cond = (opts['pus_ge'].e == e) & (opts['pus_ge'].h == h)\n",
    "        vb = opts['pus_ge'].loc[cond,'v'] #peu_ge\n",
    "        fb = interp1d(gridk,vb,kind='cubic')\n",
    "        vj = opts['aeu_pe'].loc[cond,'v'] #pus_ge\n",
    "        fj = interp1d(gridk,vj,kind='cubic')\n",
    "        for i,k in enumerate(gridk):\n",
    "            lim = [k,gridk[-1]]#lim = [0,k]\n",
    "            d = partial(dif,fb=fb(k),fj=fj)\n",
    "            try:\n",
    "                kp = bisect(d,lim[0],lim[1],disp=False)\n",
    "            except (RuntimeError, TypeError, NameError,ValueError):\n",
    "                kp = np.nan\n",
    "                pass\n",
    "            wtpfl = k - kp \n",
    "            opts['aeu_pe'].loc[cond & (opts['aeu_pe'].k == i),'wtpfl'] = wtpfl"
   ]
  },
  {
   "cell_type": "code",
   "execution_count": 16,
   "metadata": {},
   "outputs": [
    {
     "name": "stderr",
     "output_type": "stream",
     "text": [
      "The PostScript backend does not support transparency; partially transparent artists will be rendered opaque.\n",
      "The PostScript backend does not support transparency; partially transparent artists will be rendered opaque.\n"
     ]
    },
    {
     "data": {
      "image/png": "[encoded data removed]",
      "text/plain": [
       "<Figure size 432x288 with 1 Axes>"
      ]
     },
     "metadata": {
      "needs_background": "light"
     },
     "output_type": "display_data"
    },
    {
     "name": "stderr",
     "output_type": "stream",
     "text": [
      "The PostScript backend does not support transparency; partially transparent artists will be rendered opaque.\n",
      "The PostScript backend does not support transparency; partially transparent artists will be rendered opaque.\n"
     ]
    },
    {
     "data": {
      "image/png": "[encoded data removed]",
      "text/plain": [
       "<Figure size 432x288 with 1 Axes>"
      ]
     },
     "metadata": {
      "needs_background": "light"
     },
     "output_type": "display_data"
    },
    {
     "name": "stderr",
     "output_type": "stream",
     "text": [
      "The PostScript backend does not support transparency; partially transparent artists will be rendered opaque.\n",
      "The PostScript backend does not support transparency; partially transparent artists will be rendered opaque.\n"
     ]
    },
    {
     "data": {
      "image/png": "[encoded data removed]",
      "text/plain": [
       "<Figure size 432x288 with 1 Axes>"
      ]
     },
     "metadata": {
      "needs_background": "light"
     },
     "output_type": "display_data"
    }
   ],
   "source": [
    "degpol = 8\n",
    "hs = [0,1]\n",
    "es = [0,4,9]\n",
    "elabels = ['low','middle','high']\n",
    "hlabels = ['bad health','good health']\n",
    "hcolors = ['darkgray','black']\n",
    "for i,e in enumerate(es):\n",
    "    plt.figure()\n",
    "    for h in hs:\n",
    "        cond = (opts['pus_ge'].e == e) & (opts['pus_ge'].h == h)\n",
    "        wtps = opts['peu_ge'].loc[cond,'wtpfl']\n",
    "        wtps.index = np.arange(len(wtps))\n",
    "        ws = wtps.loc[wtps.isna()==False]\n",
    "\n",
    "        ks = gridk[ws.index.values]\n",
    "        p = np.polyfit(ks, ws, deg=degpol)#4)\n",
    "        w = np.poly1d(p)\n",
    "        plt.plot(ks,[w(k) for k in ks],color=hcolors[h],label=hlabels[h]+' (ge)')\n",
    "        \n",
    "        wtps = opts['peu_pe'].loc[cond,'wtpfl']\n",
    "        wtps.index = np.arange(len(wtps))\n",
    "        ws = wtps.loc[wtps.isna()==False]\n",
    "        ks = gridk[ws.index.values]\n",
    "        p = np.polyfit(ks, ws, deg=degpol)#4)\n",
    "        w = np.poly1d(p)\n",
    "        plt.plot(ks,[w(k) for k in ks],'--',color=hcolors[h],label=hlabels[h]+' (pe)')\n",
    "    plt.xlabel('asset (a)')\n",
    "    plt.ylabel('willingness to pay')\n",
    "    plt.legend() \n",
    "    plt.savefig('../figures/fig_f1_wtp_price_'+elabels[i]+'.eps')\n",
    "    plt.show()"
   ]
  },
  {
   "cell_type": "markdown",
   "metadata": {},
   "source": [
    "# Cost-of-Living Index\n",
    "\n",
    "The price index is based on the follownig formula\n",
    "$$\n",
    "I_{LC}(a,h,e) = \\frac{{\\cal \\hat{E}}_{US}}{{\\cal E}_{EU}} = \\frac{a + {\\cal P} + G_{p=p_{EU}}}{a + G_{p=p_{EU}}} \n",
    "~~\\Rightarrow~~ \n",
    "I_{LC}(h,e) = \\sum_a \\frac{a + {\\cal P} + G_{p=p_{EU}}}{a + G_{p=p_{EU}}} \\lambda(a)\n",
    "$$\n",
    "because the costs of living are \n",
    "$$\n",
    "{\\cal E}_{EU} = a + G_{p=p_{EU}}\n",
    "$$\n",
    "for an individual living in a economy where $p=p_{EU}$ and with the endovment $a + G_{p=p_{EU}}$ and \n",
    "$$\n",
    "{\\cal \\hat{E}}_{US} = a + {\\cal P} + G_{p=p_{EU}}\n",
    "$$\n",
    "for an individual living in a economy where $p=p_{US}$ and with the same endovment $a + G_{p=p_{EU}}$\n",
    "\n",
    "Remark: it is necessary to control for the changes in $G$ in order to have two individuals with the same endovments. This leads to define ${\\cal \\hat{E}}_{US}$ which is different from the standard expenditure function\n",
    "$$\n",
    "{\\cal \\hat{E}}_{US} \\neq {\\cal E}_{US} = a + {\\cal P} + G_{p=p_{US}}\n",
    "$$\n"
   ]
  },
  {
   "cell_type": "markdown",
   "metadata": {},
   "source": [
    "## Human Wealth Calculations"
   ]
  },
  {
   "cell_type": "code",
   "execution_count": 17,
   "metadata": {},
   "outputs": [],
   "source": [
    "ge = np.zeros((ne,len(scenarios)))\n",
    "for i,scn in enumerate(scenarios):\n",
    "    pi = eqs[scn].inc.tprob\n",
    "    ri = 1/(1+aggs.loc['r',scn])\n",
    "    res   = np.eye(ne) - ri*pi\n",
    "    ires   = np.linalg.inv(res)\n",
    "    ge[:,i] = (1-aggs.loc['tax',scn])*aggs.loc['w',scn]*(ires@np.exp(eqs[scn].inc.pte))"
   ]
  },
  {
   "cell_type": "markdown",
   "metadata": {},
   "source": [
    "## Cost of Living Calculations"
   ]
  },
  {
   "cell_type": "code",
   "execution_count": 18,
   "metadata": {},
   "outputs": [],
   "source": [
    "for scn in scenarios[1:]:\n",
    "    opts[scn]['ilt'] = 0.0\n",
    "    opts[scn]['ge']  = 0.0\n",
    "\n",
    "for i in opts['pus_ge'].index:   \n",
    "    for j,scn in enumerate(scenarios[1:]):\n",
    "        col_ref = gridk[opts['pus_ge'].loc[i,'k']] + opts[scn].loc[i,'wtpfl'] + ge[opts[scn].loc[i,'e'],1+j]\n",
    "        col     = gridk[opts[scn].loc[i,'k']] + ge[opts[scn].loc[i,'e'],1+j]\n",
    "        cc_ref  = gridk[opts['pus_ge'].loc[i,'k']] + opts[scn].loc[i,'wtpfl']\n",
    "        cc      = gridk[opts['pus_ge'].loc[i,'k']]\n",
    "        opts[scn].loc[i,'ge']      = ge[opts['pus_ge'].loc[i,'e'],0]/ge[opts[scn].loc[i,'e'],1+j]\n",
    "        opts[scn].loc[i,'col']     = col\n",
    "        opts[scn].loc[i,'col_ref'] = col_ref        \n",
    "        opts[scn].loc[i,'ilt']     = (col_ref/col)*100"
   ]
  },
  {
   "cell_type": "markdown",
   "metadata": {},
   "source": [
    "## Tables"
   ]
  },
  {
   "cell_type": "code",
   "execution_count": 19,
   "metadata": {},
   "outputs": [],
   "source": [
    "es = [0,4,9]\n",
    "columns = ['0','4','9','Total']\n",
    "hs = [0,1]\n",
    "equ = ['ge','pe']\n",
    "ll = [equ,hs]\n",
    "rows = list(product(*ll))\n",
    "index = pd.MultiIndex.from_tuples(rows, names=['equilibrium','health'])\n",
    "table_p = pd.DataFrame(index=index,columns=columns)\n",
    "for q in equ:\n",
    "    for j,e in enumerate(es):\n",
    "        for h in hs:\n",
    "            cond = (opts['peu_'+q].e == e) & (opts['peu_'+q].h == h)\n",
    "            sel  = opts['peu_'+q].loc[cond,['ps','ilt']]\n",
    "            sel  = sel.loc[sel['ilt'].isna()!=True,:]\n",
    "            sel['ps'] = sel['ps']/sel['ps'].sum()\n",
    "            sel['p']  = sel['ps']*sel['ilt']\n",
    "            table_p.loc[(q,h),columns[j]] = sel['p'].sum()\n",
    "    sel = opts['peu_'+q].loc[:,['ps','ilt']]\n",
    "    sel = sel.loc[sel['ilt'].isna()!=True,:]\n",
    "    sel['ps'] = sel['ps']/sel['ps'].sum()\n",
    "    sel['p'] = sel['ps']*sel['ilt']\n",
    "    table_p.loc[(q,0),columns[-1]] = sel['p'].sum()  "
   ]
  },
  {
   "cell_type": "code",
   "execution_count": 20,
   "metadata": {},
   "outputs": [
    {
     "data": {
      "text/html": [
       "<div>\n",
       "<style scoped>\n",
       "    .dataframe tbody tr th:only-of-type {\n",
       "        vertical-align: middle;\n",
       "    }\n",
       "\n",
       "    .dataframe tbody tr th {\n",
       "        vertical-align: top;\n",
       "    }\n",
       "\n",
       "    .dataframe thead th {\n",
       "        text-align: right;\n",
       "    }\n",
       "</style>\n",
       "<table border=\"1\" class=\"dataframe\">\n",
       "  <thead>\n",
       "    <tr style=\"text-align: right;\">\n",
       "      <th></th>\n",
       "      <th></th>\n",
       "      <th>0</th>\n",
       "      <th>4</th>\n",
       "      <th>9</th>\n",
       "      <th>Total</th>\n",
       "    </tr>\n",
       "    <tr>\n",
       "      <th>equilibrium</th>\n",
       "      <th>health</th>\n",
       "      <th></th>\n",
       "      <th></th>\n",
       "      <th></th>\n",
       "      <th></th>\n",
       "    </tr>\n",
       "  </thead>\n",
       "  <tbody>\n",
       "    <tr>\n",
       "      <th rowspan=\"2\" valign=\"top\">ge</th>\n",
       "      <th>0</th>\n",
       "      <td>100.479095</td>\n",
       "      <td>101.975579</td>\n",
       "      <td>103.53165</td>\n",
       "      <td>102.234567</td>\n",
       "    </tr>\n",
       "    <tr>\n",
       "      <th>1</th>\n",
       "      <td>100.999855</td>\n",
       "      <td>102.117013</td>\n",
       "      <td>103.31336</td>\n",
       "      <td>NaN</td>\n",
       "    </tr>\n",
       "    <tr>\n",
       "      <th rowspan=\"2\" valign=\"top\">pe</th>\n",
       "      <th>0</th>\n",
       "      <td>100.075325</td>\n",
       "      <td>100.632447</td>\n",
       "      <td>101.240347</td>\n",
       "      <td>100.577746</td>\n",
       "    </tr>\n",
       "    <tr>\n",
       "      <th>1</th>\n",
       "      <td>100.236982</td>\n",
       "      <td>100.521883</td>\n",
       "      <td>101.032383</td>\n",
       "      <td>NaN</td>\n",
       "    </tr>\n",
       "  </tbody>\n",
       "</table>\n",
       "</div>"
      ],
      "text/plain": [
       "                             0           4           9       Total\n",
       "equilibrium health                                                \n",
       "ge          0       100.479095  101.975579   103.53165  102.234567\n",
       "            1       100.999855  102.117013   103.31336         NaN\n",
       "pe          0       100.075325  100.632447  101.240347  100.577746\n",
       "            1       100.236982  100.521883  101.032383         NaN"
      ]
     },
     "execution_count": 20,
     "metadata": {},
     "output_type": "execute_result"
    }
   ],
   "source": [
    "table_p"
   ]
  },
  {
   "cell_type": "markdown",
   "metadata": {},
   "source": [
    "This is Table 11. "
   ]
  },
  {
   "cell_type": "code",
   "execution_count": 21,
   "metadata": {},
   "outputs": [],
   "source": [
    "table_p.round(3).to_latex('../tables/table_11_col_index.tex')"
   ]
  },
  {
   "cell_type": "markdown",
   "metadata": {},
   "source": [
    "## Willingness to Pay for a Price Change\n",
    "\n",
    "Compiling the table"
   ]
  },
  {
   "cell_type": "code",
   "execution_count": 22,
   "metadata": {},
   "outputs": [],
   "source": [
    "es = [0,4,9]\n",
    "columns = ['0','4','9','Total']\n",
    "hs = [0,1]\n",
    "equ = ['ge','pe']\n",
    "ll = [equ,hs]\n",
    "rows = list(product(*ll))\n",
    "index = pd.MultiIndex.from_tuples(rows, names=['equilibrium','health'])\n",
    "table_w = pd.DataFrame(index=index,columns=columns)\n",
    "for q in equ:\n",
    "    for j,e in enumerate(es):\n",
    "        for h in hs:\n",
    "            cond = (opts['peu_'+q].e == e) & (opts['peu_'+q].h == h)\n",
    "            sel  = opts['peu_'+q].loc[cond,['ps','wtpfl','c']]\n",
    "            sel  = sel.loc[sel['wtpfl'].isna()!=True,:]\n",
    "            sel['ps'] = sel['ps']/sel['ps'].sum()\n",
    "            sel['Awtpfl']  = (sel['ps']*sel['wtpfl']).sum()\n",
    "            sel['wtpc']    = ((sel['ps']*sel['wtpfl']).sum())/((sel['ps']*opts['pus_ge'].loc[cond,'c']).sum())\n",
    "            table_w.loc[(q,h),columns[j]] = sel['wtpc'].loc[sel['wtpc'].index[0]]\n",
    "    sel = opts['peu_'+q].loc[:,['ps','wtpfl','c']]\n",
    "    sel = sel.loc[sel['wtpfl'].isna()!=True,:]\n",
    "    sel['ps'] = sel['ps']/sel['ps'].sum()\n",
    "    sel['Awtpfl']  = (sel['ps']*sel['wtpfl']).sum()\n",
    "    sel['wtpc']    = ((sel['ps']*sel['wtpfl']).sum())/((sel['ps']*opts['pus_ge'].loc[:,'c']).sum())\n",
    "    table_w.loc[(q,0),columns[-1]] = sel['wtpc'].loc[sel['wtpc'].index[0]]  "
   ]
  },
  {
   "cell_type": "code",
   "execution_count": 23,
   "metadata": {},
   "outputs": [
    {
     "data": {
      "text/html": [
       "<div>\n",
       "<style scoped>\n",
       "    .dataframe tbody tr th:only-of-type {\n",
       "        vertical-align: middle;\n",
       "    }\n",
       "\n",
       "    .dataframe tbody tr th {\n",
       "        vertical-align: top;\n",
       "    }\n",
       "\n",
       "    .dataframe thead th {\n",
       "        text-align: right;\n",
       "    }\n",
       "</style>\n",
       "<table border=\"1\" class=\"dataframe\">\n",
       "  <thead>\n",
       "    <tr style=\"text-align: right;\">\n",
       "      <th></th>\n",
       "      <th></th>\n",
       "      <th>0</th>\n",
       "      <th>4</th>\n",
       "      <th>9</th>\n",
       "      <th>Total</th>\n",
       "    </tr>\n",
       "    <tr>\n",
       "      <th>equilibrium</th>\n",
       "      <th>health</th>\n",
       "      <th></th>\n",
       "      <th></th>\n",
       "      <th></th>\n",
       "      <th></th>\n",
       "    </tr>\n",
       "  </thead>\n",
       "  <tbody>\n",
       "    <tr>\n",
       "      <th rowspan=\"2\" valign=\"top\">ge</th>\n",
       "      <th>0</th>\n",
       "      <td>2.242532</td>\n",
       "      <td>3.120702</td>\n",
       "      <td>2.545802</td>\n",
       "      <td>2.542036</td>\n",
       "    </tr>\n",
       "    <tr>\n",
       "      <th>1</th>\n",
       "      <td>2.168093</td>\n",
       "      <td>2.601782</td>\n",
       "      <td>2.347443</td>\n",
       "      <td>NaN</td>\n",
       "    </tr>\n",
       "    <tr>\n",
       "      <th rowspan=\"2\" valign=\"top\">pe</th>\n",
       "      <th>0</th>\n",
       "      <td>0.311334</td>\n",
       "      <td>0.896056</td>\n",
       "      <td>0.824207</td>\n",
       "      <td>0.60348</td>\n",
       "    </tr>\n",
       "    <tr>\n",
       "      <th>1</th>\n",
       "      <td>0.451886</td>\n",
       "      <td>0.576324</td>\n",
       "      <td>0.677176</td>\n",
       "      <td>NaN</td>\n",
       "    </tr>\n",
       "  </tbody>\n",
       "</table>\n",
       "</div>"
      ],
      "text/plain": [
       "                           0         4         9     Total\n",
       "equilibrium health                                        \n",
       "ge          0       2.242532  3.120702  2.545802  2.542036\n",
       "            1       2.168093  2.601782  2.347443       NaN\n",
       "pe          0       0.311334  0.896056  0.824207   0.60348\n",
       "            1       0.451886  0.576324  0.677176       NaN"
      ]
     },
     "execution_count": 23,
     "metadata": {},
     "output_type": "execute_result"
    }
   ],
   "source": [
    "table_w"
   ]
  },
  {
   "cell_type": "markdown",
   "metadata": {},
   "source": [
    "This is Table 10"
   ]
  },
  {
   "cell_type": "code",
   "execution_count": 24,
   "metadata": {},
   "outputs": [],
   "source": [
    "table_w.round(3).to_latex('../tables/table_10_wtp.tex')"
   ]
  }
 ],
 "metadata": {
  "kernelspec": {
   "display_name": "Python 3",
   "language": "python",
   "name": "python3"
  },
  "language_info": {
   "codemirror_mode": {
    "name": "ipython",
    "version": 3
   },
   "file_extension": ".py",
   "mimetype": "text/x-python",
   "name": "python",
   "nbconvert_exporter": "python",
   "pygments_lexer": "ipython3",
   "version": "3.8.3"
  }
 },
 "nbformat": 4,
 "nbformat_minor": 2
}

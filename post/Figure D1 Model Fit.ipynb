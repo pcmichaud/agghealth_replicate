{
 "cells": [
  {
   "cell_type": "markdown",
   "metadata": {},
   "source": [
    "# Model fit"
   ]
  },
  {
   "cell_type": "code",
   "execution_count": null,
   "metadata": {},
   "outputs": [],
   "source": []
  },
  {
   "cell_type": "code",
   "execution_count": 2,
   "metadata": {},
   "outputs": [],
   "source": [
    "import pandas as pd\n",
    "import numpy as np\n",
    "from matplotlib import pyplot as plt\n",
    "import csv\n",
    "from scipy.stats import spearmanr"
   ]
  },
  {
   "cell_type": "markdown",
   "metadata": {},
   "source": [
    "## Model parameters"
   ]
  },
  {
   "cell_type": "code",
   "execution_count": 3,
   "metadata": {},
   "outputs": [
    {
     "data": {
      "text/html": [
       "<div>\n",
       "<style scoped>\n",
       "    .dataframe tbody tr th:only-of-type {\n",
       "        vertical-align: middle;\n",
       "    }\n",
       "\n",
       "    .dataframe tbody tr th {\n",
       "        vertical-align: top;\n",
       "    }\n",
       "\n",
       "    .dataframe thead th {\n",
       "        text-align: right;\n",
       "    }\n",
       "</style>\n",
       "<table border=\"1\" class=\"dataframe\">\n",
       "  <thead>\n",
       "    <tr style=\"text-align: right;\">\n",
       "      <th></th>\n",
       "      <th>us</th>\n",
       "      <th>de</th>\n",
       "      <th>dk</th>\n",
       "      <th>fr</th>\n",
       "      <th>it</th>\n",
       "      <th>nl</th>\n",
       "      <th>se</th>\n",
       "      <th>sp</th>\n",
       "    </tr>\n",
       "    <tr>\n",
       "      <th>name</th>\n",
       "      <th></th>\n",
       "      <th></th>\n",
       "      <th></th>\n",
       "      <th></th>\n",
       "      <th></th>\n",
       "      <th></th>\n",
       "      <th></th>\n",
       "      <th></th>\n",
       "    </tr>\n",
       "  </thead>\n",
       "  <tbody>\n",
       "    <tr>\n",
       "      <th>sigma</th>\n",
       "      <td>2.101034</td>\n",
       "      <td>2.101034</td>\n",
       "      <td>2.101034</td>\n",
       "      <td>2.101034</td>\n",
       "      <td>2.101034</td>\n",
       "      <td>2.101034</td>\n",
       "      <td>2.101034</td>\n",
       "      <td>2.101034</td>\n",
       "    </tr>\n",
       "    <tr>\n",
       "      <th>beta</th>\n",
       "      <td>0.970000</td>\n",
       "      <td>0.970000</td>\n",
       "      <td>0.970000</td>\n",
       "      <td>0.970000</td>\n",
       "      <td>0.970000</td>\n",
       "      <td>0.970000</td>\n",
       "      <td>0.970000</td>\n",
       "      <td>0.970000</td>\n",
       "    </tr>\n",
       "    <tr>\n",
       "      <th>phi</th>\n",
       "      <td>0.282108</td>\n",
       "      <td>0.282108</td>\n",
       "      <td>0.282108</td>\n",
       "      <td>0.282108</td>\n",
       "      <td>0.282108</td>\n",
       "      <td>0.282108</td>\n",
       "      <td>0.282108</td>\n",
       "      <td>0.282108</td>\n",
       "    </tr>\n",
       "    <tr>\n",
       "      <th>psi</th>\n",
       "      <td>0.136652</td>\n",
       "      <td>0.136652</td>\n",
       "      <td>0.136652</td>\n",
       "      <td>0.136652</td>\n",
       "      <td>0.136652</td>\n",
       "      <td>0.136652</td>\n",
       "      <td>0.136652</td>\n",
       "      <td>0.136652</td>\n",
       "    </tr>\n",
       "    <tr>\n",
       "      <th>delta_h1</th>\n",
       "      <td>-1.021047</td>\n",
       "      <td>-1.297368</td>\n",
       "      <td>-1.620886</td>\n",
       "      <td>-0.989299</td>\n",
       "      <td>-0.796356</td>\n",
       "      <td>-1.231644</td>\n",
       "      <td>-1.419716</td>\n",
       "      <td>0.176934</td>\n",
       "    </tr>\n",
       "    <tr>\n",
       "      <th>delta_h2</th>\n",
       "      <td>3.430393</td>\n",
       "      <td>4.111966</td>\n",
       "      <td>4.265841</td>\n",
       "      <td>3.769468</td>\n",
       "      <td>3.933223</td>\n",
       "      <td>3.955199</td>\n",
       "      <td>4.317404</td>\n",
       "      <td>3.519121</td>\n",
       "    </tr>\n",
       "    <tr>\n",
       "      <th>eta</th>\n",
       "      <td>0.000000</td>\n",
       "      <td>0.000000</td>\n",
       "      <td>0.000000</td>\n",
       "      <td>0.000000</td>\n",
       "      <td>0.000000</td>\n",
       "      <td>0.000000</td>\n",
       "      <td>0.000000</td>\n",
       "      <td>0.000000</td>\n",
       "    </tr>\n",
       "    <tr>\n",
       "      <th>tfp</th>\n",
       "      <td>1.000000</td>\n",
       "      <td>1.022368</td>\n",
       "      <td>1.259887</td>\n",
       "      <td>0.937066</td>\n",
       "      <td>0.676091</td>\n",
       "      <td>1.039062</td>\n",
       "      <td>0.805936</td>\n",
       "      <td>0.837693</td>\n",
       "    </tr>\n",
       "    <tr>\n",
       "      <th>price</th>\n",
       "      <td>1.000000</td>\n",
       "      <td>0.835118</td>\n",
       "      <td>0.887434</td>\n",
       "      <td>0.603227</td>\n",
       "      <td>0.606923</td>\n",
       "      <td>0.648879</td>\n",
       "      <td>0.883980</td>\n",
       "      <td>0.851795</td>\n",
       "    </tr>\n",
       "    <tr>\n",
       "      <th>risk</th>\n",
       "      <td>0.000000</td>\n",
       "      <td>0.000000</td>\n",
       "      <td>0.000000</td>\n",
       "      <td>0.000000</td>\n",
       "      <td>0.000000</td>\n",
       "      <td>0.000000</td>\n",
       "      <td>0.000000</td>\n",
       "      <td>0.000000</td>\n",
       "    </tr>\n",
       "  </tbody>\n",
       "</table>\n",
       "</div>"
      ],
      "text/plain": [
       "                us        de        dk        fr        it        nl  \\\n",
       "name                                                                   \n",
       "sigma     2.101034  2.101034  2.101034  2.101034  2.101034  2.101034   \n",
       "beta      0.970000  0.970000  0.970000  0.970000  0.970000  0.970000   \n",
       "phi       0.282108  0.282108  0.282108  0.282108  0.282108  0.282108   \n",
       "psi       0.136652  0.136652  0.136652  0.136652  0.136652  0.136652   \n",
       "delta_h1 -1.021047 -1.297368 -1.620886 -0.989299 -0.796356 -1.231644   \n",
       "delta_h2  3.430393  4.111966  4.265841  3.769468  3.933223  3.955199   \n",
       "eta       0.000000  0.000000  0.000000  0.000000  0.000000  0.000000   \n",
       "tfp       1.000000  1.022368  1.259887  0.937066  0.676091  1.039062   \n",
       "price     1.000000  0.835118  0.887434  0.603227  0.606923  0.648879   \n",
       "risk      0.000000  0.000000  0.000000  0.000000  0.000000  0.000000   \n",
       "\n",
       "                se        sp  \n",
       "name                          \n",
       "sigma     2.101034  2.101034  \n",
       "beta      0.970000  0.970000  \n",
       "phi       0.282108  0.282108  \n",
       "psi       0.136652  0.136652  \n",
       "delta_h1 -1.419716  0.176934  \n",
       "delta_h2  4.317404  3.519121  \n",
       "eta       0.000000  0.000000  \n",
       "tfp       0.805936  0.837693  \n",
       "price     0.883980  0.851795  \n",
       "risk      0.000000  0.000000  "
      ]
     },
     "execution_count": 3,
     "metadata": {},
     "output_type": "execute_result"
    }
   ],
   "source": [
    "countries = ['us','de','dk','fr','it','nl','se','sp']\n",
    "df = pd.read_pickle('../estimation/output/params_ref_us.pkl')\n",
    "table = df.loc[:,'value'].to_frame()\n",
    "table.columns = ['us']\n",
    "\n",
    "for c in countries: \n",
    "\tdf = pd.read_pickle('../estimation/output/params_ref_'+c+'.pkl')\n",
    "\ttable[c] = df.loc[:,'value']\n",
    "table"
   ]
  },
  {
   "cell_type": "markdown",
   "metadata": {},
   "source": [
    "## Simulated Moments"
   ]
  },
  {
   "cell_type": "code",
   "execution_count": 3,
   "metadata": {},
   "outputs": [
    {
     "data": {
      "text/html": [
       "<div>\n",
       "<style scoped>\n",
       "    .dataframe tbody tr th:only-of-type {\n",
       "        vertical-align: middle;\n",
       "    }\n",
       "\n",
       "    .dataframe tbody tr th {\n",
       "        vertical-align: top;\n",
       "    }\n",
       "\n",
       "    .dataframe thead th {\n",
       "        text-align: right;\n",
       "    }\n",
       "</style>\n",
       "<table border=\"1\" class=\"dataframe\">\n",
       "  <thead>\n",
       "    <tr style=\"text-align: right;\">\n",
       "      <th></th>\n",
       "      <th>de</th>\n",
       "      <th>dk</th>\n",
       "      <th>fr</th>\n",
       "      <th>it</th>\n",
       "      <th>nl</th>\n",
       "      <th>se</th>\n",
       "      <th>sp</th>\n",
       "      <th>us</th>\n",
       "    </tr>\n",
       "  </thead>\n",
       "  <tbody>\n",
       "    <tr>\n",
       "      <th>s</th>\n",
       "      <td>0.102719</td>\n",
       "      <td>0.090447</td>\n",
       "      <td>0.103340</td>\n",
       "      <td>0.082716</td>\n",
       "      <td>0.088693</td>\n",
       "      <td>0.086432</td>\n",
       "      <td>0.077696</td>\n",
       "      <td>0.143017</td>\n",
       "    </tr>\n",
       "    <tr>\n",
       "      <th>tgood</th>\n",
       "      <td>0.982216</td>\n",
       "      <td>0.986061</td>\n",
       "      <td>0.977321</td>\n",
       "      <td>0.980108</td>\n",
       "      <td>0.981542</td>\n",
       "      <td>0.986579</td>\n",
       "      <td>0.967758</td>\n",
       "      <td>0.970159</td>\n",
       "    </tr>\n",
       "    <tr>\n",
       "      <th>tbad</th>\n",
       "      <td>0.406540</td>\n",
       "      <td>0.501798</td>\n",
       "      <td>0.506607</td>\n",
       "      <td>0.336872</td>\n",
       "      <td>0.538995</td>\n",
       "      <td>0.474097</td>\n",
       "      <td>0.469313</td>\n",
       "      <td>0.256270</td>\n",
       "    </tr>\n",
       "    <tr>\n",
       "      <th>g2</th>\n",
       "      <td>1.034320</td>\n",
       "      <td>1.012335</td>\n",
       "      <td>1.053734</td>\n",
       "      <td>1.026696</td>\n",
       "      <td>1.042717</td>\n",
       "      <td>1.007033</td>\n",
       "      <td>1.085283</td>\n",
       "      <td>1.135900</td>\n",
       "    </tr>\n",
       "    <tr>\n",
       "      <th>g3</th>\n",
       "      <td>1.057924</td>\n",
       "      <td>1.020690</td>\n",
       "      <td>1.076606</td>\n",
       "      <td>1.048267</td>\n",
       "      <td>1.057519</td>\n",
       "      <td>1.012481</td>\n",
       "      <td>1.105033</td>\n",
       "      <td>1.221975</td>\n",
       "    </tr>\n",
       "    <tr>\n",
       "      <th>g4</th>\n",
       "      <td>1.070411</td>\n",
       "      <td>1.027649</td>\n",
       "      <td>1.080306</td>\n",
       "      <td>1.071815</td>\n",
       "      <td>1.059616</td>\n",
       "      <td>1.018795</td>\n",
       "      <td>1.114558</td>\n",
       "      <td>1.270962</td>\n",
       "    </tr>\n",
       "    <tr>\n",
       "      <th>y</th>\n",
       "      <td>0.828224</td>\n",
       "      <td>0.900450</td>\n",
       "      <td>0.733563</td>\n",
       "      <td>0.737428</td>\n",
       "      <td>0.856601</td>\n",
       "      <td>0.806204</td>\n",
       "      <td>0.642308</td>\n",
       "      <td>1.000000</td>\n",
       "    </tr>\n",
       "    <tr>\n",
       "      <th>h</th>\n",
       "      <td>0.958089</td>\n",
       "      <td>0.972972</td>\n",
       "      <td>0.957152</td>\n",
       "      <td>0.944244</td>\n",
       "      <td>0.966888</td>\n",
       "      <td>0.972471</td>\n",
       "      <td>0.935716</td>\n",
       "      <td>0.895701</td>\n",
       "    </tr>\n",
       "  </tbody>\n",
       "</table>\n",
       "</div>"
      ],
      "text/plain": [
       "             de        dk        fr        it        nl        se        sp  \\\n",
       "s      0.102719  0.090447  0.103340  0.082716  0.088693  0.086432  0.077696   \n",
       "tgood  0.982216  0.986061  0.977321  0.980108  0.981542  0.986579  0.967758   \n",
       "tbad   0.406540  0.501798  0.506607  0.336872  0.538995  0.474097  0.469313   \n",
       "g2     1.034320  1.012335  1.053734  1.026696  1.042717  1.007033  1.085283   \n",
       "g3     1.057924  1.020690  1.076606  1.048267  1.057519  1.012481  1.105033   \n",
       "g4     1.070411  1.027649  1.080306  1.071815  1.059616  1.018795  1.114558   \n",
       "y      0.828224  0.900450  0.733563  0.737428  0.856601  0.806204  0.642308   \n",
       "h      0.958089  0.972972  0.957152  0.944244  0.966888  0.972471  0.935716   \n",
       "\n",
       "             us  \n",
       "s      0.143017  \n",
       "tgood  0.970159  \n",
       "tbad   0.256270  \n",
       "g2     1.135900  \n",
       "g3     1.221975  \n",
       "g4     1.270962  \n",
       "y      1.000000  \n",
       "h      0.895701  "
      ]
     },
     "execution_count": 3,
     "metadata": {},
     "output_type": "execute_result"
    }
   ],
   "source": [
    "# loading results from estimation\n",
    "momsim = pd.read_pickle('../output_JPE/momsim.pkl')\n",
    "momsim"
   ]
  },
  {
   "cell_type": "markdown",
   "metadata": {},
   "source": [
    "## Targeted moments"
   ]
  },
  {
   "cell_type": "code",
   "execution_count": 4,
   "metadata": {},
   "outputs": [
    {
     "data": {
      "text/html": [
       "<div>\n",
       "<style scoped>\n",
       "    .dataframe tbody tr th:only-of-type {\n",
       "        vertical-align: middle;\n",
       "    }\n",
       "\n",
       "    .dataframe tbody tr th {\n",
       "        vertical-align: top;\n",
       "    }\n",
       "\n",
       "    .dataframe thead th {\n",
       "        text-align: right;\n",
       "    }\n",
       "</style>\n",
       "<table border=\"1\" class=\"dataframe\">\n",
       "  <thead>\n",
       "    <tr style=\"text-align: right;\">\n",
       "      <th></th>\n",
       "      <th>de</th>\n",
       "      <th>dk</th>\n",
       "      <th>fr</th>\n",
       "      <th>it</th>\n",
       "      <th>nl</th>\n",
       "      <th>se</th>\n",
       "      <th>sp</th>\n",
       "      <th>us</th>\n",
       "    </tr>\n",
       "  </thead>\n",
       "  <tbody>\n",
       "    <tr>\n",
       "      <th>s</th>\n",
       "      <td>0.102286</td>\n",
       "      <td>0.090630</td>\n",
       "      <td>0.103574</td>\n",
       "      <td>0.081090</td>\n",
       "      <td>0.088281</td>\n",
       "      <td>0.085785</td>\n",
       "      <td>0.078123</td>\n",
       "      <td>0.144225</td>\n",
       "    </tr>\n",
       "    <tr>\n",
       "      <th>tgood</th>\n",
       "      <td>0.974141</td>\n",
       "      <td>0.979406</td>\n",
       "      <td>0.974455</td>\n",
       "      <td>0.972635</td>\n",
       "      <td>0.973520</td>\n",
       "      <td>0.972755</td>\n",
       "      <td>0.964839</td>\n",
       "      <td>0.962049</td>\n",
       "    </tr>\n",
       "    <tr>\n",
       "      <th>tbad</th>\n",
       "      <td>0.330893</td>\n",
       "      <td>0.342960</td>\n",
       "      <td>0.313807</td>\n",
       "      <td>0.319106</td>\n",
       "      <td>0.473841</td>\n",
       "      <td>0.296176</td>\n",
       "      <td>0.349192</td>\n",
       "      <td>0.206800</td>\n",
       "    </tr>\n",
       "    <tr>\n",
       "      <th>g2</th>\n",
       "      <td>1.016155</td>\n",
       "      <td>1.086958</td>\n",
       "      <td>1.020005</td>\n",
       "      <td>1.034779</td>\n",
       "      <td>1.023182</td>\n",
       "      <td>1.051242</td>\n",
       "      <td>1.037651</td>\n",
       "      <td>1.170375</td>\n",
       "    </tr>\n",
       "    <tr>\n",
       "      <th>g3</th>\n",
       "      <td>1.069110</td>\n",
       "      <td>1.077969</td>\n",
       "      <td>1.060824</td>\n",
       "      <td>1.011047</td>\n",
       "      <td>1.027680</td>\n",
       "      <td>1.057207</td>\n",
       "      <td>0.981191</td>\n",
       "      <td>1.214093</td>\n",
       "    </tr>\n",
       "    <tr>\n",
       "      <th>g4</th>\n",
       "      <td>1.075891</td>\n",
       "      <td>1.079779</td>\n",
       "      <td>1.094960</td>\n",
       "      <td>1.034549</td>\n",
       "      <td>1.016583</td>\n",
       "      <td>1.070738</td>\n",
       "      <td>1.048693</td>\n",
       "      <td>1.269144</td>\n",
       "    </tr>\n",
       "    <tr>\n",
       "      <th>y</th>\n",
       "      <td>0.830156</td>\n",
       "      <td>0.898205</td>\n",
       "      <td>0.735264</td>\n",
       "      <td>0.739971</td>\n",
       "      <td>0.872562</td>\n",
       "      <td>0.797962</td>\n",
       "      <td>0.640259</td>\n",
       "      <td>1.000000</td>\n",
       "    </tr>\n",
       "    <tr>\n",
       "      <th>h</th>\n",
       "      <td>0.927516</td>\n",
       "      <td>0.943353</td>\n",
       "      <td>0.924723</td>\n",
       "      <td>0.921018</td>\n",
       "      <td>0.947074</td>\n",
       "      <td>0.915759</td>\n",
       "      <td>0.908518</td>\n",
       "      <td>0.844942</td>\n",
       "    </tr>\n",
       "  </tbody>\n",
       "</table>\n",
       "</div>"
      ],
      "text/plain": [
       "             de        dk        fr        it        nl        se        sp  \\\n",
       "s      0.102286  0.090630  0.103574  0.081090  0.088281  0.085785  0.078123   \n",
       "tgood  0.974141  0.979406  0.974455  0.972635  0.973520  0.972755  0.964839   \n",
       "tbad   0.330893  0.342960  0.313807  0.319106  0.473841  0.296176  0.349192   \n",
       "g2     1.016155  1.086958  1.020005  1.034779  1.023182  1.051242  1.037651   \n",
       "g3     1.069110  1.077969  1.060824  1.011047  1.027680  1.057207  0.981191   \n",
       "g4     1.075891  1.079779  1.094960  1.034549  1.016583  1.070738  1.048693   \n",
       "y      0.830156  0.898205  0.735264  0.739971  0.872562  0.797962  0.640259   \n",
       "h      0.927516  0.943353  0.924723  0.921018  0.947074  0.915759  0.908518   \n",
       "\n",
       "             us  \n",
       "s      0.144225  \n",
       "tgood  0.962049  \n",
       "tbad   0.206800  \n",
       "g2     1.170375  \n",
       "g3     1.214093  \n",
       "g4     1.269144  \n",
       "y      1.000000  \n",
       "h      0.844942  "
      ]
     },
     "execution_count": 4,
     "metadata": {},
     "output_type": "execute_result"
    }
   ],
   "source": [
    "countries = ['de','dk','fr','it','nl','se','sp','us']\n",
    "moments = ['s', 'tgood', 'tbad', 'g2','g3','g4','y','h']\n",
    "# Estimated moments\n",
    "emomT_de = [0.1022855, 0.97414118, 0.33089325, 1.0161546, 1.0691098, 1.0758906, 0.8301558557492001,0];\n",
    "emomT_dk = [0.0906295, 0.97940569, 0.34295961, 1.0869576, 1.0779691, 1.0797791, 0.8982050373873612,0];\n",
    "emomT_fr = [0.10357350000000001, 0.97445468, 0.3138074, 1.0200051, 1.0608238, 1.0949601, 0.7352641707913572,0];\n",
    "emomT_it = [0.08108950000000001, 0.9726352, 0.31910557, 1.0347792, 1.0110466, 1.0345493, 0.7399708689473027,0];\n",
    "emomT_nl = [0.08828149999999998, 0.97351987, 0.47384099, 1.023182, 1.0276797, 1.0165831, 0.872561963669148,0];\n",
    "emomT_se = [0.085785, 0.97275458, 0.29617631, 1.0512416, 1.0572071, 1.0707381, 0.7979621824232888,0];\n",
    "emomT_sp = [0.07812250000000001, 0.96483865, 0.34919192, 1.0376513, 0.98119098, 1.0486931, 0.6402592229336116,0];\n",
    "emomT_us = [0.144225, 0.96204934, 0.20680013, 1.170375, 1.2140929, 1.269144, 1,0];\n",
    "# Computation of h\n",
    "Ptrans     = np.array([[emomT_de[1], 1-emomT_de[1]], [emomT_de[2], 1-emomT_de[2]]])\n",
    "Stath      = np.linalg.matrix_power(Ptrans, 1000)\n",
    "emomT_de[7] = Stath[0,0]\n",
    "Ptrans     = np.array([[emomT_dk[1], 1-emomT_dk[1]], [emomT_dk[2], 1-emomT_dk[2]]])\n",
    "Stath      = np.linalg.matrix_power(Ptrans, 1000)\n",
    "emomT_dk[7] = Stath[0,0]\n",
    "Ptrans     = np.array([[emomT_fr[1], 1-emomT_fr[1]], [emomT_fr[2], 1-emomT_fr[2]]])\n",
    "Stath      = np.linalg.matrix_power(Ptrans, 1000)\n",
    "emomT_fr[7] = Stath[0,0]\n",
    "Ptrans     = np.array([[emomT_it[1], 1-emomT_it[1]], [emomT_it[2], 1-emomT_it[2]]])\n",
    "Stath      = np.linalg.matrix_power(Ptrans, 1000)\n",
    "emomT_it[7] = Stath[0,0]\n",
    "Ptrans     = np.array([[emomT_nl[1], 1-emomT_nl[1]], [emomT_nl[2], 1-emomT_nl[2]]])\n",
    "Stath      = np.linalg.matrix_power(Ptrans, 1000)\n",
    "emomT_nl[7] = Stath[0,0]\n",
    "Ptrans     = np.array([[emomT_se[1], 1-emomT_se[1]], [emomT_se[2], 1-emomT_se[2]]])\n",
    "Stath      = np.linalg.matrix_power(Ptrans, 1000)\n",
    "emomT_se[7] = Stath[0,0]\n",
    "Ptrans     = np.array([[emomT_sp[1], 1-emomT_sp[1]], [emomT_sp[2], 1-emomT_sp[2]]])\n",
    "Stath      = np.linalg.matrix_power(Ptrans, 1000)\n",
    "emomT_sp[7] = Stath[0,0]\n",
    "Ptrans     = np.array([[emomT_us[1], 1-emomT_us[1]], [emomT_us[2], 1-emomT_us[2]]])\n",
    "Stath      = np.linalg.matrix_power(Ptrans, 1000)\n",
    "emomT_us[7] = Stath[0,0]\n",
    "# Table of results\n",
    "pmomT = np.array((emomT_de,emomT_dk,emomT_fr,emomT_it,emomT_nl,emomT_se,emomT_sp,emomT_us))\n",
    "pmomT = pmomT.T\n",
    "momsimT = pd.DataFrame(index=moments,columns=countries)\n",
    "momsimT.loc[:,'de']    = pmomT[:,0]\n",
    "momsimT.loc[:,'dk']    = pmomT[:,1]\n",
    "momsimT.loc[:,'fr']    = pmomT[:,2]\n",
    "momsimT.loc[:,'it']    = pmomT[:,3]\n",
    "momsimT.loc[:,'nl']    = pmomT[:,4]\n",
    "momsimT.loc[:,'se']    = pmomT[:,5]\n",
    "momsimT.loc[:,'sp']    = pmomT[:,6]\n",
    "momsimT.loc[:,'us']    = pmomT[:,7]\n",
    "momsimT"
   ]
  },
  {
   "cell_type": "markdown",
   "metadata": {},
   "source": [
    "## Figures of the fit"
   ]
  },
  {
   "cell_type": "code",
   "execution_count": 5,
   "metadata": {},
   "outputs": [
    {
     "data": {
      "image/png": "[encoded data removed]",
      "text/plain": [
       "<Figure size 432x288 with 1 Axes>"
      ]
     },
     "metadata": {
      "needs_background": "light"
     },
     "output_type": "display_data"
    }
   ],
   "source": [
    "plt.figure()\n",
    "plt.scatter(momsimT.loc['y'],momsim.loc['y']/momsim.loc['y','us'],facecolors='none', edgecolors='b',s=500.0)\n",
    "xx1 = np.amin([np.amin(momsim.loc['y']/momsim.loc['y','us']),np.amin(momsimT.loc['y'])])-0.05*np.amin([np.amin(momsim.loc['y']/momsim.loc['y','us']),np.amin(momsimT.loc['y'])])\n",
    "xx2 = np.amax([np.amax(momsim.loc['y']/momsim.loc['y','us']),np.amax(momsimT.loc['y'])])+0.05*np.amax([np.amax(momsim.loc['y']/momsim.loc['y','us']),np.amax(momsimT.loc['y'])])\n",
    "xx = np.linspace(xx1,xx2,20)\n",
    "plt.fill_between(xx, xx-.00, xx+.00, color='grey')#, alpha='0.5')\n",
    "plt.xlabel('data')\n",
    "plt.ylabel('simulated data')\n",
    "for x,y,z in zip(momsimT.loc['y'],momsim.loc['y']/momsim.loc['y','us'],countries):\n",
    "    plt.annotate(z,xy=(x, y),horizontalalignment='center', verticalalignment='center')\n",
    "#plt.savefig('../figures_JPE/yTyus.eps',dpi=600)"
   ]
  },
  {
   "cell_type": "code",
   "execution_count": 6,
   "metadata": {},
   "outputs": [
    {
     "data": {
      "image/png": "[encoded data removed]",
      "text/plain": [
       "<Figure size 432x288 with 1 Axes>"
      ]
     },
     "metadata": {
      "needs_background": "light"
     },
     "output_type": "display_data"
    }
   ],
   "source": [
    "plt.figure()\n",
    "plt.scatter(momsimT.loc['s'],momsim.loc['s'],facecolors='none', edgecolors='b',s=500.0)\n",
    "xx1 = np.amin([np.amin(momsim.loc['s']),np.amin(momsimT.loc['s'])])-0.3*np.amin([np.amin(momsim.loc['s']),np.amin(momsimT.loc['s'])])\n",
    "xx2 = np.amax([np.amax(momsim.loc['s']),np.amax(momsimT.loc['s'])])+0.1*np.amax([np.amax(momsim.loc['s']),np.amax(momsimT.loc['s'])])\n",
    "xx = np.linspace(xx1,xx2,20)\n",
    "plt.fill_between(xx, xx-.00, xx+.00, color='grey')#, alpha='0.5')\n",
    "plt.xlabel('data')\n",
    "plt.ylabel('simulated data')\n",
    "for x,y,z in zip(momsimT.loc['s'],momsim.loc['s'],countries):\n",
    "    plt.annotate(z,xy=(x, y),horizontalalignment='center', verticalalignment='center')\n",
    "plt.ylim([.05, .15])\n",
    "plt.xlim([.05, .15])\n",
    "plt.show()\n",
    "#plt.savefig('../figures_JPE/share_s.eps',dpi=600)"
   ]
  },
  {
   "cell_type": "code",
   "execution_count": 7,
   "metadata": {},
   "outputs": [
    {
     "data": {
      "image/png": "[encoded data removed]",
      "text/plain": [
       "<Figure size 432x288 with 1 Axes>"
      ]
     },
     "metadata": {
      "needs_background": "light"
     },
     "output_type": "display_data"
    }
   ],
   "source": [
    "ssize = .5\n",
    "plt.figure()\n",
    "plt.scatter(momsimT.loc['tbad'],momsim.loc['tbad'],facecolors='none', edgecolors='b',s=500.0)\n",
    "xx1 = np.amin([np.amin(momsim.loc['tbad']),np.amin(momsimT.loc['tbad'])])-ssize*np.amin([np.amin(momsim.loc['tbad']),np.amin(momsimT.loc['tbad'])])\n",
    "xx2 = np.amax([np.amax(momsim.loc['tbad']),np.amax(momsimT.loc['tbad'])])+ssize*np.amax([np.amax(momsim.loc['tbad']),np.amax(momsimT.loc['tbad'])])\n",
    "xx = np.linspace(xx1,xx2,20)\n",
    "plt.fill_between(xx, xx-.00, xx+.00, color='grey')#, alpha='0.5')\n",
    "plt.xlabel('data')\n",
    "plt.ylabel('simulated data')\n",
    "for x,y,z in zip(momsimT.loc['tbad'],momsim.loc['tbad'],countries):\n",
    "    plt.annotate(z,xy=(x, y),horizontalalignment='center', verticalalignment='center')\n",
    "plt.ylim([.1, .7])\n",
    "plt.xlim([.1, .7])\n",
    "plt.show()\n",
    "#plt.savefig('../figures_JPE/bTg.eps',dpi=600)"
   ]
  },
  {
   "cell_type": "code",
   "execution_count": 8,
   "metadata": {},
   "outputs": [
    {
     "data": {
      "image/png": "[encoded data removed]",
      "text/plain": [
       "<Figure size 432x288 with 1 Axes>"
      ]
     },
     "metadata": {
      "needs_background": "light"
     },
     "output_type": "display_data"
    }
   ],
   "source": [
    "ssize = .05\n",
    "plt.figure()\n",
    "plt.scatter(momsimT.loc['tgood'],momsim.loc['tgood'],facecolors='none', edgecolors='b',s=500.0)\n",
    "xx1 = np.amin([np.amin(momsim.loc['tgood']),np.amin(momsimT.loc['tgood'])])-ssize*np.amin([np.amin(momsim.loc['tgood']),np.amin(momsimT.loc['tgood'])])\n",
    "xx2 = np.amax([np.amax(momsim.loc['tgood']),np.amax(momsimT.loc['tgood'])])+ssize*np.amax([np.amax(momsim.loc['tgood']),np.amax(momsimT.loc['tgood'])])\n",
    "xx = np.linspace(xx1,xx2,20)\n",
    "plt.fill_between(xx, xx-.00, xx+.00, color='grey')#, alpha='0.5')\n",
    "plt.xlabel('data')\n",
    "plt.ylabel('simulated data')\n",
    "for x,y,z in zip(momsimT.loc['tgood'],momsim.loc['tgood'],countries):\n",
    "    plt.annotate(z,xy=(x, y),horizontalalignment='center', verticalalignment='center')\n",
    "plt.ylim([.94, 1])\n",
    "plt.xlim([.94, 1])\n",
    "plt.show()\n",
    "#plt.savefig('../figures_JPE/gTg.eps',dpi=600)"
   ]
  },
  {
   "cell_type": "code",
   "execution_count": 9,
   "metadata": {},
   "outputs": [
    {
     "data": {
      "image/png": "[encoded data removed]",
      "text/plain": [
       "<Figure size 432x288 with 1 Axes>"
      ]
     },
     "metadata": {
      "needs_background": "light"
     },
     "output_type": "display_data"
    }
   ],
   "source": [
    "ssize = .15\n",
    "plt.figure()\n",
    "plt.scatter(momsimT.loc['g2'],momsim.loc['g2'],facecolors='none', edgecolors='b',s=500.0)\n",
    "xx1 = np.amin([np.amin(momsim.loc['g2']),np.amin(momsimT.loc['g2'])])-ssize*np.amin([np.amin(momsim.loc['g2']),np.amin(momsimT.loc['g2'])])\n",
    "xx2 = np.amax([np.amax(momsim.loc['g2']),np.amax(momsimT.loc['g2'])])+ssize*np.amax([np.amax(momsim.loc['g2']),np.amax(momsimT.loc['g2'])])\n",
    "xx = np.linspace(xx1,xx2,20)\n",
    "plt.fill_between(xx, xx-.00, xx+.00, color='grey')#, alpha='0.5')\n",
    "plt.xlabel('data')\n",
    "plt.ylabel('simulated data')\n",
    "for x,y,z in zip(momsimT.loc['g2'],momsim.loc['g2'],countries):\n",
    "    plt.annotate(z,xy=(x, y),horizontalalignment='center', verticalalignment='center')\n",
    "plt.ylim([.95, 1.3])\n",
    "plt.xlim([.95, 1.3])\n",
    "plt.show()\n",
    "#plt.savefig('../figures_JPE/grad2.eps',dpi=600)"
   ]
  },
  {
   "cell_type": "code",
   "execution_count": 10,
   "metadata": {},
   "outputs": [
    {
     "data": {
      "image/png": "[encoded data removed]",
      "text/plain": [
       "<Figure size 432x288 with 1 Axes>"
      ]
     },
     "metadata": {
      "needs_background": "light"
     },
     "output_type": "display_data"
    }
   ],
   "source": [
    "plt.figure()\n",
    "plt.scatter(momsimT.loc['g3'],momsim.loc['g3'],facecolors='none', edgecolors='b',s=500.0)\n",
    "xx1 = np.amin([np.amin(momsim.loc['g3']),np.amin(momsimT.loc['g3'])])-0.05*np.amin([np.amin(momsim.loc['g3']),np.amin(momsimT.loc['g3'])])\n",
    "xx2 = np.amax([np.amax(momsim.loc['g3']),np.amax(momsimT.loc['g3'])])+0.075*np.amax([np.amax(momsim.loc['g3']),np.amax(momsimT.loc['g3'])])\n",
    "xx = np.linspace(xx1,xx2,20)\n",
    "plt.fill_between(xx, xx-.00, xx+.00, color='grey')#, alpha='0.5')\n",
    "plt.xlabel('data')\n",
    "plt.ylabel('simulated data')\n",
    "for x,y,z in zip(momsimT.loc['g3'],momsim.loc['g3'],countries):\n",
    "    plt.annotate(z,xy=(x, y),horizontalalignment='center', verticalalignment='center')\n",
    "plt.ylim([.95, 1.3])\n",
    "plt.xlim([.95, 1.3])\n",
    "plt.show()\n",
    "#plt.savefig('../figures_JPE/grad3.eps',dpi=600)"
   ]
  },
  {
   "cell_type": "code",
   "execution_count": 11,
   "metadata": {},
   "outputs": [
    {
     "data": {
      "image/png": "[encoded data removed]",
      "text/plain": [
       "<Figure size 432x288 with 1 Axes>"
      ]
     },
     "metadata": {
      "needs_background": "light"
     },
     "output_type": "display_data"
    }
   ],
   "source": [
    "plt.figure()\n",
    "plt.scatter(momsimT.loc['g4'],momsim.loc['g4'],facecolors='none', edgecolors='b',s=500.0)\n",
    "xx1 = np.amin([np.amin(momsim.loc['g4']),np.amin(momsimT.loc['g4'])])-0.05*np.amin([np.amin(momsim.loc['g4']),np.amin(momsimT.loc['g4'])])\n",
    "xx2 = np.amax([np.amax(momsim.loc['g4']),np.amax(momsimT.loc['g4'])])+0.05*np.amax([np.amax(momsim.loc['g4']),np.amax(momsimT.loc['g4'])])\n",
    "xx = np.linspace(xx1,xx2,20)\n",
    "plt.fill_between(xx, xx-.00, xx+.00, color='grey')#, alpha='0.5')\n",
    "plt.xlabel('data')\n",
    "plt.ylabel('simulated data')\n",
    "for x,y,z in zip(momsimT.loc['g4'],momsim.loc['g4'],countries):\n",
    "    plt.annotate(z,xy=(x, y),horizontalalignment='center', verticalalignment='center')\n",
    "plt.ylim([.95, 1.3])\n",
    "plt.xlim([.95, 1.3])\n",
    "plt.show()\n",
    "#plt.savefig('../figures_JPE/grad4.eps',dpi=600)"
   ]
  },
  {
   "cell_type": "code",
   "execution_count": 12,
   "metadata": {},
   "outputs": [
    {
     "name": "stdout",
     "output_type": "stream",
     "text": [
      "s\n",
      "[1.0, 0.0]\n",
      "h\n",
      "[0.7142857142857144, 0.04652823228416724]\n",
      "y\n",
      "[1.0, 0.0]\n",
      "from good to good\n",
      "[0.5714285714285715, 0.1389599571607067]\n",
      "from bad to good\n",
      "[0.5000000000000001, 0.20703124999999997]\n",
      "gradient g2\n",
      "[0.0, 1.0]\n",
      "gradient g3\n",
      "[0.11904761904761905, 0.7788857260523797]\n",
      "gradient g4\n",
      "[0.3333333333333334, 0.4197530864197531]\n"
     ]
    }
   ],
   "source": [
    "print(\"s\")\n",
    "res_spear_rho, res_spear_pv = spearmanr(momsimT.loc['s'], momsim.loc['s'])\n",
    "print([res_spear_rho, res_spear_pv])\n",
    "print(\"h\")\n",
    "res_spear_rho, res_spear_pv = spearmanr(momsimT.loc['h'], momsim.loc['h'])\n",
    "print([res_spear_rho, res_spear_pv])\n",
    "print(\"y\")\n",
    "res_spear_rho, res_spear_pv = spearmanr(momsimT.loc['y'], momsim.loc['y'])\n",
    "print([res_spear_rho, res_spear_pv])\n",
    "\n",
    "print(\"from good to good\")\n",
    "res_spear_rho, res_spear_pv = spearmanr(momsimT.loc['tgood'], momsim.loc['tgood'])\n",
    "print([res_spear_rho, res_spear_pv])\n",
    "print(\"from bad to good\")\n",
    "res_spear_rho, res_spear_pv = spearmanr(momsimT.loc['tbad'], momsim.loc['tbad'])\n",
    "print([res_spear_rho, res_spear_pv])\n",
    "\n",
    "print(\"gradient g2\")\n",
    "res_spear_rho, res_spear_pv = spearmanr(momsimT.loc['g2'], momsim.loc['g2'])\n",
    "print([res_spear_rho, res_spear_pv])\n",
    "print(\"gradient g3\")\n",
    "res_spear_rho, res_spear_pv = spearmanr(momsimT.loc['g3'], momsim.loc['g3'])\n",
    "print([res_spear_rho, res_spear_pv])\n",
    "print(\"gradient g4\")\n",
    "res_spear_rho, res_spear_pv = spearmanr(momsimT.loc['g4'], momsim.loc['g4'])\n",
    "print([res_spear_rho, res_spear_pv])"
   ]
  },
  {
   "cell_type": "markdown",
   "metadata": {},
   "source": [
    "## Additional information "
   ]
  },
  {
   "cell_type": "markdown",
   "metadata": {},
   "source": [
    "### Price gaps"
   ]
  },
  {
   "cell_type": "code",
   "execution_count": 13,
   "metadata": {},
   "outputs": [
    {
     "name": "stdout",
     "output_type": "stream",
     "text": [
      "0.7450567946438661 0.7137430518130534\n"
     ]
    }
   ],
   "source": [
    "# pop seize 2015\n",
    "weight_co = np.array([81174000, 5659715, 66352469, 60795612, 16900726, 9747355, 46439864])\n",
    "# basic mean\n",
    "bm_price = np.mean(pars.loc['p',countries[0:7]])\n",
    "# mean with country weight\n",
    "wm_price = np.sum(weight_co*pars.loc['p',countries[0:7]]/np.sum(weight_co))\n",
    "print(bm_price,wm_price)"
   ]
  },
  {
   "cell_type": "markdown",
   "metadata": {},
   "source": [
    "### TFP gaps"
   ]
  },
  {
   "cell_type": "code",
   "execution_count": 14,
   "metadata": {},
   "outputs": [
    {
     "name": "stdout",
     "output_type": "stream",
     "text": [
      "0.9124184429499074 0.867623628988201\n"
     ]
    }
   ],
   "source": [
    "# basic mean\n",
    "bm_tfp = np.mean(pars.loc['tfp',countries[0:7]])\n",
    "# mean with country weight\n",
    "wm_tfp = np.sum(weight_co*pars.loc['tfp',countries[0:7]]/np.sum(weight_co))\n",
    "print(bm_tfp,wm_tfp)"
   ]
  },
  {
   "cell_type": "code",
   "execution_count": 15,
   "metadata": {},
   "outputs": [
    {
     "name": "stderr",
     "output_type": "stream",
     "text": [
      "/Users/flangot/opt/anaconda3/lib/python3.7/site-packages/ipykernel_launcher.py:4: FutureWarning: Your version of xlrd is 1.2.0. In xlrd >= 2.0, only the xls format is supported. As a result, the openpyxl engine will be used if it is installed and the engine argument is not specified. Install openpyxl instead.\n",
      "  after removing the cwd from sys.path.\n"
     ]
    }
   ],
   "source": [
    "from pandas import read_excel\n",
    "file_name = 'xlsx_files/TFP_data.xlsx' # name of your excel file\n",
    "my_sheet  = 'data2'    # sheet name\n",
    "data_tfp_ts   = read_excel(file_name, sheet_name = my_sheet)"
   ]
  },
  {
   "cell_type": "code",
   "execution_count": 16,
   "metadata": {},
   "outputs": [
    {
     "name": "stdout",
     "output_type": "stream",
     "text": [
      "Groningen\n",
      "[0.9047619047619048, 0.0020082755054294677]\n",
      "Banque de France\n",
      "[0.7619047619047621, 0.028004939153071794]\n"
     ]
    }
   ],
   "source": [
    "print(\"Groningen\")\n",
    "res_spear_rho, res_spear_pv = spearmanr(pars.loc['tfp',:], data_tfp_ts.loc[:,'Groningen 1997'])\n",
    "print([res_spear_rho, res_spear_pv])\n",
    "print(\"Banque de France\")\n",
    "res_spear_rho, res_spear_pv = spearmanr(pars.loc['tfp',:], data_tfp_ts.loc[:,'Banque de France'])\n",
    "print([res_spear_rho, res_spear_pv])"
   ]
  },
  {
   "cell_type": "code",
   "execution_count": 17,
   "metadata": {},
   "outputs": [
    {
     "data": {
      "image/png": "[encoded data removed]",
      "text/plain": [
       "<Figure size 432x288 with 1 Axes>"
      ]
     },
     "metadata": {
      "needs_background": "light"
     },
     "output_type": "display_data"
    }
   ],
   "source": [
    "plt.figure()\n",
    "plt.scatter(pars.loc['tfp',:],data_tfp_ts.loc[:,'Groningen 1997'],facecolors='none', edgecolors='b',s=500.0)\n",
    "plt.scatter(pars.loc['tfp',:],data_tfp_ts.loc[:,'Banque de France'],facecolors='none', edgecolors='g',s=500.0)\n",
    "plt.xlim(0.5,1.3)\n",
    "plt.ylim(0.75,1.05)\n",
    "plt.xlabel('Our estimates')\n",
    "plt.ylabel('External information')\n",
    "for x,y,z in zip(pars.loc['tfp',:],data_tfp_ts.loc[:,'Groningen 1997'],countries):\n",
    "    plt.annotate(z,xy=(x, y),horizontalalignment='center', verticalalignment='center')\n",
    "for x,y,z in zip(pars.loc['tfp',:],data_tfp_ts.loc[:,'Banque de France'],countries):\n",
    "    plt.annotate(z,xy=(x, y),horizontalalignment='center', verticalalignment='center')\n",
    "#plt.savefig('../figures_JPE/tfp_vs_data.eps',dpi=600)"
   ]
  },
  {
   "cell_type": "code",
   "execution_count": 18,
   "metadata": {},
   "outputs": [
    {
     "name": "stdout",
     "output_type": "stream",
     "text": [
      "s\n",
      "[1.0, 0.0]\n",
      "h\n",
      "[0.7142857142857144, 0.04652823228416724]\n",
      "y\n",
      "[1.0, 0.0]\n",
      "from good to good\n",
      "[0.5714285714285715, 0.1389599571607067]\n",
      "from bad to good\n",
      "[0.5000000000000001, 0.20703124999999997]\n",
      "gradient g2\n",
      "[0.0, 1.0]\n",
      "gradient g3\n",
      "[0.11904761904761905, 0.7788857260523797]\n",
      "gradient g4\n",
      "[0.3333333333333334, 0.4197530864197531]\n"
     ]
    }
   ],
   "source": [
    "print(\"s\")\n",
    "res_spear_rho, res_spear_pv = spearmanr(momsimT.loc['s'], momsim.loc['s'])\n",
    "print([res_spear_rho, res_spear_pv])\n",
    "print(\"h\")\n",
    "res_spear_rho, res_spear_pv = spearmanr(momsimT.loc['h'], momsim.loc['h'])\n",
    "print([res_spear_rho, res_spear_pv])\n",
    "print(\"y\")\n",
    "res_spear_rho, res_spear_pv = spearmanr(momsimT.loc['y'], momsim.loc['y'])\n",
    "print([res_spear_rho, res_spear_pv])\n",
    "\n",
    "print(\"from good to good\")\n",
    "res_spear_rho, res_spear_pv = spearmanr(momsimT.loc['tgood'], momsim.loc['tgood'])\n",
    "print([res_spear_rho, res_spear_pv])\n",
    "print(\"from bad to good\")\n",
    "res_spear_rho, res_spear_pv = spearmanr(momsimT.loc['tbad'], momsim.loc['tbad'])\n",
    "print([res_spear_rho, res_spear_pv])\n",
    "\n",
    "print(\"gradient g2\")\n",
    "res_spear_rho, res_spear_pv = spearmanr(momsimT.loc['g2'], momsim.loc['g2'])\n",
    "print([res_spear_rho, res_spear_pv])\n",
    "print(\"gradient g3\")\n",
    "res_spear_rho, res_spear_pv = spearmanr(momsimT.loc['g3'], momsim.loc['g3'])\n",
    "print([res_spear_rho, res_spear_pv])\n",
    "print(\"gradient g4\")\n",
    "res_spear_rho, res_spear_pv = spearmanr(momsimT.loc['g4'], momsim.loc['g4'])\n",
    "print([res_spear_rho, res_spear_pv])"
   ]
  },
  {
   "cell_type": "code",
   "execution_count": null,
   "metadata": {},
   "outputs": [],
   "source": []
  }
 ],
 "metadata": {
  "kernelspec": {
   "display_name": "Python 3",
   "language": "python",
   "name": "python3"
  },
  "language_info": {
   "codemirror_mode": {
    "name": "ipython",
    "version": 3
   },
   "file_extension": ".py",
   "mimetype": "text/x-python",
   "name": "python",
   "nbconvert_exporter": "python",
   "pygments_lexer": "ipython3",
   "version": "3.8.5"
  }
 },
 "nbformat": 4,
 "nbformat_minor": 2
}

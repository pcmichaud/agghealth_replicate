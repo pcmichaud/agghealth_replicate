{
 "cells": [
  {
   "cell_type": "code",
   "execution_count": 1,
   "metadata": {},
   "outputs": [],
   "source": [
    "import pandas as pd \n",
    "import numpy as np "
   ]
  },
  {
   "cell_type": "code",
   "execution_count": 2,
   "metadata": {},
   "outputs": [],
   "source": [
    "df = pd.read_pickle('../data_sources/hrs-share_wide_select.pkl')"
   ]
  },
  {
   "cell_type": "markdown",
   "metadata": {},
   "source": [
    "```\n",
    "gen obese_w1 = rbmi_w1>=30 if rbmi_w1!=.\n",
    "gen health_w1 = 1-radla_w1\n",
    "forvalues j = 1/8 {\n",
    "\tlogit health_w1 ib1.qinc5 if cid==`j'\n",
    "\tmargins, dydx(*) post\n",
    "\testimates store pnone_`j'\n",
    "\tlogit health_w1 ib1.qinc5 obese_w1 rsmv_w1 if cid==`j'\n",
    "\tmargins, dydx(*) post\n",
    "\testimates store prisk_`j'\n",
    "\tsum health_w1 [aw=wgid_w1] if cid==`j'&qinc5==1\n",
    "}\n",
    "\n",
    "estimates table pnone_*, se keep(ib1.qinc5)\n",
    "estimates table prisk_*, se keep(ib1.qinc5)\n",
    "```\n"
   ]
  },
  {
   "cell_type": "markdown",
   "metadata": {},
   "source": []
  }
 ],
 "metadata": {
  "interpreter": {
   "hash": "cf2a50979671a58939829e6829efb726aa5da11149213b77bd50351f899d04fb"
  },
  "kernelspec": {
   "display_name": "Python 3.8.5 64-bit ('base': conda)",
   "language": "python",
   "name": "python3"
  },
  "language_info": {
   "codemirror_mode": {
    "name": "ipython",
    "version": 3
   },
   "file_extension": ".py",
   "mimetype": "text/x-python",
   "name": "python",
   "nbconvert_exporter": "python",
   "pygments_lexer": "ipython3",
   "version": "3.8.5"
  },
  "orig_nbformat": 4
 },
 "nbformat": 4,
 "nbformat_minor": 2
}

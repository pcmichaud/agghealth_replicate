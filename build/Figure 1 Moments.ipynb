{
 "cells": [
  {
   "cell_type": "code",
   "execution_count": 1,
   "metadata": {},
   "outputs": [],
   "source": [
    "import pandas as pd \n",
    "import numpy as np \n",
    "from matplotlib import pyplot as plt"
   ]
  },
  {
   "cell_type": "markdown",
   "metadata": {},
   "source": [
    "This notebook produces the 5 sub-figures for Figure 1 of the paper. "
   ]
  },
  {
   "cell_type": "code",
   "execution_count": 2,
   "metadata": {},
   "outputs": [],
   "source": [
    "macro = pd.read_pickle('../estimation/moments/means_macro.pkl').transpose()"
   ]
  },
  {
   "cell_type": "code",
   "execution_count": 33,
   "metadata": {},
   "outputs": [
    {
     "data": {
      "text/html": [
       "<div>\n",
       "<style scoped>\n",
       "    .dataframe tbody tr th:only-of-type {\n",
       "        vertical-align: middle;\n",
       "    }\n",
       "\n",
       "    .dataframe tbody tr th {\n",
       "        vertical-align: top;\n",
       "    }\n",
       "\n",
       "    .dataframe thead th {\n",
       "        text-align: right;\n",
       "    }\n",
       "</style>\n",
       "<table border=\"1\" class=\"dataframe\">\n",
       "  <thead>\n",
       "    <tr style=\"text-align: right;\">\n",
       "      <th></th>\n",
       "      <th>cshare</th>\n",
       "      <th>mshare</th>\n",
       "      <th>tfp</th>\n",
       "      <th>kshare</th>\n",
       "    </tr>\n",
       "    <tr>\n",
       "      <th>co</th>\n",
       "      <th></th>\n",
       "      <th></th>\n",
       "      <th></th>\n",
       "      <th></th>\n",
       "    </tr>\n",
       "  </thead>\n",
       "  <tbody>\n",
       "    <tr>\n",
       "      <th>DK</th>\n",
       "      <td>0.572938</td>\n",
       "      <td>0.090629</td>\n",
       "      <td>0.898205</td>\n",
       "      <td>4.134086</td>\n",
       "    </tr>\n",
       "    <tr>\n",
       "      <th>FR</th>\n",
       "      <td>0.668806</td>\n",
       "      <td>0.103574</td>\n",
       "      <td>0.735264</td>\n",
       "      <td>4.426736</td>\n",
       "    </tr>\n",
       "    <tr>\n",
       "      <th>DE</th>\n",
       "      <td>0.645000</td>\n",
       "      <td>0.102286</td>\n",
       "      <td>0.830156</td>\n",
       "      <td>3.807190</td>\n",
       "    </tr>\n",
       "    <tr>\n",
       "      <th>IT</th>\n",
       "      <td>0.688474</td>\n",
       "      <td>0.081089</td>\n",
       "      <td>0.739971</td>\n",
       "      <td>5.116111</td>\n",
       "    </tr>\n",
       "    <tr>\n",
       "      <th>NL</th>\n",
       "      <td>0.615819</td>\n",
       "      <td>0.088282</td>\n",
       "      <td>0.872562</td>\n",
       "      <td>4.294942</td>\n",
       "    </tr>\n",
       "    <tr>\n",
       "      <th>SP</th>\n",
       "      <td>0.668007</td>\n",
       "      <td>0.078123</td>\n",
       "      <td>0.640259</td>\n",
       "      <td>4.827075</td>\n",
       "    </tr>\n",
       "    <tr>\n",
       "      <th>SE</th>\n",
       "      <td>0.645354</td>\n",
       "      <td>0.085785</td>\n",
       "      <td>0.797962</td>\n",
       "      <td>4.131106</td>\n",
       "    </tr>\n",
       "    <tr>\n",
       "      <th>US</th>\n",
       "      <td>0.680889</td>\n",
       "      <td>0.144225</td>\n",
       "      <td>1.000000</td>\n",
       "      <td>3.077725</td>\n",
       "    </tr>\n",
       "  </tbody>\n",
       "</table>\n",
       "</div>"
      ],
      "text/plain": [
       "      cshare    mshare       tfp    kshare\n",
       "co                                        \n",
       "DK  0.572938  0.090629  0.898205  4.134086\n",
       "FR  0.668806  0.103574  0.735264  4.426736\n",
       "DE  0.645000  0.102286  0.830156  3.807190\n",
       "IT  0.688474  0.081089  0.739971  5.116111\n",
       "NL  0.615819  0.088282  0.872562  4.294942\n",
       "SP  0.668007  0.078123  0.640259  4.827075\n",
       "SE  0.645354  0.085785  0.797962  4.131106\n",
       "US  0.680889  0.144225  1.000000  3.077725"
      ]
     },
     "execution_count": 33,
     "metadata": {},
     "output_type": "execute_result"
    }
   ],
   "source": [
    "macro"
   ]
  },
  {
   "cell_type": "code",
   "execution_count": 3,
   "metadata": {},
   "outputs": [
    {
     "data": {
      "text/html": [
       "<div>\n",
       "<style scoped>\n",
       "    .dataframe tbody tr th:only-of-type {\n",
       "        vertical-align: middle;\n",
       "    }\n",
       "\n",
       "    .dataframe tbody tr th {\n",
       "        vertical-align: top;\n",
       "    }\n",
       "\n",
       "    .dataframe thead th {\n",
       "        text-align: right;\n",
       "    }\n",
       "</style>\n",
       "<table border=\"1\" class=\"dataframe\">\n",
       "  <thead>\n",
       "    <tr style=\"text-align: right;\">\n",
       "      <th></th>\n",
       "      <th>cshare</th>\n",
       "      <th>mshare</th>\n",
       "      <th>tfp</th>\n",
       "      <th>kshare</th>\n",
       "    </tr>\n",
       "    <tr>\n",
       "      <th>co</th>\n",
       "      <th></th>\n",
       "      <th></th>\n",
       "      <th></th>\n",
       "      <th></th>\n",
       "    </tr>\n",
       "  </thead>\n",
       "  <tbody>\n",
       "    <tr>\n",
       "      <th>DK</th>\n",
       "      <td>NaN</td>\n",
       "      <td>0.090629</td>\n",
       "      <td>0.898205</td>\n",
       "      <td>4.134086</td>\n",
       "    </tr>\n",
       "    <tr>\n",
       "      <th>FR</th>\n",
       "      <td>NaN</td>\n",
       "      <td>0.103574</td>\n",
       "      <td>0.735264</td>\n",
       "      <td>4.426736</td>\n",
       "    </tr>\n",
       "    <tr>\n",
       "      <th>DE</th>\n",
       "      <td>NaN</td>\n",
       "      <td>0.102286</td>\n",
       "      <td>0.830156</td>\n",
       "      <td>3.807190</td>\n",
       "    </tr>\n",
       "    <tr>\n",
       "      <th>IT</th>\n",
       "      <td>NaN</td>\n",
       "      <td>0.081089</td>\n",
       "      <td>0.739971</td>\n",
       "      <td>5.116111</td>\n",
       "    </tr>\n",
       "    <tr>\n",
       "      <th>NL</th>\n",
       "      <td>NaN</td>\n",
       "      <td>0.088282</td>\n",
       "      <td>0.872562</td>\n",
       "      <td>4.294942</td>\n",
       "    </tr>\n",
       "    <tr>\n",
       "      <th>SP</th>\n",
       "      <td>NaN</td>\n",
       "      <td>0.078123</td>\n",
       "      <td>0.640259</td>\n",
       "      <td>4.827075</td>\n",
       "    </tr>\n",
       "    <tr>\n",
       "      <th>SE</th>\n",
       "      <td>NaN</td>\n",
       "      <td>0.085785</td>\n",
       "      <td>0.797962</td>\n",
       "      <td>4.131106</td>\n",
       "    </tr>\n",
       "    <tr>\n",
       "      <th>US</th>\n",
       "      <td>0.687819</td>\n",
       "      <td>0.144225</td>\n",
       "      <td>1.000000</td>\n",
       "      <td>3.077725</td>\n",
       "    </tr>\n",
       "  </tbody>\n",
       "</table>\n",
       "</div>"
      ],
      "text/plain": [
       "      cshare    mshare       tfp    kshare\n",
       "co                                        \n",
       "DK       NaN  0.090629  0.898205  4.134086\n",
       "FR       NaN  0.103574  0.735264  4.426736\n",
       "DE       NaN  0.102286  0.830156  3.807190\n",
       "IT       NaN  0.081089  0.739971  5.116111\n",
       "NL       NaN  0.088282  0.872562  4.294942\n",
       "SP       NaN  0.078123  0.640259  4.827075\n",
       "SE       NaN  0.085785  0.797962  4.131106\n",
       "US  0.687819  0.144225  1.000000  3.077725"
      ]
     },
     "execution_count": 3,
     "metadata": {},
     "output_type": "execute_result"
    }
   ],
   "source": [
    "macro"
   ]
  },
  {
   "cell_type": "code",
   "execution_count": 4,
   "metadata": {},
   "outputs": [
    {
     "data": {
      "image/png": "[encoded data removed]",
      "text/plain": [
       "<Figure size 432x288 with 1 Axes>"
      ]
     },
     "metadata": {
      "needs_background": "light"
     },
     "output_type": "display_data"
    }
   ],
   "source": [
    "table = macro.sort_values('tfp',ascending=False)\n",
    "plt.figure()\n",
    "b = plt.bar(table.index,table['tfp'],color='grey')\n",
    "b[0].set_color('black')\n",
    "plt.ylim([0.5,1.05])\n",
    "plt.ylabel('$\\\\tilde{Y}$')\n",
    "plt.savefig('../figures/fig1_gdp.eps')\n",
    "plt.show()"
   ]
  },
  {
   "cell_type": "code",
   "execution_count": 5,
   "metadata": {},
   "outputs": [
    {
     "data": {
      "image/png": "[encoded data removed]",
      "text/plain": [
       "<Figure size 432x288 with 1 Axes>"
      ]
     },
     "metadata": {
      "needs_background": "light"
     },
     "output_type": "display_data"
    }
   ],
   "source": [
    "table = macro.sort_values('mshare',ascending=False)\n",
    "plt.figure()\n",
    "b = plt.bar(table.index,table['mshare'],color='grey')\n",
    "b[0].set_color('black')\n",
    "plt.ylabel('$s$')\n",
    "plt.savefig('../figures/fig1_share.eps')\n",
    "plt.show()"
   ]
  },
  {
   "cell_type": "markdown",
   "metadata": {},
   "source": [
    "# Health "
   ]
  },
  {
   "cell_type": "code",
   "execution_count": 6,
   "metadata": {},
   "outputs": [],
   "source": [
    "hlth = pd.read_pickle('../estimation/moments/means_health.pkl')\n",
    "hlth['g_q1'] = 1.0"
   ]
  },
  {
   "cell_type": "code",
   "execution_count": 7,
   "metadata": {},
   "outputs": [
    {
     "data": {
      "text/html": [
       "<div>\n",
       "<style scoped>\n",
       "    .dataframe tbody tr th:only-of-type {\n",
       "        vertical-align: middle;\n",
       "    }\n",
       "\n",
       "    .dataframe tbody tr th {\n",
       "        vertical-align: top;\n",
       "    }\n",
       "\n",
       "    .dataframe thead th {\n",
       "        text-align: right;\n",
       "    }\n",
       "</style>\n",
       "<table border=\"1\" class=\"dataframe\">\n",
       "  <thead>\n",
       "    <tr style=\"text-align: right;\">\n",
       "      <th></th>\n",
       "      <th>gg</th>\n",
       "      <th>gb</th>\n",
       "      <th>g_q2</th>\n",
       "      <th>g_q3</th>\n",
       "      <th>g_q4</th>\n",
       "      <th>g_q1</th>\n",
       "    </tr>\n",
       "    <tr>\n",
       "      <th>index</th>\n",
       "      <th></th>\n",
       "      <th></th>\n",
       "      <th></th>\n",
       "      <th></th>\n",
       "      <th></th>\n",
       "      <th></th>\n",
       "    </tr>\n",
       "  </thead>\n",
       "  <tbody>\n",
       "    <tr>\n",
       "      <th>DE</th>\n",
       "      <td>0.974130</td>\n",
       "      <td>0.324954</td>\n",
       "      <td>1.027865</td>\n",
       "      <td>1.069782</td>\n",
       "      <td>1.084729</td>\n",
       "      <td>1.0</td>\n",
       "    </tr>\n",
       "    <tr>\n",
       "      <th>DK</th>\n",
       "      <td>0.979951</td>\n",
       "      <td>0.349616</td>\n",
       "      <td>1.082089</td>\n",
       "      <td>1.082148</td>\n",
       "      <td>1.101376</td>\n",
       "      <td>1.0</td>\n",
       "    </tr>\n",
       "    <tr>\n",
       "      <th>FR</th>\n",
       "      <td>0.974100</td>\n",
       "      <td>0.314905</td>\n",
       "      <td>1.029717</td>\n",
       "      <td>1.056107</td>\n",
       "      <td>1.090147</td>\n",
       "      <td>1.0</td>\n",
       "    </tr>\n",
       "    <tr>\n",
       "      <th>IT</th>\n",
       "      <td>0.971979</td>\n",
       "      <td>0.321504</td>\n",
       "      <td>1.022490</td>\n",
       "      <td>1.010800</td>\n",
       "      <td>1.039274</td>\n",
       "      <td>1.0</td>\n",
       "    </tr>\n",
       "    <tr>\n",
       "      <th>NL</th>\n",
       "      <td>0.973349</td>\n",
       "      <td>0.482957</td>\n",
       "      <td>1.030085</td>\n",
       "      <td>1.024104</td>\n",
       "      <td>1.023796</td>\n",
       "      <td>1.0</td>\n",
       "    </tr>\n",
       "    <tr>\n",
       "      <th>SE</th>\n",
       "      <td>0.972525</td>\n",
       "      <td>0.299521</td>\n",
       "      <td>1.052731</td>\n",
       "      <td>1.065540</td>\n",
       "      <td>1.077596</td>\n",
       "      <td>1.0</td>\n",
       "    </tr>\n",
       "    <tr>\n",
       "      <th>SP</th>\n",
       "      <td>0.964747</td>\n",
       "      <td>0.357488</td>\n",
       "      <td>1.026434</td>\n",
       "      <td>0.998900</td>\n",
       "      <td>1.052579</td>\n",
       "      <td>1.0</td>\n",
       "    </tr>\n",
       "    <tr>\n",
       "      <th>US</th>\n",
       "      <td>0.961660</td>\n",
       "      <td>0.205422</td>\n",
       "      <td>1.178127</td>\n",
       "      <td>1.223067</td>\n",
       "      <td>1.277100</td>\n",
       "      <td>1.0</td>\n",
       "    </tr>\n",
       "  </tbody>\n",
       "</table>\n",
       "</div>"
      ],
      "text/plain": [
       "             gg        gb      g_q2      g_q3      g_q4  g_q1\n",
       "index                                                        \n",
       "DE     0.974130  0.324954  1.027865  1.069782  1.084729   1.0\n",
       "DK     0.979951  0.349616  1.082089  1.082148  1.101376   1.0\n",
       "FR     0.974100  0.314905  1.029717  1.056107  1.090147   1.0\n",
       "IT     0.971979  0.321504  1.022490  1.010800  1.039274   1.0\n",
       "NL     0.973349  0.482957  1.030085  1.024104  1.023796   1.0\n",
       "SE     0.972525  0.299521  1.052731  1.065540  1.077596   1.0\n",
       "SP     0.964747  0.357488  1.026434  0.998900  1.052579   1.0\n",
       "US     0.961660  0.205422  1.178127  1.223067  1.277100   1.0"
      ]
     },
     "execution_count": 7,
     "metadata": {},
     "output_type": "execute_result"
    }
   ],
   "source": [
    "hlth"
   ]
  },
  {
   "cell_type": "code",
   "execution_count": 38,
   "metadata": {},
   "outputs": [
    {
     "data": {
      "image/png": "[encoded data removed]",
      "text/plain": [
       "<Figure size 432x288 with 1 Axes>"
      ]
     },
     "metadata": {
      "needs_background": "light"
     },
     "output_type": "display_data"
    }
   ],
   "source": [
    "table = hlth.sort_values('gb',ascending=False)\n",
    "plt.figure()\n",
    "b = plt.bar(table.index,table['gb'],color='grey')\n",
    "b[-1].set_color('black')\n",
    "plt.ylabel('$\\\\tilde{\\pi}_{10}$')\n",
    "plt.savefig('../figures/fig1_frombad.eps')\n",
    "plt.show()"
   ]
  },
  {
   "cell_type": "code",
   "execution_count": 39,
   "metadata": {},
   "outputs": [
    {
     "data": {
      "image/png": "[encoded data removed]",
      "text/plain": [
       "<Figure size 432x288 with 1 Axes>"
      ]
     },
     "metadata": {
      "needs_background": "light"
     },
     "output_type": "display_data"
    }
   ],
   "source": [
    "table = hlth.sort_values('gg',ascending=False)\n",
    "plt.figure()\n",
    "b = plt.bar(table.index,table['gg'],color='grey')\n",
    "b[-1].set_color('black')\n",
    "plt.ylabel('$\\\\tilde{\\pi}_{11}$')\n",
    "plt.ylim([0.95,0.985])\n",
    "plt.savefig('../figures/fig1_fromgood.eps')\n",
    "plt.show()"
   ]
  },
  {
   "cell_type": "code",
   "execution_count": 40,
   "metadata": {},
   "outputs": [
    {
     "name": "stderr",
     "output_type": "stream",
     "text": [
      "The PostScript backend does not support transparency; partially transparent artists will be rendered opaque.\n",
      "The PostScript backend does not support transparency; partially transparent artists will be rendered opaque.\n"
     ]
    },
    {
     "data": {
      "image/png": "[encoded data removed]",
      "text/plain": [
       "<Figure size 432x288 with 1 Axes>"
      ]
     },
     "metadata": {
      "needs_background": "light"
     },
     "output_type": "display_data"
    }
   ],
   "source": [
    "names_s = ['','q1','q2','q3','q4']\n",
    "xxx = np.arange(len(names_s[0:-1]))\n",
    "www = 0.1\n",
    "names_q = ['g_q1','g_q2','g_q3','g_q4']\n",
    "fig, ax = plt.subplots()\n",
    "ax.bar(xxx-.3,hlth.loc['US',names_q], width=www,color='black',label='US')\n",
    "ax.bar(xxx-.2,hlth.loc['DE',names_q], width=www,color='dimgrey'  ,edgecolor='black',label='DE')\n",
    "ax.bar(xxx-.1,hlth.loc['DK',names_q], width=www,color='dimgrey'  ,edgecolor='black',label='DK')\n",
    "ax.bar(['q1','q2','q3', 'q4'], table.loc['FR',names_q], width=www,color='grey'     ,edgecolor='black',label='FR')\n",
    "ax.bar(xxx+.1,hlth.loc['IT',names_q], width=www,color='darkgrey' ,edgecolor='black',label='IT')\n",
    "ax.bar(xxx+.2,hlth.loc['NL',names_q], width=www,color='darkgrey' ,edgecolor='black',label='NL')\n",
    "ax.bar(xxx+.3,hlth.loc['SE',names_q], width=www,color='lightgrey',edgecolor='black',label='SE')\n",
    "ax.bar(xxx+.4,hlth.loc['SP',names_q], width=www,color='whitesmoke',edgecolor='black',label='SP')\n",
    "plt.ylim([0.95,1.3])\n",
    "ax.set_ylabel('probability good health : $\\\\overline{\\pi}_{q}$')\n",
    "ax.legend(loc='upper right')\n",
    "fig.tight_layout()\n",
    "plt.savefig('../figures/fig1_gradient.eps')\n",
    "plt.show()"
   ]
  }
 ],
 "metadata": {
  "interpreter": {
   "hash": "cf2a50979671a58939829e6829efb726aa5da11149213b77bd50351f899d04fb"
  },
  "kernelspec": {
   "display_name": "Python 3.8.5 64-bit ('base': conda)",
   "name": "python3"
  },
  "language_info": {
   "codemirror_mode": {
    "name": "ipython",
    "version": 3
   },
   "file_extension": ".py",
   "mimetype": "text/x-python",
   "name": "python",
   "nbconvert_exporter": "python",
   "pygments_lexer": "ipython3",
   "version": "3.8.9"
  },
  "orig_nbformat": 4
 },
 "nbformat": 4,
 "nbformat_minor": 2
}

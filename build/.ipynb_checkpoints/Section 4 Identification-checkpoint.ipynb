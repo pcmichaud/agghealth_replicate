{
 "cells": [
  {
   "cell_type": "code",
   "execution_count": 46,
   "id": "5c2f94e6",
   "metadata": {},
   "outputs": [],
   "source": [
    "import numpy as np\n",
    "from scipy.optimize import bisect\n",
    "import pandas as pd \n",
    "from matplotlib import pyplot as plt\n",
    "from scipy.stats import norm"
   ]
  },
  {
   "cell_type": "markdown",
   "id": "4a1ac26d",
   "metadata": {},
   "source": [
    "# Identification\n",
    "\n",
    "The model is\n",
    "$$\n",
    "\\max_{m_i} \\frac{(y_i-pm_i)^{1-\\sigma}}{1-\\sigma} + \\phi (1-\\exp(-\\alpha_1 - \\alpha_0 m_i))\n",
    "$$\n",
    "The FOC is \n",
    "$$\n",
    "p (y_i-pm_i)^{-\\sigma} = \\phi\\alpha_0 \\exp(-\\alpha_1 - \\alpha_0 m_i)\n",
    "$$\n",
    "This gives a solution $m_i = {\\cal M}(y_i,p|\\sigma, \\phi, \\alpha_0, \\alpha1)$\n",
    "\n",
    "\n",
    "### US\n",
    "For the US, we have $p=1$ and $\\sum_i \\omega_i y_i \\equiv y = 1$. Therefore, the moments restrictions  \n",
    "$$\n",
    "\\Psi_1 = \\frac{p \\sum_i \\omega_i m_i}{\\sum_i \\omega_i y_i}\n",
    "$$\n",
    "$$\n",
    "\\Psi_2 = \\sum_i (1-\\exp(-\\alpha_1 - \\alpha_0 m_i))\n",
    "$$\n",
    "$$\n",
    "\\Psi_3 = \\frac{(1-\\exp(-\\alpha_1 - \\alpha_0 m_{\\max}))}{(1-\\exp(-\\alpha_1 - \\alpha_0 m_{\\min}))}\n",
    "$$\n",
    "allows to identify $\\{\\phi,\\alpha_0,\\alpha_1\\}$\n",
    "\n",
    "\n",
    "### Europe\n",
    "\n",
    "For Europe, we keep $\\{\\phi,\\alpha_0,\\alpha_1\\}$ found in the previous step, and the moments restrictions\n",
    "$$\n",
    "\\Psi_1 = \\frac{p \\sum_i \\omega_i m_i}{\\sum_i \\omega_i y_i}\n",
    "$$\n",
    "$$\n",
    "\\Psi_2 = \\sum_i (1-\\exp(-\\alpha_1 - \\alpha_0 m_i))\n",
    "$$\n",
    "allows to identify $\\{p,\\alpha_1\\}$, given that a calibration of $\\sum_i \\omega_i y_i \\equiv y$\n",
    "\n"
   ]
  },
  {
   "cell_type": "markdown",
   "id": "e15e6936",
   "metadata": {},
   "source": [
    "We start by programming functions for finding optimal $m$ from the first-order condition:"
   ]
  },
  {
   "cell_type": "code",
   "execution_count": 47,
   "id": "01fd442f",
   "metadata": {},
   "outputs": [],
   "source": [
    "def foc(m,sigma_c,phi,alphas,y,p):\n",
    "\treturn p*(y-p*m)**(-sigma_c) - alphas[0]*phi*np.exp(-alphas[1]-alphas[0]*m)\n",
    "def u(m,sigma_c,phi,alphas,y,p):\n",
    "\treturn ((y-p*m)**(1-sigma_c))/(1-sigma_c) + phi*(1-np.exp(-alphas[1] - alphas[0]*m))\n",
    "def optm(sigma_c,phi,alphas,y,p):\n",
    "\ttry:\n",
    "\t\tm = bisect(foc,0.0,y*0.99,args=(sigma_c,phi,alphas,y,p))\n",
    "\texcept:\n",
    "\t\tup = u(0.99*y,sigma_c,phi,alphas,y,p)\n",
    "\t\tlow = u(0.0,sigma_c,phi,alphas,y,p)\n",
    "\t\tif up>low:\n",
    "\t\t\tm = 0.99*y\n",
    "\t\telse :\n",
    "\t\t\tm = 0.0\n",
    "\treturn m"
   ]
  },
  {
   "cell_type": "markdown",
   "id": "87cca3d1",
   "metadata": {},
   "source": [
    "These are the parameters that we end up getting, but we check here that the function works. "
   ]
  },
  {
   "cell_type": "code",
   "execution_count": 48,
   "id": "72da1031",
   "metadata": {},
   "outputs": [],
   "source": [
    "alphas_us = [7.2,1.48]\n",
    "sigma_c = 2\n",
    "phi = 2.95"
   ]
  },
  {
   "cell_type": "markdown",
   "id": "98fafde7",
   "metadata": {},
   "source": [
    "We start with income and price normalized in U.S. "
   ]
  },
  {
   "cell_type": "code",
   "execution_count": 49,
   "id": "12e2648f",
   "metadata": {},
   "outputs": [],
   "source": [
    "p_us = 1"
   ]
  },
  {
   "cell_type": "markdown",
   "id": "1273ad26",
   "metadata": {},
   "source": [
    "We load up the parameters of the income process and use that to compute 4 median incomes within quartiles. The stationary variance of the income process of each country is "
   ]
  },
  {
   "cell_type": "code",
   "execution_count": 50,
   "id": "8a9b58b0",
   "metadata": {},
   "outputs": [
    {
     "data": {
      "text/plain": [
       "DE    0.256367\n",
       "DK    0.094643\n",
       "FR    0.214538\n",
       "IT    0.237439\n",
       "NL    0.169834\n",
       "SE    0.094643\n",
       "SP    0.270357\n",
       "US    0.486429\n",
       "dtype: float64"
      ]
     },
     "execution_count": 50,
     "metadata": {},
     "output_type": "execute_result"
    }
   ],
   "source": [
    "sigs = pd.read_pickle('../model/params/income_shocks.pkl')\n",
    "sigs = sigs.loc['sige',:]/(1-sigs.loc['rho',:]**2)\n",
    "sigs"
   ]
  },
  {
   "cell_type": "markdown",
   "id": "21276dcb",
   "metadata": {},
   "source": [
    "For Europe, we take a mean. "
   ]
  },
  {
   "cell_type": "code",
   "execution_count": 51,
   "id": "54c54890",
   "metadata": {},
   "outputs": [
    {
     "data": {
      "text/plain": [
       "(0.4864286549343358, 0.1911170778053603)"
      ]
     },
     "execution_count": 51,
     "metadata": {},
     "output_type": "execute_result"
    }
   ],
   "source": [
    "sig_us = sigs['US']\n",
    "sig_eu = sigs[:'SP'].mean()\n",
    "sig_us,sig_eu"
   ]
  },
  {
   "cell_type": "markdown",
   "id": "5096d3a0",
   "metadata": {},
   "source": [
    "We program up the income distribution, making sure it has a mean of 1. "
   ]
  },
  {
   "cell_type": "code",
   "execution_count": 52,
   "id": "38b7dad4",
   "metadata": {},
   "outputs": [
    {
     "data": {
      "text/plain": [
       "(array([0.37922278, 0.67735486, 1.05644182, 1.88698055]), 1.0)"
      ]
     },
     "execution_count": 52,
     "metadata": {},
     "output_type": "execute_result"
    }
   ],
   "source": [
    "qs = [0.125,0.375,0.625,0.875]\n",
    "yy_us = [norm(0,np.sqrt(sig_us)).ppf(q) for q in qs]\n",
    "yy_us = np.exp(yy_us)\n",
    "yy_us = yy_us/np.mean(yy_us)\n",
    "yy_us,np.mean(yy_us)"
   ]
  },
  {
   "cell_type": "markdown",
   "id": "e2e61684",
   "metadata": {},
   "source": [
    "We can check that the function returns s in the U.S. "
   ]
  },
  {
   "cell_type": "code",
   "execution_count": 53,
   "id": "73f4bbf7",
   "metadata": {},
   "outputs": [
    {
     "data": {
      "text/plain": [
       "0.14971357932852986"
      ]
     },
     "execution_count": 53,
     "metadata": {},
     "output_type": "execute_result"
    }
   ],
   "source": [
    "np.mean([optm(sigma_c,phi,alphas_us,y_us,p_us) for y_us in yy_us])"
   ]
  },
  {
   "cell_type": "markdown",
   "id": "6e279f29",
   "metadata": {},
   "source": [
    "We use the following moments for the U.S. "
   ]
  },
  {
   "cell_type": "code",
   "execution_count": 54,
   "id": "5bafd2b2",
   "metadata": {},
   "outputs": [],
   "source": [
    "s_us = 0.15\n",
    "h_us = 0.89\n",
    "grad_us = 1.27"
   ]
  },
  {
   "cell_type": "markdown",
   "id": "a72540cd",
   "metadata": {},
   "source": [
    "We do the same for Europe but scale down everything to have an average income of 0.78"
   ]
  },
  {
   "cell_type": "code",
   "execution_count": 55,
   "id": "ebec3443",
   "metadata": {},
   "outputs": [
    {
     "data": {
      "text/plain": [
       "(array([0.44109987, 0.63452042, 0.83837729, 1.20600242]), 0.78)"
      ]
     },
     "execution_count": 55,
     "metadata": {},
     "output_type": "execute_result"
    }
   ],
   "source": [
    "y_eu = 0.78\n",
    "qs = [0.125,0.375,0.625,0.875]\n",
    "yy_eu = [norm(0,np.sqrt(sig_eu)).ppf(q) for q in qs]\n",
    "yy_eu = np.exp(yy_eu)\n",
    "yy_eu = yy_eu/np.mean(yy_eu)\n",
    "yy_eu = y_eu*yy_eu\n",
    "yy_eu,np.mean(yy_eu)"
   ]
  },
  {
   "cell_type": "markdown",
   "id": "8ead4821",
   "metadata": {},
   "source": [
    "For Europe we can check that things work out. "
   ]
  },
  {
   "cell_type": "code",
   "execution_count": 56,
   "id": "97827789",
   "metadata": {},
   "outputs": [],
   "source": [
    "alphas_eu = [7.2,1.87]\n",
    "p_eu = 0.54\n"
   ]
  },
  {
   "cell_type": "code",
   "execution_count": 57,
   "id": "17f16d7b",
   "metadata": {},
   "outputs": [
    {
     "data": {
      "text/plain": [
       "0.09565293802178045"
      ]
     },
     "execution_count": 57,
     "metadata": {},
     "output_type": "execute_result"
    }
   ],
   "source": [
    "p_eu*np.mean([optm(sigma_c,phi,alphas_eu,y_eu,p_eu) for y_eu in yy_eu])/np.mean(yy_eu)"
   ]
  },
  {
   "cell_type": "markdown",
   "id": "388ef5ca",
   "metadata": {},
   "source": [
    "We use the following moments for Europe (we do not use the gradient but still compare):"
   ]
  },
  {
   "cell_type": "code",
   "execution_count": 58,
   "id": "b139b8ea",
   "metadata": {},
   "outputs": [],
   "source": [
    "s_eu = 0.096\n",
    "h_eu = 0.93\n",
    "grad_eu = 1.06"
   ]
  },
  {
   "cell_type": "code",
   "execution_count": 59,
   "id": "376e26d9",
   "metadata": {},
   "outputs": [],
   "source": [
    "def prod(alphas,m):\n",
    "\treturn 1 - np.exp(-alphas[1] - alphas[0]*m)\n",
    "def hopt(sigma_c,phi,alphas,y,p):\n",
    "\tm = optm(sigma_c,phi,alphas,y,p)\n",
    "\treturn prod(alphas,m)"
   ]
  },
  {
   "cell_type": "markdown",
   "id": "e52353c8",
   "metadata": {},
   "source": [
    "# Calibration\n",
    "\n",
    "We start the exercise with finding U.S. parameters that fit the moments. We are solving a set of equations for three unknowns, $\\alpha_0$, $\\alpha_{1,US}$ and $\\phi$. We use the methods of moments to minimize the squared distance of moments. "
   ]
  },
  {
   "cell_type": "code",
   "execution_count": 60,
   "id": "a9f55003",
   "metadata": {},
   "outputs": [],
   "source": [
    "def criterion_us(theta,sigma_c,alphas,y,p,moms):\n",
    "\talphas[0] = theta[0]\n",
    "\talphas[1] = theta[1]\n",
    "\tphi = theta[2]\n",
    "\tms = [optm(sigma_c,phi,alphas,i,p) for i in y]\n",
    "\tmoms_s = np.zeros(3)\n",
    "\tmoms_s[0] = p*np.sum(ms)/np.sum(y)\n",
    "\tmoms_s[1] = np.mean([prod(alphas,m) for m in ms])\n",
    "\tmoms_s[2] = prod(alphas,ms[3])/prod(alphas,ms[0])\n",
    "\treturn (moms[0] - moms_s[0])**2 + (moms[1] - moms_s[1])**2 + (moms[2] - moms_s[2])**2"
   ]
  },
  {
   "cell_type": "markdown",
   "id": "b05de664",
   "metadata": {},
   "source": [
    "These are the estimates reported in the text:"
   ]
  },
  {
   "cell_type": "code",
   "execution_count": 61,
   "id": "f419d91b",
   "metadata": {},
   "outputs": [
    {
     "data": {
      "text/plain": [
       "([7.200626488550856, 1.4780332643025507], 2.954812343677176)"
      ]
     },
     "execution_count": 61,
     "metadata": {},
     "output_type": "execute_result"
    }
   ],
   "source": [
    "from scipy.optimize import minimize\n",
    "\n",
    "opt_us = minimize(criterion_us,[5.0,1.5,2],args=(sigma_c,[0.0,0.0],yy_us,p_us,[s_us,h_us,grad_us]))\n",
    "alphas_us[0] = opt_us.x[0]\n",
    "alphas_us[1] = opt_us.x[1]\n",
    "phi = opt_us.x[2]\n",
    "alphas_us,phi"
   ]
  },
  {
   "cell_type": "markdown",
   "id": "b2c30303",
   "metadata": {},
   "source": [
    "We can check that we match moments"
   ]
  },
  {
   "cell_type": "code",
   "execution_count": 62,
   "id": "02e9c4af",
   "metadata": {},
   "outputs": [
    {
     "data": {
      "text/plain": [
       "0.1499960843769244"
      ]
     },
     "execution_count": 62,
     "metadata": {},
     "output_type": "execute_result"
    }
   ],
   "source": [
    "ms = [optm(sigma_c,phi,alphas_us,i,p_us) for i in yy_us]\n",
    "np.mean(ms)"
   ]
  },
  {
   "cell_type": "code",
   "execution_count": 63,
   "id": "c45de674",
   "metadata": {},
   "outputs": [
    {
     "data": {
      "text/plain": [
       "[0.0, 0.07744174017519795, 0.1820755547390866, 0.34046704259341315]"
      ]
     },
     "execution_count": 63,
     "metadata": {},
     "output_type": "execute_result"
    }
   ],
   "source": [
    "ms"
   ]
  },
  {
   "cell_type": "code",
   "execution_count": 64,
   "id": "6f8bea2f",
   "metadata": {},
   "outputs": [
    {
     "data": {
      "text/plain": [
       "0.8900479517985298"
      ]
     },
     "execution_count": 64,
     "metadata": {},
     "output_type": "execute_result"
    }
   ],
   "source": [
    "h = np.mean([prod(alphas_us,m) for m in ms])\n",
    "h"
   ]
  },
  {
   "cell_type": "code",
   "execution_count": 65,
   "id": "0448c89b",
   "metadata": {},
   "outputs": [
    {
     "data": {
      "text/plain": [
       "1.2700228747353992"
      ]
     },
     "execution_count": 65,
     "metadata": {},
     "output_type": "execute_result"
    }
   ],
   "source": [
    "prod(alphas_us,ms[3])/prod(alphas_us,ms[0])"
   ]
  },
  {
   "cell_type": "code",
   "execution_count": 66,
   "id": "2383e63f",
   "metadata": {},
   "outputs": [],
   "source": [
    "hs = [prod(alphas_us,m) for m in ms]"
   ]
  },
  {
   "cell_type": "code",
   "execution_count": 68,
   "id": "2925efb8",
   "metadata": {},
   "outputs": [
    {
     "data": {
      "image/png": "[encoded data removed]",
      "text/plain": [
       "<Figure size 432x288 with 1 Axes>"
      ]
     },
     "metadata": {
      "needs_background": "light"
     },
     "output_type": "display_data"
    }
   ],
   "source": [
    "ms_us = ms[:]\n",
    "hs_us = hs[:]\n",
    "plt.figure()\n",
    "plt.plot(ms_us,hs_us)\n",
    "plt.show()"
   ]
  },
  {
   "cell_type": "markdown",
   "id": "5eacecdf",
   "metadata": {},
   "source": [
    "In Europe, we seek to estimate $p_{EU}$ and $\\alpha_{1,EU}$ using $(s_{EU},h_{EU})$ as moments"
   ]
  },
  {
   "cell_type": "code",
   "execution_count": 20,
   "id": "bcf770d6",
   "metadata": {},
   "outputs": [],
   "source": [
    "def criterion_eu(theta,sigma_c,phi,alphas,y,moms):\n",
    "\talphas[1] = theta[0]\n",
    "\tp = theta[1]\n",
    "\tms = [optm(sigma_c,phi,alphas,i,p) for i in y]\n",
    "\tmoms_s = np.zeros(2)\n",
    "\tmoms_s[0] = p*np.mean(ms)/np.mean(y)\n",
    "\tmoms_s[1] = np.mean([prod(alphas,m) for m in ms])\n",
    "\treturn (moms[0] - moms_s[0])**2 + (moms[1] - moms_s[1])**2"
   ]
  },
  {
   "cell_type": "markdown",
   "id": "9d05ed9b",
   "metadata": {},
   "source": [
    "These are the estimates reported in the paper:"
   ]
  },
  {
   "cell_type": "code",
   "execution_count": 21,
   "id": "4936d7b9",
   "metadata": {},
   "outputs": [
    {
     "data": {
      "text/plain": [
       "(1.8672797225722257, 0.5410466443859858)"
      ]
     },
     "execution_count": 21,
     "metadata": {},
     "output_type": "execute_result"
    }
   ],
   "source": [
    "alphas_eu[0] = alphas_us[0]\n",
    "opt_eu = minimize(criterion_eu,[2.0,0.8],args=(sigma_c,phi,alphas_eu,yy_eu,[s_eu,h_eu]))\n",
    "alphas_eu[1] = opt_eu.x[0]\n",
    "p_eu = opt_eu.x[1]\n",
    "alphas_eu[1],p_eu"
   ]
  },
  {
   "cell_type": "markdown",
   "id": "ea21023f",
   "metadata": {},
   "source": [
    "We can check that we fit the targeted moments:"
   ]
  },
  {
   "cell_type": "code",
   "execution_count": 22,
   "id": "cb7573da",
   "metadata": {},
   "outputs": [
    {
     "data": {
      "text/plain": [
       "0.09599777967918154"
      ]
     },
     "execution_count": 22,
     "metadata": {},
     "output_type": "execute_result"
    }
   ],
   "source": [
    "ms = [optm(sigma_c,phi,alphas_eu,i,p_eu) for i in yy_eu]\n",
    "p_eu*np.mean(ms)/np.mean(yy_eu)"
   ]
  },
  {
   "cell_type": "code",
   "execution_count": 23,
   "id": "3ffcee76",
   "metadata": {},
   "outputs": [
    {
     "data": {
      "text/plain": [
       "0.9299902256351636"
      ]
     },
     "execution_count": 23,
     "metadata": {},
     "output_type": "execute_result"
    }
   ],
   "source": [
    "h = np.mean([prod(alphas_eu,m) for m in ms])\n",
    "h"
   ]
  },
  {
   "cell_type": "markdown",
   "id": "b72224d5",
   "metadata": {},
   "source": [
    "The gradient is lower than in the U.S. but slighly larger than the target (1.06)"
   ]
  },
  {
   "cell_type": "code",
   "execution_count": 24,
   "id": "7da1f53a",
   "metadata": {},
   "outputs": [
    {
     "data": {
      "text/plain": [
       "1.131846016840021"
      ]
     },
     "execution_count": 24,
     "metadata": {},
     "output_type": "execute_result"
    }
   ],
   "source": [
    "prod(alphas_eu,ms[3])/prod(alphas_eu,ms[0])"
   ]
  },
  {
   "cell_type": "markdown",
   "id": "5da079ba",
   "metadata": {},
   "source": [
    "# Checking the Choice for the Production Function"
   ]
  },
  {
   "cell_type": "code",
   "execution_count": 94,
   "id": "67a47e2e",
   "metadata": {},
   "outputs": [],
   "source": [
    "df = pd.read_stata('../data_sources/meps/MEPS0004_agghealth.dta')"
   ]
  },
  {
   "cell_type": "code",
   "execution_count": 95,
   "id": "cad5fd33",
   "metadata": {},
   "outputs": [
    {
     "data": {
      "text/plain": [
       "Index(['duid', 'dupersid', 'famidyr', 'famszeyr', 'famrfpyr', 'region53',\n",
       "       'age', 'racex', 'hispan', 'marry53x',\n",
       "       ...\n",
       "       'nh_diabe', 'nh_lunge', 'nh_cancre', 'smokev', 'nh_smoken',\n",
       "       'mergeMEPSNHIS', 'smoken', 'totinc', 'inscov', '_merge'],\n",
       "      dtype='object', length=125)"
      ]
     },
     "execution_count": 95,
     "metadata": {},
     "output_type": "execute_result"
    }
   ],
   "source": [
    "df.columns"
   ]
  },
  {
   "cell_type": "code",
   "execution_count": 96,
   "id": "28fcb7d2",
   "metadata": {},
   "outputs": [],
   "source": [
    "df = df[(df.age>=50)&(df.age<=75)]\n",
    "df = df[df.totinc>10e3]\n",
    "df = df[~df.mepsexp.isna()]\n",
    "df['h'] = 1.0 - df['adl1p']"
   ]
  },
  {
   "cell_type": "code",
   "execution_count": 97,
   "id": "3207fd7a",
   "metadata": {},
   "outputs": [],
   "source": [
    "df['qinc4'] = pd.qcut(df['totinc'],q=4)"
   ]
  },
  {
   "cell_type": "code",
   "execution_count": 98,
   "id": "f6c07cb5",
   "metadata": {},
   "outputs": [],
   "source": [
    "table = df.groupby('qinc4').mean()[['mepsexp','totinc','h']]"
   ]
  },
  {
   "cell_type": "code",
   "execution_count": 99,
   "id": "ebee0a92",
   "metadata": {},
   "outputs": [],
   "source": [
    "y_bar = df['totinc'].mean()"
   ]
  },
  {
   "cell_type": "code",
   "execution_count": 100,
   "id": "7549f523",
   "metadata": {},
   "outputs": [],
   "source": [
    "table['mepsexp'] = table['mepsexp']/y_bar\n",
    "table['totinc'] = table['totinc']/y_bar\n"
   ]
  },
  {
   "cell_type": "code",
   "execution_count": 101,
   "id": "cbefa75a",
   "metadata": {},
   "outputs": [
    {
     "data": {
      "text/html": [
       "<div>\n",
       "<style scoped>\n",
       "    .dataframe tbody tr th:only-of-type {\n",
       "        vertical-align: middle;\n",
       "    }\n",
       "\n",
       "    .dataframe tbody tr th {\n",
       "        vertical-align: top;\n",
       "    }\n",
       "\n",
       "    .dataframe thead th {\n",
       "        text-align: right;\n",
       "    }\n",
       "</style>\n",
       "<table border=\"1\" class=\"dataframe\">\n",
       "  <thead>\n",
       "    <tr style=\"text-align: right;\">\n",
       "      <th></th>\n",
       "      <th>mepsexp</th>\n",
       "      <th>totinc</th>\n",
       "      <th>h</th>\n",
       "    </tr>\n",
       "    <tr>\n",
       "      <th>qinc4</th>\n",
       "      <th></th>\n",
       "      <th></th>\n",
       "      <th></th>\n",
       "    </tr>\n",
       "  </thead>\n",
       "  <tbody>\n",
       "    <tr>\n",
       "      <th>(10002.999, 17500.0]</th>\n",
       "      <td>0.178437</td>\n",
       "      <td>0.369427</td>\n",
       "      <td>0.952196</td>\n",
       "    </tr>\n",
       "    <tr>\n",
       "      <th>(17500.0, 28157.0]</th>\n",
       "      <td>0.158794</td>\n",
       "      <td>0.612608</td>\n",
       "      <td>0.973335</td>\n",
       "    </tr>\n",
       "    <tr>\n",
       "      <th>(28157.0, 46000.0]</th>\n",
       "      <td>0.136073</td>\n",
       "      <td>0.983704</td>\n",
       "      <td>0.987737</td>\n",
       "    </tr>\n",
       "    <tr>\n",
       "      <th>(46000.0, 521612.0]</th>\n",
       "      <td>0.127049</td>\n",
       "      <td>2.038832</td>\n",
       "      <td>0.992398</td>\n",
       "    </tr>\n",
       "  </tbody>\n",
       "</table>\n",
       "</div>"
      ],
      "text/plain": [
       "                       mepsexp    totinc         h\n",
       "qinc4                                             \n",
       "(10002.999, 17500.0]  0.178437  0.369427  0.952196\n",
       "(17500.0, 28157.0]    0.158794  0.612608  0.973335\n",
       "(28157.0, 46000.0]    0.136073  0.983704  0.987737\n",
       "(46000.0, 521612.0]   0.127049  2.038832  0.992398"
      ]
     },
     "execution_count": 101,
     "metadata": {},
     "output_type": "execute_result"
    }
   ],
   "source": [
    "table"
   ]
  },
  {
   "cell_type": "code",
   "execution_count": null,
   "id": "c6372b1d",
   "metadata": {},
   "outputs": [],
   "source": []
  }
 ],
 "metadata": {
  "interpreter": {
   "hash": "cf2a50979671a58939829e6829efb726aa5da11149213b77bd50351f899d04fb"
  },
  "kernelspec": {
   "display_name": "Python 3 (ipykernel)",
   "language": "python",
   "name": "python3"
  },
  "language_info": {
   "codemirror_mode": {
    "name": "ipython",
    "version": 3
   },
   "file_extension": ".py",
   "mimetype": "text/x-python",
   "name": "python",
   "nbconvert_exporter": "python",
   "pygments_lexer": "ipython3",
   "version": "3.8.12"
  }
 },
 "nbformat": 4,
 "nbformat_minor": 5
}

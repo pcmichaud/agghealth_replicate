{
 "cells": [
  {
   "cell_type": "code",
   "execution_count": 19,
   "metadata": {},
   "outputs": [],
   "source": [
    "import pandas as pd \n",
    "import numpy as np \n",
    "from matplotlib import pyplot as plt"
   ]
  },
  {
   "cell_type": "markdown",
   "metadata": {},
   "source": [
    "# Preliminaries\n",
    "\n",
    "We first load up the merged data from SHARE and HRS. "
   ]
  },
  {
   "cell_type": "code",
   "execution_count": 20,
   "metadata": {},
   "outputs": [],
   "source": [
    "df = pd.read_pickle('../data_sources/hrs-share_wide_select.pkl')"
   ]
  },
  {
   "cell_type": "markdown",
   "metadata": {},
   "source": [
    "This is the function for a weighted mean. "
   ]
  },
  {
   "cell_type": "code",
   "execution_count": 21,
   "metadata": {},
   "outputs": [],
   "source": [
    "def wmean(x,var,wvar):\n",
    "    xx = x.loc[~x[var].isna(),:]\n",
    "    names = {var: (xx[var] * xx[wvar]).sum()/xx[wvar].sum()}\n",
    "    return pd.Series(names, index=[var])"
   ]
  },
  {
   "cell_type": "markdown",
   "metadata": {},
   "source": [
    "We prepare a simple table with stats, the 2-year transition rates and the fraction in good health in wave 1 and 2. "
   ]
  },
  {
   "cell_type": "code",
   "execution_count": 22,
   "metadata": {},
   "outputs": [],
   "source": [
    "cnames = ['DE','SE','NL','SP','IT','FR','DK','US']\n",
    "table = pd.DataFrame(index=cnames,columns=['gg2','gb2','g_w1','g_w2'])"
   ]
  },
  {
   "cell_type": "markdown",
   "metadata": {},
   "source": [
    "We compute weighted means by country for these vars. "
   ]
  },
  {
   "cell_type": "code",
   "execution_count": 23,
   "metadata": {},
   "outputs": [],
   "source": [
    "for c in table.columns:\n",
    "\ttable[c] = df.groupby('cname').apply(wmean,var=c,wvar='wgid_w1')"
   ]
  },
  {
   "cell_type": "markdown",
   "metadata": {},
   "source": [
    "# Compute one-year transition rates\n",
    "\n",
    "We use the eigenvalues and vectors for the two year transition matrix to compute the one-year transition matrix. We also compute the steady state. "
   ]
  },
  {
   "cell_type": "code",
   "execution_count": 24,
   "metadata": {},
   "outputs": [],
   "source": [
    "for c in table.index:\n",
    "\tp2 = np.zeros((2,2))\n",
    "\tp2[0,0] = table.loc[c,'gg2']\n",
    "\tp2[0,1] = 1-table.loc[c,'gg2']\n",
    "\tp2[1,0] = table.loc[c,'gb2']\n",
    "\tp2[1,1] = 1- p2[1,0]\n",
    "\teigvalues,eigvectors = np.linalg.eig(p2)\n",
    "\teigvalues = np.sqrt(eigvalues)\n",
    "\tp1 = eigvectors @ np.diag(eigvalues) @ np.linalg.inv(eigvectors)\n",
    "\tps = np.linalg.matrix_power(p1,1000)\n",
    "\ttable.loc[c,'gg'] = p1[0,0]\n",
    "\ttable.loc[c,'gb'] = p1[1,0]\n",
    "\ttable.loc[c,'g_s'] = ps[0,0] \n"
   ]
  },
  {
   "cell_type": "markdown",
   "metadata": {},
   "source": [
    "We get the following stats for one year transition rates and implied steady-state fraction in good health (g_s)"
   ]
  },
  {
   "cell_type": "code",
   "execution_count": 25,
   "metadata": {},
   "outputs": [
    {
     "data": {
      "text/html": [
       "<div>\n",
       "<style scoped>\n",
       "    .dataframe tbody tr th:only-of-type {\n",
       "        vertical-align: middle;\n",
       "    }\n",
       "\n",
       "    .dataframe tbody tr th {\n",
       "        vertical-align: top;\n",
       "    }\n",
       "\n",
       "    .dataframe thead th {\n",
       "        text-align: right;\n",
       "    }\n",
       "</style>\n",
       "<table border=\"1\" class=\"dataframe\">\n",
       "  <thead>\n",
       "    <tr style=\"text-align: right;\">\n",
       "      <th></th>\n",
       "      <th>gg2</th>\n",
       "      <th>gb2</th>\n",
       "      <th>g_w1</th>\n",
       "      <th>g_w2</th>\n",
       "      <th>gg</th>\n",
       "      <th>gb</th>\n",
       "      <th>g_s</th>\n",
       "    </tr>\n",
       "  </thead>\n",
       "  <tbody>\n",
       "    <tr>\n",
       "      <th>DE</th>\n",
       "      <td>0.957591</td>\n",
       "      <td>0.533106</td>\n",
       "      <td>0.933130</td>\n",
       "      <td>0.928282</td>\n",
       "      <td>0.974321</td>\n",
       "      <td>0.322796</td>\n",
       "      <td>0.926311</td>\n",
       "    </tr>\n",
       "    <tr>\n",
       "      <th>SE</th>\n",
       "      <td>0.954206</td>\n",
       "      <td>0.500441</td>\n",
       "      <td>0.945582</td>\n",
       "      <td>0.931213</td>\n",
       "      <td>0.972638</td>\n",
       "      <td>0.299017</td>\n",
       "      <td>0.916165</td>\n",
       "    </tr>\n",
       "    <tr>\n",
       "      <th>NL</th>\n",
       "      <td>0.960598</td>\n",
       "      <td>0.712649</td>\n",
       "      <td>0.948468</td>\n",
       "      <td>0.950634</td>\n",
       "      <td>0.973696</td>\n",
       "      <td>0.475751</td>\n",
       "      <td>0.947608</td>\n",
       "    </tr>\n",
       "    <tr>\n",
       "      <th>SP</th>\n",
       "      <td>0.943659</td>\n",
       "      <td>0.568025</td>\n",
       "      <td>0.930858</td>\n",
       "      <td>0.915159</td>\n",
       "      <td>0.965069</td>\n",
       "      <td>0.352178</td>\n",
       "      <td>0.909763</td>\n",
       "    </tr>\n",
       "    <tr>\n",
       "      <th>IT</th>\n",
       "      <td>0.953888</td>\n",
       "      <td>0.527967</td>\n",
       "      <td>0.924979</td>\n",
       "      <td>0.923286</td>\n",
       "      <td>0.972098</td>\n",
       "      <td>0.319472</td>\n",
       "      <td>0.919676</td>\n",
       "    </tr>\n",
       "    <tr>\n",
       "      <th>FR</th>\n",
       "      <td>0.956852</td>\n",
       "      <td>0.521163</td>\n",
       "      <td>0.927794</td>\n",
       "      <td>0.925796</td>\n",
       "      <td>0.974008</td>\n",
       "      <td>0.313941</td>\n",
       "      <td>0.923538</td>\n",
       "    </tr>\n",
       "    <tr>\n",
       "      <th>DK</th>\n",
       "      <td>0.967526</td>\n",
       "      <td>0.569275</td>\n",
       "      <td>0.930578</td>\n",
       "      <td>0.942490</td>\n",
       "      <td>0.980090</td>\n",
       "      <td>0.349019</td>\n",
       "      <td>0.946034</td>\n",
       "    </tr>\n",
       "    <tr>\n",
       "      <th>US</th>\n",
       "      <td>0.932617</td>\n",
       "      <td>0.360515</td>\n",
       "      <td>0.891752</td>\n",
       "      <td>0.870705</td>\n",
       "      <td>0.961635</td>\n",
       "      <td>0.205261</td>\n",
       "      <td>0.842526</td>\n",
       "    </tr>\n",
       "  </tbody>\n",
       "</table>\n",
       "</div>"
      ],
      "text/plain": [
       "         gg2       gb2      g_w1      g_w2        gg        gb       g_s\n",
       "DE  0.957591  0.533106  0.933130  0.928282  0.974321  0.322796  0.926311\n",
       "SE  0.954206  0.500441  0.945582  0.931213  0.972638  0.299017  0.916165\n",
       "NL  0.960598  0.712649  0.948468  0.950634  0.973696  0.475751  0.947608\n",
       "SP  0.943659  0.568025  0.930858  0.915159  0.965069  0.352178  0.909763\n",
       "IT  0.953888  0.527967  0.924979  0.923286  0.972098  0.319472  0.919676\n",
       "FR  0.956852  0.521163  0.927794  0.925796  0.974008  0.313941  0.923538\n",
       "DK  0.967526  0.569275  0.930578  0.942490  0.980090  0.349019  0.946034\n",
       "US  0.932617  0.360515  0.891752  0.870705  0.961635  0.205261  0.842526"
      ]
     },
     "execution_count": 25,
     "metadata": {},
     "output_type": "execute_result"
    }
   ],
   "source": [
    "table"
   ]
  },
  {
   "cell_type": "markdown",
   "metadata": {},
   "source": [
    "We check the assumption of stationarity by looking at whether the fraction in good health in steady-state is close to the fraction in good health in the data. The ranking is quite good. "
   ]
  },
  {
   "cell_type": "code",
   "execution_count": 26,
   "metadata": {},
   "outputs": [
    {
     "data": {
      "image/png": "[encoded data removed]",
      "text/plain": [
       "<Figure size 432x288 with 1 Axes>"
      ]
     },
     "metadata": {
      "needs_background": "light"
     },
     "output_type": "display_data"
    }
   ],
   "source": [
    "plt.figure()\n",
    "plt.scatter(table['g_w1'],table['g_s'])\n",
    "plt.xlabel('data good health')\n",
    "plt.ylabel('stationary fraction good health')\n",
    "plt.show()"
   ]
  },
  {
   "cell_type": "markdown",
   "metadata": {},
   "source": [
    "# Gradient\n",
    "\n",
    "For the static model in section 2, we need information on the gradient. "
   ]
  },
  {
   "cell_type": "code",
   "execution_count": 27,
   "metadata": {},
   "outputs": [
    {
     "name": "stderr",
     "output_type": "stream",
     "text": [
      "/Users/loulou/.local/lib/python3.8/site-packages/pandas/core/indexing.py:1667: SettingWithCopyWarning: \n",
      "A value is trying to be set on a copy of a slice from a DataFrame.\n",
      "Try using .loc[row_indexer,col_indexer] = value instead\n",
      "\n",
      "See the caveats in the documentation: https://pandas.pydata.org/pandas-docs/stable/user_guide/indexing.html#returning-a-view-versus-a-copy\n",
      "  self.obj[key] = value\n"
     ]
    }
   ],
   "source": [
    "for c in table.index:\n",
    "\tdf_c = df.loc[df['cname']==c,:]\n",
    "\tdf_c.loc[:,'qinc'] = pd.qcut(df_c.loc[:,'hitot_w2'],q=4)\n",
    "\tgrad = df_c.groupby('qinc').apply(wmean,var='g_w1',wvar='wgid_w1')\n",
    "\tgrad.index = [x for x in range(1,5)]\n",
    "\ttable.loc[c,'g_q2'] = grad.loc[2,'g_w1']/grad.loc[1,'g_w1']\n",
    "\ttable.loc[c,'g_q3'] = grad.loc[3,'g_w1']/grad.loc[1,'g_w1']\n",
    "\ttable.loc[c,'g_q4'] = grad.loc[4,'g_w1']/grad.loc[1,'g_w1']\n",
    "\tincs = df_c.groupby('qinc').apply(wmean,var='hitot_w1',wvar='wgid_w1')\n",
    "\tincs.index = [x for x in range(1,5)]\n",
    "\ttable.loc[c,'inc_q1'] = incs.loc[1,'hitot_w1']\n",
    "\ttable.loc[c,'inc_q2'] = incs.loc[2,'hitot_w1']\n",
    "\ttable.loc[c,'inc_q3'] = incs.loc[3,'hitot_w1']\n",
    "\ttable.loc[c,'inc_q4'] = incs.loc[4,'hitot_w1']\n",
    "\tmincs = incs['hitot_w1'].mean()\n",
    "\tfor q in range(1,5):\n",
    "\t\ttable.loc[c,'inc_q'+str(q)] *= 1/mincs"
   ]
  },
  {
   "cell_type": "code",
   "execution_count": 28,
   "metadata": {},
   "outputs": [
    {
     "data": {
      "text/html": [
       "<div>\n",
       "<style scoped>\n",
       "    .dataframe tbody tr th:only-of-type {\n",
       "        vertical-align: middle;\n",
       "    }\n",
       "\n",
       "    .dataframe tbody tr th {\n",
       "        vertical-align: top;\n",
       "    }\n",
       "\n",
       "    .dataframe thead th {\n",
       "        text-align: right;\n",
       "    }\n",
       "</style>\n",
       "<table border=\"1\" class=\"dataframe\">\n",
       "  <thead>\n",
       "    <tr style=\"text-align: right;\">\n",
       "      <th></th>\n",
       "      <th>g_q2</th>\n",
       "      <th>g_q3</th>\n",
       "      <th>g_q4</th>\n",
       "      <th>inc_q1</th>\n",
       "      <th>inc_q2</th>\n",
       "      <th>inc_q3</th>\n",
       "      <th>inc_q4</th>\n",
       "    </tr>\n",
       "  </thead>\n",
       "  <tbody>\n",
       "    <tr>\n",
       "      <th>DE</th>\n",
       "      <td>1.017634</td>\n",
       "      <td>1.061784</td>\n",
       "      <td>1.078631</td>\n",
       "      <td>0.561241</td>\n",
       "      <td>0.670246</td>\n",
       "      <td>0.963283</td>\n",
       "      <td>1.805230</td>\n",
       "    </tr>\n",
       "    <tr>\n",
       "      <th>SE</th>\n",
       "      <td>1.050808</td>\n",
       "      <td>1.061996</td>\n",
       "      <td>1.074089</td>\n",
       "      <td>0.542441</td>\n",
       "      <td>0.879170</td>\n",
       "      <td>1.114809</td>\n",
       "      <td>1.463580</td>\n",
       "    </tr>\n",
       "    <tr>\n",
       "      <th>NL</th>\n",
       "      <td>1.030899</td>\n",
       "      <td>1.024509</td>\n",
       "      <td>1.023527</td>\n",
       "      <td>0.587189</td>\n",
       "      <td>0.820913</td>\n",
       "      <td>1.085506</td>\n",
       "      <td>1.506392</td>\n",
       "    </tr>\n",
       "    <tr>\n",
       "      <th>SP</th>\n",
       "      <td>1.025151</td>\n",
       "      <td>0.997648</td>\n",
       "      <td>1.051461</td>\n",
       "      <td>0.585783</td>\n",
       "      <td>0.631921</td>\n",
       "      <td>1.183983</td>\n",
       "      <td>1.598313</td>\n",
       "    </tr>\n",
       "    <tr>\n",
       "      <th>IT</th>\n",
       "      <td>1.025042</td>\n",
       "      <td>1.014742</td>\n",
       "      <td>1.038783</td>\n",
       "      <td>0.590575</td>\n",
       "      <td>0.859482</td>\n",
       "      <td>0.990178</td>\n",
       "      <td>1.559765</td>\n",
       "    </tr>\n",
       "    <tr>\n",
       "      <th>FR</th>\n",
       "      <td>1.030915</td>\n",
       "      <td>1.060553</td>\n",
       "      <td>1.092331</td>\n",
       "      <td>0.509560</td>\n",
       "      <td>0.795265</td>\n",
       "      <td>1.124371</td>\n",
       "      <td>1.570804</td>\n",
       "    </tr>\n",
       "    <tr>\n",
       "      <th>DK</th>\n",
       "      <td>1.087277</td>\n",
       "      <td>1.079270</td>\n",
       "      <td>1.101802</td>\n",
       "      <td>0.490115</td>\n",
       "      <td>0.799720</td>\n",
       "      <td>1.144787</td>\n",
       "      <td>1.565379</td>\n",
       "    </tr>\n",
       "    <tr>\n",
       "      <th>US</th>\n",
       "      <td>1.174827</td>\n",
       "      <td>1.223211</td>\n",
       "      <td>1.275940</td>\n",
       "      <td>0.338666</td>\n",
       "      <td>0.630960</td>\n",
       "      <td>0.955165</td>\n",
       "      <td>2.075210</td>\n",
       "    </tr>\n",
       "  </tbody>\n",
       "</table>\n",
       "</div>"
      ],
      "text/plain": [
       "        g_q2      g_q3      g_q4    inc_q1    inc_q2    inc_q3    inc_q4\n",
       "DE  1.017634  1.061784  1.078631  0.561241  0.670246  0.963283  1.805230\n",
       "SE  1.050808  1.061996  1.074089  0.542441  0.879170  1.114809  1.463580\n",
       "NL  1.030899  1.024509  1.023527  0.587189  0.820913  1.085506  1.506392\n",
       "SP  1.025151  0.997648  1.051461  0.585783  0.631921  1.183983  1.598313\n",
       "IT  1.025042  1.014742  1.038783  0.590575  0.859482  0.990178  1.559765\n",
       "FR  1.030915  1.060553  1.092331  0.509560  0.795265  1.124371  1.570804\n",
       "DK  1.087277  1.079270  1.101802  0.490115  0.799720  1.144787  1.565379\n",
       "US  1.174827  1.223211  1.275940  0.338666  0.630960  0.955165  2.075210"
      ]
     },
     "execution_count": 28,
     "metadata": {},
     "output_type": "execute_result"
    }
   ],
   "source": [
    "table[['g_q2','g_q3','g_q4','inc_q1','inc_q2','inc_q3','inc_q4']]"
   ]
  },
  {
   "cell_type": "markdown",
   "metadata": {},
   "source": [
    "# Computing moments \n",
    "\n",
    "We compute the mean and standard deviation of moments using the bootstrap."
   ]
  },
  {
   "cell_type": "code",
   "execution_count": 29,
   "metadata": {},
   "outputs": [],
   "source": [
    "def onesamp(df):\n",
    "\ttable = pd.DataFrame(index=cnames,columns=['gg2','gb2'])\n",
    "\t# sample with replacement\n",
    "\tdfi = df.groupby('cname', group_keys=False).apply(lambda x: x.sample(n=len(x),replace=True))\n",
    "\t# compute stats\n",
    "\tfor c in table.columns:\n",
    "\t\ttable[c] = dfi.groupby('cname').apply(wmean,var=c,wvar='wgid_w1')\n",
    "\tfor c in table.index:\n",
    "\t\tp2 = np.zeros((2,2))\n",
    "\t\tp2[0,0] = table.loc[c,'gg2']\n",
    "\t\tp2[0,1] = 1-p2[0,0]\n",
    "\t\tp2[1,0] = table.loc[c,'gb2']\n",
    "\t\tp2[1,1] = 1- p2[1,0]\n",
    "\t\teigvalues,eigvectors = np.linalg.eig(p2)\n",
    "\t\teigvalues = np.sqrt(eigvalues)\n",
    "\t\tp1 = eigvectors @ np.diag(eigvalues) @ np.linalg.inv(eigvectors)\n",
    "\t\ttable.loc[c,'gg'] = p1[0,0]\n",
    "\t\ttable.loc[c,'gb'] = p1[1,0]\n",
    "\t\tdf_c = dfi.loc[dfi['cname']==c,:]\n",
    "\t\tdf_c.loc[:,'qinc'] = pd.qcut(df_c.loc[:,'hitot_w2'],q=4)\n",
    "\t\tgrad = df_c.groupby('qinc').apply(wmean,var='g_w1',wvar='wgid_w1')\n",
    "\t\tgrad.index = [x for x in range(1,5)]\n",
    "\t\ttable.loc[c,'g_q2'] = grad.loc[2,'g_w1']/grad.loc[1,'g_w1']\n",
    "\t\ttable.loc[c,'g_q3'] = grad.loc[3,'g_w1']/grad.loc[1,'g_w1']\n",
    "\t\ttable.loc[c,'g_q4'] = grad.loc[4,'g_w1']/grad.loc[1,'g_w1']\n",
    "\ttable = table[['gg','gb','g_q2','g_q3','g_q4']]\n",
    "\treturn table\n",
    "\t"
   ]
  },
  {
   "cell_type": "code",
   "execution_count": 30,
   "metadata": {},
   "outputs": [
    {
     "name": "stderr",
     "output_type": "stream",
     "text": [
      "/Users/loulou/.local/lib/python3.8/site-packages/pandas/core/indexing.py:1667: SettingWithCopyWarning: \n",
      "A value is trying to be set on a copy of a slice from a DataFrame.\n",
      "Try using .loc[row_indexer,col_indexer] = value instead\n",
      "\n",
      "See the caveats in the documentation: https://pandas.pydata.org/pandas-docs/stable/user_guide/indexing.html#returning-a-view-versus-a-copy\n",
      "  self.obj[key] = value\n"
     ]
    }
   ],
   "source": [
    "moments = pd.DataFrame(columns=['rep','gg','gb','g_q2','g_q3','g_q4'])\n",
    "nreps = 1000\n",
    "np.random.seed(1234)\n",
    "for r in range(nreps):\n",
    "\tmom_r = onesamp(df)\n",
    "\tmom_r['rep'] = int(r)\n",
    "\tmoments = moments.append(mom_r)"
   ]
  },
  {
   "cell_type": "code",
   "execution_count": 31,
   "metadata": {},
   "outputs": [],
   "source": [
    "moments = moments.reset_index()\n",
    "moments.set_index(['index','rep'],inplace=True)"
   ]
  },
  {
   "cell_type": "markdown",
   "metadata": {},
   "source": [
    "These are the means"
   ]
  },
  {
   "cell_type": "code",
   "execution_count": 32,
   "metadata": {},
   "outputs": [
    {
     "data": {
      "text/html": [
       "<div>\n",
       "<style scoped>\n",
       "    .dataframe tbody tr th:only-of-type {\n",
       "        vertical-align: middle;\n",
       "    }\n",
       "\n",
       "    .dataframe tbody tr th {\n",
       "        vertical-align: top;\n",
       "    }\n",
       "\n",
       "    .dataframe thead th {\n",
       "        text-align: right;\n",
       "    }\n",
       "</style>\n",
       "<table border=\"1\" class=\"dataframe\">\n",
       "  <thead>\n",
       "    <tr style=\"text-align: right;\">\n",
       "      <th></th>\n",
       "      <th>gg</th>\n",
       "      <th>gb</th>\n",
       "      <th>g_q2</th>\n",
       "      <th>g_q3</th>\n",
       "      <th>g_q4</th>\n",
       "    </tr>\n",
       "    <tr>\n",
       "      <th>index</th>\n",
       "      <th></th>\n",
       "      <th></th>\n",
       "      <th></th>\n",
       "      <th></th>\n",
       "      <th></th>\n",
       "    </tr>\n",
       "  </thead>\n",
       "  <tbody>\n",
       "    <tr>\n",
       "      <th>DE</th>\n",
       "      <td>0.974090</td>\n",
       "      <td>0.327992</td>\n",
       "      <td>1.029659</td>\n",
       "      <td>1.071441</td>\n",
       "      <td>1.086319</td>\n",
       "    </tr>\n",
       "    <tr>\n",
       "      <th>DK</th>\n",
       "      <td>0.979945</td>\n",
       "      <td>0.349289</td>\n",
       "      <td>1.082923</td>\n",
       "      <td>1.083623</td>\n",
       "      <td>1.102843</td>\n",
       "    </tr>\n",
       "    <tr>\n",
       "      <th>FR</th>\n",
       "      <td>0.974267</td>\n",
       "      <td>0.315457</td>\n",
       "      <td>1.031429</td>\n",
       "      <td>1.056177</td>\n",
       "      <td>1.090645</td>\n",
       "    </tr>\n",
       "    <tr>\n",
       "      <th>IT</th>\n",
       "      <td>0.971952</td>\n",
       "      <td>0.321932</td>\n",
       "      <td>1.022728</td>\n",
       "      <td>1.010093</td>\n",
       "      <td>1.039689</td>\n",
       "    </tr>\n",
       "    <tr>\n",
       "      <th>NL</th>\n",
       "      <td>0.973459</td>\n",
       "      <td>0.476829</td>\n",
       "      <td>1.031051</td>\n",
       "      <td>1.025663</td>\n",
       "      <td>1.025642</td>\n",
       "    </tr>\n",
       "    <tr>\n",
       "      <th>SE</th>\n",
       "      <td>0.972339</td>\n",
       "      <td>0.302608</td>\n",
       "      <td>1.052746</td>\n",
       "      <td>1.063812</td>\n",
       "      <td>1.076431</td>\n",
       "    </tr>\n",
       "    <tr>\n",
       "      <th>SP</th>\n",
       "      <td>0.965110</td>\n",
       "      <td>0.356402</td>\n",
       "      <td>1.027981</td>\n",
       "      <td>1.000185</td>\n",
       "      <td>1.054194</td>\n",
       "    </tr>\n",
       "    <tr>\n",
       "      <th>US</th>\n",
       "      <td>0.961600</td>\n",
       "      <td>0.205977</td>\n",
       "      <td>1.177713</td>\n",
       "      <td>1.222356</td>\n",
       "      <td>1.276081</td>\n",
       "    </tr>\n",
       "  </tbody>\n",
       "</table>\n",
       "</div>"
      ],
      "text/plain": [
       "             gg        gb      g_q2      g_q3      g_q4\n",
       "index                                                  \n",
       "DE     0.974090  0.327992  1.029659  1.071441  1.086319\n",
       "DK     0.979945  0.349289  1.082923  1.083623  1.102843\n",
       "FR     0.974267  0.315457  1.031429  1.056177  1.090645\n",
       "IT     0.971952  0.321932  1.022728  1.010093  1.039689\n",
       "NL     0.973459  0.476829  1.031051  1.025663  1.025642\n",
       "SE     0.972339  0.302608  1.052746  1.063812  1.076431\n",
       "SP     0.965110  0.356402  1.027981  1.000185  1.054194\n",
       "US     0.961600  0.205977  1.177713  1.222356  1.276081"
      ]
     },
     "execution_count": 32,
     "metadata": {},
     "output_type": "execute_result"
    }
   ],
   "source": [
    "moments.groupby('index').mean()"
   ]
  },
  {
   "cell_type": "markdown",
   "metadata": {},
   "source": [
    "And the standard deviations"
   ]
  },
  {
   "cell_type": "code",
   "execution_count": 33,
   "metadata": {},
   "outputs": [
    {
     "data": {
      "text/html": [
       "<div>\n",
       "<style scoped>\n",
       "    .dataframe tbody tr th:only-of-type {\n",
       "        vertical-align: middle;\n",
       "    }\n",
       "\n",
       "    .dataframe tbody tr th {\n",
       "        vertical-align: top;\n",
       "    }\n",
       "\n",
       "    .dataframe thead th {\n",
       "        text-align: right;\n",
       "    }\n",
       "</style>\n",
       "<table border=\"1\" class=\"dataframe\">\n",
       "  <thead>\n",
       "    <tr style=\"text-align: right;\">\n",
       "      <th></th>\n",
       "      <th>gg</th>\n",
       "      <th>gb</th>\n",
       "      <th>g_q2</th>\n",
       "      <th>g_q3</th>\n",
       "      <th>g_q4</th>\n",
       "    </tr>\n",
       "    <tr>\n",
       "      <th>index</th>\n",
       "      <th></th>\n",
       "      <th></th>\n",
       "      <th></th>\n",
       "      <th></th>\n",
       "      <th></th>\n",
       "    </tr>\n",
       "  </thead>\n",
       "  <tbody>\n",
       "    <tr>\n",
       "      <th>DE</th>\n",
       "      <td>0.003491</td>\n",
       "      <td>0.044133</td>\n",
       "      <td>0.030888</td>\n",
       "      <td>0.025817</td>\n",
       "      <td>0.025538</td>\n",
       "    </tr>\n",
       "    <tr>\n",
       "      <th>DK</th>\n",
       "      <td>0.003571</td>\n",
       "      <td>0.048601</td>\n",
       "      <td>0.029608</td>\n",
       "      <td>0.028468</td>\n",
       "      <td>0.028135</td>\n",
       "    </tr>\n",
       "    <tr>\n",
       "      <th>FR</th>\n",
       "      <td>0.003513</td>\n",
       "      <td>0.033703</td>\n",
       "      <td>0.023113</td>\n",
       "      <td>0.023630</td>\n",
       "      <td>0.020761</td>\n",
       "    </tr>\n",
       "    <tr>\n",
       "      <th>IT</th>\n",
       "      <td>0.003938</td>\n",
       "      <td>0.044698</td>\n",
       "      <td>0.025370</td>\n",
       "      <td>0.025610</td>\n",
       "      <td>0.023636</td>\n",
       "    </tr>\n",
       "    <tr>\n",
       "      <th>NL</th>\n",
       "      <td>0.004240</td>\n",
       "      <td>0.068089</td>\n",
       "      <td>0.018193</td>\n",
       "      <td>0.018542</td>\n",
       "      <td>0.018212</td>\n",
       "    </tr>\n",
       "    <tr>\n",
       "      <th>SE</th>\n",
       "      <td>0.003707</td>\n",
       "      <td>0.042688</td>\n",
       "      <td>0.019814</td>\n",
       "      <td>0.021411</td>\n",
       "      <td>0.019188</td>\n",
       "    </tr>\n",
       "    <tr>\n",
       "      <th>SP</th>\n",
       "      <td>0.005645</td>\n",
       "      <td>0.043020</td>\n",
       "      <td>0.029936</td>\n",
       "      <td>0.033832</td>\n",
       "      <td>0.028219</td>\n",
       "    </tr>\n",
       "    <tr>\n",
       "      <th>US</th>\n",
       "      <td>0.001506</td>\n",
       "      <td>0.009638</td>\n",
       "      <td>0.016617</td>\n",
       "      <td>0.016421</td>\n",
       "      <td>0.016628</td>\n",
       "    </tr>\n",
       "  </tbody>\n",
       "</table>\n",
       "</div>"
      ],
      "text/plain": [
       "             gg        gb      g_q2      g_q3      g_q4\n",
       "index                                                  \n",
       "DE     0.003491  0.044133  0.030888  0.025817  0.025538\n",
       "DK     0.003571  0.048601  0.029608  0.028468  0.028135\n",
       "FR     0.003513  0.033703  0.023113  0.023630  0.020761\n",
       "IT     0.003938  0.044698  0.025370  0.025610  0.023636\n",
       "NL     0.004240  0.068089  0.018193  0.018542  0.018212\n",
       "SE     0.003707  0.042688  0.019814  0.021411  0.019188\n",
       "SP     0.005645  0.043020  0.029936  0.033832  0.028219\n",
       "US     0.001506  0.009638  0.016617  0.016421  0.016628"
      ]
     },
     "execution_count": 33,
     "metadata": {},
     "output_type": "execute_result"
    }
   ],
   "source": [
    "moments.groupby('index').std()"
   ]
  },
  {
   "cell_type": "markdown",
   "metadata": {},
   "source": [
    "We save these results"
   ]
  },
  {
   "cell_type": "code",
   "execution_count": 34,
   "metadata": {},
   "outputs": [],
   "source": [
    "moments.groupby('index').std().to_pickle('../estimation/moments/stds_health.pkl')"
   ]
  },
  {
   "cell_type": "code",
   "execution_count": 35,
   "metadata": {},
   "outputs": [],
   "source": [
    "moments.groupby('index').mean().to_pickle('../estimation/moments/means_health.pkl')"
   ]
  },
  {
   "cell_type": "code",
   "execution_count": null,
   "metadata": {},
   "outputs": [],
   "source": []
  }
 ],
 "metadata": {
  "interpreter": {
   "hash": "cf2a50979671a58939829e6829efb726aa5da11149213b77bd50351f899d04fb"
  },
  "kernelspec": {
   "display_name": "Python 3",
   "language": "python",
   "name": "python3"
  },
  "language_info": {
   "codemirror_mode": {
    "name": "ipython",
    "version": 3
   },
   "file_extension": ".py",
   "mimetype": "text/x-python",
   "name": "python",
   "nbconvert_exporter": "python",
   "pygments_lexer": "ipython3",
   "version": "3.8.5"
  }
 },
 "nbformat": 4,
 "nbformat_minor": 2
}

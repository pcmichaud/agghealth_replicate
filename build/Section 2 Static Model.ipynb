{
 "cells": [
  {
   "cell_type": "code",
   "execution_count": 1,
   "id": "baba5557",
   "metadata": {},
   "outputs": [],
   "source": [
    "import numpy as np\n",
    "from scipy.optimize import fsolve\n",
    "from scipy.stats import norm\n",
    "from matplotlib import pyplot as plt"
   ]
  },
  {
   "cell_type": "markdown",
   "id": "8e55631a",
   "metadata": {},
   "source": [
    "# Identification of the parameters $\\{p, \\phi, \\alpha_0, \\alpha_1\\}$\n",
    "\n",
    "The model is\n",
    "$$\n",
    "\\max_{m_i} \\frac{(y_i-pm_i)^{1-\\sigma}}{1-\\sigma} + \\phi (1-\\exp(-\\alpha_1 - \\alpha_0 m_i))\n",
    "$$\n",
    "The FOC is \n",
    "$$\n",
    "p (y_i-pm_i)^{-\\sigma} = \\phi\\alpha_0 \\exp(-\\alpha_1 - \\alpha_0 m_i)\n",
    "$$\n",
    "This gives a solution $m_i = {\\cal M}(y_i,p|\\sigma, \\phi, \\alpha_0, \\alpha1)$\n",
    "\n",
    "\n",
    "### US\n",
    "For the US, we have $p=1$ and $\\sum_i \\omega_i y_i \\equiv y = 1$. Therefore, the moments restrictions  \n",
    "$$\n",
    "\\Psi_1 = \\frac{p \\sum_i \\omega_i m_i}{\\sum_i \\omega_i y_i}\n",
    "$$\n",
    "$$\n",
    "\\Psi_2 = \\sum_i (1-\\exp(-\\alpha_1 - \\alpha_0 m_i))\n",
    "$$\n",
    "$$\n",
    "\\Psi_3 = \\frac{(1-\\exp(-\\alpha_1 - \\alpha_0 m_{\\max}))}{(1-\\exp(-\\alpha_1 - \\alpha_0 m_{\\min}))}\n",
    "$$\n",
    "allows to identify $\\{\\phi,\\alpha_0,\\alpha_1\\}$\n",
    "\n",
    "\n",
    "### Europe\n",
    "\n",
    "For Europe, we keep $\\{\\phi,\\alpha_0,\\alpha_1\\}$ found in the previous step, and the moments restrictions\n",
    "$$\n",
    "\\Psi_1 = \\frac{p \\sum_i \\omega_i m_i}{\\sum_i \\omega_i y_i}\n",
    "$$\n",
    "$$\n",
    "\\Psi_2 = \\sum_i (1-\\exp(-\\alpha_1 - \\alpha_0 m_i))\n",
    "$$\n",
    "allows to identify $\\{p,\\alpha_1\\}$, given that a calibration of $\\sum_i \\omega_i y_i \\equiv y$\n",
    "\n"
   ]
  },
  {
   "cell_type": "markdown",
   "id": "1e3d32d8",
   "metadata": {},
   "source": [
    "## Functions"
   ]
  },
  {
   "cell_type": "code",
   "execution_count": 2,
   "id": "5f76a0af",
   "metadata": {},
   "outputs": [],
   "source": [
    "#Function for finding the decision rule for m\n",
    "\n",
    "def medexp(m, *param_m):\n",
    "    p, y, sigma, alpha0, phi, alpha1 = param_m \n",
    "    return p*( (y - p*max(0,min(m,y/p)))**(-sigma) ) - alpha0*phi*np.exp(-( alpha1 + alpha0*max(0,min(m,y/p)) )) \n",
    "\n",
    "# Function for finding parameters (alpha0, phi, alpha1) using US moments' restrictions\n",
    "def hetero_calib(pd_c, *param_c):\n",
    "    \n",
    "    Psi1, Psi2, Psi3, p, yy, sigma = param_c \n",
    "    \n",
    "    msolv = np.zeros(yy.size)\n",
    "    \n",
    "    for ii in range(yy.size):\n",
    "        param_cm  = (p, yy[ii], sigma, pd_c[0], pd_c[1], pd_c[2])\n",
    "        m0        = .1\n",
    "        msolv[ii] = max(0,fsolve(medexp, m0, args=param_cm))\n",
    "    \n",
    "    return [Psi1 - np.mean(msolv), \n",
    "            Psi2 - np.mean(1-np.exp(-pd_c[2]-pd_c[0]*msolv)),\n",
    "            Psi3 - (1-np.exp(-pd_c[2]-pd_c[0]*msolv[-1]))/(1-np.exp(-pd_c[2]-pd_c[0]*msolv[0])) ] \n",
    "\n",
    "# Function for finding (p, alpha1) using European moments' restrictions\n",
    "def hetero_calib_eu(pd_s, *param_s):\n",
    "    \n",
    "    Psi1, Psi2, yy, sigma, phi, alpha0 = param_s \n",
    "    \n",
    "    msolv = np.zeros(yy.size)\n",
    "    \n",
    "    for ii in range(yy.size):\n",
    "        param_sm  = (pd_s[0], yy[ii], sigma, alpha0, phi, pd_s[1])\n",
    "        m0        = .1\n",
    "        msolv[ii] = max(0,fsolve(medexp, m0, args=param_sm))\n",
    "    \n",
    "    return [Psi1 - (pd_s[0]*np.mean(msolv))/(np.mean(yy)), \n",
    "            Psi2 - np.mean(1-np.exp(-pd_s[1]-alpha0*msolv))] \n",
    "\n",
    "# Function for finding the price, given all other parameters (alpha0, phi, alpha1)\n",
    "def hetero_new_price(p_new, *param_s):\n",
    "    \n",
    "    Psi1, yy, sigma, phi, alpha1, alpha0 = param_s \n",
    "    \n",
    "    msolv = np.zeros(yy.size)\n",
    "    \n",
    "    for ii in range(yy.size):\n",
    "        param_sn  = (p_new, yy[ii], sigma, alpha0, phi, alpha1)\n",
    "        m0        = .05\n",
    "        msolv[ii] = max(0,fsolve(medexp, m0, args=param_sn))\n",
    "    \n",
    "    return Psi1 - (p_new*np.mean(msolv))/(np.mean(yy)) "
   ]
  },
  {
   "cell_type": "markdown",
   "id": "e8bf25d4",
   "metadata": {},
   "source": [
    "## Calibrated parameter"
   ]
  },
  {
   "cell_type": "code",
   "execution_count": 3,
   "id": "49f43316",
   "metadata": {},
   "outputs": [],
   "source": [
    "sigma  = 2.0\n",
    "Ncount = 2"
   ]
  },
  {
   "cell_type": "markdown",
   "id": "bf29370a",
   "metadata": {},
   "source": [
    "## Aggregate moments\n",
    "\n",
    "Health inequalities: we use the gradient for the 4th quartile relative to the first. "
   ]
  },
  {
   "cell_type": "code",
   "execution_count": 4,
   "id": "4acc8877",
   "metadata": {},
   "outputs": [],
   "source": [
    "grad_c  = [1.061, 1.276]"
   ]
  },
  {
   "cell_type": "markdown",
   "id": "0365aed2",
   "metadata": {},
   "source": [
    "GDP share of health expenditures"
   ]
  },
  {
   "cell_type": "code",
   "execution_count": 5,
   "id": "ac3df66c",
   "metadata": {},
   "outputs": [],
   "source": [
    "s_c  = [0.0955, 0.1504]"
   ]
  },
  {
   "cell_type": "markdown",
   "id": "0b855728",
   "metadata": {},
   "source": [
    "Income"
   ]
  },
  {
   "cell_type": "code",
   "execution_count": 6,
   "id": "20c3dd9c",
   "metadata": {},
   "outputs": [],
   "source": [
    "y_c  = [0.78, 1]"
   ]
  },
  {
   "cell_type": "markdown",
   "id": "aa65a7cb",
   "metadata": {},
   "source": [
    "For health status, we use the average health from the ADL definition in Table 4. "
   ]
  },
  {
   "cell_type": "code",
   "execution_count": 7,
   "id": "be08d6d7",
   "metadata": {},
   "outputs": [],
   "source": [
    "h_c  = [0.931, 0.892]"
   ]
  },
  {
   "cell_type": "code",
   "execution_count": 8,
   "id": "a1eab219",
   "metadata": {},
   "outputs": [
    {
     "data": {
      "text/plain": [
       "array([[0.0955, 0.931 , 1.061 ],\n",
       "       [0.1504, 0.892 , 1.276 ]])"
      ]
     },
     "execution_count": 8,
     "metadata": {},
     "output_type": "execute_result"
    }
   ],
   "source": [
    "psi = np.zeros((Ncount,3))\n",
    "for ii in range(Ncount):\n",
    "    psi[ii,:] = [s_c[ii],h_c[ii],grad_c[ii]]\n",
    "\n",
    "psi"
   ]
  },
  {
   "cell_type": "markdown",
   "id": "d01473d0",
   "metadata": {},
   "source": [
    "## Income inequalities: the US\n",
    "\n",
    "Table 5 gives the variance of the income process. If log income has mean 0 and variance equal to $\\sigma^2_{\\epsilon}$, we can solve for the quartiles (we use mid-points of quartiles, 12.5, 37.5, 62.5 and 87.5)"
   ]
  },
  {
   "cell_type": "markdown",
   "id": "48a95d99",
   "metadata": {},
   "source": [
    "We take the mean for EU in Table 5. "
   ]
  },
  {
   "cell_type": "code",
   "execution_count": 9,
   "id": "e4046ef5",
   "metadata": {},
   "outputs": [
    {
     "data": {
      "text/plain": [
       "[0.19111728571428574, 0.486429]"
      ]
     },
     "execution_count": 9,
     "metadata": {},
     "output_type": "execute_result"
    }
   ],
   "source": [
    "sig_eu  = np.mean([0.256367, 0.094643, 0.214538, 0.237439, 0.169834, 0.094643, 0.270357])\n",
    "sig_c   = [sig_eu, 0.486429]\n",
    "sig_c"
   ]
  },
  {
   "cell_type": "markdown",
   "id": "0e5a0143",
   "metadata": {},
   "source": [
    "We find the percentiles, transform in levels and normalize to 1. "
   ]
  },
  {
   "cell_type": "code",
   "execution_count": 10,
   "id": "a9f5396e",
   "metadata": {},
   "outputs": [],
   "source": [
    "qs   = [0.125,0.375,0.625,0.875]\n",
    "yy_c = np.zeros((Ncount,4))\n",
    "\n",
    "for ii in range(Ncount):\n",
    "    yy    = [norm(0,np.sqrt(sig_c[ii])).ppf(q) for q in qs]\n",
    "    yy    = np.exp(yy)\n",
    "    yy_c[ii,:] = y_c[ii]*yy/np.mean(yy)\n"
   ]
  },
  {
   "cell_type": "markdown",
   "id": "f9017749",
   "metadata": {},
   "source": [
    "Here are relative incomes. Much more inequality in US"
   ]
  },
  {
   "cell_type": "code",
   "execution_count": 11,
   "id": "806c601a",
   "metadata": {},
   "outputs": [
    {
     "data": {
      "text/plain": [
       "(4.975918497985015, 2.7340817164336597)"
      ]
     },
     "execution_count": 11,
     "metadata": {},
     "output_type": "execute_result"
    }
   ],
   "source": [
    "yy_c[-1,-1]/yy_c[-1,0], yy_c[0,-1]/yy_c[0,0]"
   ]
  },
  {
   "cell_type": "markdown",
   "id": "0f2a9f4f",
   "metadata": {},
   "source": [
    "## Solution for the US"
   ]
  },
  {
   "cell_type": "code",
   "execution_count": 12,
   "id": "6282c357",
   "metadata": {},
   "outputs": [
    {
     "name": "stderr",
     "output_type": "stream",
     "text": [
      "/Users/francoislangot/opt/anaconda3/lib/python3.9/site-packages/scipy/optimize/minpack.py:175: RuntimeWarning: The iteration is not making good progress, as measured by the \n",
      "  improvement from the last ten iterations.\n",
      "  warnings.warn(msg, RuntimeWarning)\n"
     ]
    },
    {
     "data": {
      "text/plain": [
       "array([7.51739835, 3.00535761, 1.46651755])"
      ]
     },
     "execution_count": 12,
     "metadata": {},
     "output_type": "execute_result"
    }
   ],
   "source": [
    "param_c   = (psi[1,0], psi[1,1], psi[1,2], 1, yy_c[1], sigma)\n",
    "pd_c0     = [6 , 2 , 2 ] \n",
    "calibsol  = fsolve(hetero_calib, pd_c0, args=param_c) \n",
    "calibsol"
   ]
  },
  {
   "cell_type": "markdown",
   "id": "8945fb87",
   "metadata": {},
   "source": [
    "We check the solution: to find the health gradient with the model "
   ]
  },
  {
   "cell_type": "code",
   "execution_count": 13,
   "id": "214a0e9a",
   "metadata": {},
   "outputs": [
    {
     "data": {
      "text/plain": [
       "(array([0.        , 0.081768  , 0.18348814, 0.33634386]), 1.2759999999998748)"
      ]
     },
     "execution_count": 13,
     "metadata": {},
     "output_type": "execute_result"
    }
   ],
   "source": [
    "msolv = np.zeros(yy.size)\n",
    "\n",
    "for ii in range(yy.size):\n",
    "    param_m   = (1, yy_c[1,ii], sigma, calibsol[0], calibsol[1], calibsol[2])\n",
    "    m0        = .1\n",
    "    msolv[ii] = max(0,fsolve(medexp, m0, args=param_m))\n",
    "\n",
    "msolv, ( 1-np.exp(-(calibsol[2]+calibsol[0]*msolv[-1])) )/( 1-np.exp(-(calibsol[2]+calibsol[0]*msolv[0])) )"
   ]
  },
  {
   "cell_type": "markdown",
   "id": "1543e6dd",
   "metadata": {},
   "source": [
    "## Solution for the Europe"
   ]
  },
  {
   "cell_type": "code",
   "execution_count": 14,
   "id": "986c98f9",
   "metadata": {},
   "outputs": [],
   "source": [
    "param_s           = (psi[0,0], psi[0,1], yy_c[0], sigma, calibsol[1], calibsol[0])\n",
    "pd_c0             = [0.9 , calibsol[2]]\n",
    "calibsol_eu       = fsolve(hetero_calib_eu, pd_c0, args=param_s)"
   ]
  },
  {
   "cell_type": "code",
   "execution_count": 15,
   "id": "7a0199ac",
   "metadata": {},
   "outputs": [
    {
     "data": {
      "text/plain": [
       "array([0.56730391, 1.89073796])"
      ]
     },
     "execution_count": 15,
     "metadata": {},
     "output_type": "execute_result"
    }
   ],
   "source": [
    "calibsol_eu"
   ]
  },
  {
   "cell_type": "markdown",
   "id": "5d3a89f8",
   "metadata": {},
   "source": [
    "## Individual decisions and health gradient: Europe"
   ]
  },
  {
   "cell_type": "code",
   "execution_count": 16,
   "id": "dd23a4f1",
   "metadata": {},
   "outputs": [
    {
     "data": {
      "text/plain": [
       "(array([0.01549786, 0.09418598, 0.16101862, 0.25451866]), 1.1294746245585219)"
      ]
     },
     "execution_count": 16,
     "metadata": {},
     "output_type": "execute_result"
    }
   ],
   "source": [
    "msolv_eu = np.zeros(yy.size)\n",
    "for jj in range(yy.size):\n",
    "    param_m         = (calibsol_eu[0], yy_c[0,jj], sigma, calibsol[0], calibsol[1], calibsol_eu[1])\n",
    "    m0              = .1\n",
    "    msolv_eu[jj]    = max(0,fsolve(medexp, m0, args=param_m))\n",
    "grads_eu = ( 1-np.exp(-(calibsol_eu[1]+calibsol[0]*msolv_eu[-1])) )/(1-np.exp(-(calibsol_eu[1]+calibsol[0]*msolv_eu[0])))\n",
    "    \n",
    "msolv_eu, grads_eu\n"
   ]
  },
  {
   "cell_type": "markdown",
   "id": "597eefdf",
   "metadata": {},
   "source": [
    "## Demand : price elasticity in the US"
   ]
  },
  {
   "cell_type": "code",
   "execution_count": 17,
   "id": "f3322eb8",
   "metadata": {},
   "outputs": [
    {
     "data": {
      "text/plain": [
       "(0.7497906679729238, 0.6677553518387034)"
      ]
     },
     "execution_count": 17,
     "metadata": {},
     "output_type": "execute_result"
    }
   ],
   "source": [
    "msolvp = np.zeros(yy.size)\n",
    "msolvm = np.zeros(yy.size)\n",
    "\n",
    "for ii in range(yy.size):\n",
    "    param_m   = (1.1, yy_c[1,ii], sigma, calibsol[0], calibsol[1], calibsol[2])\n",
    "    m0        = .1\n",
    "    msolvp[ii] = max(0,fsolve(medexp, m0, args=param_m))\n",
    "    param_m   = (0.9, yy_c[1,ii], sigma, calibsol[0], calibsol[1], calibsol[2])\n",
    "    m0        = .1\n",
    "    msolvm[ii] = max(0,fsolve(medexp, m0, args=param_m))\n",
    "\n",
    "dpop    = (1.1-1)/1\n",
    "level0  = s_c[1]\n",
    "level1p = np.mean(msolvp)\n",
    "level1m = np.mean(msolvm)\n",
    "\n",
    "((level1m-level0)/level0)/dpop, -((level1p-level0)/level0 )/dpop"
   ]
  },
  {
   "cell_type": "code",
   "execution_count": 18,
   "id": "6a3d7e61",
   "metadata": {},
   "outputs": [
    {
     "data": {
      "text/plain": [
       "-0.7087730099058136"
      ]
     },
     "execution_count": 18,
     "metadata": {},
     "output_type": "execute_result"
    }
   ],
   "source": [
    "-(((level1m-level0)/level0)/dpop + (-((level1p-level0)/level0 )/dpop))/2"
   ]
  },
  {
   "cell_type": "markdown",
   "id": "3c4bbc61",
   "metadata": {},
   "source": [
    "## Demand : income elasticity in the US"
   ]
  },
  {
   "cell_type": "code",
   "execution_count": 19,
   "id": "92110032",
   "metadata": {},
   "outputs": [
    {
     "data": {
      "text/plain": [
       "(1.1746605940831996, 1.2636166918805645)"
      ]
     },
     "execution_count": 19,
     "metadata": {},
     "output_type": "execute_result"
    }
   ],
   "source": [
    "msolvp = np.zeros(yy.size)\n",
    "msolvm = np.zeros(yy.size)\n",
    "\n",
    "for ii in range(yy.size):\n",
    "    param_m   = (1, 1.1*yy_c[1,ii], sigma, calibsol[0], calibsol[1], calibsol[2])\n",
    "    m0        = .1\n",
    "    msolvp[ii] = max(0,fsolve(medexp, m0, args=param_m))\n",
    "    param_m   = (1, 0.9*yy_c[1,ii], sigma, calibsol[0], calibsol[1], calibsol[2])\n",
    "    m0        = .1\n",
    "    msolvm[ii] = max(0,fsolve(medexp, m0, args=param_m))\n",
    "\n",
    "dyoy    = (1.1-1)/1\n",
    "level0  = s_c[1]\n",
    "level1p = np.mean(msolvp)\n",
    "level1m = np.mean(msolvm)\n",
    "\n",
    "((level1p-level0)/level0)/dyoy, -((level1m-level0)/level0)/dyoy "
   ]
  },
  {
   "cell_type": "code",
   "execution_count": 20,
   "id": "f964f2f9",
   "metadata": {},
   "outputs": [
    {
     "data": {
      "text/plain": [
       "1.219138642981882"
      ]
     },
     "execution_count": 20,
     "metadata": {},
     "output_type": "execute_result"
    }
   ],
   "source": [
    "((((level1p-level0)/level0)/dyoy)+(-((level1m-level0)/level0)/dyoy))/2 "
   ]
  },
  {
   "cell_type": "markdown",
   "id": "3af07c7a",
   "metadata": {},
   "source": [
    "## Demand : price elasticity in EU"
   ]
  },
  {
   "cell_type": "code",
   "execution_count": 21,
   "id": "ba949ad1",
   "metadata": {},
   "outputs": [
    {
     "data": {
      "text/plain": [
       "(1.040449852797365, 0.9226845436459346)"
      ]
     },
     "execution_count": 21,
     "metadata": {},
     "output_type": "execute_result"
    }
   ],
   "source": [
    "msolv_eup = np.zeros(yy.size)\n",
    "msolv_eum = np.zeros(yy.size)\n",
    "\n",
    "for jj in range(yy.size):\n",
    "    param_m         = (calibsol_eu[0]*1.1, yy_c[0,jj], sigma, calibsol[0], calibsol[1], calibsol_eu[1])\n",
    "    m0              = .1\n",
    "    msolv_eup[jj]   = max(0,fsolve(medexp, m0, args=param_m))\n",
    "    param_m         = (calibsol_eu[0]*0.9, yy_c[0,jj], sigma, calibsol[0], calibsol[1], calibsol_eu[1])\n",
    "    m0              = .1\n",
    "    msolv_eum[jj]   = max(0,fsolve(medexp, m0, args=param_m))\n",
    "\n",
    "level0  = s_c[0]/(calibsol_eu[0]/y_c[0]) \n",
    "level1p = np.mean(msolv_eup) \n",
    "level1m = np.mean(msolv_eum) \n",
    "\n",
    "((level1m-level0)/level0)/dpop, -((level1p-level0)/level0)/dpop "
   ]
  },
  {
   "cell_type": "code",
   "execution_count": 22,
   "id": "8e41e4a9",
   "metadata": {},
   "outputs": [
    {
     "data": {
      "text/plain": [
       "-0.9815671982216497"
      ]
     },
     "execution_count": 22,
     "metadata": {},
     "output_type": "execute_result"
    }
   ],
   "source": [
    "-((((level1m-level0)/level0)/dpop)+(-((level1p-level0)/level0)/dpop))/2"
   ]
  },
  {
   "cell_type": "markdown",
   "id": "bdaae432",
   "metadata": {},
   "source": [
    "## Demand : income elasticity in EU"
   ]
  },
  {
   "cell_type": "code",
   "execution_count": 23,
   "id": "ee03d8bb",
   "metadata": {},
   "outputs": [
    {
     "data": {
      "text/plain": [
       "(1.7356186895066263, 1.7690924707129616)"
      ]
     },
     "execution_count": 23,
     "metadata": {},
     "output_type": "execute_result"
    }
   ],
   "source": [
    "msolv_eup = np.zeros(yy.size)\n",
    "msolv_eum = np.zeros(yy.size)\n",
    "\n",
    "for jj in range(yy.size):\n",
    "    param_m         = (calibsol_eu[0], 1.1*yy_c[0,jj], sigma, calibsol[0], calibsol[1], calibsol_eu[1])\n",
    "    m0              = .1\n",
    "    msolv_eup[jj]   = max(0,fsolve(medexp, m0, args=param_m))\n",
    "    param_m         = (calibsol_eu[0], 0.9*yy_c[0,jj], sigma, calibsol[0], calibsol[1], calibsol_eu[1])\n",
    "    m0              = .1\n",
    "    msolv_eum[jj]   = max(0,fsolve(medexp, m0, args=param_m))\n",
    "\n",
    "level0  = s_c[0]/(calibsol_eu[0]/y_c[0])    \n",
    "level1p = np.mean(msolv_eup) \n",
    "level1m = np.mean(msolv_eum)\n",
    "\n",
    "((level1p-level0)/level0)/dyoy, -((level1m-level0)/level0)/dyoy "
   ]
  },
  {
   "cell_type": "code",
   "execution_count": 24,
   "id": "1e6bf63d",
   "metadata": {},
   "outputs": [
    {
     "data": {
      "text/plain": [
       "1.752355580109794"
      ]
     },
     "execution_count": 24,
     "metadata": {},
     "output_type": "execute_result"
    }
   ],
   "source": [
    "((((level1p-level0)/level0)/dpop)+(-((level1m-level0)/level0)/dpop))/2"
   ]
  },
  {
   "cell_type": "markdown",
   "id": "cf13ddbd",
   "metadata": {},
   "source": [
    "# Forecasting of the GDP share of health expenditures\n",
    "\n",
    "Observation: the shift in GDP per capita\n",
    "\n",
    "Implication: the implicit shift in healthcare prices"
   ]
  },
  {
   "cell_type": "markdown",
   "id": "a5fa8267",
   "metadata": {},
   "source": [
    "### GDP per capita\n",
    "\n",
    "GDP share of health expenditures: OECD data\n",
    "\n",
    "Real GDP per capita: WB data (World Development Indicators)"
   ]
  },
  {
   "cell_type": "code",
   "execution_count": 25,
   "id": "2d32641c",
   "metadata": {},
   "outputs": [],
   "source": [
    "# 1970\n",
    "GDPpc_eu70 = [17887.10176179620, 26927.95903692180, 17519.42717022000, 15729.85644157820, 21354.25810368360, 24388.29821013090, 11431.59455874400]\n",
    "PMoY_eu70  = [5.713, 7.676666666666667,   5.184, float(\"NAN\"), 5.434246479956248,  5.506, 3.145]\n",
    "GDPpc70    = [np.nanmean(GDPpc_eu70), 25279.18879113590]\n",
    "PMoY70     = [np.nanmean(PMoY_eu70) , 6.232]\n",
    "# 1990\n",
    "GDPpc_eu90 = [29473.85438511120,   39295.24344249190,   28512.10870941340,   27479.57862963770,   31093.54486501490,   34570.30573399390,   18962.44605133250]\n",
    "PMoY_eu90  = [8.031, 8.038, 7.958, 7.015, 7.082, 7.256, 6.101]\n",
    "GDPpc90    = [np.nanmean(GDPpc_eu90) , 39278.59534978750]\n",
    "PMoY90     = [np.nanmean(PMoY_eu90) , 11.273]\n",
    "# 2000\n",
    "GDPpc_eu00 = [34476.20802831070, 49241.92800413450, 33583.85744208620, 32337.89674255510, 40440.67534426340, 41117.15243035039, 23928.67165633810]\n",
    "PMoY_eu00  = [9.827999999999999, 8.103999999999999, 9.541, 7.58, 7.056, 7.412, 6.8160]\n",
    "GDPpc00 = [np.nanmean(GDPpc_eu00) , 48689.03128985530]\n",
    "PMoY00  = [np.nanmean(PMoY_eu00) , 12.502]\n",
    "# 2017\n",
    "GDPpc_eu10 = [42622.40993268510, 55735.76490114850, 37678.92729753470, 31231.66444646460, 46978.44880120770, 52576.81028210510, 27213.45166906160]\n",
    "PMoY_eu10  = [11.272, 10.218, 11.458, 8.9010, 10.143, 10.916, 8.840999999999999]\n",
    "GDPpc10    = [np.nanmean(GDPpc_eu10) , 58387.77580835719]\n",
    "PMoY10     = [np.nanmean(PMoY_eu10) , 17.149999999999999]\n"
   ]
  },
  {
   "cell_type": "code",
   "execution_count": 26,
   "id": "4e128ceb",
   "metadata": {},
   "outputs": [],
   "source": [
    "psi0    = [i/100 for i in PMoY90]\n",
    "psi1    = [i/100 for i in PMoY10]"
   ]
  },
  {
   "cell_type": "markdown",
   "id": "ba04b0a3",
   "metadata": {},
   "source": [
    "## Income heterogeneity by country (data)\n",
    "We rescale the income level and compute the quartiles in 1970 and 2017"
   ]
  },
  {
   "cell_type": "code",
   "execution_count": 27,
   "id": "aab01b00",
   "metadata": {},
   "outputs": [],
   "source": [
    "y70_c = y_c*np.array(GDPpc70)/np.array(GDPpc00)\n",
    "y90_c = y_c*np.array(GDPpc90)/np.array(GDPpc00)\n",
    "y00_c = y_c*np.array(GDPpc00)/np.array(GDPpc00)\n",
    "y10_c = y_c*np.array(GDPpc10)/np.array(GDPpc00)\n",
    "\n",
    "yy70_c = np.zeros((Ncount,yy.size))\n",
    "yy90_c = np.zeros((Ncount,yy.size))\n",
    "yy00_c = np.zeros((Ncount,yy.size))\n",
    "yy10_c = np.zeros((Ncount,yy.size))\n",
    "\n",
    "for ii in range(Ncount):\n",
    "    yy    = [norm(0,np.sqrt(sig_c[ii])).ppf(q) for q in qs]\n",
    "    yy    = np.exp(yy)\n",
    "    yy70_c[ii,:] = y70_c[ii]*yy/np.mean(yy)\n",
    "    yy90_c[ii,:] = y90_c[ii]*yy/np.mean(yy)\n",
    "    yy00_c[ii,:] = y00_c[ii]*yy/np.mean(yy)\n",
    "    yy10_c[ii,:] = y10_c[ii]*yy/np.mean(yy)"
   ]
  },
  {
   "cell_type": "code",
   "execution_count": 28,
   "id": "de283a97",
   "metadata": {},
   "outputs": [],
   "source": [
    "prevsol0 = [0,0]\n",
    "prevsol1 = [0,0]\n",
    "#                  pm/y     income    sigma  phi          alpha_1         alpha_0\n",
    "param_s        = (psi0[0], yy90_c[0], sigma, calibsol[1], calibsol_eu[1], calibsol[0])\n",
    "pd_c0          = .1 #.3\n",
    "prevsol0[0]    = list(fsolve(hetero_new_price, pd_c0, args=param_s))\n",
    "param_s        = (psi0[1], yy90_c[1], sigma, calibsol[1], calibsol[2], calibsol[0])\n",
    "pd_c0          = .8\n",
    "prevsol0[1]    = list(fsolve(hetero_new_price, pd_c0, args=param_s))\n",
    "\n",
    "param_s        = (psi1[0], yy10_c[0], sigma, calibsol[1], calibsol_eu[1], calibsol[0])\n",
    "pd_c0          = .5#.5\n",
    "prevsol1[0]    = list(fsolve(hetero_new_price, pd_c0, args=param_s))\n",
    "param_s        = (psi1[1], yy10_c[1], sigma, calibsol[1], calibsol[2], calibsol[0])\n",
    "pd_c0          = 1.2\n",
    "prevsol1[1]    = list(fsolve(hetero_new_price, pd_c0, args=param_s))\n"
   ]
  },
  {
   "cell_type": "code",
   "execution_count": 29,
   "id": "43bea0f2",
   "metadata": {},
   "outputs": [
    {
     "data": {
      "text/plain": [
       "([[0.23604486640425093], [0.4808111082647214]],\n",
       " [[0.5199008531699448], [1.3770087808513378]])"
      ]
     },
     "execution_count": 29,
     "metadata": {},
     "output_type": "execute_result"
    }
   ],
   "source": [
    "prevsol0, prevsol1"
   ]
  },
  {
   "cell_type": "code",
   "execution_count": 30,
   "id": "825acd69",
   "metadata": {},
   "outputs": [
    {
     "data": {
      "image/png": "[encoded data removed]",
      "text/plain": [
       "<Figure size 432x288 with 1 Axes>"
      ]
     },
     "metadata": {
      "needs_background": "light"
     },
     "output_type": "display_data"
    }
   ],
   "source": [
    "columns = ('EU', 'US')\n",
    "Price0 = sum(prevsol0,[])\n",
    "Price1 = sum(prevsol1,[]) \n",
    "gPrice = [((Price1[ii]/Price0[ii])**(1/(2017-1990)))-1 for ii in np.arange(len(columns))]\n",
    "plt.bar(np.arange(len(columns)), gPrice)\n",
    "plt.xticks(np.arange(len(columns)), labels=columns)\n",
    "plt.show()"
   ]
  },
  {
   "cell_type": "code",
   "execution_count": 31,
   "id": "9bd05d30",
   "metadata": {},
   "outputs": [
    {
     "data": {
      "text/plain": [
       "[0.029676881213976047, 0.039739460012813366]"
      ]
     },
     "execution_count": 31,
     "metadata": {},
     "output_type": "execute_result"
    }
   ],
   "source": [
    "gPrice"
   ]
  },
  {
   "cell_type": "markdown",
   "id": "23335f30",
   "metadata": {},
   "source": [
    "### Size of the error when price changes are omitted\n",
    "\n",
    "If prices change, then the model predicts exactly the GDP share of health expenditures (targeted data)\n",
    "\n",
    "$\\Rightarrow$ If prices do not change, then it exists a gap between model and data: this gap gives the error if price change are neglected "
   ]
  },
  {
   "cell_type": "code",
   "execution_count": 32,
   "id": "a119d338",
   "metadata": {},
   "outputs": [
    {
     "data": {
      "text/plain": [
       "([8.112481459718433, 13.91943187305987],\n",
       " [7.3544285714285715, 11.273],\n",
       " [10.44032415091521, 15.510530852904944],\n",
       " [10.249857142857142, 17.15])"
      ]
     },
     "execution_count": 32,
     "metadata": {},
     "output_type": "execute_result"
    }
   ],
   "source": [
    "msolv0_90 = np.zeros((2,yy.size))\n",
    "pmoys0_90 = [0,0]\n",
    "msolv0_10 = np.zeros((2,yy.size))\n",
    "pmoys0_10 = [0,0]\n",
    "\n",
    "\n",
    "for jj in range(yy.size):\n",
    "    param_m        = (calibsol_eu[0], yy90_c[0,jj], sigma, calibsol[0], calibsol[1], calibsol_eu[1])\n",
    "    m0             = .1\n",
    "    msolv0_90[0,jj]= max(0,fsolve(medexp, m0, args=param_m))\n",
    "    param_m        = (calibsol_eu[0], yy10_c[0,jj], sigma, calibsol[0], calibsol[1], calibsol_eu[1])\n",
    "    m0             = .1\n",
    "    msolv0_10[0,jj]= max(0,fsolve(medexp, m0, args=param_m))\n",
    "\n",
    "for jj in range(yy.size):\n",
    "    param_m        = (1, yy90_c[1,jj], sigma, calibsol[0], calibsol[1], calibsol[2])\n",
    "    m0             = .1\n",
    "    msolv0_90[1,jj]= max(0,fsolve(medexp, m0, args=param_m))\n",
    "    param_m        = (1, yy10_c[1,jj], sigma, calibsol[0], calibsol[1], calibsol[2])\n",
    "    m0             = .1\n",
    "    msolv0_10[1,jj]= max(0,fsolve(medexp, m0, args=param_m))\n",
    "\n",
    "price_bench = [calibsol_eu[0],1] \n",
    "for ii in range(2):            \n",
    "    pmoys0_90[ii]= 100*price_bench[ii]*np.mean(msolv0_90[ii,:])/np.mean(yy90_c[ii,:])\n",
    "    pmoys0_10[ii]= 100*price_bench[ii]*np.mean(msolv0_10[ii,:])/np.mean(yy10_c[ii,:])\n",
    "\n",
    "pmoys0_90, PMoY90, pmoys0_10, PMoY10"
   ]
  },
  {
   "cell_type": "markdown",
   "id": "83f75020",
   "metadata": {},
   "source": [
    "Without price change, the model over-estimate the GDP share of health expenditures in the 1990s"
   ]
  },
  {
   "cell_type": "code",
   "execution_count": 33,
   "id": "2cdc6ddb",
   "metadata": {},
   "outputs": [
    {
     "data": {
      "text/plain": [
       "[0.7580528882898614, 2.6464318730598695]"
      ]
     },
     "execution_count": 33,
     "metadata": {},
     "output_type": "execute_result"
    }
   ],
   "source": [
    "[pmoys0_90[ii]-PMoY90[ii] for ii in np.arange(2)]"
   ]
  },
  {
   "cell_type": "markdown",
   "id": "267e1682",
   "metadata": {},
   "source": [
    "Without price changes, the model under-estimate the GDP share of health expenditures in the 2010s for the U.S."
   ]
  },
  {
   "cell_type": "code",
   "execution_count": 34,
   "id": "ef97b436",
   "metadata": {},
   "outputs": [
    {
     "data": {
      "text/plain": [
       "[0.19046700805806793, -1.6394691470950544]"
      ]
     },
     "execution_count": 34,
     "metadata": {},
     "output_type": "execute_result"
    }
   ],
   "source": [
    "[pmoys0_10[ii]-PMoY10[ii] for ii in np.arange(2)]"
   ]
  },
  {
   "cell_type": "markdown",
   "id": "ef478f4c",
   "metadata": {},
   "source": [
    "# Forcasting long run change in GDP share of Health Expenditures"
   ]
  },
  {
   "cell_type": "markdown",
   "id": "7df75ef3",
   "metadata": {},
   "source": [
    "### Long run changes in GDP per capita and income dispersion"
   ]
  },
  {
   "cell_type": "code",
   "execution_count": 35,
   "id": "cc424891",
   "metadata": {},
   "outputs": [],
   "source": [
    "gGDPpc    = [((GDPpc10[ii]/GDPpc90[ii])**(1/(2017-1990))-1) for ii in np.arange(2)]\n",
    "agGDPpc   = np.array(gGDPpc)\n",
    "agGDPpc10 = np.array(GDPpc10)\n",
    "\n",
    "horizon = 4\n",
    "fGDPpc  = np.zeros((2,horizon))\n",
    "fy_c    = np.zeros((2,horizon))\n",
    "fyy_c   = np.zeros((2,horizon,yy.size))\n",
    "\n",
    "for jj in range(2):\n",
    "    for ii in range(horizon):\n",
    "        fGDPpc[jj,ii] = (GDPpc10[jj]*(1+gGDPpc[jj])**(2030+(ii*10)-2017))/GDPpc00[jj]\n",
    "        fy_c[jj,ii] = y_c[jj]*fGDPpc[jj,ii]\n",
    "        yy    = [norm(0,np.sqrt(sig_c[jj])).ppf(q) for q in qs]\n",
    "        yy    = np.exp(yy)\n",
    "        fyy_c[jj,ii,:] = fy_c[jj,ii]*yy/np.mean(yy)\n"
   ]
  },
  {
   "cell_type": "code",
   "execution_count": 36,
   "id": "2d40c0d9",
   "metadata": {},
   "outputs": [
    {
     "data": {
      "text/plain": [
       "array([[1.35719765, 1.53905893, 1.74528919, 1.97915382],\n",
       "       [1.45139469, 1.68093419, 1.94677557, 2.25466004]])"
      ]
     },
     "execution_count": 36,
     "metadata": {},
     "output_type": "execute_result"
    }
   ],
   "source": [
    "fGDPpc"
   ]
  },
  {
   "cell_type": "code",
   "execution_count": 37,
   "id": "2b8441b3",
   "metadata": {},
   "outputs": [
    {
     "data": {
      "text/plain": [
       "[0.01265430880932894, 0.014790792069827585]"
      ]
     },
     "execution_count": 37,
     "metadata": {},
     "output_type": "execute_result"
    }
   ],
   "source": [
    "gGDPpc"
   ]
  },
  {
   "cell_type": "markdown",
   "id": "a307dd87",
   "metadata": {},
   "source": [
    "### Long run changes in prices"
   ]
  },
  {
   "cell_type": "code",
   "execution_count": 38,
   "id": "0f77bc8f",
   "metadata": {},
   "outputs": [
    {
     "data": {
      "text/plain": [
       "array([[0.76038411, 1.01869143, 1.36474739, 1.82836075],\n",
       "       [2.28536491, 3.37443308, 4.98248599, 7.35684069]])"
      ]
     },
     "execution_count": 38,
     "metadata": {},
     "output_type": "execute_result"
    }
   ],
   "source": [
    "fPrice  = np.zeros((2,horizon))\n",
    "\n",
    "for jj in range(2):\n",
    "    for ii in range(horizon):\n",
    "        fPrice[jj,ii] = (Price1[jj]*(1+gPrice[jj])**(2030+(ii*10)-2017))\n",
    "        \n",
    "fPrice"
   ]
  },
  {
   "cell_type": "markdown",
   "id": "7e29d255",
   "metadata": {},
   "source": [
    "Europe with changes in price"
   ]
  },
  {
   "cell_type": "code",
   "execution_count": 39,
   "id": "bbfbdab0",
   "metadata": {},
   "outputs": [],
   "source": [
    "xx     = np.zeros((horizon,yy.size))\n",
    "yy_eu  = np.zeros(horizon)\n",
    "yy_eu0 = np.zeros(horizon)\n",
    "yy_us  = np.zeros(horizon)\n",
    "yy_us0 = np.zeros(horizon)\n",
    "\n",
    "for ii in range(horizon):\n",
    "    for jj in range(yy.size):\n",
    "        param_m          = (fPrice[0,ii], fyy_c[0,ii,jj], sigma, calibsol[0], calibsol[1], calibsol_eu[1])\n",
    "        m0               = .05#.01\n",
    "        xx[ii,jj] = max(0,fsolve(medexp, m0, args=param_m)) \n",
    "    \n",
    "    yy_eu[ii] = 100*fPrice[0,ii]*np.mean(xx[ii,:])/np.mean(fyy_c[0,ii,:])\n"
   ]
  },
  {
   "cell_type": "markdown",
   "id": "c852a7b4",
   "metadata": {},
   "source": [
    "Europe without price changes"
   ]
  },
  {
   "cell_type": "code",
   "execution_count": 40,
   "id": "ce3c0840",
   "metadata": {},
   "outputs": [],
   "source": [
    "for ii in range(horizon):\n",
    "    for jj in range(yy.size):\n",
    "        param_m          = (Price1[0], fyy_c[0,ii,jj], sigma, calibsol[0], calibsol[1], calibsol_eu[1])\n",
    "        m0               = .01#.005\n",
    "        xx[ii,jj] = max(0,fsolve(medexp, m0, args=param_m)) \n",
    "    \n",
    "    yy_eu0[ii] = 100*Price1[0]*np.mean(xx[ii,:])/np.mean(fyy_c[0,ii,:])\n"
   ]
  },
  {
   "cell_type": "markdown",
   "id": "99c5497f",
   "metadata": {},
   "source": [
    "The U.S. with price changes "
   ]
  },
  {
   "cell_type": "code",
   "execution_count": 41,
   "id": "ce7da493",
   "metadata": {},
   "outputs": [],
   "source": [
    "for ii in range(horizon):\n",
    "    for jj in range(yy.size):\n",
    "        param_m          = (fPrice[1,ii], fyy_c[1,ii,jj], sigma, calibsol[0], calibsol[1], calibsol[2])\n",
    "        m0               = .01#.005\n",
    "        xx[ii,jj] = max(0,fsolve(medexp, m0, args=param_m)) \n",
    "    \n",
    "    yy_us[ii] = 100*fPrice[1,ii]*np.mean(xx[ii,:])/np.mean(fyy_c[1,ii,:])\n"
   ]
  },
  {
   "cell_type": "markdown",
   "id": "a2079c7d",
   "metadata": {},
   "source": [
    "The U.S. without price changes"
   ]
  },
  {
   "cell_type": "code",
   "execution_count": 42,
   "id": "58fb5606",
   "metadata": {},
   "outputs": [],
   "source": [
    "xx = np.zeros((horizon,yy.size))\n",
    "for ii in range(horizon):\n",
    "    for jj in range(yy.size):\n",
    "        param_m          = (Price1[1], fyy_c[1,ii,jj], sigma, calibsol[0], calibsol[1], calibsol[2])\n",
    "        m0               = .01#.005\n",
    "        xx[ii,jj] = max(0,fsolve(medexp, m0, args=param_m)) \n",
    "    \n",
    "    yy_us0[ii] = 100*Price1[1]*np.mean(xx[ii,:])/np.mean(fyy_c[1,ii,:])\n"
   ]
  },
  {
   "cell_type": "code",
   "execution_count": 43,
   "id": "8003a56b",
   "metadata": {},
   "outputs": [
    {
     "name": "stderr",
     "output_type": "stream",
     "text": [
      "The PostScript backend does not support transparency; partially transparent artists will be rendered opaque.\n"
     ]
    },
    {
     "data": {
      "image/png": "[encoded data removed]",
      "text/plain": [
       "<Figure size 432x288 with 1 Axes>"
      ]
     },
     "metadata": {
      "needs_background": "light"
     },
     "output_type": "display_data"
    }
   ],
   "source": [
    "pmoysf       = np.zeros((2,4))\n",
    "pmoys0f      = np.zeros((2,4))\n",
    "pmoysf[0,:]  = yy_eu\n",
    "pmoysf[1,:]  = yy_us\n",
    "pmoys0f[0,:] = yy_eu0\n",
    "pmoys0f[1,:] = yy_us0\n",
    "\n",
    "\n",
    "xx      = np.zeros((2,5))\n",
    "xx[0,0] = PMoY10[0]\n",
    "xx[1,0] = PMoY10[-1]\n",
    "zz      = np.zeros((2,5))\n",
    "zz[0,0] = PMoY10[0]\n",
    "zz[1,0] = PMoY10[-1]\n",
    "for jj in range(2):\n",
    "    for ii in range(horizon):\n",
    "        xx[jj,ii+1] = pmoysf[jj,ii] \n",
    "        zz[jj,ii+1] = pmoys0f[jj,ii]\n",
    "    \n",
    "lyhorizon = ('2017','2030','2040','2050','2060')\n",
    "\n",
    "plt.plot(np.arange(len(lyhorizon)),list(xx[0,:]),'o-',label=r'EU, $\\Delta p \\neq 0$',color = '0.35')\n",
    "plt.plot(np.arange(len(lyhorizon)),list(xx[1,:]),'s-',label=r'US, $\\Delta p \\neq 0$',color = '0.15')\n",
    "plt.plot(np.arange(len(lyhorizon)),list(zz[0,:]),'*-',label=r'EU, $\\Delta p = 0$',color = '0.75')\n",
    "plt.plot(np.arange(len(lyhorizon)),list(zz[1,:]),'D-',label=r'US, $\\Delta p = 0$',color = '0.4')\n",
    "plt.xticks(np.arange(len(lyhorizon)), labels=lyhorizon)\n",
    "plt.legend()\n",
    "plt.ylabel('pm/y (%)')\n",
    "plt.savefig('../figures/fig_a2_forecast.eps')\n",
    "plt.show()"
   ]
  },
  {
   "cell_type": "code",
   "execution_count": null,
   "id": "f543968e",
   "metadata": {},
   "outputs": [],
   "source": []
  }
 ],
 "metadata": {
  "kernelspec": {
   "display_name": "Python 3 (ipykernel)",
   "language": "python",
   "name": "python3"
  },
  "language_info": {
   "codemirror_mode": {
    "name": "ipython",
    "version": 3
   },
   "file_extension": ".py",
   "mimetype": "text/x-python",
   "name": "python",
   "nbconvert_exporter": "python",
   "pygments_lexer": "ipython3",
   "version": "3.9.12"
  }
 },
 "nbformat": 4,
 "nbformat_minor": 5
}
